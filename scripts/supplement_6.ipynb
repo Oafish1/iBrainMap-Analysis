{
 "cells": [
  {
   "cell_type": "code",
   "execution_count": 1,
   "metadata": {
    "execution": {
     "iopub.execute_input": "2023-07-13T06:40:26.417400Z",
     "iopub.status.busy": "2023-07-13T06:40:26.417242Z",
     "iopub.status.idle": "2023-07-13T06:40:26.428582Z",
     "shell.execute_reply": "2023-07-13T06:40:26.427990Z"
    }
   },
   "outputs": [],
   "source": [
    "%load_ext autoreload\n",
    "%autoreload 2"
   ]
  },
  {
   "cell_type": "code",
   "execution_count": 2,
   "metadata": {
    "execution": {
     "iopub.execute_input": "2023-07-13T06:40:26.430818Z",
     "iopub.status.busy": "2023-07-13T06:40:26.430522Z",
     "iopub.status.idle": "2023-07-13T06:40:27.436429Z",
     "shell.execute_reply": "2023-07-13T06:40:27.435960Z"
    }
   },
   "outputs": [],
   "source": [
    "import graph_tool.all as gt\n",
    "import matplotlib\n",
    "import matplotlib.pyplot as plt\n",
    "import numpy as np\n",
    "import pandas as pd\n",
    "import torch\n",
    "import torch.nn as nn\n",
    "import torch.nn.functional as F\n",
    "import seaborn as sns\n",
    "import sklearn.discriminant_analysis\n",
    "import sklearn.ensemble\n",
    "import sklearn.gaussian_process\n",
    "import sklearn.metrics as metrics\n",
    "import sklearn.naive_bayes\n",
    "import sklearn.neighbors\n",
    "import sklearn.neural_network\n",
    "import sklearn.svm\n",
    "import sklearn.tree\n",
    "from umap import UMAP\n",
    "\n",
    "from functions import *\n",
    "\n",
    "\n",
    "# Style\n",
    "sns.set_theme(context='paper', style='white', palette='Set2')\n",
    "matplotlib.rcParams['pdf.fonttype'] = 42\n",
    "matplotlib.rcParams['ps.fonttype'] = 42"
   ]
  },
  {
   "cell_type": "markdown",
   "metadata": {},
   "source": [
    "# Parameters"
   ]
  },
  {
   "cell_type": "code",
   "execution_count": 3,
   "metadata": {},
   "outputs": [],
   "source": [
    "col = 'SCZ'\n",
    "batch_size = 32\n",
    "seed = 42\n",
    "\n",
    "## Script\n",
    "# cols = [\n",
    "#     'PD', 'PD_uncertain_plus_encephalitic', 'DLBD', 'FTD',\n",
    "#     'ALS', 'Others_Neurodegenerative', 'MS', 'PSP', 'Epilepsy', 'Seizures',\n",
    "#     'Tumor', 'Migraine_headaches', 'Head_Injury', 'Vascular', 'Others_Neurological',\n",
    "#     'SCZ', 'MDD', 'BD_unspecific', 'BD_I', 'BD_II', 'PTSD', 'ADHD',\n",
    "#     'OCD', 'Tardive_Dyskinesia_Neuroleptic_induced', 'Schizoaffective_bipolar',\n",
    "#     'Schizoaffective_depressive', 'Anorexia', 'Bulimia', 'Anxiety',\n",
    "#     'Binge_Purge', 'Eating_disorder', 'Others_Neuropsychiatric',\n",
    "#     'Diabetes_mellitus_unspecified', 'TD_I', 'TD_II',\n",
    "# ]  # Columns to analyze (HBCC)\n",
    "# for col in cols:\n",
    "#     print()\n",
    "#     print(col)"
   ]
  },
  {
   "attachments": {},
   "cell_type": "markdown",
   "metadata": {},
   "source": [
    "# Data"
   ]
  },
  {
   "cell_type": "code",
   "execution_count": 4,
   "metadata": {},
   "outputs": [
    {
     "name": "stdout",
     "output_type": "stream",
     "text": [
      "Unique values [0, 1] with counts [250, 50]\n"
     ]
    }
   ],
   "source": [
    "# Get data\n",
    "meta = get_meta()\n",
    "graph_embeddings = load_graph_embeddings()\n",
    "\n",
    "# Format embeddings\n",
    "labels = []\n",
    "embeddings = []\n",
    "for k, v in graph_embeddings.items():\n",
    "    labels.append(k)\n",
    "    embeddings.append(v)\n",
    "embeddings = np.stack(embeddings, axis=0)\n",
    "\n",
    "# Convert to torch data\n",
    "embeds = torch.tensor(embeddings)\n",
    "classes = [meta.loc[meta['SubID']==sid][col].item() for sid in labels]\n",
    "classes = torch.tensor(classes).long()\n",
    "\n",
    "# Skip if any other than two classes\n",
    "unq, cnt = classes.unique(return_counts=True)\n",
    "print(f'Unique values {list(unq.numpy())} with counts {list(cnt.numpy())}')\n",
    "if unq.shape[0] != 2 or cnt.min() < 5:  # 5 is arbitrary here and based on .8\n",
    "    print(f'Insufficient data, skipping.')\n",
    "    ## Script\n",
    "    # continue"
   ]
  },
  {
   "cell_type": "markdown",
   "metadata": {},
   "source": [
    "# Train Model"
   ]
  },
  {
   "cell_type": "code",
   "execution_count": 5,
   "metadata": {},
   "outputs": [
    {
     "name": "stdout",
     "output_type": "stream",
     "text": [
      "Epoch: 000 - Loss: 1.010 - Val Loss: 0.825\n",
      "Epoch: 100 - Loss: 0.513 - Val Loss: 0.460\n",
      "Epoch: 200 - Loss: 0.400 - Val Loss: 0.491\n",
      "Epoch: 300 - Loss: 0.546 - Val Loss: 0.640\n",
      "Epoch: 400 - Loss: 0.448 - Val Loss: 0.731\n",
      "Epoch: 500 - Loss: 0.551 - Val Loss: 0.989\n",
      "Epoch: 600 - Loss: 0.336 - Val Loss: 0.475\n",
      "Epoch: 700 - Loss: 0.250 - Val Loss: 0.859\n",
      "Epoch: 800 - Loss: 0.275 - Val Loss: 0.830\n",
      "Epoch: 900 - Loss: 0.361 - Val Loss: 0.552\n",
      "Epoch: 1000 - Loss: 0.187 - Val Loss: 1.136\n",
      "BACC (train=0.500, val=0.500)\n",
      "AUROC (train=0.895, val=0.616)\n",
      "AUPRC (train=0.607, val=0.277)\n"
     ]
    }
   ],
   "source": [
    "## Model initialization\n",
    "# Initialize\n",
    "np.random.seed(seed)\n",
    "torch.manual_seed(seed)\n",
    "\n",
    "# Create model\n",
    "class Model(torch.nn.Module):\n",
    "    def __init__(self, input_dim=128, output_dim=2):\n",
    "        super().__init__()\n",
    "\n",
    "        self.net = nn.Sequential(\n",
    "            nn.Linear(input_dim, input_dim // 2),\n",
    "            nn.BatchNorm1d(input_dim // 2),  # Disabling prevents overfitting\n",
    "            nn.LeakyReLU(),\n",
    "            nn.Dropout(.8),  # Disabling helps accuracy\n",
    "            \n",
    "            nn.Linear(input_dim // 2, output_dim),\n",
    "            # nn.BatchNorm1d(output_dim),\n",
    "        )\n",
    "        \n",
    "    def forward(self, X):\n",
    "        return self.net(X)\n",
    "    \n",
    "model = Model(\n",
    "    input_dim=embeds.shape[1],\n",
    "    output_dim=classes.unique().shape[0],\n",
    ")\n",
    "optimizer = torch.optim.Adam(model.parameters(), lr=1e-4)\n",
    "scheduler = torch.optim.lr_scheduler.ExponentialLR(optimizer=optimizer, gamma=1)\n",
    "criterion = nn.CrossEntropyLoss()\n",
    "\n",
    "## Training loop\n",
    "# Split to train and test idx\n",
    "train_idx = val_idx = 0\n",
    "while np.unique(classes[train_idx]).shape[0] < 2 or np.unique(classes[val_idx]).shape[0] < 2:\n",
    "    # Keep splitting until each of train and val have at least one sample\n",
    "    train_idx = np.random.choice(embeds.shape[0], int(.7 * embeds.shape[0]), replace=False)  # .8\n",
    "    val_idx = np.array(list(set(range(embeds.shape[0])) - set(train_idx)))\n",
    "\n",
    "# Train\n",
    "model.train()\n",
    "for epoch in range(1001):\n",
    "    for _ in range(len(train_idx) // batch_size):\n",
    "        # Calculate loss\n",
    "        batch_idx = np.random.choice(train_idx, batch_size, replace=False)\n",
    "        logits = model(embeds[batch_idx])\n",
    "        loss = criterion(logits, classes[batch_idx])\n",
    "        loss.backward()\n",
    "\n",
    "        optimizer.step()\n",
    "        optimizer.zero_grad()\n",
    "        scheduler.step()\n",
    "    \n",
    "    if epoch % 100 == 0:\n",
    "        # Calculate val loss\n",
    "        model.eval()\n",
    "        logits = model(embeds[val_idx])\n",
    "        val_loss = criterion(logits, classes[val_idx])\n",
    "        model.train()\n",
    "\n",
    "        # CLI\n",
    "        print(f'Epoch: {epoch:03} - Loss: {loss.item():.3f} - Val Loss: {val_loss.item():.3f}')\n",
    "model.eval()\n",
    "\n",
    "## Evaluation\n",
    "# Calculate evaluation metrics\n",
    "logits = model(embeds).detach()\n",
    "preds = logits.argmax(dim=-1)\n",
    "y_true = classes\n",
    "for name, metric, y_pred in zip(\n",
    "    ['BACC', 'AUROC', 'AUPRC'],\n",
    "    [metrics.balanced_accuracy_score, metrics.roc_auc_score, metrics.average_precision_score],\n",
    "    [preds, F.softmax(logits, dim=-1)[:, 1], F.softmax(logits, dim=-1)[:, 1]]\n",
    "):\n",
    "    train_metric = metric(y_true[train_idx], y_pred[train_idx])\n",
    "    val_metric = metric(y_true[val_idx], y_pred[val_idx])\n",
    "    print(f'{name} (train={train_metric:.3f}, val={val_metric:.3f})')"
   ]
  },
  {
   "cell_type": "code",
   "execution_count": 6,
   "metadata": {},
   "outputs": [
    {
     "name": "stdout",
     "output_type": "stream",
     "text": [
      "              QuadraticDiscriminantAnalysis(): BACC: 0.588 (0.500), AUROC: 1.000 (0.500), AUPRC: 1.000 (0.178)\n"
     ]
    },
    {
     "name": "stderr",
     "output_type": "stream",
     "text": [
      "/home/noahcohenkalafut/miniconda3/envs/gnn/lib/python3.10/site-packages/sklearn/discriminant_analysis.py:935: UserWarning: Variables are collinear\n",
      "  warnings.warn(\"Variables are collinear\")\n"
     ]
    },
    {
     "name": "stdout",
     "output_type": "stream",
     "text": [
      "      RandomForestClassifier(random_state=42): BACC: 1.000 (0.473), AUROC: 1.000 (0.422), AUPRC: 1.000 (0.177)\n",
      "          AdaBoostClassifier(random_state=42): BACC: 1.000 (0.535), AUROC: 1.000 (0.531), AUPRC: 1.000 (0.221)\n"
     ]
    },
    {
     "name": "stderr",
     "output_type": "stream",
     "text": [
      "/home/noahcohenkalafut/miniconda3/envs/gnn/lib/python3.10/site-packages/sklearn/ensemble/_weight_boosting.py:519: FutureWarning: The SAMME.R algorithm (the default) is deprecated and will be removed in 1.6. Use the SAMME algorithm to circumvent this warning.\n",
      "  warnings.warn(\n"
     ]
    },
    {
     "name": "stdout",
     "output_type": "stream",
     "text": [
      "   GaussianProcessClassifier(random_state=42): BACC: 0.515 (0.500), AUROC: 0.630 (0.438), AUPRC: 0.295 (0.156)\n",
      "                                 GaussianNB(): BACC: 0.559 (0.372), AUROC: 0.582 (0.425), AUPRC: 0.222 (0.152)\n",
      "                       KNeighborsClassifier(): BACC: 0.533 (0.486), AUROC: 0.769 (0.478), AUPRC: 0.305 (0.175)\n",
      "               MLPClassifier(random_state=42): BACC: 0.500 (0.500), AUROC: 0.462 (0.539), AUPRC: 0.175 (0.201)\n",
      "       SVC(probability=True, random_state=42): BACC: 0.500 (0.500), AUROC: 0.622 (0.576), AUPRC: 0.373 (0.338)\n",
      "      DecisionTreeClassifier(random_state=42): BACC: 1.000 (0.470), AUROC: 1.000 (0.470), AUPRC: 1.000 (0.173)\n",
      "AUROC Rank: SVC, MLPClassifier, AdaBoostClassifier, QuadraticDiscriminantAnalysis, KNeighborsClassifier, DecisionTreeClassifier, GaussianProcessClassifier, GaussianNB, RandomForestClassifier\n"
     ]
    }
   ],
   "source": [
    "# Format data\n",
    "X_train, y_train = embeds[train_idx], classes[train_idx]\n",
    "X_val, y_val = embeds[val_idx], classes[val_idx]\n",
    "\n",
    "# Get classifier classes\n",
    "classifiers = [\n",
    "    sklearn.discriminant_analysis.QuadraticDiscriminantAnalysis(),\n",
    "    sklearn.ensemble.RandomForestClassifier(random_state=seed),\n",
    "    sklearn.ensemble.AdaBoostClassifier(random_state=seed),\n",
    "    sklearn.gaussian_process.GaussianProcessClassifier(random_state=seed),\n",
    "    sklearn.naive_bayes.GaussianNB(),\n",
    "    sklearn.neighbors.KNeighborsClassifier(),\n",
    "    sklearn.neural_network.MLPClassifier(random_state=seed),\n",
    "    sklearn.svm.SVC(probability=True, random_state=seed),\n",
    "    sklearn.tree.DecisionTreeClassifier(random_state=seed),\n",
    "]\n",
    "\n",
    "# Try all classifiers\n",
    "from collections import defaultdict\n",
    "metric_list = defaultdict(lambda: [])\n",
    "for classifier in classifiers:\n",
    "    classifier.fit(X_train, y_train)\n",
    "\n",
    "    # Predict train\n",
    "    y_true_train = y_train\n",
    "    logits_train = classifier.predict_proba(X_train)\n",
    "    y_pred_train = logits_train[:, np.argwhere(classifier.classes_ == 1).flatten()[0]]\n",
    "    y_pred_train_disc = 1*(y_pred_train >= .5)\n",
    "\n",
    "    # Predict test\n",
    "    y_true = y_val\n",
    "    logits = classifier.predict_proba(X_val)\n",
    "    y_pred = logits[:, np.argwhere(classifier.classes_ == 1).flatten()[0]]\n",
    "    y_pred_disc = 1*(y_pred >= .5)\n",
    "\n",
    "    # Metrics\n",
    "    bacc_train = metrics.balanced_accuracy_score(y_true_train, y_pred_train_disc)\n",
    "    auroc_train = metrics.roc_auc_score(y_true_train, y_pred_train)\n",
    "    auprc_train = metrics.average_precision_score(y_true_train, y_pred_train)\n",
    "    bacc = metrics.balanced_accuracy_score(y_true, y_pred_disc)\n",
    "    auroc = metrics.roc_auc_score(y_true, y_pred)\n",
    "    auprc = metrics.average_precision_score(y_true, y_pred)\n",
    "\n",
    "    # Record and CLI\n",
    "    metric_list['bacc_train'].append(bacc_train)\n",
    "    metric_list['auroc_train'].append(auroc_train)\n",
    "    metric_list['auprc_train'].append(auprc_train)\n",
    "    metric_list['bacc'].append(bacc)\n",
    "    metric_list['auroc'].append(auroc)\n",
    "    metric_list['auprc'].append(auprc)\n",
    "    print(f'{str(classifier):>45}: BACC: {bacc_train:.3f} ({bacc:.3f}), AUROC: {auroc_train:.3f} ({auroc:.3f}), AUPRC: {auprc_train:.3f} ({auprc:.3f})')\n",
    "\n",
    "# Rank order by AUROC\n",
    "print(f'AUROC Rank: {\", \".join([str(classifiers[i]).split(\"(\")[0] for i in np.argsort(metric_list[\"auroc\"])[::-1]])}')"
   ]
  },
  {
   "cell_type": "code",
   "execution_count": 7,
   "metadata": {},
   "outputs": [],
   "source": [
    "# Final exports\n",
    "logits = model(embeds).detach()\n",
    "y_true = classes[val_idx]\n",
    "y_pred = F.softmax(logits, dim=-1)[:, 1][val_idx]\n",
    "y_pred_disc = y_pred >= .5"
   ]
  },
  {
   "cell_type": "markdown",
   "metadata": {},
   "source": [
    "## Plot"
   ]
  },
  {
   "cell_type": "code",
   "execution_count": 8,
   "metadata": {},
   "outputs": [
    {
     "data": {
      "text/plain": [
       "Text(0.5, 1.0, 'HBCC SCZ Precision-Recall Curve')"
      ]
     },
     "execution_count": 8,
     "metadata": {},
     "output_type": "execute_result"
    },
    {
     "data": {
      "image/png": "[encoded data removed]",
      "text/plain": [
       "<Figure size 830x400 with 2 Axes>"
      ]
     },
     "metadata": {},
     "output_type": "display_data"
    }
   ],
   "source": [
    "# Create figure\n",
    "num_subplots = 2; wspace = .3; infigsize = 4\n",
    "fig, axs = plt.subplots(1, num_subplots, figsize=(infigsize*num_subplots+wspace*(num_subplots-1), infigsize))\n",
    "fig.subplots_adjust(wspace=wspace)\n",
    "\n",
    "# UMAP\n",
    "# ax = axs[0]\n",
    "# umap = UMAP(\n",
    "#     n_components=2,\n",
    "#     n_neighbors=60,  # 15\n",
    "#     min_dist=.5,  # .1\n",
    "#     metric='euclidean',\n",
    "#     random_state=42,\n",
    "# ).fit_transform(embeddings)\n",
    "# # Get colors\n",
    "# color_index = np.array([str(v) for v in pd.unique(meta[col])])\n",
    "# color = []\n",
    "# for sid in labels:\n",
    "#     val = str(meta.loc[meta['SubID']==sid][col].item())\n",
    "#     color.append(val)\n",
    "# color = np.array(color)\n",
    "# # Plot\n",
    "# for c in np.unique(color):\n",
    "#     if float(c) == 1: label = col\n",
    "#     elif float(c) == 0: label = 'Control'\n",
    "#     else: label = 'NA'\n",
    "#     ax.scatter(*umap[color==c].T, label=label)\n",
    "# ax.spines['right'].set_visible(False)\n",
    "# ax.spines['top'].set_visible(False)\n",
    "# ax.set_xticklabels([])\n",
    "# ax.set_yticklabels([])\n",
    "# ax.set_xlabel('UMAP-1')\n",
    "# ax.set_ylabel('UMAP-2')\n",
    "# # Legend\n",
    "# legend_handles, legend_labels = ax.get_legend_handles_labels()\n",
    "# ax.legend(legend_handles[::-1], legend_labels[::-1])\n",
    "\n",
    "# Compute metrics\n",
    "fpr, tpr, roc_thresholds = metrics.roc_curve(y_true, y_pred)\n",
    "roc_auc = metrics.roc_auc_score(y_true, y_pred)\n",
    "precision, recall, prc_thresholds = metrics.precision_recall_curve(y_true, y_pred)\n",
    "prc_auc = metrics.average_precision_score(y_true, y_pred)\n",
    "\n",
    "# ROC Curve\n",
    "ax = axs[0]\n",
    "ax.plot(fpr, tpr, color='.3')\n",
    "ax.plot([0, 1], [0, 1], color='.3', linestyle='--')\n",
    "ax.text(.95, .05, f'Validation ROC AUC={roc_auc:.3f}', ha='right', va='bottom', fontsize='large')\n",
    "ax.set_xlim([0, 1])\n",
    "ax.set_ylim([0, 1])\n",
    "ax.set_xlabel('False Positive Rate')\n",
    "ax.set_ylabel('True Positive Rate')\n",
    "ax.set_title(f'HBCC SCZ ROC Curve')\n",
    "\n",
    "# PRC\n",
    "ax = axs[1]\n",
    "ax.plot(recall, precision, color='.3')\n",
    "ax.text(.95, .05, f'Validation PRC AUC={prc_auc:.3f}', ha='right', va='bottom', fontsize='large')\n",
    "ax.set_xlim([0, 1])\n",
    "ax.set_ylim([0, 1])\n",
    "ax.set_xlabel('True Positive Rate')\n",
    "ax.set_ylabel('Positive Predictive Value')\n",
    "ax.set_title('HBCC SCZ Precision-Recall Curve')\n",
    "\n",
    "# Save\n",
    "# fig.savefig(f'../plots/HBCC_performance_{col}.pdf', format='pdf', transparent=True, bbox_inches='tight')"
   ]
  }
 ],
 "metadata": {
  "kernelspec": {
   "display_name": "Python 3 (ipykernel)",
   "language": "python",
   "name": "python3"
  }
 },
 "nbformat": 4,
 "nbformat_minor": 2
}
