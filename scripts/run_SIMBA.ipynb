{
 "cells": [
  {
   "cell_type": "code",
   "execution_count": 1,
   "metadata": {},
   "outputs": [],
   "source": [
    "import os\n",
    "\n",
    "import anndata as ad\n",
    "import pandas as pd\n",
    "# import scanpy as sc\n",
    "import simba as si\n",
    "\n",
    "prefix = '/mnt/d/PsychAD'"
   ]
  },
  {
   "cell_type": "markdown",
   "metadata": {},
   "source": [
    "# Get Data"
   ]
  },
  {
   "cell_type": "code",
   "execution_count": 2,
   "metadata": {},
   "outputs": [],
   "source": [
    "# Load pseudocells\n",
    "dataset_name = 'PsychAD'\n",
    "data = pd.read_csv(os.path.join(prefix, f'pseudobulk_{dataset_name}.csv.gz'), index_col=0, compression='gzip').T\n",
    "adata = ad.AnnData(data)\n",
    "\n",
    "# # Load from source\n",
    "# import scanpy as sc\n",
    "# adata_psychad = sc.read_h5ad(os.path.join(prefix, 'psychAD_snRNAseq_rawCounts.h5ad'), backed='r')\n",
    "# # adata_seaad = sc.read_h5ad(os.path.join(prefix, 'SEAAD_A9_RNAseq_final-nuclei.2024-02-13.h5ad'), backed='r')\n",
    "# # adata_seaad = ad.AnnData(adata_seaad.X, obs=adata_seaad.obs, var=adata_seaad.var)\n",
    "# # Remove HBCC from training\n",
    "# mask_psychad = adata_psychad.obs['Source'] == 'HBCC'\n",
    "# mask_psychad = ~mask_psychad"
   ]
  },
  {
   "cell_type": "markdown",
   "metadata": {},
   "source": [
    "# Run SIMBA"
   ]
  },
  {
   "cell_type": "code",
   "execution_count": 3,
   "metadata": {},
   "outputs": [],
   "source": [
    "# Filter\n",
    "si.pp.filter_genes(adata, min_n_cells=3)\n",
    "si.pp.cal_qc_rna(adata)\n",
    "si.pp.filter_cells_rna(adata, min_n_genes=100)  # 100"
   ]
  },
  {
   "cell_type": "code",
   "execution_count": 4,
   "metadata": {},
   "outputs": [],
   "source": [
    "# Normalize\n",
    "si.pp.normalize(adata, method='lib_size')\n",
    "si.pp.log_transform(adata)"
   ]
  },
  {
   "cell_type": "code",
   "execution_count": 5,
   "metadata": {},
   "outputs": [],
   "source": [
    "# Variable gene selection\n",
    "si.pp.select_variable_genes(adata, n_top_genes=2000)\n",
    "si.pl.variable_genes(adata, show_texts=True)"
   ]
  },
  {
   "cell_type": "code",
   "execution_count": 6,
   "metadata": {},
   "outputs": [],
   "source": [
    "# Discretize\n",
    "si.tl.discretize(adata, n_bins=5)"
   ]
  },
  {
   "cell_type": "code",
   "execution_count": null,
   "metadata": {},
   "outputs": [],
   "source": [
    "# Generate training graph\n",
    "si.tl.gen_graph(\n",
    "    list_CG=[adata],\n",
    "    layer='simba',\n",
    "    use_highly_variable=False,\n",
    "    dirname='graph0')"
   ]
  },
  {
   "cell_type": "code",
   "execution_count": 8,
   "metadata": {},
   "outputs": [],
   "source": [
    "# Train model\n",
    "si.tl.pbg_train(auto_wd=True, save_wd=True, output='model')"
   ]
  },
  {
   "cell_type": "code",
   "execution_count": null,
   "metadata": {},
   "outputs": [],
   "source": [
    "# Load graph and model\n",
    "si.load_graph_stats()\n",
    "si.load_pbg_config()"
   ]
  },
  {
   "cell_type": "code",
   "execution_count": null,
   "metadata": {},
   "outputs": [],
   "source": [
    "# Load embeddings\n",
    "dict_adata = si.read_embedding()\n",
    "adata_C = dict_adata['C']  # Cell embeddings\n",
    "adata_G = dict_adata['G']  # Gene embeddings"
   ]
  },
  {
   "cell_type": "code",
   "execution_count": null,
   "metadata": {},
   "outputs": [],
   "source": [
    "dataset_name = 'PsychAD'"
   ]
  },
  {
   "cell_type": "code",
   "execution_count": null,
   "metadata": {},
   "outputs": [],
   "source": [
    "# Save embeddings\n",
    "adata_C.X.to_csv(os.path.join(prefix, f'SIMBA/{dataset_name}.csv'))"
   ]
  }
 ],
 "metadata": {
  "kernelspec": {
   "display_name": "Python 3 (ipykernel)",
   "language": "python",
   "name": "python3"
  }
 },
 "nbformat": 4,
 "nbformat_minor": 2
}
