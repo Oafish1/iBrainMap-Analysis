{
 "cells": [
  {
   "cell_type": "code",
   "execution_count": 1,
   "metadata": {},
   "outputs": [],
   "source": [
    "%load_ext autoreload\n",
    "%autoreload 2"
   ]
  },
  {
   "cell_type": "code",
   "execution_count": 2,
   "metadata": {},
   "outputs": [],
   "source": [
    "import re\n",
    "\n",
    "import pandas as pd\n",
    "from pyensembl import EnsemblRelease  # pyensembl install --release 77 --species homo_sapiens\n",
    "from tqdm import tqdm\n",
    "\n",
    "from functions import *"
   ]
  },
  {
   "cell_type": "markdown",
   "metadata": {},
   "source": [
    "# Sanitize grQTLs"
   ]
  },
  {
   "cell_type": "code",
   "execution_count": 3,
   "metadata": {},
   "outputs": [],
   "source": [
    "# Get grqtls\n",
    "grqtls = get_grqtls()\n",
    "def split_region(s):\n",
    "    match = re.search('^chr(.+):(\\d+)(?:)(?:_._.)?$', s)\n",
    "    return {'Chromosome': str(match.group(1)), 'SNP Locus': int(match.group(2))}\n",
    "def split_id(s):\n",
    "    match = re.search('^(.+) --> (.+)_to_(.+)$', s)\n",
    "    region = split_region(match.group(1))\n",
    "    tf, tg = match.group(2), match.group(3)\n",
    "    return {**region, 'TF': tf, 'TG': tg}\n",
    "for col in split_id(grqtls['id'].iloc[0]):\n",
    "    grqtls[col] = grqtls['id'].apply(lambda s: split_id(s)[col])\n",
    "grqtls = grqtls.rename(columns={'celltype': 'Cell Type'})\n",
    "grqtls = grqtls[['Chromosome', 'SNP Locus', 'TF', 'TG', 'Kind', 'Cell Type']].reset_index(drop=True)"
   ]
  },
  {
   "cell_type": "code",
   "execution_count": 4,
   "metadata": {},
   "outputs": [
    {
     "name": "stdout",
     "output_type": "stream",
     "text": [
      "25 unrecognized genes found: ADD3-AS1, ADGRD1, ADGRE2, ADGRE4P, ADGRF5, ADGRG1, ADGRG5, ADGRG6, ADGRL2, ADGRL4, ADGRV1, ANOS1, ARRDC3-AS1, CARMN, FCGR1CP, GPAT3, LINC01619, MIR34AHG, NECTIN2, PLPP3, PLPPR1, SAMD12-AS1, SUSD6, TMIGD3, TNS2\n"
     ]
    }
   ],
   "source": [
    "# Get TF and TG locations\n",
    "# NOTE: Does not account for overlapping genes\n",
    "ensembl = EnsemblRelease(77)\n",
    "unknown_genes = []\n",
    "for kind in ('TF', 'TG'):\n",
    "    opposite_kind = 'TG' if kind=='TF' else 'TF'\n",
    "    mask = grqtls['Kind']==f'cis{kind}'\n",
    "    def get_loci(gene_name):\n",
    "        try: return ensembl.loci_of_gene_names(gene_name)[0]\n",
    "        except: unknown_genes.append(gene_name); return None\n",
    "    # Same\n",
    "    loci = list(map(get_loci, grqtls.loc[mask, kind]))\n",
    "    grqtls.loc[mask, 'Gene Chromosome'] = list(map(lambda l: l.contig if l is not None else l, loci))\n",
    "    equal_or_na = (grqtls.loc[mask, 'Chromosome'] == grqtls.loc[mask, 'Gene Chromosome']) + grqtls.loc[mask, 'Gene Chromosome'].isna()\n",
    "    assert equal_or_na.sum() == mask.sum()\n",
    "    grqtls.loc[mask, 'Gene Start'] = list(map(lambda l: int(l.start) if l is not None else l, loci))\n",
    "    grqtls.loc[mask, 'Gene End'] = list(map(lambda l: int(l.end) if l is not None else l, loci))\n",
    "    grqtls.loc[mask, 'Gene Strand'] = list(map(lambda l: str(l.strand) if l is not None else l, loci))\n",
    "    # Opposite\n",
    "    loci = list(map(get_loci, grqtls.loc[mask, opposite_kind]))\n",
    "    grqtls.loc[mask, 'Opposite Gene Chromosome'] = list(map(lambda l: l.contig if l is not None else l, loci))\n",
    "    grqtls.loc[mask, 'Opposite Gene Start'] = list(map(lambda l: int(l.start) if l is not None else l, loci))\n",
    "    grqtls.loc[mask, 'Opposite Gene End'] = list(map(lambda l: int(l.end) if l is not None else l, loci))\n",
    "    grqtls.loc[mask, 'Opposite Gene Strand'] = list(map(lambda l: str(l.strand) if l is not None else l, loci))\n",
    "print(f'{np.unique(unknown_genes).shape[0]} unrecognized genes found: {\", \".join(np.unique(unknown_genes))}')"
   ]
  },
  {
   "cell_type": "markdown",
   "metadata": {},
   "source": [
    "# Sanitize MPRA QTLs"
   ]
  },
  {
   "cell_type": "code",
   "execution_count": 5,
   "metadata": {},
   "outputs": [],
   "source": [
    "# Read significant MPRA qtls\n",
    "mpra = pd.read_csv('../../data/mpra_table2.csv')\n",
    "# Separate locations\n",
    "for col in split_region(mpra['chr:pos_A0_A1'].iloc[0]):\n",
    "    mpra[col] = mpra['chr:pos_A0_A1'].apply(lambda s: split_region(s)[col])\n",
    "# Filter\n",
    "mpra = mpra.loc[mpra['Disorder']=='AD']\n",
    "mpra = mpra.loc[mpra['CRISPR q-value']!='–']\n",
    "# mpra = mpra[['Chromosome', 'SNP Start']]\n"
   ]
  },
  {
   "cell_type": "code",
   "execution_count": 6,
   "metadata": {},
   "outputs": [],
   "source": [
    "# Compute significance\n",
    "# def q_to_min_num(s):\n",
    "#     entries = s.split('; ')\n",
    "#     # Special cases\n",
    "#     entries = ['1' if e=='–' else e for e in entries]\n",
    "#     entries = [e[1:] if str(e).startswith('<') else e for e in entries]\n",
    "#     # Main aggregation\n",
    "#     entries = [e.split(' × ') for e in entries]  # Separate scientific notation\n",
    "#     entries = [[e[0], e[1].split('−')] if len(e)==2 else e for e in entries]  # Separate powers\n",
    "#     entries = [[e[0], float(e[1][0])**-float(e[1][1])] if len(e)==2 else e for e in entries]  # Compute powers\n",
    "#     entries = [[float(e[0])*e[1]] if len(e)==2 else e for e in entries]  # Aggregate scientific\n",
    "#     entries = [float(e[0]) for e in entries]  # Convert all\n",
    "#     return min(entries)\n",
    "# mpra['Significance'] = mpra['CRISPR q-value'].apply(q_to_min_num)"
   ]
  },
  {
   "cell_type": "code",
   "execution_count": 7,
   "metadata": {},
   "outputs": [],
   "source": [
    "# Fake MPRA data\n",
    "# mpra = mpra.rename(columns={'Chr', 'Chromosome'})\n",
    "# mpra = mpra.loc[mpra['frVars']>0]\n",
    "\n",
    "# mpra = [\n",
    "#     'chr11:16246208',\n",
    "#     'chr16:79493142',\n",
    "# ]\n",
    "# mpra = pd.DataFrame({'_origin': mpra})\n",
    "# for col in ('Chromosome', 'SNP Start'):\n",
    "#     mpra[col] = mpra['_origin'].apply(lambda s: split_region(s)[col])\n",
    "# mpra = mpra.drop(columns='_origin')"
   ]
  },
  {
   "cell_type": "markdown",
   "metadata": {},
   "source": [
    "# Find Overlaps"
   ]
  },
  {
   "cell_type": "code",
   "execution_count": 10,
   "metadata": {},
   "outputs": [],
   "source": [
    "# Parameters\n",
    "search_distance = int(1e6)\n",
    "target_cols = ('Chromosome', 'SNP Locus')\n",
    "# #Overlaps #MPRA/14 SEARCHDIST\n",
    "# 33        1MPRA    2e4\n",
    "# 163       2MPRA    1e5\n",
    "# 390       10MPRA   1e6\n",
    "chromosome_col, locus_col = target_cols"
   ]
  },
  {
   "cell_type": "code",
   "execution_count": null,
   "metadata": {},
   "outputs": [
    {
     "name": "stderr",
     "output_type": "stream",
     "text": [
      "Found 47923: 100%|███████████████████████████████████████████████| 1041623/1041623 [38:31<00:00, 450.60it/s]\n"
     ]
    },
    {
     "data": {
      "text/plain": [
       "<Axes: >"
      ]
     },
     "execution_count": 8,
     "metadata": {},
     "output_type": "execute_result"
    },
    {
     "data": {
      "image/png": "[encoded data removed]",
      "text/plain": [
       "<Figure size 640x480 with 1 Axes>"
      ]
     },
     "metadata": {},
     "output_type": "display_data"
    }
   ],
   "source": [
    "# Annotate SNP distance\n",
    "list_cols = ['MPRA ID', 'MPRA Gene Category', 'MPRA SNP Locus', 'Distance']\n",
    "for col in list_cols+['Overlaps']:\n",
    "    grqtls[col] = None\n",
    "for i, r in (pbar := tqdm(grqtls.iterrows(), total=grqtls.shape[0], desc='Found 0')):\n",
    "    # Filter for missing data\n",
    "    if np.array([r[col] is None for col in target_cols]).any(): continue\n",
    "\n",
    "    # Filter by chromosome\n",
    "    mask = mpra['Chromosome'] == r[chromosome_col]\n",
    "    if mask.sum()==0: continue\n",
    "\n",
    "    # Filter by distance\n",
    "    dist = (r[locus_col] - mpra.loc[mask, 'SNP Locus']).astype(int)\n",
    "    dist_mask = dist.abs() <= search_distance\n",
    "    mask[mask] = dist_mask\n",
    "    if mask.sum()==0: continue\n",
    "\n",
    "    # Record\n",
    "    grqtls.at[i, 'MPRA ID'] = mpra.loc[mask, 'chr:pos_A0_A1'].to_list()\n",
    "    grqtls.at[i, 'MPRA Gene Category'] = mpra.loc[mask, 'Locus'].to_list()\n",
    "    grqtls.at[i, 'MPRA SNP Locus'] = mpra.loc[mask, 'SNP Locus'].to_list()\n",
    "    grqtls.at[i, 'Distance'] = dist.loc[dist_mask].to_list()\n",
    "    grqtls.loc[i, 'Overlaps'] = mask.sum()\n",
    "    pbar.set_description(f'Found {grqtls[\"Overlaps\"].sum()}')\n",
    "# Filter and explode\n",
    "overlapping_grqtls = grqtls.loc[grqtls['Overlaps']>0].explode(list_cols)\n",
    "# Additional columns\n",
    "overlapping_grqtls['Absolute Distance'] = overlapping_grqtls['Distance'].abs()\n",
    "# Histogram\n",
    "overlapping_grqtls['Distance'].hist(bins=100)"
   ]
  },
  {
   "cell_type": "markdown",
   "metadata": {},
   "source": [
    "# Annotate Common Gene SNPs"
   ]
  },
  {
   "cell_type": "code",
   "execution_count": null,
   "metadata": {},
   "outputs": [
    {
     "name": "stdout",
     "output_type": "stream",
     "text": [
      "Found 203 matched and 520 unknown from 47923\n"
     ]
    }
   ],
   "source": [
    "# Detect if SNP in same gene as MPRA SNP\n",
    "# Get gene names\n",
    "# NOTE: Doesn't take intersections into account\n",
    "# NOTE: # chr2:127886158 corresponds to ENSG00000286873 but is not in pyensembl\n",
    "gene_names = overlapping_grqtls.apply(lambda r: ensembl.gene_names_at_locus(contig=r[chromosome_col], position=r['MPRA SNP Locus']), axis=1)\n",
    "gene_names = gene_names.apply(lambda ar: ar[0] if len(ar) > 0 else None)\n",
    "# Get gene ranges\n",
    "gene_loci = gene_names.apply(lambda s: ensembl.loci_of_gene_names(s)[0] if s is not None else None)\n",
    "gene_starts = gene_loci.apply(lambda l: l.start if l is not None else None)\n",
    "gene_ends = gene_loci.apply(lambda l: l.end if l is not None else None)\n",
    "assert (\n",
    "    (overlapping_grqtls['MPRA SNP Locus'] > gene_starts)\n",
    "    *(overlapping_grqtls['MPRA SNP Locus'] < gene_ends)\n",
    "    +(gene_loci.isna())).all()\n",
    "matched_mask = (overlapping_grqtls[locus_col] > gene_starts) * (overlapping_grqtls[locus_col] < gene_ends)\n",
    "unknown_mask = gene_loci.isna()\n",
    "print(f'Found {matched_mask.sum()} matched and {unknown_mask.sum()} unknown from {overlapping_grqtls.shape[0]}')\n",
    "# Add columns\n",
    "overlapping_grqtls['MPRA Gene'] = gene_names\n",
    "overlapping_grqtls['MPRA Gene Start'] = gene_starts\n",
    "overlapping_grqtls['MPRA Gene End'] = gene_ends\n",
    "overlapping_grqtls['Matching Genes'] = 'No'\n",
    "overlapping_grqtls.loc[unknown_mask, 'Matching Genes'] = 'Maybe'\n",
    "overlapping_grqtls.loc[matched_mask, 'Matching Genes'] = 'Yes'"
   ]
  },
  {
   "cell_type": "code",
   "execution_count": 11,
   "metadata": {},
   "outputs": [],
   "source": [
    "# Save\n",
    "overlapping_grqtls.to_csv('../plots/overlapping_grqtls.csv')"
   ]
  },
  {
   "cell_type": "markdown",
   "metadata": {},
   "source": [
    "# Output Final Results"
   ]
  },
  {
   "cell_type": "code",
   "execution_count": 22,
   "metadata": {},
   "outputs": [],
   "source": [
    "overlapping_grqtls = pd.read_csv('../plots/overlapping_grqtls.csv', index_col=0)"
   ]
  },
  {
   "cell_type": "code",
   "execution_count": 23,
   "metadata": {},
   "outputs": [
    {
     "name": "stdout",
     "output_type": "stream",
     "text": [
      "SEARCH DISTANCE 1e+06\n",
      "Overlapping grQTLs:  47923 / 1041623 (4.601%)\n",
      "Cell Types:  micro (6122), oligo (5510), pvm (5055), astro (4960), opc (4112), en_l2_3_it (2476), en_l3_5_it_3 (2365), en_l3_5_it_2 (1879), en_l6_it_1 (1782), in_pvalb (1654), en_l6_ct (1543), immune (1266), in_lamp5_lhx6 (958), in_pvalb_chc (929), endo (886), smc (869), en_l5_et (740), vlmc (683), en_l5_6_np (668), pc (664), in_sst (554), in_lamp5_reln (443), en_l6_it_2 (421), en_l6b (414), en_l3_5_it_1 (402), in_vip (301), in_adarb2 (267)\n",
      "Chromosomes:  1, 2, 6, 8, 11, 14, 16, 19\n",
      "MPRA Genes:  APOE, BIN1, CELF1/SPI1, CLU, CR1, HLA-DRB1/5, IQCK, MS4A, SLC24A4/RIN3\n",
      "CRISPR-Validated AD SNPs:  13 / 14 (92.857%)\n",
      "\n",
      "SEARCH DISTANCE 1e+05\n",
      "Overlapping grQTLs:  37891 / 1041623 (3.638%)\n",
      "Cell Types:  micro (5111), oligo (4342), pvm (4056), astro (4042), opc (3402), en_l2_3_it (2144), en_l3_5_it_3 (2027), en_l3_5_it_2 (1553), en_l6_it_1 (1487), in_pvalb (1470), en_l6_ct (1298), immune (992), in_lamp5_lhx6 (834), in_pvalb_chc (803), en_l5_et (684), endo (633), en_l5_6_np (617), in_sst (487), in_lamp5_reln (365), en_l3_5_it_1 (350), en_l6b (342), en_l6_it_2 (336), in_vip (178), in_adarb2 (175), smc (69), pc (56), vlmc (38)\n",
      "Chromosomes:  1, 2, 6, 8, 11, 14, 16\n",
      "MPRA Genes:  BIN1, CLU, CR1, HLA-DRB1/5, IQCK, MS4A, SLC24A4/RIN3\n",
      "CRISPR-Validated AD SNPs:  9 / 14 (64.286%)\n",
      "\n",
      "SEARCH DISTANCE 5e+04\n",
      "Overlapping grQTLs:  11655 / 1041623 (1.119%)\n",
      "Cell Types:  micro (1978), oligo (1644), astro (1405), pvm (1336), opc (975), en_l2_3_it (583), in_pvalb (467), en_l3_5_it_3 (455), en_l6_it_1 (388), en_l6_ct (285), in_pvalb_chc (272), in_lamp5_lhx6 (260), en_l3_5_it_2 (219), en_l5_6_np (218), in_lamp5_reln (191), en_l5_et (159), immune (150), en_l6b (111), en_l6_it_2 (102), en_l3_5_it_1 (96), in_sst (82), endo (77), in_adarb2 (58), in_vip (58), smc (34), pc (30), vlmc (22)\n",
      "Chromosomes:  1, 2, 6, 8, 11, 14, 16\n",
      "MPRA Genes:  BIN1, CLU, CR1, HLA-DRB1/5, IQCK, MS4A, SLC24A4/RIN3\n",
      "CRISPR-Validated AD SNPs:  9 / 14 (64.286%)\n",
      "\n",
      "SEARCH DISTANCE 2e+04\n",
      "Overlapping grQTLs:  1886 / 1041623 (0.181%)\n",
      "Cell Types:  micro (415), oligo (299), pvm (254), astro (239), opc (142), en_l2_3_it (81), in_pvalb (71), in_pvalb_chc (67), en_l3_5_it_3 (64), in_lamp5_lhx6 (52), en_l6_it_1 (47), in_lamp5_reln (42), en_l5_6_np (38), in_sst (14), smc (12), immune (9), vlmc (8), pc (7), en_l6_it_2 (4), en_l6_ct (4), en_l3_5_it_2 (4), en_l5_et (3), en_l3_5_it_1 (3), endo (2), en_l6b (2), in_vip (2), in_adarb2 (1)\n",
      "Chromosomes:  2, 6, 11, 14\n",
      "MPRA Genes:  BIN1, HLA-DRB1/5, MS4A, SLC24A4/RIN3\n",
      "CRISPR-Validated AD SNPs:  4 / 14 (28.571%)\n",
      "\n",
      "SEARCH DISTANCE 1e+04\n",
      "Overlapping grQTLs:  37 / 1041623 (0.004%)\n",
      "Cell Types:  en_l6_it_1 (11), smc (6), vlmc (5), pc (4), oligo (2), opc (2), astro (1), en_l6_it_2 (1), endo (1), in_pvalb_chc (1), in_vip (1), micro (1), pvm (1)\n",
      "Chromosomes:  2, 6, 11, 14\n",
      "MPRA Genes:  BIN1, HLA-DRB1/5, MS4A, SLC24A4/RIN3\n",
      "CRISPR-Validated AD SNPs:  4 / 14 (28.571%)\n",
      "\n",
      "SEARCH DISTANCE 5e+03\n",
      "Overlapping grQTLs:  31 / 1041623 (0.003%)\n",
      "Cell Types:  en_l6_it_1 (11), vlmc (4), smc (3), oligo (2), opc (2), pc (2), astro (1), en_l6_it_2 (1), endo (1), in_pvalb_chc (1), in_vip (1), micro (1), pvm (1)\n",
      "Chromosomes:  2, 6, 11, 14\n",
      "MPRA Genes:  BIN1, HLA-DRB1/5, MS4A, SLC24A4/RIN3\n",
      "CRISPR-Validated AD SNPs:  4 / 14 (28.571%)\n",
      "\n",
      "SEARCH DISTANCE 2e+03\n",
      "Overlapping grQTLs:  14 / 1041623 (0.001%)\n",
      "Cell Types:  en_l6_it_1 (5), oligo (2), opc (2), astro (1), micro (1), pvm (1), smc (1), vlmc (1)\n",
      "Chromosomes:  6, 14\n",
      "MPRA Genes:  HLA-DRB1/5, SLC24A4/RIN3\n",
      "CRISPR-Validated AD SNPs:  2 / 14 (14.286%)\n",
      "\n"
     ]
    }
   ],
   "source": [
    "# Filter to final form over various thresholds\n",
    "match_gene_map = {'No': 0, 'Maybe': 1, 'Yes': 2}\n",
    "match_gene_threshold = 'No'\n",
    "for sig_distance in (int(1e6), int(1e5), int(5e4), int(2e4), int(1e4), int(5e3), int(2e3)):\n",
    "    print(f'SEARCH DISTANCE {sig_distance:.0e}')\n",
    "    # Filter by distance\n",
    "    df = overlapping_grqtls.loc[overlapping_grqtls['Absolute Distance'] < sig_distance]\n",
    "    # Filter to same gene as MPRA\n",
    "    df = df.loc[df['Matching Genes'].apply(lambda s: match_gene_map[s]) >= match_gene_map[match_gene_threshold]]\n",
    "    # Total CLI\n",
    "    print(f'Overlapping grQTLs:  {df.shape[0]} / {grqtls.shape[0]} ({100.*df.shape[0]/grqtls.shape[0]:.3f}%)')\n",
    "    # Filtered CLI\n",
    "    ct_counts = df.groupby('Cell Type')['Chromosome'].count().sort_values(ascending=False)\n",
    "    print(f'Cell Types:  {\", \".join([f\"{ct_counts.index[i]} ({ct_counts.iloc[i]})\" for i in range(ct_counts.shape[0])])}')\n",
    "    print(f'Chromosomes:  {\", \".join(np.unique(df[chromosome_col]).astype(str))}')\n",
    "    print(f'MPRA Genes:  {\", \".join(np.unique(df[\"MPRA Gene Category\"]))}')\n",
    "    found_intersections = df['MPRA ID'].unique().shape[0]\n",
    "    print(f'CRISPR-Validated AD SNPs:  {found_intersections} / {mpra.shape[0]} ({100.*found_intersections/mpra.shape[0]:.3f}%)')\n",
    "    print()"
   ]
  },
  {
   "cell_type": "code",
   "execution_count": 147,
   "metadata": {},
   "outputs": [],
   "source": [
    "ct_colors = {\n",
    "    'immune': '#7e573a',\n",
    "    'endo': '#ff7740',\n",
    "    'pc': '#eab5ff',\n",
    "    'smc': '#5c3b8e',\n",
    "    'vlmc': '#cc329d',\n",
    "    'pvm': '#d40000',\n",
    "    'micro': '#ff5c5e',\n",
    "    'astro': '#dbb785',\n",
    "    'opc': '#ffda00',\n",
    "    'oligo': '#efe8b8',\n",
    "    'in_sst': '#779900',\n",
    "    'in_pvalb': '#b6cb33',\n",
    "    'in_pvalb_chc': '#008e8c',\n",
    "    'in_adarb2': '#4a967f',\n",
    "    'in_vip': '#87cd57',\n",
    "    'in_lamp5_reln': '#1ba8a7',\n",
    "    'in_lamp5_lhx6': '#75d5bc',\n",
    "    'en_l5_6_np': '#1a14d5',\n",
    "    'en_l5_et': '#4f6daf',\n",
    "    'en_l6b': '#4594d2',\n",
    "    'en_l6_ct': '#01c2ff',\n",
    "    'en_l6_it_2': '#0093ff',\n",
    "    'en_l3_5_it_1': '#9ac1cf',\n",
    "    'en_l3_5_it_2': '#6a9ff6',\n",
    "    'en_l3_5_it_3': '#7ac3f2',\n",
    "    'en_l6_it_1': '#b9d5f0',\n",
    "    'en_l2_3_it': '#66a9d2'}"
   ]
  },
  {
   "cell_type": "code",
   "execution_count": 150,
   "metadata": {},
   "outputs": [
    {
     "data": {
      "image/png": "[encoded data removed]",
      "text/plain": [
       "<Figure size 800x200 with 4 Axes>"
      ]
     },
     "metadata": {},
     "output_type": "display_data"
    }
   ],
   "source": [
    "# Parameters\n",
    "sig_distance = int(5e3)\n",
    "\n",
    "# Compute filtered data\n",
    "proximal_grqtls = overlapping_grqtls.loc[overlapping_grqtls['Absolute Distance'] <= sig_distance]\n",
    "\n",
    "# Make figure\n",
    "fig, axs = plt.subplots(2, 2, figsize=(8, 2))\n",
    "fig.subplots_adjust(wspace=.4, hspace=1.2)\n",
    "axs = axs.flatten()\n",
    "# axs[0].set_xscale('symlog')\n",
    "\n",
    "# Make plots\n",
    "unique_mpra_ids = proximal_grqtls['MPRA ID'].unique()\n",
    "for ax, mpra_id in zip(axs, unique_mpra_ids):\n",
    "    # Filter data\n",
    "    one_mpra_grqtls = proximal_grqtls.loc[proximal_grqtls['MPRA ID'] == mpra_id]\n",
    "\n",
    "    # Histogram\n",
    "    sns.histplot(\n",
    "        one_mpra_grqtls, x='Distance',\n",
    "        bins=40, binrange=(-sig_distance, sig_distance),\n",
    "        # kde=True,\n",
    "        color='black',\n",
    "        edgecolor=None,\n",
    "        ax=ax)\n",
    "    \n",
    "    # Get cell type counts\n",
    "    ct_counts = one_mpra_grqtls.groupby('Cell Type').count()['Distance'].sort_values()\n",
    "    \n",
    "    # Formatting\n",
    "    xticks = [loc for loc in np.arange(-sig_distance, sig_distance+1, 1000)]\n",
    "    xticklabels = [f'{int(loc/1000)}k' for loc in xticks]\n",
    "    yticks = [loc for loc in np.arange(2, 10, 3)]\n",
    "    yticklabels = [f'{loc} grQTLs' for loc in yticks]\n",
    "    ax.set(\n",
    "        title=mpra_id,\n",
    "        xlabel=None, xticks=xticks, xticklabels=xticklabels, xlim=(-sig_distance, sig_distance),\n",
    "        ylabel=None, yticks=yticks, yticklabels=yticklabels, ylim=(0, 10))\n",
    "    ax.tick_params(axis=\"both\", which=\"both\", left=False, bottom=False)\n",
    "    bbox = ax.get_window_extent().transformed(fig.dpi_scale_trans.inverted())\n",
    "    width, height = bbox.width, bbox.height\n",
    "    yx_ratio = width / height\n",
    "\n",
    "    # Draw cell types\n",
    "    import matplotlib.collections\n",
    "    import matplotlib.patches\n",
    "    edge_pad = .01\n",
    "    patch_pad = .01\n",
    "    max_per_row = 20\n",
    "    radius = .015\n",
    "    drawn_num = 0\n",
    "    patches = []\n",
    "    for ct, count in ct_counts.items():\n",
    "        for _ in range(count):\n",
    "            x = edge_pad + (drawn_num % max_per_row) * (2*radius+patch_pad) + radius\n",
    "            y = 1 - yx_ratio*(edge_pad + (drawn_num // max_per_row) * (2*radius+patch_pad) + radius)\n",
    "            patches.append(matplotlib.patches.Ellipse((x, y), 2*radius, yx_ratio*2*radius, facecolor=ct_colors[ct]))\n",
    "            drawn_num += 1\n",
    "    ax.add_collection(matplotlib.collections.PatchCollection(patches, match_original=True, transform=ax.transAxes))\n",
    "fig.savefig('../plots/MPRA_grQTL_overlap.pdf', bbox_inches='tight')\n",
    "plt.show()"
   ]
  }
 ],
 "metadata": {
  "kernelspec": {
   "display_name": "Python 3 (ipykernel)",
   "language": "python",
   "name": "python3"
  },
  "language_info": {
   "codemirror_mode": {
    "name": "ipython",
    "version": 3
   },
   "file_extension": ".py",
   "mimetype": "text/x-python",
   "name": "python",
   "nbconvert_exporter": "python",
   "pygments_lexer": "ipython3",
   "version": "3.10.14"
  }
 },
 "nbformat": 4,
 "nbformat_minor": 2
}
