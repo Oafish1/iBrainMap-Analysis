{
 "cells": [
  {
   "cell_type": "code",
   "execution_count": 1,
   "metadata": {},
   "outputs": [],
   "source": [
    "%load_ext autoreload\n",
    "%autoreload 2"
   ]
  },
  {
   "cell_type": "code",
   "execution_count": 2,
   "metadata": {},
   "outputs": [],
   "source": [
    "import re\n",
    "\n",
    "import pandas as pd\n",
    "from pyensembl import EnsemblRelease  # pyensembl install --release 77 --species homo_sapiens\n",
    "from tqdm import tqdm\n",
    "\n",
    "from functions import *"
   ]
  },
  {
   "cell_type": "markdown",
   "metadata": {},
   "source": [
    "# Sanitize grQTLs"
   ]
  },
  {
   "cell_type": "code",
   "execution_count": 3,
   "metadata": {},
   "outputs": [],
   "source": [
    "# Get grqtls\n",
    "grqtls = get_grqtls()\n",
    "def split_region(s):\n",
    "    match = re.search('^chr(.+):(\\d+)(?:)(?:_._.)?$', s)\n",
    "    return {'Chromosome': str(match.group(1)), 'SNP Start': int(match.group(2))}\n",
    "def split_id(s):\n",
    "    match = re.search('^(.+) --> (.+)_to_(.+)$', s)\n",
    "    region = split_region(match.group(1))\n",
    "    tf, tg = match.group(2), match.group(3)\n",
    "    return {**region, 'TF': tf, 'TG': tg}\n",
    "for col in split_id(grqtls['id'].iloc[0]):\n",
    "    grqtls[col] = grqtls['id'].apply(lambda s: split_id(s)[col])\n",
    "grqtls = grqtls.rename(columns={'celltype': 'Cell Type'})\n",
    "grqtls = grqtls[['Chromosome', 'SNP Start', 'TF', 'TG', 'Kind', 'Cell Type']].reset_index(drop=True)"
   ]
  },
  {
   "cell_type": "code",
   "execution_count": 4,
   "metadata": {},
   "outputs": [
    {
     "name": "stdout",
     "output_type": "stream",
     "text": [
      "25 unrecognized genes found: ADD3-AS1, ADGRD1, ADGRE2, ADGRE4P, ADGRF5, ADGRG1, ADGRG5, ADGRG6, ADGRL2, ADGRL4, ADGRV1, ANOS1, ARRDC3-AS1, CARMN, FCGR1CP, GPAT3, LINC01619, MIR34AHG, NECTIN2, PLPP3, PLPPR1, SAMD12-AS1, SUSD6, TMIGD3, TNS2\n"
     ]
    }
   ],
   "source": [
    "# Get TF and TG locations\n",
    "ensembl = EnsemblRelease(77)\n",
    "unknown_genes = []\n",
    "for kind in ('TF', 'TG'):\n",
    "    opposite_kind = 'TG' if kind=='TF' else 'TF'\n",
    "    mask = grqtls['Kind']==f'cis{kind}'\n",
    "    def get_loci(gene_name):\n",
    "        try: return ensembl.loci_of_gene_names(gene_name)[0]\n",
    "        except: unknown_genes.append(gene_name); return None\n",
    "    # Same\n",
    "    loci = list(map(get_loci, grqtls.loc[mask, kind]))\n",
    "    grqtls.loc[mask, 'Gene Chromosome'] = list(map(lambda l: l.contig if l is not None else l, loci))\n",
    "    equal_or_na = (grqtls.loc[mask, 'Chromosome'] == grqtls.loc[mask, 'Gene Chromosome']) + grqtls.loc[mask, 'Gene Chromosome'].isna()\n",
    "    assert equal_or_na.sum() == mask.sum()\n",
    "    grqtls.loc[mask, 'Gene Start'] = list(map(lambda l: int(l.start) if l is not None else l, loci))\n",
    "    # Opposite\n",
    "    loci = list(map(get_loci, grqtls.loc[mask, opposite_kind]))\n",
    "    grqtls.loc[mask, 'Opposite Gene Chromosome'] = list(map(lambda l: l.contig if l is not None else l, loci))\n",
    "    grqtls.loc[mask, 'Opposite Gene Start'] = list(map(lambda l: int(l.start) if l is not None else l, loci))\n",
    "print(f'{np.unique(unknown_genes).shape[0]} unrecognized genes found: {\", \".join(np.unique(unknown_genes))}')"
   ]
  },
  {
   "cell_type": "markdown",
   "metadata": {},
   "source": [
    "# Sanitize MPRA QTLs"
   ]
  },
  {
   "cell_type": "code",
   "execution_count": 5,
   "metadata": {},
   "outputs": [],
   "source": [
    "# Read significant MPRA qtls\n",
    "mpra = pd.read_csv('../../data/mpra_table2.csv')\n",
    "# Separate locations\n",
    "for col in split_region(mpra['chr:pos_A0_A1'].iloc[0]):\n",
    "    mpra[col] = mpra['chr:pos_A0_A1'].apply(lambda s: split_region(s)[col])\n",
    "# Filter\n",
    "mpra = mpra.loc[mpra['Disorder']=='AD']\n",
    "mpra = mpra.loc[mpra['CRISPR q-value']!='–']\n",
    "# mpra = mpra[['Chromosome', 'SNP Start']]\n"
   ]
  },
  {
   "cell_type": "code",
   "execution_count": 6,
   "metadata": {},
   "outputs": [],
   "source": [
    "# Compute significance\n",
    "# def q_to_min_num(s):\n",
    "#     entries = s.split('; ')\n",
    "#     # Special cases\n",
    "#     entries = ['1' if e=='–' else e for e in entries]\n",
    "#     entries = [e[1:] if str(e).startswith('<') else e for e in entries]\n",
    "#     # Main aggregation\n",
    "#     entries = [e.split(' × ') for e in entries]  # Separate scientific notation\n",
    "#     entries = [[e[0], e[1].split('−')] if len(e)==2 else e for e in entries]  # Separate powers\n",
    "#     entries = [[e[0], float(e[1][0])**-float(e[1][1])] if len(e)==2 else e for e in entries]  # Compute powers\n",
    "#     entries = [[float(e[0])*e[1]] if len(e)==2 else e for e in entries]  # Aggregate scientific\n",
    "#     entries = [float(e[0]) for e in entries]  # Convert all\n",
    "#     return min(entries)\n",
    "# mpra['Significance'] = mpra['CRISPR q-value'].apply(q_to_min_num)"
   ]
  },
  {
   "cell_type": "code",
   "execution_count": 7,
   "metadata": {},
   "outputs": [],
   "source": [
    "# Fake MPRA data\n",
    "# mpra = mpra.rename(columns={'Chr', 'Chromosome'})\n",
    "# mpra = mpra.loc[mpra['frVars']>0]\n",
    "\n",
    "# mpra = [\n",
    "#     'chr11:16246208',\n",
    "#     'chr16:79493142',\n",
    "# ]\n",
    "# mpra = pd.DataFrame({'_origin': mpra})\n",
    "# for col in ('Chromosome', 'SNP Start'):\n",
    "#     mpra[col] = mpra['_origin'].apply(lambda s: split_region(s)[col])\n",
    "# mpra = mpra.drop(columns='_origin')"
   ]
  },
  {
   "cell_type": "markdown",
   "metadata": {},
   "source": [
    "# Find Overlaps"
   ]
  },
  {
   "cell_type": "code",
   "execution_count": 11,
   "metadata": {},
   "outputs": [
    {
     "name": "stderr",
     "output_type": "stream",
     "text": [
      "Found 390: 100%|████████████████████████████████████████████████████| 33288/33288 [00:24<00:00, 1367.95it/s]\n"
     ]
    },
    {
     "name": "stdout",
     "output_type": "stream",
     "text": [
      "Chromosomes:  1, 11, 14, 16, 19, 2, 6, 8\n",
      "Loci:  APOE;APOE, BIN1, CELF1/SPI1, CLU, CR1, HLA-DRB1/5, IQCK;IQCK, MS4A, MS4A;MS4A, SLC24A4/RIN3\n",
      "Cell Types:  smc(24), astro(21), micro(18), vlmc(18), pc(17), pvm(16), oligo(16), opc(15), in_pvalb_chc(15), en_l3_5_it_3(14), en_l2_3_it(14), in_pvalb(13), en_l6_ct(13), en_l6_it_1(13), en_l3_5_it_2(12), in_adarb2(12), immune(12), in_vip(11), en_l5_6_np(9), in_lamp5_lhx6(9), in_sst(9), en_l5_et(9), endo(8), en_l6_it_2(8), en_l3_5_it_1(8), in_lamp5_reln(8), en_l6b(6)\n"
     ]
    },
    {
     "data": {
      "text/plain": [
       "<Axes: >"
      ]
     },
     "execution_count": 11,
     "metadata": {},
     "output_type": "execute_result"
    },
    {
     "data": {
      "image/png": "[encoded data removed]",
      "text/plain": [
       "<Figure size 640x480 with 1 Axes>"
      ]
     },
     "metadata": {},
     "output_type": "display_data"
    }
   ],
   "source": [
    "# Parameters\n",
    "search_distance = int(1e6)\n",
    "target_cols = [\n",
    "    # #Overlaps #MPRA/14 SEARCHDIST\n",
    "    # 33        1MPRA    2e4\n",
    "    # 163       2MPRA    1e5\n",
    "    # 390       10MPRA   1e6\n",
    "    ('Chromosome', 'SNP Start'),  \n",
    "    ('Gene Chromosome', 'Gene Start'),  # 188\n",
    "    ('Opposite Gene Chromosome', 'Opposite Gene Start'),  # 25\n",
    "][0]\n",
    "chromosome_col, start_col = target_cols\n",
    "\n",
    "# Annotate SNP distance\n",
    "grqtls['Closest'] = None\n",
    "grqtls['Distances'] = None\n",
    "grqtls['Loci'] = None\n",
    "grqtls['Overlaps'] = None\n",
    "for i, r in (pbar := tqdm(grqtls.iterrows(), total=grqtls.shape[0], desc='Found 0')):\n",
    "    # Filter for missing data\n",
    "    if np.array([r[col] is None for col in target_cols]).any(): continue\n",
    "\n",
    "    # Filter by chromosome\n",
    "    mask = mpra['Chromosome'] == r[chromosome_col]\n",
    "    if mask.sum()==0: continue\n",
    "\n",
    "    # Filter by distance\n",
    "    dist = (mpra.loc[mask, 'SNP Start'] - r[start_col]).astype(int)\n",
    "    # if mask.sum() > 1: print(dist.abs().min())\n",
    "    mask[mask] = dist.abs() <= search_distance\n",
    "    if mask.sum()==0: continue\n",
    "\n",
    "    # Record\n",
    "    grqtls.loc[i, 'Closest'] = dist.abs().min()\n",
    "    grqtls.loc[i, 'Distances'] = '; '.join(map(str, np.sort(dist.abs())[:mask.sum()]))\n",
    "    grqtls.loc[i, 'Loci'] = '; '.join(mpra.loc[mask, 'Locus'])\n",
    "    grqtls.loc[i, 'Overlaps'] = mask.sum()\n",
    "    pbar.set_description(f'Found {grqtls[\"Overlaps\"].sum()}')\n",
    "overlapping_grqtls = grqtls.loc[grqtls['Overlaps']>0]\n",
    "# grqtls.loc[grqtls['Overlaps']>0, 'Loci'].unique()\n",
    "print(f'Chromosomes:  {\", \".join(np.unique(overlapping_grqtls[\"Chromosome\"]))}')\n",
    "print(f'Loci:  {\", \".join([l.replace(\"; \", \";\") for l in np.unique(overlapping_grqtls[\"Loci\"])])}')\n",
    "ct_counts = overlapping_grqtls.groupby('Cell Type')['Chromosome'].count().sort_values(ascending=False)\n",
    "print(f'Cell Types:  {\", \".join([f\"{ct_counts.index[i]}({ct_counts.iloc[i]})\" for i in range(ct_counts.shape[0])])}')\n",
    "overlapping_grqtls['Closest'].hist(bins=100)"
   ]
  }
 ],
 "metadata": {
  "kernelspec": {
   "display_name": "Python 3 (ipykernel)",
   "language": "python",
   "name": "python3"
  },
  "language_info": {
   "codemirror_mode": {
    "name": "ipython",
    "version": 3
   },
   "file_extension": ".py",
   "mimetype": "text/x-python",
   "name": "python",
   "nbconvert_exporter": "python",
   "pygments_lexer": "ipython3",
   "version": "3.10.14"
  }
 },
 "nbformat": 4,
 "nbformat_minor": 2
}
