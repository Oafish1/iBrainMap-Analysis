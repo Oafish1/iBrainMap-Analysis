{
 "cells": [
  {
   "cell_type": "code",
   "execution_count": 1,
   "metadata": {
    "execution": {
     "iopub.execute_input": "2023-07-13T06:40:26.417400Z",
     "iopub.status.busy": "2023-07-13T06:40:26.417242Z",
     "iopub.status.idle": "2023-07-13T06:40:26.428582Z",
     "shell.execute_reply": "2023-07-13T06:40:26.427990Z"
    }
   },
   "outputs": [],
   "source": [
    "%load_ext autoreload\n",
    "%autoreload 2"
   ]
  },
  {
   "cell_type": "code",
   "execution_count": 2,
   "metadata": {
    "execution": {
     "iopub.execute_input": "2023-07-13T06:40:26.430818Z",
     "iopub.status.busy": "2023-07-13T06:40:26.430522Z",
     "iopub.status.idle": "2023-07-13T06:40:27.436429Z",
     "shell.execute_reply": "2023-07-13T06:40:27.435960Z"
    }
   },
   "outputs": [],
   "source": [
    "import graph_tool.all as gt\n",
    "import matplotlib\n",
    "import matplotlib.pyplot as plt\n",
    "import numpy as np\n",
    "import pandas as pd\n",
    "import seaborn as sns\n",
    "\n",
    "from functions import *\n",
    "\n",
    "\n",
    "# Graph-Tool compatibility\n",
    "plt.switch_backend('cairo')\n",
    "# Style\n",
    "sns.set_theme(context='talk', style='white', palette='Set2')\n",
    "matplotlib.rcParams['pdf.fonttype'] = 42\n",
    "matplotlib.rcParams['ps.fonttype'] = 42"
   ]
  },
  {
   "attachments": {},
   "cell_type": "markdown",
   "metadata": {},
   "source": [
    "# Computation"
   ]
  },
  {
   "cell_type": "code",
   "execution_count": 3,
   "metadata": {},
   "outputs": [
    {
     "name": "stdout",
     "output_type": "stream",
     "text": [
      "M19050 Hispanic Female, 74.0, BRAAK 5.0\n",
      "M59593 Hispanic Female, 76.0, BRAAK 5.0\n",
      "M83214 Hispanic Female, 83.0, BRAAK 6.0\n",
      "M36634 Hispanic Female, 87.0, BRAAK 6.0\n"
     ]
    }
   ],
   "source": [
    "# Load metadata\n",
    "meta = get_meta()\n",
    "\n",
    "# Subject preview\n",
    "filtered = []\n",
    "for i, row in meta.iterrows():\n",
    "    try:\n",
    "        load_graph_by_id(row['SubID'])\n",
    "        assert not np.isnan(row['nps_MoodDysCurValue'])  # Has NPS\n",
    "        assert row['Sex'] == 'Female'\n",
    "        assert row['Ethnicity'] != 'White'\n",
    "    except:\n",
    "        continue\n",
    "    filtered.append(f'{row[\"SubID\"]} {row[\"Ethnicity\"]} {row[\"Sex\"]}, {row[\"Age\"]}, BRAAK {row[\"BRAAK_AD\"]}')\n",
    "for i in (2, 4, 5, 6):\n",
    "    print(filtered[i])\n",
    "\n",
    "# Parameters\n",
    "column_diff = 'att_D_AD_0_1'\n",
    "column_data = 'att_D_no_prior_0'\n",
    "coex_diff_compare_phenotype = 'nps_PsychoAgiCurValue'\n",
    "diff_data_compare_phenotype = 'nps_WtLossCurValue'\n",
    "individual_sample_ids = ['M19050', 'M59593', 'M83214', 'M36634']"
   ]
  },
  {
   "cell_type": "code",
   "execution_count": 4,
   "metadata": {},
   "outputs": [
    {
     "name": "stderr",
     "output_type": "stream",
     "text": [
      "100%|███████████████████████████████████████████████████████████████████████████████████| 24/24 [01:54<00:00,  4.77s/it]\n",
      "100%|███████████████████████████████████████████████████████████████████████████████████| 24/24 [00:01<00:00, 13.10it/s]\n",
      "100%|███████████████████████████████████████████████████████████████████████████████████| 24/24 [00:01<00:00, 13.52it/s]\n",
      "100%|███████████████████████████████████████████████████████████████████████████████████| 24/24 [00:01<00:00, 13.34it/s]\n"
     ]
    }
   ],
   "source": [
    "# Compute summaries\n",
    "diff_graph_summary_coex = compute_statistics(meta, 'BRAAK_AD', coex_diff_compare_phenotype, source='coexpression')\n",
    "diff_graph_summary_att = compute_statistics(meta, 'BRAAK_AD', coex_diff_compare_phenotype, column=column_diff)\n",
    "diff_graph_summary = compute_statistics(meta, 'BRAAK_AD', diff_data_compare_phenotype, column=column_diff)\n",
    "data_graph_summary = compute_statistics(meta, 'BRAAK_AD', diff_data_compare_phenotype, column=column_data)"
   ]
  },
  {
   "cell_type": "code",
   "execution_count": 5,
   "metadata": {
    "execution": {
     "iopub.execute_input": "2023-07-13T06:40:27.439086Z",
     "iopub.status.busy": "2023-07-13T06:40:27.438610Z",
     "iopub.status.idle": "2023-07-13T06:42:22.841017Z",
     "shell.execute_reply": "2023-07-13T06:42:22.840281Z"
    }
   },
   "outputs": [],
   "source": [
    "# Compute individual graphs\n",
    "diff_g_individuals = [compute_graph(load_graph_by_id(individual_sample_ids[i], column=column_diff)) for i in range(2)]  # Comparison between first two on diffusion head\n",
    "data_g_individuals = [compute_graph(load_graph_by_id(individual_sample_ids[i], column=column_data)) for i in range(len(individual_sample_ids))]"
   ]
  },
  {
   "cell_type": "markdown",
   "metadata": {},
   "source": [
    "# Plotting"
   ]
  },
  {
   "cell_type": "markdown",
   "metadata": {},
   "source": [
    "## Differentially Expressed Edges"
   ]
  },
  {
   "cell_type": "code",
   "execution_count": 6,
   "metadata": {},
   "outputs": [],
   "source": [
    "# Plot total and subplots for aggregate differences\n",
    "for prefix, individuals in zip(('diff', 'data'), (diff_g_individuals, data_g_individuals)):\n",
    "    plt.clf()\n",
    "    concat = concatenate_graphs(*individuals)\n",
    "    concat = get_intersection(concat)\n",
    "    concat = cull_isolated_leaves(concat)\n",
    "    concat = remove_text_by_centrality(concat)\n",
    "    concat = color_by_significance(concat)\n",
    "    visualize_graph(concat)\n",
    "    plt.gca().axis('off')\n",
    "    plt.tight_layout()\n",
    "    plt.savefig(f'../plots/{prefix}_concat.pdf', format='pdf', transparent=True, backend='cairo')\n",
    "\n",
    "    # Show all subsets of graph by cell type\n",
    "    for v_name in detect_synthetic_vertices_graph(concat):\n",
    "        plt.clf()\n",
    "        subset = subset_by_hub(concat, [v_name])\n",
    "        visualize_graph(subset)\n",
    "        plt.gca().axis('off')\n",
    "        plt.tight_layout()\n",
    "        plt.savefig(f'../plots/{prefix}_concat_{v_name}.pdf', format='pdf', transparent=True, backend='cairo')"
   ]
  },
  {
   "cell_type": "markdown",
   "metadata": {},
   "source": [
    "## Enrichment"
   ]
  },
  {
   "cell_type": "code",
   "execution_count": 7,
   "metadata": {},
   "outputs": [],
   "source": [
    "from functions.plotting import plot_enrichment\n",
    "\n",
    "# Generate fake enrichment data\n",
    "import itertools\n",
    "# Get columns\n",
    "cell_type = ['OPC', 'Micro', 'Oligo', 'Endo']\n",
    "disease = ['Alzheimer\\'s Disease', 'Schizophrenia', 'Bipolar Disorder', 'A', 'B', 'C', 'D', 'E', 'F', 'G']\n",
    "combined = [val for val in itertools.product(cell_type, disease)]\n",
    "cell_type = [val[0] for val in combined]\n",
    "disease = [val[1] for val in combined]\n",
    "# Get significance\n",
    "np.random.seed(42)\n",
    "significance = np.exp(-8 * np.random.rand(len(combined)))\n",
    "# Combine\n",
    "df = pd.DataFrame({'cell_type': cell_type, 'disease': disease, 'significance': significance})\n",
    "df = df.loc[df['significance'] < 5e-2]\n",
    "\n",
    "# Rename\n",
    "df = df.rename(columns={'cell_type': 'Cell Type', 'disease': 'Disease'})\n",
    "# Add significance scale\n",
    "df['-log10(p)'] = -np.log10(df['significance'])\n",
    "plt.clf()\n",
    "plot_enrichment(df)\n",
    "plt.tight_layout()\n",
    "plt.savefig(f'../plots/enrichment.pdf', format='pdf', transparent=True, backend='cairo')"
   ]
  },
  {
   "cell_type": "markdown",
   "metadata": {},
   "source": [
    "## Graph Summaries"
   ]
  },
  {
   "cell_type": "code",
   "execution_count": 8,
   "metadata": {},
   "outputs": [],
   "source": [
    "# TODO\n",
    "# plt.clf()\n",
    "# mosaic = [['AA'], ['BB']]\n",
    "# fig = plt.figure(figsize=(scale*len(mosaic[0]), scale*len(mosaic)), constrained_layout=True)\n",
    "# axs = fig.subplot_mosaic(mosaic)\n",
    "# axs['B1'].get_shared_x_axes().join(axs['B1'], axs['B2'])\n",
    "# plot_statistic(diff_graph_summary_coex, col='Cliques', ax=ax)\n",
    "# plt.tight_layout()\n",
    "# plt.savefig(f'../plots/summary.pdf', format='pdf', transparent=True, backend='cairo')"
   ]
  },
  {
   "cell_type": "markdown",
   "metadata": {},
   "source": [
    "## Individual Edge Comparison"
   ]
  },
  {
   "cell_type": "code",
   "execution_count": 9,
   "metadata": {},
   "outputs": [],
   "source": [
    "# NOTE: Manually annotate individual points/genes of interest\n",
    "for prefix, individuals in zip(('diff', 'data'), (diff_g_individuals, data_g_individuals)):\n",
    "    # Get graph\n",
    "    sample_ids = individual_sample_ids[:len(individuals)]\n",
    "    g = concatenate_graphs(*individuals)\n",
    "    g = get_intersection(g)\n",
    "    g = cull_isolated_leaves(g)\n",
    "\n",
    "    plt.clf()\n",
    "    df = plot_individual_edge_comparison(g, sample_ids)\n",
    "    plt.tight_layout()\n",
    "    plt.savefig(f'../plots/{prefix}_edge_comparison.pdf', format='pdf', transparent=True, backend='cairo')"
   ]
  },
  {
   "cell_type": "markdown",
   "metadata": {},
   "source": [
    "## Legend"
   ]
  },
  {
   "cell_type": "code",
   "execution_count": 10,
   "metadata": {},
   "outputs": [],
   "source": [
    "# Plot legend\n",
    "plt.clf()\n",
    "plot_legend()\n",
    "plt.gca().axis('off')\n",
    "plt.tight_layout()\n",
    "plt.savefig(f'../plots/legend.pdf', format='pdf', transparent=True, backend='cairo')"
   ]
  },
  {
   "cell_type": "markdown",
   "metadata": {},
   "source": [
    "## Sankey"
   ]
  },
  {
   "cell_type": "code",
   "execution_count": 11,
   "metadata": {},
   "outputs": [],
   "source": [
    "# TODO, but not needed\n",
    "# plt.clf()\n",
    "# fig = plot_sankey(\n",
    "#     meta,\n",
    "#     [('Ethnicity', 'BRAAK_AD'), ('BRAAK_AD', 'nps_PsychoAgiCurValue'), ('BRAAK_AD', 'nps_WtLossCurValue')],\n",
    "#     # order={'Ethnicity': 0, 'BRAAK_AD': 1, 'nps_PsychoAgiCurValue': 2, 'nps_WtLossCurValue': 2},\n",
    "# )\n",
    "# fig.write_image('../plots/sankey.pdf')"
   ]
  }
 ],
 "metadata": {
  "kernelspec": {
   "display_name": "GNN",
   "language": "python",
   "name": "gnn"
  },
  "language_info": {
   "codemirror_mode": {
    "name": "ipython",
    "version": 3
   },
   "file_extension": ".py",
   "mimetype": "text/x-python",
   "name": "python",
   "nbconvert_exporter": "python",
   "pygments_lexer": "ipython3",
   "version": "3.11.4"
  }
 },
 "nbformat": 4,
 "nbformat_minor": 2
}
