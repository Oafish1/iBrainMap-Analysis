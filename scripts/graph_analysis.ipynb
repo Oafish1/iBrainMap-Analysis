{
 "cells": [
  {
   "cell_type": "code",
   "execution_count": 1,
   "metadata": {
    "execution": {
     "iopub.execute_input": "2023-07-13T06:40:26.417400Z",
     "iopub.status.busy": "2023-07-13T06:40:26.417242Z",
     "iopub.status.idle": "2023-07-13T06:40:26.428582Z",
     "shell.execute_reply": "2023-07-13T06:40:26.427990Z"
    }
   },
   "outputs": [],
   "source": [
    "%load_ext autoreload\n",
    "%autoreload 2"
   ]
  },
  {
   "cell_type": "code",
   "execution_count": 2,
   "metadata": {
    "execution": {
     "iopub.execute_input": "2023-07-13T06:40:26.430818Z",
     "iopub.status.busy": "2023-07-13T06:40:26.430522Z",
     "iopub.status.idle": "2023-07-13T06:40:27.436429Z",
     "shell.execute_reply": "2023-07-13T06:40:27.435960Z"
    }
   },
   "outputs": [],
   "source": [
    "import graph_tool.all as gt\n",
    "import matplotlib\n",
    "import matplotlib.pyplot as plt\n",
    "import numpy as np\n",
    "import pandas as pd\n",
    "import seaborn as sns\n",
    "\n",
    "from functions import *\n",
    "\n",
    "\n",
    "# Graph-Tool compatibility\n",
    "plt.switch_backend('cairo')\n",
    "# Style\n",
    "sns.set_theme(context='talk', style='white', palette='Set2')\n",
    "matplotlib.rcParams['pdf.fonttype'] = 42\n",
    "matplotlib.rcParams['ps.fonttype'] = 42"
   ]
  },
  {
   "attachments": {},
   "cell_type": "markdown",
   "metadata": {},
   "source": [
    "# Computation"
   ]
  },
  {
   "cell_type": "code",
   "execution_count": 3,
   "metadata": {},
   "outputs": [
    {
     "name": "stdout",
     "output_type": "stream",
     "text": [
      "M19050 Hispanic Female, 74.0, BRAAK 5.0\n",
      "M59593 Hispanic Female, 76.0, BRAAK 5.0\n",
      "M83214 Hispanic Female, 83.0, BRAAK 6.0\n",
      "M36634 Hispanic Female, 87.0, BRAAK 6.0\n"
     ]
    }
   ],
   "source": [
    "# Load metadata\n",
    "meta = get_meta()\n",
    "\n",
    "# Subject preview\n",
    "filtered = []\n",
    "for i, row in meta.iterrows():\n",
    "    try:\n",
    "        load_graph_by_id(row['SubID'])\n",
    "        assert not np.isnan(row['nps_MoodDysCurValue'])  # Has NPS\n",
    "        assert row['Sex'] == 'Female'\n",
    "        assert row['Ethnicity'] != 'White'\n",
    "    except:\n",
    "        continue\n",
    "    filtered.append(f'{row[\"SubID\"]} {row[\"Ethnicity\"]} {row[\"Sex\"]}, {row[\"Age\"]}, BRAAK {row[\"BRAAK_AD\"]}')\n",
    "for i in (2, 4, 5, 6):\n",
    "    print(filtered[i])\n",
    "\n",
    "# Parameters\n",
    "column_diff = 'att_D_AD_0_1'\n",
    "column_data = 'att_D_no_prior_0'\n",
    "coex_diff_compare_phenotype = 'nps_PsychoAgiCurValue'\n",
    "diff_data_compare_phenotype = 'nps_WtLossCurValue'\n",
    "individual_subject_ids = ['M19050', 'M59593', 'M83214', 'M36634']"
   ]
  },
  {
   "cell_type": "code",
   "execution_count": 4,
   "metadata": {
    "execution": {
     "iopub.execute_input": "2023-07-13T06:40:27.439086Z",
     "iopub.status.busy": "2023-07-13T06:40:27.438610Z",
     "iopub.status.idle": "2023-07-13T06:42:22.841017Z",
     "shell.execute_reply": "2023-07-13T06:42:22.840281Z"
    }
   },
   "outputs": [],
   "source": [
    "# Compute individual graphs\n",
    "coex_g_individuals = [cull_isolated_leaves(compute_graph(scale_edge_coefs_list(load_graph_by_id(individual_subject_ids[i], source='coexpression'), 1./60), filter=.9)) for i in range(len(individual_subject_ids))]\n",
    "diff_g_individuals = [compute_graph(load_graph_by_id(individual_subject_ids[i], column=column_diff)) for i in range(len(individual_subject_ids))]\n",
    "data_g_individuals = [compute_graph(load_graph_by_id(individual_subject_ids[i], column=column_data)) for i in range(len(individual_subject_ids))]"
   ]
  },
  {
   "cell_type": "markdown",
   "metadata": {},
   "source": [
    "# Plots"
   ]
  },
  {
   "cell_type": "markdown",
   "metadata": {},
   "source": [
    "### Coex Individual Trio Comparison"
   ]
  },
  {
   "cell_type": "code",
   "execution_count": 5,
   "metadata": {},
   "outputs": [
    {
     "name": "stdout",
     "output_type": "stream",
     "text": [
      "Removing duplicate edges...\n"
     ]
    },
    {
     "name": "stderr",
     "output_type": "stream",
     "text": [
      "100%|██████████████████████████████████████████████████████████████████████████| 14459/14459 [00:00<00:00, 20642.26it/s]\n"
     ]
    },
    {
     "name": "stdout",
     "output_type": "stream",
     "text": [
      "Collecting edges...\n"
     ]
    },
    {
     "name": "stderr",
     "output_type": "stream",
     "text": [
      "100%|██████████████████████████████████████████████████████████████████████████| 11096/11096 [00:00<00:00, 54996.41it/s]\n"
     ]
    },
    {
     "name": "stdout",
     "output_type": "stream",
     "text": [
      "Calculating positions...\n"
     ]
    },
    {
     "name": "stderr",
     "output_type": "stream",
     "text": [
      "/tmp/ipykernel_995/1027392146.py:18: UserWarning: The figure layout has changed to tight\n",
      "  plt.tight_layout()\n"
     ]
    }
   ],
   "source": [
    "# Choose three graphs\n",
    "graphs = coex_g_individuals[:3]\n",
    "graphs_subject_ids = individual_subject_ids[:3]\n",
    "\n",
    "# Create figure\n",
    "fig, axs = get_mosaic([list(range(len(graphs)+1))], scale=9)\n",
    "\n",
    "# Compute edge summaries\n",
    "df, concatenated_graph = compute_edge_summary(graphs=graphs, subject_ids=graphs_subject_ids)\n",
    "\n",
    "# Show individual graph comparisons\n",
    "g = plot_graph_comparison(graphs, concatenated_graph=concatenated_graph, axs=axs, subject_ids=graphs_subject_ids)\n",
    "\n",
    "# Show edge summary\n",
    "plot_edge_summary(graphs, df=df, ax=axs[len(graphs)], subject_ids=graphs_subject_ids)\n",
    "\n",
    "# Save figure\n",
    "plt.tight_layout()\n",
    "fig.savefig(f'../plots/CoexIndividualTrioComparison.pdf', format='pdf', transparent=True, backend='cairo')"
   ]
  },
  {
   "cell_type": "markdown",
   "metadata": {},
   "source": [
    "### Individual Trio Comparison"
   ]
  },
  {
   "cell_type": "code",
   "execution_count": 6,
   "metadata": {},
   "outputs": [
    {
     "name": "stdout",
     "output_type": "stream",
     "text": [
      "Removing duplicate edges...\n"
     ]
    },
    {
     "name": "stderr",
     "output_type": "stream",
     "text": [
      "100%|████████████████████████████████████████████████████████████████████████████| 3100/3100 [00:00<00:00, 76408.41it/s]\n"
     ]
    },
    {
     "name": "stdout",
     "output_type": "stream",
     "text": [
      "Collecting edges...\n"
     ]
    },
    {
     "name": "stderr",
     "output_type": "stream",
     "text": [
      "100%|████████████████████████████████████████████████████████████████████████████| 2200/2200 [00:00<00:00, 57177.45it/s]\n"
     ]
    },
    {
     "name": "stdout",
     "output_type": "stream",
     "text": [
      "Calculating positions...\n"
     ]
    },
    {
     "name": "stderr",
     "output_type": "stream",
     "text": [
      "/tmp/ipykernel_995/1518908005.py:18: UserWarning: The figure layout has changed to tight\n",
      "  plt.tight_layout()\n"
     ]
    }
   ],
   "source": [
    "# Choose three graphs\n",
    "graphs = data_g_individuals[:3]\n",
    "graphs_subject_ids = individual_subject_ids[:3]\n",
    "\n",
    "# Create figure\n",
    "fig, axs = get_mosaic([list(range(len(graphs)+1))], scale=9)\n",
    "\n",
    "# Compute edge summaries\n",
    "df, concatenated_graph = compute_edge_summary(graphs=graphs, subject_ids=graphs_subject_ids)\n",
    "\n",
    "# Show individual graph comparisons\n",
    "plot_graph_comparison(graphs, concatenated_graph=concatenated_graph, axs=axs, subject_ids=graphs_subject_ids)\n",
    "\n",
    "# Show edge summary\n",
    "plot_edge_summary(graphs, df=df, ax=axs[len(graphs)], subject_ids=graphs_subject_ids)\n",
    "\n",
    "# Save figure\n",
    "plt.tight_layout()\n",
    "fig.savefig(f'../plots/IndividualTrioComparison.pdf', format='pdf', transparent=True, backend='cairo')"
   ]
  },
  {
   "cell_type": "markdown",
   "metadata": {},
   "source": [
    "### Aggregate Trio Comparison"
   ]
  },
  {
   "cell_type": "code",
   "execution_count": 7,
   "metadata": {},
   "outputs": [
    {
     "name": "stdout",
     "output_type": "stream",
     "text": [
      "Removing duplicate edges...\n"
     ]
    },
    {
     "name": "stderr",
     "output_type": "stream",
     "text": [
      "100%|█████████████████████████████████████████████████████████████████████████| 187003/187003 [00:29<00:00, 6364.90it/s]\n"
     ]
    },
    {
     "name": "stdout",
     "output_type": "stream",
     "text": [
      "Removing duplicate edges...\n"
     ]
    },
    {
     "name": "stderr",
     "output_type": "stream",
     "text": [
      "100%|██████████████████████████████████████████████████████████████████████████| 63192/63192 [00:05<00:00, 12598.02it/s]\n"
     ]
    },
    {
     "name": "stdout",
     "output_type": "stream",
     "text": [
      "Removing duplicate edges...\n"
     ]
    },
    {
     "name": "stderr",
     "output_type": "stream",
     "text": [
      "100%|███████████████████████████████████████████████████████████████████████████| 74862/74862 [00:20<00:00, 3677.98it/s]\n"
     ]
    },
    {
     "name": "stdout",
     "output_type": "stream",
     "text": [
      "Calculating positions...\n",
      "Collecting edges...\n"
     ]
    },
    {
     "name": "stderr",
     "output_type": "stream",
     "text": [
      "100%|██████████████████████████████████████████████████████████████████████████| 50922/50922 [00:03<00:00, 15248.42it/s]\n"
     ]
    },
    {
     "name": "stdout",
     "output_type": "stream",
     "text": [
      "Collecting edges...\n"
     ]
    },
    {
     "name": "stderr",
     "output_type": "stream",
     "text": [
      "100%|██████████████████████████████████████████████████████████████████████████| 23940/23940 [00:00<00:00, 30584.85it/s]\n",
      "/tmp/ipykernel_995/11557670.py:21: UserWarning: The figure layout has changed to tight\n",
      "  plt.tight_layout()\n"
     ]
    }
   ],
   "source": [
    "# Parameters\n",
    "contrast = 'c01x'\n",
    "column = column_diff\n",
    "\n",
    "# Create figure\n",
    "fig, axs = get_mosaic([list(range(len(get_contrast(contrast))+1))], scale=9)\n",
    "\n",
    "# Compute aggregate edge summaries\n",
    "contrast_group = compute_aggregate_edge_summary(get_contrast(contrast), column=column_diff)\n",
    "\n",
    "# Plot graph comparison\n",
    "plot_graph_comparison(\n",
    "    graphs=[v for k, v in contrast_group[0].items()],\n",
    "    subject_ids=[k for k, v in contrast_group[1].items()],\n",
    "    axs=[axs[i] for i in range(len(get_contrast(contrast)))])\n",
    "\n",
    "# Plot edge summary for subgroups\n",
    "plot_aggregate_edge_summary(ax=axs[len(get_contrast(contrast))], contrast=contrast_group)\n",
    "\n",
    "# Save figure\n",
    "plt.tight_layout()\n",
    "fig.savefig(f'../plots/AggregateTrioComparison.pdf', format='pdf', transparent=True, backend='cairo')"
   ]
  },
  {
   "cell_type": "markdown",
   "metadata": {},
   "source": [
    "##### Linkage Analysis"
   ]
  },
  {
   "cell_type": "code",
   "execution_count": 11,
   "metadata": {},
   "outputs": [
    {
     "name": "stderr",
     "output_type": "stream",
     "text": [
      "100%|██████████████████████████████████████████████████████████████████████████| 50922/50922 [00:01<00:00, 29009.67it/s]\n",
      "100%|██████████████████████████████████████████████████████████████████████████| 23940/23940 [00:00<00:00, 51391.97it/s]\n"
     ]
    }
   ],
   "source": [
    "# Record edge instances\n",
    "# df = pd.DataFrame(columns=['Edge', 'Subgroup', 'Count'])\n",
    "df = {k: [] for k in ['Edge', 'Subgroup', 'Count']}\n",
    "for subgroup in contrast_group[0]:\n",
    "    g = contrast_group[0][subgroup]\n",
    "    for e in tqdm(g.edges(), total=g.num_edges()):\n",
    "        coefs = g.ep.coefs[e]\n",
    "        row = [get_edge_string(g, e), subgroup, sum([c!=0 for c in coefs])]\n",
    "        # df.loc[df.shape[0]] = row  # Slow\n",
    "        for k, v in zip(df, row):\n",
    "            df[k].append(v)\n",
    "df = pd.DataFrame(df)\n",
    "\n",
    "# Get edge counts\n",
    "count_table = df.pivot(index='Edge', columns='Subgroup', values='Count')\n",
    "count_table = count_table.fillna(0)\n",
    "# Max scale for fairness\n",
    "for subgroup in contrast_group[0]:\n",
    "    count_table[subgroup] /= count_table[subgroup].max()\n",
    "# Compute differences\n",
    "# TODO: REVISE DIFFERENCE METRIC\n",
    "count_table['Difference'] = count_table['AD'] - count_table['Control']\n",
    "count_table['Range'] = count_table.max(axis=1) - count_table.min(axis=1)\n",
    "\n",
    "# Get list of linkages by significance\n",
    "open(f'../plots/AggregateTrioComparisonList.txt', 'w').close()\n",
    "for i in np.unique(count_table['Difference'])[::-1]:\n",
    "    condition = (count_table['Difference'] == i)\n",
    "    significant_edges = list(count_table.loc[condition].index)\n",
    "    synthetic_genes = np.concatenate([detect_synthetic_vertices_graph(contrast_group[0][subgroup]) for subgroup in contrast_group[0]])\n",
    "    try: significant_genes = np.concatenate([e.split('--') for e in significant_edges])\n",
    "    except: significant_genes = []\n",
    "    significant_genes = np.unique([g for g in significant_genes if g not in synthetic_genes])\n",
    "\n",
    "    # Print significant genes\n",
    "    if len(significant_genes) > 0:\n",
    "        with open(f'../plots/AggregateTrioComparisonList.txt', 'a') as f:\n",
    "            print(f'--- {i} ---', file=f)\n",
    "            for g in significant_genes:\n",
    "                print(g, file=f)\n",
    "            print(file=f)"
   ]
  },
  {
   "cell_type": "markdown",
   "metadata": {},
   "source": [
    "### Differentially Expressed Edges"
   ]
  },
  {
   "cell_type": "code",
   "execution_count": null,
   "metadata": {},
   "outputs": [],
   "source": [
    "# # TODO: Fix nodes cutting off\n",
    "# # Plot total and subplots for aggregate differences\n",
    "# for prefix, individuals in zip(('diff', 'data'), (diff_g_individuals, data_g_individuals)):\n",
    "#     plt.clf()\n",
    "#     concat = concatenate_graphs(*individuals)\n",
    "#     concat = get_intersection(concat)\n",
    "#     concat = cull_isolated_leaves(concat)\n",
    "#     concat = remove_text_by_centrality(concat)\n",
    "#     concat = color_by_significance(concat)\n",
    "#     visualize_graph(concat)\n",
    "#     plt.gca().axis('off')\n",
    "#     plt.tight_layout()\n",
    "#     plt.savefig(f'../plots/{prefix}_concat.pdf', format='pdf', transparent=True, backend='cairo')\n",
    "\n",
    "#     # Show all subsets of graph by cell type\n",
    "#     for v_name in detect_synthetic_vertices_graph(concat):\n",
    "#         plt.clf()\n",
    "#         subset = subset_by_hub(concat, [v_name])\n",
    "#         visualize_graph(subset)\n",
    "#         plt.gca().axis('off')\n",
    "#         plt.tight_layout()\n",
    "#         plt.savefig(f'../plots/{prefix}_concat_{v_name}.pdf', format='pdf', transparent=True, backend='cairo')"
   ]
  },
  {
   "cell_type": "markdown",
   "metadata": {},
   "source": [
    "### Enrichment"
   ]
  },
  {
   "cell_type": "code",
   "execution_count": null,
   "metadata": {},
   "outputs": [],
   "source": [
    "# from functions.plotting import plot_enrichment\n",
    "\n",
    "# # Generate fake enrichment data\n",
    "# import itertools\n",
    "# # Get columns\n",
    "# cell_type = ['OPC', 'Micro', 'Oligo', 'Endo']\n",
    "# disease = ['Alzheimer\\'s Disease', 'Schizophrenia', 'Bipolar Disorder', 'A', 'B', 'C', 'D', 'E', 'F', 'G']\n",
    "# combined = [val for val in itertools.product(cell_type, disease)]\n",
    "# cell_type = [val[0] for val in combined]\n",
    "# disease = [val[1] for val in combined]\n",
    "# # Get significance\n",
    "# np.random.seed(42)\n",
    "# significance = np.exp(-8 * np.random.rand(len(combined)))\n",
    "# # Combine\n",
    "# df = pd.DataFrame({'cell_type': cell_type, 'disease': disease, 'significance': significance})\n",
    "# df = df.loc[df['significance'] < 5e-2]\n",
    "\n",
    "# # Rename\n",
    "# df = df.rename(columns={'cell_type': 'Cell Type', 'disease': 'Disease'})\n",
    "# # Add significance scale\n",
    "# df['-log10(p)'] = -np.log10(df['significance'])\n",
    "# plt.clf()\n",
    "# plot_enrichment(df)\n",
    "# plt.tight_layout()\n",
    "# plt.savefig(f'../plots/enrichment.pdf', format='pdf', transparent=True, backend='cairo')"
   ]
  },
  {
   "cell_type": "markdown",
   "metadata": {},
   "source": [
    "### Individual Edge Comparison"
   ]
  },
  {
   "cell_type": "code",
   "execution_count": null,
   "metadata": {},
   "outputs": [],
   "source": [
    "# # NOTE: Manually annotate individual points/genes of interest\n",
    "# for prefix, individuals in zip(('diff', 'data'), (diff_g_individuals, data_g_individuals)):\n",
    "#     # Get graph\n",
    "#     sample_ids = individual_sample_ids[:len(individuals)]\n",
    "#     g = concatenate_graphs(*individuals)\n",
    "#     g = get_intersection(g)\n",
    "#     g = cull_isolated_leaves(g)\n",
    "\n",
    "#     plt.clf()\n",
    "#     df = plot_individual_edge_comparison(g, sample_ids)\n",
    "#     plt.tight_layout()\n",
    "#     plt.savefig(f'../plots/{prefix}_edge_comparison.pdf', format='pdf', transparent=True, backend='cairo')"
   ]
  },
  {
   "cell_type": "markdown",
   "metadata": {},
   "source": [
    "### Legend"
   ]
  },
  {
   "cell_type": "code",
   "execution_count": null,
   "metadata": {},
   "outputs": [
    {
     "name": "stderr",
     "output_type": "stream",
     "text": [
      "/tmp/ipykernel_924/3582710711.py:5: UserWarning: The figure layout has changed to tight\n",
      "  plt.tight_layout()\n"
     ]
    }
   ],
   "source": [
    "# Plot legend\n",
    "plt.clf()\n",
    "plot_legend()\n",
    "plt.gca().axis('off')\n",
    "plt.tight_layout()\n",
    "plt.savefig(f'../plots/legend.pdf', format='pdf', transparent=True, backend='cairo')"
   ]
  }
 ],
 "metadata": {
  "kernelspec": {
   "display_name": "GNN",
   "language": "python",
   "name": "gnn"
  },
  "language_info": {
   "codemirror_mode": {
    "name": "ipython",
    "version": 3
   },
   "file_extension": ".py",
   "mimetype": "text/x-python",
   "name": "python",
   "nbconvert_exporter": "python",
   "pygments_lexer": "ipython3",
   "version": "3.11.4"
  }
 },
 "nbformat": 4,
 "nbformat_minor": 2
}
