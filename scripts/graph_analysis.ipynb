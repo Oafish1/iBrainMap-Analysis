{
 "cells": [
  {
   "cell_type": "code",
   "execution_count": 1,
   "metadata": {
    "execution": {
     "iopub.execute_input": "2023-07-13T06:40:26.417400Z",
     "iopub.status.busy": "2023-07-13T06:40:26.417242Z",
     "iopub.status.idle": "2023-07-13T06:40:26.428582Z",
     "shell.execute_reply": "2023-07-13T06:40:26.427990Z"
    }
   },
   "outputs": [],
   "source": [
    "%load_ext autoreload\n",
    "%autoreload 2\n",
    "%matplotlib inline\n",
    "%matplotlib notebook\n"
   ]
  },
  {
   "cell_type": "code",
   "execution_count": 2,
   "metadata": {
    "execution": {
     "iopub.execute_input": "2023-07-13T06:40:26.430818Z",
     "iopub.status.busy": "2023-07-13T06:40:26.430522Z",
     "iopub.status.idle": "2023-07-13T06:40:27.436429Z",
     "shell.execute_reply": "2023-07-13T06:40:27.435960Z"
    }
   },
   "outputs": [],
   "source": [
    "import os\n",
    "\n",
    "import graph_tool.all as gt\n",
    "import matplotlib\n",
    "from matplotlib.colors import LogNorm\n",
    "import matplotlib.pyplot as plt\n",
    "import numpy as np\n",
    "import pandas as pd\n",
    "import seaborn as sns\n",
    "\n",
    "from functions import *\n",
    "\n",
    "\n",
    "# Graph-Tool compatibility\n",
    "plt.switch_backend('cairo')\n",
    "# Style\n",
    "sns.set_theme(context='talk', style='white', palette='Set2')\n",
    "matplotlib.rcParams['pdf.fonttype'] = 42\n",
    "matplotlib.rcParams['ps.fonttype'] = 42\n"
   ]
  },
  {
   "attachments": {},
   "cell_type": "markdown",
   "metadata": {},
   "source": [
    "# Meta and Parameters"
   ]
  },
  {
   "cell_type": "code",
   "execution_count": 3,
   "metadata": {},
   "outputs": [
    {
     "name": "stderr",
     "output_type": "stream",
     "text": [
      "/mnt/c/Users/nck/repos/GNN-Plus/Attention Analysis/scripts/functions/file.py:108: DtypeWarning: Columns (5,157,158,159,161,164,165,166,167,170,172,176,177,178,179,189,191,193,195,276,285,286,287,288,289,290,291,292,293,294,295,297,342,345,346,462,465,566,570,571,572,573,574,580,582,583,584,586,589,592,594,597,599,601,603,606,607,611,613,615,617,618,620,622,625,684,686) have mixed types. Specify dtype option on import or set low_memory=False.\n",
      "  return pd.read_csv(META)\n"
     ]
    },
    {
     "name": "stdout",
     "output_type": "stream",
     "text": [
      "M10031 AMR Male, 71.0, BRAAK 0.0\n",
      "M10282 EUR Male, 73.0, BRAAK 6.0\n",
      "M10730 EUR Female, 90.0, BRAAK 5.0\n",
      "M107983 AMR Female, 65.0, BRAAK 1.0\n",
      "M10874 EUR Female, 88.0, BRAAK 3.0\n",
      "M10886 AMR Male, 46.0, BRAAK 0.0\n",
      "M1119 EUR Female, 91.0, BRAAK 6.0\n",
      "M11371 EUR Male, 95.0, BRAAK 2.0\n",
      "M1140 EUR Female, 96.0, BRAAK 1.0\n",
      "M11588 EUR Female, 62.0, BRAAK 6.0\n",
      "M11589 AMR Female, 63.0, BRAAK 2.0\n",
      "M11716 EUR Female, 89.0, BRAAK 5.0\n",
      "M1176 EUR Female, 85.0, BRAAK 0.0\n",
      "M118449 EUR Male, 80.0, BRAAK 6.0\n",
      "M11938 EUR Female, 90.0, BRAAK 3.0\n",
      "M1198 EUR Female, 87.0, BRAAK 6.0\n",
      "M12047 EUR Female, 80.0, BRAAK 5.0\n",
      "M12249 EUR Male, 51.0, BRAAK 0.0\n",
      "M12326 EUR Female, 93.0, BRAAK 6.0\n",
      "M12479 AMR Female, 83.0, BRAAK 6.0\n",
      "M12514 EUR Female, 88.0, BRAAK 4.0\n",
      "M12614 AFR Female, 75.0, BRAAK 0.0\n",
      "M12792 EUR Female, 91.0, BRAAK 5.0\n",
      "M12876 AMR Female, 76.0, BRAAK 2.0\n",
      "M13326 EUR Male, 84.0, BRAAK 4.0\n",
      "M133696 EUR Female, 52.0, BRAAK nan\n",
      "M13458 EUR Male, 91.0, BRAAK 6.0\n",
      "M13640 EUR Female, 82.0, BRAAK 3.0\n",
      "M13670 AFR Male, 83.0, BRAAK 6.0\n",
      "M13960 EUR Male, 59.0, BRAAK 0.0\n",
      "M14748 EUR Male, 67.0, BRAAK 6.0\n",
      "M14888 EUR Female, 87.0, BRAAK 6.0\n",
      "M14947 EUR Male, 80.0, BRAAK 6.0\n",
      "M15272 EUR Male, 91.0, BRAAK 1.0\n",
      "M153 EUR Male, 90.0, BRAAK 3.0\n",
      "M15395 EUR Female, 82.0, BRAAK 3.0\n",
      "M15627 EUR Female, 69.0, BRAAK 1.0\n",
      "M16101 AFR Male, 83.0, BRAAK 6.0\n",
      "M16204 EUR Female, 84.0, BRAAK 6.0\n",
      "M16485 AMR Male, 95.0, BRAAK 2.0\n",
      "M16717 EUR Female, 89.0, BRAAK 2.0\n",
      "M16899 EUR Male, 53.0, BRAAK 0.0\n",
      "M170954 EUR Male, 80.0, BRAAK 6.0\n",
      "M1712 EUR Male, 78.0, BRAAK 6.0\n",
      "M17328 EUR Male, 56.0, BRAAK 0.0\n",
      "M174393 EAS_SAS Male, 76.0, BRAAK 4.0\n",
      "M1746 EUR Male, 62.0, BRAAK 3.0\n",
      "M17639 EUR Female, 86.0, BRAAK 4.0\n",
      "M17693 EUR Male, 92.0, BRAAK 6.0\n",
      "M17728 EUR Female, 100.0, BRAAK 6.0\n",
      "M184 EUR Female, 60.0, BRAAK 0.0\n",
      "M18518 AMR Female, 91.0, BRAAK 6.0\n",
      "M18763 EUR Female, 89.0, BRAAK 6.0\n",
      "M18768 EUR Female, 84.0, BRAAK 6.0\n",
      "M19050 EUR Female, 74.0, BRAAK 5.0\n",
      "M19193 EUR Male, 85.0, BRAAK 6.0\n",
      "M19331 AFR Female, 89.0, BRAAK 6.0\n",
      "M1943 EUR Female, 86.0, BRAAK 6.0\n",
      "M19543 EUR Female, 96.0, BRAAK 6.0\n",
      "M19551 AFR Male, 96.0, BRAAK 2.0\n",
      "M19844 AFR Female, 84.0, BRAAK 4.0\n",
      "M198964 EUR Male, 77.0, BRAAK 6.0\n",
      "M20337 EUR Male, 82.0, BRAAK 6.0\n",
      "M20356 EUR Female, 84.0, BRAAK 1.0\n",
      "M20701 AFR Male, 68.0, BRAAK 6.0\n",
      "M208073 EUR Male, 95.0, BRAAK 5.0\n",
      "M20869 EUR Female, 91.0, BRAAK 6.0\n",
      "M21046 EUR Female, 83.0, BRAAK 6.0\n",
      "M21278 EUR Female, 84.0, BRAAK 6.0\n",
      "M21530 AMR Male, 73.0, BRAAK 6.0\n",
      "M22142 AMR Male, 86.0, BRAAK 5.0\n",
      "M22175 EUR Male, 58.0, BRAAK nan\n",
      "M22176 AFR Female, 72.0, BRAAK 6.0\n",
      "M22767 EUR Female, 94.0, BRAAK 1.0\n",
      "M22921 EUR Female, 83.0, BRAAK 6.0\n",
      "M23065 EUR Female, 85.0, BRAAK 6.0\n",
      "M233549 EUR Male, 77.0, BRAAK 5.0\n",
      "M23996 AFR Female, 40.0, BRAAK 0.0\n",
      "M24227 EUR Female, 83.0, BRAAK 6.0\n",
      "M24257 EUR Female, 73.0, BRAAK 1.0\n",
      "M24410 EUR Female, 92.0, BRAAK 3.0\n",
      "M24508 EUR Male, 85.0, BRAAK 2.0\n",
      "M24905 EUR Male, 75.0, BRAAK 0.0\n",
      "M25021 EUR Female, 95.0, BRAAK 5.0\n",
      "M252323 EUR Female, 97.0, BRAAK 2.0\n",
      "M25234 EUR Female, 83.0, BRAAK 6.0\n",
      "M25557 EUR Female, 87.0, BRAAK 1.0\n",
      "M257579 AFR Male, 67.0, BRAAK 6.0\n",
      "M25895 EUR Female, 59.0, BRAAK 2.0\n",
      "M25949 EUR Male, 49.0, BRAAK 0.0\n",
      "M26229 EUR Female, 86.0, BRAAK 6.0\n",
      "M2646 EUR Female, 89.0, BRAAK 2.0\n",
      "M26727 EUR Female, 91.0, BRAAK 6.0\n",
      "M271116 EUR Female, 86.0, BRAAK 6.0\n",
      "M27221 EUR Male, 42.0, BRAAK 0.0\n",
      "M27409 AFR Female, 68.0, BRAAK 2.0\n",
      "M274293 EUR Male, 89.0, BRAAK 6.0\n",
      "M27514 EUR Male, 50.0, BRAAK nan\n",
      "M2772 EUR Female, 90.0, BRAAK 6.0\n",
      "M27813 AFR Male, 93.0, BRAAK 5.0\n",
      "M27953 EUR Female, 91.0, BRAAK 4.0\n",
      "M28034 EUR Female, 83.0, BRAAK 6.0\n",
      "M28083 EUR Female, 89.0, BRAAK 6.0\n",
      "M28167 EUR Male, 90.0, BRAAK 4.0\n",
      "M28216 EUR Female, 87.0, BRAAK 6.0\n",
      "M282520 EUR Male, 62.0, BRAAK 1.0\n",
      "M28337 AFR Male, 85.0, BRAAK 3.0\n",
      "M283783 AFR Female, 55.0, BRAAK nan\n",
      "M28379 AMR Female, 72.0, BRAAK 6.0\n",
      "M28437 AMR Female, 91.0, BRAAK 6.0\n",
      "M2851 EUR Male, 39.0, BRAAK 0.0\n",
      "M28592 EUR Male, 86.0, BRAAK 4.0\n",
      "M28892 EUR Female, 87.0, BRAAK 6.0\n",
      "M28910 EUR Female, 88.0, BRAAK 6.0\n",
      "M2899 EUR Female, 94.0, BRAAK 4.0\n",
      "M29263 AFR Female, 52.0, BRAAK 0.0\n",
      "M29582 EUR Female, 95.0, BRAAK 5.0\n",
      "M29716 EUR Male, 87.0, BRAAK 6.0\n",
      "M29898 EUR Female, 88.0, BRAAK 3.0\n",
      "M298992 EUR Female, 86.0, BRAAK 1.0\n",
      "M30199 EUR Female, 90.0, BRAAK 5.0\n",
      "M3038 AFR Male, 97.0, BRAAK 6.0\n",
      "M304882 EUR Female, 80.0, BRAAK 4.0\n",
      "M307567 AFR Female, 67.0, BRAAK 1.0\n",
      "M31079 AFR Male, 35.0, BRAAK 0.0\n",
      "M31225 AFR Male, 85.0, BRAAK 6.0\n",
      "M31556 EUR Female, 73.0, BRAAK 1.0\n",
      "M31634 EUR Female, 87.0, BRAAK 6.0\n",
      "M31660 EUR Male, 49.0, BRAAK 0.0\n",
      "M31713 EUR Female, 74.0, BRAAK 5.0\n",
      "M31726 EUR Male, 59.0, BRAAK 0.0\n",
      "M31969 EUR Male, 81.0, BRAAK 6.0\n",
      "M31998 AMR Male, 72.0, BRAAK 3.0\n",
      "M32068 EUR Female, 88.0, BRAAK 3.0\n",
      "M32270 EUR Female, 96.0, BRAAK 6.0\n",
      "M328353 EUR Male, 79.0, BRAAK 5.0\n",
      "M32995 EUR Male, 92.0, BRAAK 3.0\n",
      "M3319 EUR Female, 93.0, BRAAK 6.0\n",
      "M33390 AFR Female, 77.0, BRAAK 2.0\n",
      "M336074 EUR Male, 63.0, BRAAK 0.0\n",
      "M33690 AFR Male, 83.0, BRAAK 6.0\n",
      "M33789 AFR Male, 85.0, BRAAK 6.0\n",
      "M33868 EUR Male, 84.0, BRAAK 2.0\n",
      "M33987 EUR Male, 63.0, BRAAK 0.0\n",
      "M34015 EUR Female, 93.0, BRAAK 6.0\n",
      "M340452 AFR Male, 93.0, BRAAK 4.0\n",
      "M34070 AFR Female, 78.0, BRAAK 0.0\n",
      "M34302 EUR Male, 75.0, BRAAK 6.0\n",
      "M34371 EUR Female, 95.0, BRAAK 5.0\n",
      "M34682 EUR Female, 79.0, BRAAK 0.0\n",
      "M34815 EUR Female, 99.0, BRAAK 5.0\n",
      "M34836 AMR Male, 47.0, BRAAK 0.0\n",
      "M35096 EUR Female, 90.0, BRAAK 6.0\n",
      "M35115 EUR Female, 88.0, BRAAK 6.0\n",
      "M35312 AFR Female, 76.0, BRAAK 0.0\n",
      "M35594 EUR Female, 92.0, BRAAK 6.0\n",
      "M35609 EUR Male, 74.0, BRAAK 6.0\n",
      "M3566 EUR Female, 74.0, BRAAK 6.0\n",
      "M35723 EUR Female, 45.0, BRAAK 0.0\n",
      "M35758 EUR Male, 84.0, BRAAK 6.0\n",
      "M36047 EUR Male, 62.0, BRAAK 0.0\n",
      "M36067 EUR Female, 95.0, BRAAK 6.0\n",
      "M36388 AFR Female, 89.0, BRAAK 3.0\n",
      "M36521 EUR Female, 89.0, BRAAK 6.0\n",
      "M36615 EUR Female, 92.0, BRAAK 6.0\n",
      "M36634 EUR Female, 87.0, BRAAK 6.0\n",
      "M36915 AMR Male, 58.0, BRAAK 0.0\n",
      "M37330 EUR Female, 103.0, BRAAK 6.0\n",
      "M37684 EUR Male, 78.0, BRAAK 6.0\n",
      "M37941 EUR Male, 70.0, BRAAK 0.0\n",
      "M37960 EUR Female, 97.0, BRAAK 4.0\n",
      "M38069 EUR Female, 88.0, BRAAK 6.0\n",
      "M38686 EUR Female, 87.0, BRAAK 5.0\n",
      "M39179 EUR Male, 24.0, BRAAK 0.0\n",
      "M39233 EUR Female, 96.0, BRAAK 5.0\n",
      "M39413 EUR Male, 87.0, BRAAK 6.0\n",
      "M39480 AMR Female, 90.0, BRAAK 3.0\n",
      "M395695 EUR Female, 91.0, BRAAK 1.0\n",
      "M4009 AFR Male, 80.0, BRAAK 5.0\n",
      "M40103 EUR Female, 88.0, BRAAK 6.0\n",
      "M4030 EUR Female, 88.0, BRAAK 5.0\n",
      "M40437 AFR Male, 62.0, BRAAK 0.0\n",
      "M40584 AMR Male, 74.0, BRAAK 2.0\n",
      "M40816 AMR Male, 68.0, BRAAK 2.0\n",
      "M40820 EUR Female, 61.0, BRAAK 1.0\n",
      "M41136 AFR Female, 87.0, BRAAK 6.0\n",
      "M41299 EUR Female, 84.0, BRAAK 4.0\n",
      "M41496 AFR Female, 76.0, BRAAK 4.0\n",
      "M41531 EUR Male, 69.0, BRAAK 3.0\n",
      "M41550 EUR Female, 92.0, BRAAK 6.0\n",
      "M41581 AMR Female, 84.0, BRAAK 3.0\n",
      "M41812 EUR Male, 72.0, BRAAK 3.0\n",
      "M41832 EUR Male, 70.0, BRAAK 1.0\n",
      "M41973 EAS Female, 84.0, BRAAK 6.0\n",
      "M42044 EUR Female, 80.0, BRAAK 5.0\n",
      "M42055 EUR Female, 85.0, BRAAK 2.0\n",
      "M42557 EUR Male, 82.0, BRAAK 2.0\n",
      "M42769 EUR Male, 84.0, BRAAK 3.0\n",
      "M433060 EUR Female, 93.0, BRAAK 6.0\n",
      "M43315 EUR Female, 89.0, BRAAK 6.0\n",
      "M43351 EUR Male, 67.0, BRAAK 6.0\n",
      "M43479 EUR Male, 73.0, BRAAK 2.0\n",
      "M437907 EUR Female, 94.0, BRAAK 5.0\n",
      "M439 EUR Female, 90.0, BRAAK 6.0\n",
      "M44145 EUR Male, 76.0, BRAAK 0.0\n",
      "M44223 EUR Male, 87.0, BRAAK 6.0\n",
      "M44456 EUR Female, 92.0, BRAAK 6.0\n",
      "M44475 AMR Female, 86.0, BRAAK 5.0\n",
      "M44532 AMR Female, 90.0, BRAAK 5.0\n",
      "M4458 AMR Female, 91.0, BRAAK 5.0\n",
      "M44657 AFR Female, 94.0, BRAAK 5.0\n",
      "M44785 EUR Female, 103.0, BRAAK 6.0\n",
      "M44790 EUR Female, 92.0, BRAAK 6.0\n",
      "M44835 EUR Male, 80.0, BRAAK 6.0\n",
      "M44889 EUR Male, 80.0, BRAAK 3.0\n",
      "M44958 EUR Female, 93.0, BRAAK 2.0\n",
      "M45801 AFR Female, 86.0, BRAAK 6.0\n",
      "M46112 EUR Female, 95.0, BRAAK 6.0\n",
      "M46196 AFR Female, 80.0, BRAAK 6.0\n",
      "M46265 EUR Male, 100.0, BRAAK 6.0\n",
      "M46660 EUR Male, 48.0, BRAAK 0.0\n",
      "M47108 EUR Female, 90.0, BRAAK 6.0\n",
      "M47207 EUR Female, 96.0, BRAAK 2.0\n",
      "M47503 EUR Female, 88.0, BRAAK 6.0\n",
      "M47636 EUR Male, 89.0, BRAAK 6.0\n",
      "M47666 EUR Female, 28.0, BRAAK 0.0\n",
      "M47734 AFR Male, 69.0, BRAAK 1.0\n",
      "M47819 EUR Male, 78.0, BRAAK 2.0\n",
      "M48016 EUR Male, 86.0, BRAAK 6.0\n",
      "M48223 EUR Male, 48.0, BRAAK 0.0\n",
      "M48247 AFR Female, 95.0, BRAAK 6.0\n",
      "M48528 EUR Female, 81.0, BRAAK 3.0\n",
      "M48725 EUR Male, 74.0, BRAAK 6.0\n",
      "M49254 EUR Male, 83.0, BRAAK 4.0\n",
      "M49401 EUR Female, 90.0, BRAAK 6.0\n",
      "M49781 EUR Female, 81.0, BRAAK 5.0\n",
      "M49935 AFR Female, 89.0, BRAAK 3.0\n",
      "M49998 EUR Male, 52.0, BRAAK 0.0\n",
      "M50086 EUR Female, 87.0, BRAAK 3.0\n",
      "M50146 AMR Male, 84.0, BRAAK 0.0\n",
      "M503571 AMR Female, 81.0, BRAAK 2.0\n",
      "M50580 EUR Female, 80.0, BRAAK 2.0\n",
      "M50743 AFR Female, 92.0, BRAAK 6.0\n",
      "M508462 EUR Female, 106.0, BRAAK 5.0\n",
      "M50861 EUR Female, 81.0, BRAAK 6.0\n",
      "M50902 EUR Male, 87.0, BRAAK 5.0\n",
      "M5101 EUR Male, 31.0, BRAAK 0.0\n",
      "M51024 EUR Male, 38.0, BRAAK 0.0\n",
      "M51093 EUR Male, 74.0, BRAAK 6.0\n",
      "M51374 AFR Female, 72.0, BRAAK 2.0\n",
      "M514468 EUR Male, 58.0, BRAAK 6.0\n",
      "M52649 AFR Female, 79.0, BRAAK 3.0\n",
      "M52730 EUR Female, 73.0, BRAAK 6.0\n",
      "M52897 EUR Female, 103.0, BRAAK 6.0\n",
      "M5301 EUR Female, 88.0, BRAAK 4.0\n",
      "M5323 AMR Female, 91.0, BRAAK 6.0\n",
      "M53390 EUR Female, 91.0, BRAAK 6.0\n",
      "M53661 AMR Female, 85.0, BRAAK 3.0\n",
      "M53706 EUR Female, 79.0, BRAAK 1.0\n",
      "M53805 EUR Female, 41.0, BRAAK 0.0\n",
      "M54150 EUR Female, 94.0, BRAAK 1.0\n",
      "M55015 EUR Male, 61.0, BRAAK 0.0\n",
      "M56009 AFR Female, 92.0, BRAAK 4.0\n",
      "M56019 AFR Female, 97.0, BRAAK 4.0\n",
      "M56024 EUR Female, 99.0, BRAAK 6.0\n",
      "M56039 EUR Female, 90.0, BRAAK 6.0\n",
      "M56216 EUR Female, 91.0, BRAAK 6.0\n",
      "M56219 AMR Male, 58.0, BRAAK 0.0\n",
      "M56356 EUR Female, 79.0, BRAAK 2.0\n",
      "M56398 EUR Male, 99.0, BRAAK 3.0\n",
      "M56469 EUR Female, 20.0, BRAAK 0.0\n",
      "M56537 EUR Male, 84.0, BRAAK 6.0\n",
      "M56577 EUR Male, 86.0, BRAAK 4.0\n",
      "M56783 EUR Female, 83.0, BRAAK 6.0\n",
      "M569564 EUR Female, 76.0, BRAAK 6.0\n",
      "M57064 AFR Female, 98.0, BRAAK 4.0\n",
      "M571120 AMR Male, 66.0, BRAAK 1.0\n",
      "M57242 EUR Female, 85.0, BRAAK 1.0\n",
      "M57296 EUR Male, 80.0, BRAAK 5.0\n",
      "M576228 EUR Male, 72.0, BRAAK 1.0\n",
      "M57809 EUR Male, 74.0, BRAAK 6.0\n",
      "M58071 AMR Female, 90.0, BRAAK 4.0\n",
      "M580893 EUR Male, 69.0, BRAAK 2.0\n",
      "M58301 EUR Male, 60.0, BRAAK 1.0\n",
      "M58534 EUR Male, 86.0, BRAAK 6.0\n",
      "M587421 AMR Female, 76.0, BRAAK 5.0\n",
      "M5883 EUR Female, 87.0, BRAAK 6.0\n",
      "M59029 EUR Male, 82.0, BRAAK 4.0\n",
      "M59593 AMR Female, 76.0, BRAAK 5.0\n",
      "M59697 AFR Female, 90.0, BRAAK 3.0\n",
      "M59796 AFR Female, 90.0, BRAAK 4.0\n",
      "M598564 AMR Female, 84.0, BRAAK 6.0\n",
      "M59910 EUR Male, 82.0, BRAAK 6.0\n",
      "M60407 EUR Male, 96.0, BRAAK 5.0\n",
      "M60654 EUR Male, 88.0, BRAAK 5.0\n",
      "M6080 EUR Female, 90.0, BRAAK 6.0\n",
      "M60935 EUR Male, 80.0, BRAAK 6.0\n",
      "M60955 EUR Female, 82.0, BRAAK 6.0\n",
      "M61350 AFR Female, 85.0, BRAAK 6.0\n",
      "M614558 AMR Female, 41.0, BRAAK 0.0\n",
      "M61517 EUR Female, 94.0, BRAAK 6.0\n",
      "M61563 EUR Male, 76.0, BRAAK 6.0\n",
      "M6160 EUR Male, 93.0, BRAAK 6.0\n",
      "M6161 AFR Male, 79.0, BRAAK 6.0\n",
      "M61631 EUR Female, 85.0, BRAAK 4.0\n",
      "M61862 AFR Female, 79.0, BRAAK 6.0\n",
      "M619781 EUR Male, 88.0, BRAAK 5.0\n",
      "M62439 AMR Male, 88.0, BRAAK 3.0\n",
      "M62474 AFR Female, 81.0, BRAAK 6.0\n",
      "M62918 EUR Male, 56.0, BRAAK 0.0\n",
      "M62967 EUR Male, 43.0, BRAAK 0.0\n",
      "M63213 AFR Female, 78.0, BRAAK 6.0\n",
      "M6344 EUR Male, 64.0, BRAAK 0.0\n",
      "M63628 EUR Male, 71.0, BRAAK 2.0\n",
      "M638682 EUR Male, 64.0, BRAAK 1.0\n",
      "M63941 AMR Male, 35.0, BRAAK 0.0\n",
      "M64012 EUR Female, 87.0, BRAAK 6.0\n",
      "M6411 EUR Female, 92.0, BRAAK 6.0\n",
      "M643271 EUR Female, 56.0, BRAAK 6.0\n",
      "M64456 AMR Female, 79.0, BRAAK 6.0\n",
      "M64526 EUR Female, 75.0, BRAAK 6.0\n",
      "M64693 EUR Female, 86.0, BRAAK 6.0\n",
      "M64886 EUR Female, 67.0, BRAAK 0.0\n",
      "M64891 EUR Male, 68.0, BRAAK 6.0\n",
      "M65019 EUR Female, 49.0, BRAAK 0.0\n",
      "M651234 EUR Male, 55.0, BRAAK nan\n",
      "M651299 EUR Male, 73.0, BRAAK 6.0\n",
      "M652464 EUR Female, 70.0, BRAAK 0.0\n",
      "M6559 EUR Female, 94.0, BRAAK 3.0\n",
      "M65832 EUR Female, 83.0, BRAAK 6.0\n",
      "M66132 EUR Female, 89.0, BRAAK 2.0\n",
      "M66423 EUR Female, 91.0, BRAAK 6.0\n",
      "M6643 EUR Male, 80.0, BRAAK 5.0\n",
      "M66795 EUR Female, 96.0, BRAAK 5.0\n",
      "M66858 EUR Female, 92.0, BRAAK 4.0\n",
      "M66936 EUR Male, 66.0, BRAAK 2.0\n",
      "M670567 EUR Female, 60.0, BRAAK 6.0\n",
      "M67351 AMR Female, 88.0, BRAAK 2.0\n",
      "M67652 EUR Female, 80.0, BRAAK 6.0\n",
      "M67720 EAS Male, 93.0, BRAAK 0.0\n",
      "M67782 AMR Female, 90.0, BRAAK 6.0\n",
      "M67819 EUR Female, 93.0, BRAAK 3.0\n",
      "M67883 EUR Female, 93.0, BRAAK 5.0\n",
      "M67937 EUR Female, 100.0, BRAAK 6.0\n",
      "M686452 EUR Male, 90.0, BRAAK 6.0\n",
      "M69009 EUR Male, 60.0, BRAAK nan\n",
      "M69155 EUR Male, 72.0, BRAAK 5.0\n",
      "M69259 EUR Female, 93.0, BRAAK 3.0\n",
      "M6976 EUR Female, 95.0, BRAAK 4.0\n",
      "M69779 EUR Male, 74.0, BRAAK 1.0\n",
      "M69984 AFR Male, 75.0, BRAAK 1.0\n",
      "M70195 EUR Female, 59.0, BRAAK 5.0\n",
      "M70235 EUR Female, 84.0, BRAAK 6.0\n",
      "M70314 EUR Male, 38.0, BRAAK 0.0\n",
      "M70362 AMR Female, 81.0, BRAAK 6.0\n",
      "M7105 EUR Male, 87.0, BRAAK 6.0\n",
      "M71187 AFR Male, 92.0, BRAAK 3.0\n",
      "M71238 EUR Male, 69.0, BRAAK 1.0\n",
      "M71602 EUR Male, 66.0, BRAAK 1.0\n",
      "M71719 AMR Male, 73.0, BRAAK 4.0\n",
      "M72079 AFR Female, 64.0, BRAAK 6.0\n",
      "M723187 EUR Male, 68.0, BRAAK 5.0\n",
      "M72548 EUR Male, 82.0, BRAAK 3.0\n",
      "M72578 EUR Female, 105.0, BRAAK 6.0\n",
      "M7283 AMR Female, 79.0, BRAAK 3.0\n",
      "M73007 EUR Female, 97.0, BRAAK 6.0\n",
      "M732693 EUR Female, 73.0, BRAAK 1.0\n",
      "M73293 EUR Female, 93.0, BRAAK 4.0\n",
      "M73342 AFR Female, 62.0, BRAAK 0.0\n",
      "M7353 EUR Female, 97.0, BRAAK 6.0\n",
      "M73574 EUR Female, 65.0, BRAAK 6.0\n",
      "M73652 EUR Female, 83.0, BRAAK 6.0\n",
      "M73787 EUR Male, 66.0, BRAAK 2.0\n",
      "M7437 EUR Female, 86.0, BRAAK 6.0\n",
      "M745106 EUR Male, 80.0, BRAAK 5.0\n",
      "M74881 EUR Male, 90.0, BRAAK 6.0\n",
      "M75093 EUR Female, 78.0, BRAAK 2.0\n",
      "M75757 AMR Male, 70.0, BRAAK 1.0\n",
      "M75954 EUR Male, 74.0, BRAAK 6.0\n",
      "M75979 AFR Male, 36.0, BRAAK 0.0\n",
      "M76268 AFR Female, 70.0, BRAAK 2.0\n",
      "M76286 EUR Male, 70.0, BRAAK 6.0\n",
      "M76365 EUR Female, 88.0, BRAAK 6.0\n",
      "M7649 EUR Female, 95.0, BRAAK 6.0\n",
      "M76512 EUR Male, 92.0, BRAAK 6.0\n",
      "M7667 EUR Male, 41.0, BRAAK 0.0\n",
      "M76678 AMR Male, 84.0, BRAAK 3.0\n",
      "M76897 EUR Female, 93.0, BRAAK 6.0\n",
      "M77061 AMR Female, 89.0, BRAAK 6.0\n",
      "M77139 EUR Female, 81.0, BRAAK 6.0\n",
      "M77159 EUR Male, 79.0, BRAAK 3.0\n",
      "M77445 EUR Female, 92.0, BRAAK 5.0\n",
      "M77479 EUR Female, 93.0, BRAAK 6.0\n",
      "M77549 EUR Male, 93.0, BRAAK 2.0\n",
      "M77740 AFR Male, 83.0, BRAAK 6.0\n",
      "M79245 EUR Male, 64.0, BRAAK 0.0\n",
      "M793497 EUR Female, 66.0, BRAAK 1.0\n",
      "M79736 EUR Male, 93.0, BRAAK 4.0\n",
      "M79891 EUR Female, 82.0, BRAAK 6.0\n",
      "M79926 EUR Female, 88.0, BRAAK 6.0\n",
      "M79989 EUR Female, 80.0, BRAAK 6.0\n",
      "M80297 AMR Male, 85.0, BRAAK 6.0\n",
      "M80700 EUR Male, 64.0, BRAAK 0.0\n",
      "M80803 EUR Female, 88.0, BRAAK 6.0\n",
      "M808460 AMR Male, 66.0, BRAAK 1.0\n",
      "M80875 AMR Male, 83.0, BRAAK 1.0\n",
      "M81015 EUR Female, 90.0, BRAAK 4.0\n",
      "M8105 AMR Female, 57.0, BRAAK 1.0\n",
      "M81065 EUR Male, 42.0, BRAAK 0.0\n",
      "M81548 AMR Female, 64.0, BRAAK 2.0\n",
      "M81562 EUR Female, 97.0, BRAAK 6.0\n",
      "M81616 EUR Male, 84.0, BRAAK 2.0\n",
      "M8176 EUR Female, 87.0, BRAAK 6.0\n",
      "M81804 EUR Female, 72.0, BRAAK 6.0\n",
      "M81898 EUR Female, 94.0, BRAAK 6.0\n",
      "M82158 EUR Female, 86.0, BRAAK 6.0\n",
      "M82228 EUR Female, 102.0, BRAAK 6.0\n",
      "M82307 EUR Male, 98.0, BRAAK 3.0\n",
      "M82391 EUR Male, 92.0, BRAAK 2.0\n",
      "M82712 EUR Male, 84.0, BRAAK 6.0\n",
      "M82984 EUR Female, 97.0, BRAAK 4.0\n",
      "M83136 EUR Male, 85.0, BRAAK 5.0\n",
      "M83214 AMR Female, 83.0, BRAAK 6.0\n",
      "M837246 AFR Female, 85.0, BRAAK 6.0\n",
      "M83910 AMR Female, 71.0, BRAAK 3.0\n",
      "M84161 EUR Female, 99.0, BRAAK 5.0\n",
      "M84521 EUR Male, 87.0, BRAAK 3.0\n",
      "M84538 EUR Female, 99.0, BRAAK 2.0\n",
      "M84955 EUR Female, 85.0, BRAAK 5.0\n",
      "M85168 EUR Male, 94.0, BRAAK 6.0\n",
      "M85730 EUR Female, 93.0, BRAAK 6.0\n",
      "M85824 EUR Female, 65.0, BRAAK 6.0\n",
      "M86050 EUR Female, 84.0, BRAAK 4.0\n",
      "M86262 EUR Male, 73.0, BRAAK 6.0\n",
      "M863570 AFR Male, 53.0, BRAAK 0.0\n",
      "M864250 AFR Female, 89.0, BRAAK 4.0\n",
      "M86761 EUR Male, 53.0, BRAAK 0.0\n",
      "M8743 EUR Female, 99.0, BRAAK 4.0\n",
      "M88811 EUR Female, 83.0, BRAAK 6.0\n",
      "M8926 AMR Male, 65.0, BRAAK 0.0\n",
      "M89569 EUR Female, 92.0, BRAAK 5.0\n",
      "M89620 EUR Male, 84.0, BRAAK 6.0\n",
      "M8975 EUR Male, 82.0, BRAAK 6.0\n",
      "M89852 EUR Male, 87.0, BRAAK 6.0\n",
      "M899297 EUR Male, 59.0, BRAAK 0.0\n",
      "M89958 EUR Male, 53.0, BRAAK 0.0\n",
      "M90262 EUR Male, 81.0, BRAAK 3.0\n",
      "M90365 EUR Female, 98.0, BRAAK 4.0\n",
      "M90395 EUR Female, 90.0, BRAAK 6.0\n",
      "M90581 AFR Male, 78.0, BRAAK 6.0\n",
      "M90897 EUR Female, 99.0, BRAAK 5.0\n",
      "M912489 EUR Female, 61.0, BRAAK 0.0\n",
      "M91573 EUR Female, 84.0, BRAAK 4.0\n",
      "M92416 EUR Female, 86.0, BRAAK 5.0\n",
      "M927140 EUR Female, 94.0, BRAAK 2.0\n",
      "M92907 AMR Male, 59.0, BRAAK 2.0\n",
      "M93210 EUR Female, 89.0, BRAAK 6.0\n",
      "M93603 EUR Female, 84.0, BRAAK 1.0\n",
      "M9374 EUR Female, 101.0, BRAAK 3.0\n",
      "M9439 EUR Female, 95.0, BRAAK 6.0\n",
      "M94517 EUR Male, 74.0, BRAAK 6.0\n",
      "M95506 AFR Male, 77.0, BRAAK 2.0\n",
      "M95576 AMR Male, 42.0, BRAAK 0.0\n",
      "M96055 EUR Male, 77.0, BRAAK 6.0\n",
      "M96154 AFR Female, 49.0, BRAAK 1.0\n",
      "M96251 AMR Male, 75.0, BRAAK 1.0\n",
      "M965895 EUR Male, 91.0, BRAAK 4.0\n",
      "M96977 EUR Female, 88.0, BRAAK 6.0\n",
      "M9700 EUR Male, 72.0, BRAAK 3.0\n",
      "M97046 EUR Female, 71.0, BRAAK 3.0\n",
      "M97362 AMR Male, 73.0, BRAAK 3.0\n",
      "M97560 EUR Male, 77.0, BRAAK 3.0\n",
      "M97728 EUR Female, 97.0, BRAAK 2.0\n",
      "M97856 EUR Male, 36.0, BRAAK 0.0\n",
      "M97977 EUR Male, 84.0, BRAAK 6.0\n",
      "M98137 EUR Male, 51.0, BRAAK 0.0\n",
      "M98979 EUR Female, 91.0, BRAAK 6.0\n",
      "M99118 AFR Female, 82.0, BRAAK 6.0\n",
      "M991331 EUR Male, 59.0, BRAAK 0.0\n",
      "M991513 AFR Male, 54.0, BRAAK nan\n",
      "M99310 EUR Female, 94.0, BRAAK 6.0\n",
      "M99364 AFR Male, 64.0, BRAAK 0.0\n",
      "M99394 EUR Male, 62.0, BRAAK 1.0\n",
      "M9946 EUR Male, 93.0, BRAAK 5.0\n",
      "M99877 SAS Male, 83.0, BRAAK 2.0\n",
      "M99907 EUR Male, 45.0, BRAAK 0.0\n",
      "\n",
      "Available attention columns: ['att_D_AD_1', 'att_D_AD_2', 'att_D_SCZ_1', 'att_D_SCZ_2', 'att_D_no_prior_0', 'att_D_no_prior_1', 'att_D_no_prior_2', 'att_D_no_prior_3']\n"
     ]
    }
   ],
   "source": [
    "# Load metadata\n",
    "meta = get_meta()\n",
    "\n",
    "# Subject preview\n",
    "filtered = []\n",
    "for i, row in meta.iterrows():\n",
    "    try:\n",
    "        load_graph_by_id(row['SubID'])\n",
    "        assert not np.isnan(row['nps_MoodDysCurValue'])  # Has NPS information available\n",
    "        # assert row['BRAAK_AD'] in (3, 4, 5)\n",
    "    except:\n",
    "        continue\n",
    "    filtered.append(f'{row[\"SubID\"]} {row[\"Ethnicity\"]} {row[\"Sex\"]}, {row[\"Age\"]}, BRAAK {row[\"BRAAK_AD\"]}')\n",
    "filtered = np.sort(filtered)\n",
    "for i in range(len(filtered)):\n",
    "    print(filtered[i])\n",
    "\n",
    "# Parameters\n",
    "print(f'\\nAvailable attention columns: {get_attention_columns()}')\n",
    "column_ad = get_attention_columns()[0]\n",
    "column_scz = get_attention_columns()[2]\n",
    "column_data = get_attention_columns()[4]\n",
    "synthetic_nodes_of_interest = ['OPC', 'Micro', 'Oligo', 'EN']\n"
   ]
  },
  {
   "cell_type": "markdown",
   "metadata": {},
   "source": [
    "# Plots"
   ]
  },
  {
   "cell_type": "markdown",
   "metadata": {},
   "source": [
    "## Individual Comparisons (Figure 3)"
   ]
  },
  {
   "cell_type": "code",
   "execution_count": 4,
   "metadata": {},
   "outputs": [],
   "source": [
    "individual_comparisons = [\n",
    "    # M19050 Hispanic Female, 74.0, BRAAK 5.0\n",
    "    # M59593 Hispanic Female, 76.0, BRAAK 5.0\n",
    "    # M72079 Black Female, 64.0, BRAAK 6.0\n",
    "    # M41496 Black Female, 76.0, BRAAK 4.0\n",
    "    # M11589 Black Female, 63.0, BRAAK 2.0\n",
    "    # M73342 Black Female, 62.0, BRAAK 0.0\n",
    "    # (subject_id_1, subject_id_2, column)\n",
    "    # for subject_id_1, subject_id_2, column in individual_comparisons:\n",
    "    ('M19050', 'M59593', column_ad),  # AD - AD\n",
    "    # ('M72079', 'M41496', column_ad),  # AD - High BRAAK\n",
    "    # ('M72079', 'M11589', column_ad),  # AD - Low BRAAK\n",
    "    # ('M72079', 'M73342', column_ad),  # AD - CTRL\n",
    "]\n",
    "palette = plt.rcParams['axes.prop_cycle'].by_key()['color']\n",
    "individual_colors = {\n",
    "    sid: rgba_to_hex(palette[i]) for i, sid in enumerate(\n",
    "        sum([list(comparison[:2]) for comparison in individual_comparisons], []))\n",
    "}\n",
    "\n",
    "# Verify all are available\n",
    "for subject_id_1, subject_id_2, column in individual_comparisons:\n",
    "    for sid in [subject_id_1, subject_id_2]:\n",
    "        load_graph_by_id(sid)\n"
   ]
  },
  {
   "cell_type": "markdown",
   "metadata": {},
   "source": [
    "### 3A Mini Plots"
   ]
  },
  {
   "cell_type": "code",
   "execution_count": 10,
   "metadata": {},
   "outputs": [
    {
     "name": "stdout",
     "output_type": "stream",
     "text": [
      "M19050 - M59593 - att_D_AD_1\n",
      "Removing duplicate edges...\n"
     ]
    },
    {
     "name": "stderr",
     "output_type": "stream",
     "text": [
      "100%|█████████████████████████████████████████████████████████████████████████████| 167/167 [00:00<00:00, 202852.24it/s]\n"
     ]
    },
    {
     "name": "stdout",
     "output_type": "stream",
     "text": [
      "Calculating positions...\n",
      "Removing duplicate edges...\n"
     ]
    },
    {
     "name": "stderr",
     "output_type": "stream",
     "text": [
      "100%|███████████████████████████████████████████████████████████████████████████████| 84/84 [00:00<00:00, 154121.41it/s]\n"
     ]
    },
    {
     "name": "stdout",
     "output_type": "stream",
     "text": [
      "Removing duplicate edges...\n"
     ]
    },
    {
     "name": "stderr",
     "output_type": "stream",
     "text": [
      "100%|███████████████████████████████████████████████████████████████████████████████| 83/83 [00:00<00:00, 160723.56it/s]\n"
     ]
    },
    {
     "name": "stdout",
     "output_type": "stream",
     "text": [
      "\n"
     ]
    }
   ],
   "source": [
    "for i, (subject_id_1, subject_id_2, column) in enumerate(individual_comparisons):\n",
    "    print(' - '.join((subject_id_1, subject_id_2, column)))\n",
    "\n",
    "    # Assemble\n",
    "    sids = [subject_id_1, subject_id_2]\n",
    "    gs = [compute_graph(load_graph_by_id(sid, column=column)) for sid in sids]\n",
    "\n",
    "    # Filter\n",
    "    gs = [\n",
    "        filter_to_synthetic_vertices(g.copy(), vertex_ids=synthetic_nodes_of_interest)\n",
    "        for g in gs\n",
    "    ]\n",
    "\n",
    "    # Recalculate\n",
    "    gs = [assign_vertex_properties(g) for g in gs]\n",
    "\n",
    "    # Plot\n",
    "    fig, axs = get_mosaic([list(range(2))], scale=9)\n",
    "    plot_graph_comparison(gs, axs=axs, subject_ids=sids)\n",
    "    fig.savefig(f'../plots/individual_mini_{\"-\".join(sids)}_{column}.pdf', format='pdf', transparent=True, backend='cairo')\n",
    "    print()\n"
   ]
  },
  {
   "cell_type": "markdown",
   "metadata": {},
   "source": [
    "### 3B Attention Comparisons"
   ]
  },
  {
   "cell_type": "code",
   "execution_count": 24,
   "metadata": {},
   "outputs": [
    {
     "name": "stdout",
     "output_type": "stream",
     "text": [
      "M19050 - M59593 - att_D_AD_1\n",
      "Removing duplicate edges...\n"
     ]
    },
    {
     "name": "stderr",
     "output_type": "stream",
     "text": [
      "100%|███████████████████████████████████████████████████████████████████████████| 3347/3347 [00:00<00:00, 240090.57it/s]\n",
      "/tmp/ipykernel_700/3732660470.py:16: UserWarning: The figure layout has changed to tight\n",
      "  plt.tight_layout()\n"
     ]
    },
    {
     "name": "stdout",
     "output_type": "stream",
     "text": [
      "\n",
      "M19050 - M59593 - att_D_AD_2\n",
      "Removing duplicate edges...\n"
     ]
    },
    {
     "name": "stderr",
     "output_type": "stream",
     "text": [
      "100%|███████████████████████████████████████████████████████████████████████████| 3347/3347 [00:00<00:00, 228120.96it/s]\n",
      "/tmp/ipykernel_700/3732660470.py:16: UserWarning: The figure layout has changed to tight\n",
      "  plt.tight_layout()\n"
     ]
    },
    {
     "name": "stdout",
     "output_type": "stream",
     "text": [
      "\n",
      "M19050 - M59593 - att_D_SCZ_1\n",
      "Removing duplicate edges...\n"
     ]
    },
    {
     "name": "stderr",
     "output_type": "stream",
     "text": [
      "100%|███████████████████████████████████████████████████████████████████████████| 3347/3347 [00:00<00:00, 252093.59it/s]\n",
      "/tmp/ipykernel_700/3732660470.py:16: UserWarning: The figure layout has changed to tight\n",
      "  plt.tight_layout()\n"
     ]
    },
    {
     "name": "stdout",
     "output_type": "stream",
     "text": [
      "\n",
      "M19050 - M59593 - att_D_SCZ_2\n",
      "Removing duplicate edges...\n"
     ]
    },
    {
     "name": "stderr",
     "output_type": "stream",
     "text": [
      "100%|███████████████████████████████████████████████████████████████████████████| 3347/3347 [00:00<00:00, 296480.16it/s]\n",
      "/tmp/ipykernel_700/3732660470.py:16: UserWarning: The figure layout has changed to tight\n",
      "  plt.tight_layout()\n"
     ]
    },
    {
     "name": "stdout",
     "output_type": "stream",
     "text": [
      "\n",
      "M19050 - M59593 - att_D_no_prior_0\n",
      "Removing duplicate edges...\n"
     ]
    },
    {
     "name": "stderr",
     "output_type": "stream",
     "text": [
      "100%|███████████████████████████████████████████████████████████████████████████| 3347/3347 [00:00<00:00, 250483.28it/s]\n",
      "/tmp/ipykernel_700/3732660470.py:16: UserWarning: The figure layout has changed to tight\n",
      "  plt.tight_layout()\n"
     ]
    },
    {
     "name": "stdout",
     "output_type": "stream",
     "text": [
      "\n",
      "M19050 - M59593 - att_D_no_prior_1\n",
      "Removing duplicate edges...\n"
     ]
    },
    {
     "name": "stderr",
     "output_type": "stream",
     "text": [
      "100%|███████████████████████████████████████████████████████████████████████████| 3347/3347 [00:00<00:00, 216393.86it/s]\n",
      "/tmp/ipykernel_700/3732660470.py:16: UserWarning: The figure layout has changed to tight\n",
      "  plt.tight_layout()\n"
     ]
    },
    {
     "name": "stdout",
     "output_type": "stream",
     "text": [
      "\n",
      "M19050 - M59593 - att_D_no_prior_2\n",
      "Removing duplicate edges...\n"
     ]
    },
    {
     "name": "stderr",
     "output_type": "stream",
     "text": [
      "100%|███████████████████████████████████████████████████████████████████████████| 3347/3347 [00:00<00:00, 259844.07it/s]\n",
      "/mnt/c/Users/nck/repos/GNN-Plus/Attention Analysis/scripts/functions/plotting.py:468: RuntimeWarning: More than 20 figures have been opened. Figures created through the pyplot interface (`matplotlib.pyplot.figure`) are retained until explicitly closed and may consume too much memory. (To control this warning, see the rcParam `figure.max_open_warning`). Consider using `matplotlib.pyplot.close()`.\n",
      "  fig = plt.figure(figsize=(scale*len(mosaic[0]), scale*len(mosaic)), constrained_layout=True)\n",
      "/tmp/ipykernel_700/3732660470.py:16: UserWarning: The figure layout has changed to tight\n",
      "  plt.tight_layout()\n"
     ]
    },
    {
     "name": "stdout",
     "output_type": "stream",
     "text": [
      "\n",
      "M19050 - M59593 - att_D_no_prior_3\n",
      "Removing duplicate edges...\n"
     ]
    },
    {
     "name": "stderr",
     "output_type": "stream",
     "text": [
      "100%|███████████████████████████████████████████████████████████████████████████| 3347/3347 [00:00<00:00, 251917.16it/s]\n",
      "/tmp/ipykernel_700/3732660470.py:16: UserWarning: The figure layout has changed to tight\n",
      "  plt.tight_layout()\n"
     ]
    },
    {
     "name": "stdout",
     "output_type": "stream",
     "text": [
      "\n",
      "M72079 - M73342 - att_D_AD_1\n",
      "Removing duplicate edges...\n"
     ]
    },
    {
     "name": "stderr",
     "output_type": "stream",
     "text": [
      "100%|███████████████████████████████████████████████████████████████████████████| 3797/3797 [00:00<00:00, 276979.59it/s]\n",
      "/tmp/ipykernel_700/3732660470.py:16: UserWarning: The figure layout has changed to tight\n",
      "  plt.tight_layout()\n"
     ]
    },
    {
     "name": "stdout",
     "output_type": "stream",
     "text": [
      "\n",
      "M72079 - M73342 - att_D_AD_2\n",
      "Removing duplicate edges...\n"
     ]
    },
    {
     "name": "stderr",
     "output_type": "stream",
     "text": [
      "100%|███████████████████████████████████████████████████████████████████████████| 3797/3797 [00:00<00:00, 231321.22it/s]\n",
      "/tmp/ipykernel_700/3732660470.py:16: UserWarning: The figure layout has changed to tight\n",
      "  plt.tight_layout()\n"
     ]
    },
    {
     "name": "stdout",
     "output_type": "stream",
     "text": [
      "\n",
      "M72079 - M73342 - att_D_SCZ_1\n",
      "Removing duplicate edges...\n"
     ]
    },
    {
     "name": "stderr",
     "output_type": "stream",
     "text": [
      "100%|███████████████████████████████████████████████████████████████████████████| 3797/3797 [00:00<00:00, 238449.03it/s]\n",
      "/tmp/ipykernel_700/3732660470.py:16: UserWarning: The figure layout has changed to tight\n",
      "  plt.tight_layout()\n"
     ]
    },
    {
     "name": "stdout",
     "output_type": "stream",
     "text": [
      "\n",
      "M72079 - M73342 - att_D_SCZ_2\n",
      "Removing duplicate edges...\n"
     ]
    },
    {
     "name": "stderr",
     "output_type": "stream",
     "text": [
      "100%|███████████████████████████████████████████████████████████████████████████| 3797/3797 [00:00<00:00, 248731.37it/s]\n",
      "/tmp/ipykernel_700/3732660470.py:16: UserWarning: The figure layout has changed to tight\n",
      "  plt.tight_layout()\n"
     ]
    },
    {
     "name": "stdout",
     "output_type": "stream",
     "text": [
      "\n",
      "M72079 - M73342 - att_D_no_prior_0\n",
      "Removing duplicate edges...\n"
     ]
    },
    {
     "name": "stderr",
     "output_type": "stream",
     "text": [
      "100%|███████████████████████████████████████████████████████████████████████████| 3797/3797 [00:00<00:00, 233153.34it/s]\n",
      "/tmp/ipykernel_700/3732660470.py:16: UserWarning: The figure layout has changed to tight\n",
      "  plt.tight_layout()\n"
     ]
    },
    {
     "name": "stdout",
     "output_type": "stream",
     "text": [
      "\n",
      "M72079 - M73342 - att_D_no_prior_1\n",
      "Removing duplicate edges...\n"
     ]
    },
    {
     "name": "stderr",
     "output_type": "stream",
     "text": [
      "100%|███████████████████████████████████████████████████████████████████████████| 3797/3797 [00:00<00:00, 251155.53it/s]\n",
      "/tmp/ipykernel_700/3732660470.py:16: UserWarning: The figure layout has changed to tight\n",
      "  plt.tight_layout()\n"
     ]
    },
    {
     "name": "stdout",
     "output_type": "stream",
     "text": [
      "\n",
      "M72079 - M73342 - att_D_no_prior_2\n",
      "Removing duplicate edges...\n"
     ]
    },
    {
     "name": "stderr",
     "output_type": "stream",
     "text": [
      "100%|███████████████████████████████████████████████████████████████████████████| 3797/3797 [00:00<00:00, 302122.29it/s]\n",
      "/tmp/ipykernel_700/3732660470.py:16: UserWarning: The figure layout has changed to tight\n",
      "  plt.tight_layout()\n"
     ]
    },
    {
     "name": "stdout",
     "output_type": "stream",
     "text": [
      "\n",
      "M72079 - M73342 - att_D_no_prior_3\n",
      "Removing duplicate edges...\n"
     ]
    },
    {
     "name": "stderr",
     "output_type": "stream",
     "text": [
      "100%|███████████████████████████████████████████████████████████████████████████| 3797/3797 [00:00<00:00, 201237.98it/s]\n"
     ]
    },
    {
     "name": "stdout",
     "output_type": "stream",
     "text": [
      "\n"
     ]
    },
    {
     "name": "stderr",
     "output_type": "stream",
     "text": [
      "/tmp/ipykernel_700/3732660470.py:16: UserWarning: The figure layout has changed to tight\n",
      "  plt.tight_layout()\n"
     ]
    }
   ],
   "source": [
    "for subject_id_1, subject_id_2, _ in individual_comparisons:\n",
    "    for column in get_attention_columns():\n",
    "        print(' - '.join((subject_id_1, subject_id_2, column)))\n",
    "\n",
    "        # Assemble\n",
    "        sample_ids = [subject_id_1, subject_id_2]\n",
    "        graphs = [compute_graph(load_graph_by_id(sid, column=column)) for sid in sample_ids]\n",
    "\n",
    "        # Get graph\n",
    "        g = concatenate_graphs(*graphs, threshold=False)\n",
    "        g = get_intersection(g)\n",
    "        g = cull_isolated_leaves(g)\n",
    "\n",
    "        fig, axs = get_mosaic([list(range(1))], scale=6)\n",
    "        df = plot_individual_edge_comparison(g, sample_ids, ax=axs[0])\n",
    "        plt.tight_layout()\n",
    "        fig.savefig(f'../plots/individual_edge_comparison_{\"-\".join((subject_id_1, subject_id_2))}_{column}.pdf', format='pdf', transparent=True, backend='cairo')\n",
    "        print()\n"
   ]
  },
  {
   "cell_type": "markdown",
   "metadata": {},
   "source": [
    "### 3C Pathway Enrichment (MANUAL)"
   ]
  },
  {
   "cell_type": "code",
   "execution_count": 8,
   "metadata": {},
   "outputs": [],
   "source": [
    "# Enrichment\n",
    "for subject_id_1, subject_id_2, column in individual_comparisons:\n",
    "    # Assemble\n",
    "    sample_ids = [subject_id_1, subject_id_2]\n",
    "    graphs = [load_graph_by_id(sid, column=column) for sid in sample_ids]\n",
    "    for i in range(len(graphs)):\n",
    "        # Remove self-loops\n",
    "        graphs[i] = graphs[i].loc[graphs[i].apply(lambda x: x['TF'] != x['TG'], axis=1)]\n",
    "\n",
    "        # Set index, combine tf and tg, rename coef column\n",
    "        graphs[i].index = graphs[i].apply(lambda x: get_edge_string([x['TF'], x['TG']]), axis=1)\n",
    "        graphs[i] = graphs[i].drop(columns=['TF', 'TG'])\n",
    "        graphs[i] = graphs[i].rename(columns={'coef': sample_ids[i]})\n",
    "\n",
    "        # Drop duplicates\n",
    "        # TODO: Why are there duplicates?\n",
    "        graphs[i] = graphs[i].drop_duplicates()\n",
    "\n",
    "    # Filter to common graphs and join\n",
    "    graphs = graphs[0].join(graphs[1], how='inner')\n",
    "\n",
    "    # Get differentially expressed genes\n",
    "    graphs['Difference'] = np.abs(graphs[subject_id_1] - graphs[subject_id_2])\n",
    "    graphs = graphs.sort_values('Difference', ascending=False)\n",
    "\n",
    "    # Write to file\n",
    "    fname_prefix = f'../plots/individual_pathway_enrichment_{\"-\".join((subject_id_1, subject_id_2))}_{column}'\n",
    "    f_tfs = open(fname_prefix + '.tfs.txt', 'w')\n",
    "    f_tgs = open(fname_prefix + '.tgs.txt', 'w')\n",
    "    f_edges = open(fname_prefix + '.edges.txt', 'w')\n",
    "    for edge in graphs.index:\n",
    "        # TODO: Only show unique tf, tg, maybe?\n",
    "        f_edges.write(edge + '\\t' + f'{graphs.loc[edge, \"Difference\"]:.5f}' + '\\n')\n",
    "        tf, tg = edge.split(get_edge_string())\n",
    "        # Don't show synthetic nodes\n",
    "        if not string_is_synthetic(tf): f_tfs.write(tf + '\\n')\n",
    "        if not string_is_synthetic(tg): f_tgs.write(tg + '\\n')\n",
    "    f_tfs.close()\n",
    "    f_tgs.close()\n",
    "    f_edges.close()\n",
    "\n",
    "    # MANUAL PROCESSING\n",
    "    # Run the output from '<fname_prefix>.xxs.txt' in DisGeNet, save file\n",
    "    # from Enrichment_QC/GO_DisGeNET as '<fname_prefix>.xxs.csv'\n",
    "\n",
    "    # Plot enrichments\n",
    "    get_enrichment_file = lambda x: f'{fname_prefix}.{x}'\n",
    "    for ftype in ['tfs', 'tgs']:\n",
    "        # Get file name\n",
    "        fname = get_enrichment_file(ftype)\n",
    "\n",
    "        # Get enrichment\n",
    "        enrichment = get_enrichment(fname)\n",
    "        if enrichment is None: continue\n",
    "\n",
    "        # Plot\n",
    "        fig, axs = get_mosaic([list(range(1))], scale=9)\n",
    "        plot_enrichment(enrichment, ax=axs[0])\n",
    "        fig.savefig(fname + '.pdf', format='pdf', transparent=True, backend='cairo')\n",
    "\n",
    "        # Plot\n",
    "        fig, axs = get_mosaic([list(range(1))], scale=9)\n",
    "        plot_enrichment(enrichment, ax=axs[0])\n",
    "        fig.savefig(fname + '.pdf', format='pdf', transparent=True, backend='cairo')\n"
   ]
  },
  {
   "cell_type": "markdown",
   "metadata": {},
   "source": [
    "### 3D Attention Heatmap"
   ]
  },
  {
   "cell_type": "code",
   "execution_count": 5,
   "metadata": {},
   "outputs": [
    {
     "name": "stdout",
     "output_type": "stream",
     "text": [
      "Fixing indices...\n"
     ]
    },
    {
     "name": "stderr",
     "output_type": "stream",
     "text": [
      "100%|████████████████████████████████████████████████████████████████████████████████| 616/616 [00:04<00:00, 150.98it/s]\n"
     ]
    },
    {
     "name": "stdout",
     "output_type": "stream",
     "text": [
      "Getting unique edges...\n",
      "Standardizing indices...\n"
     ]
    },
    {
     "name": "stderr",
     "output_type": "stream",
     "text": [
      "100%|█████████████████████████████████████████████████████████████████████████████████| 616/616 [05:17<00:00,  1.94it/s]\n"
     ]
    }
   ],
   "source": [
    "# Parameters\n",
    "# Scaled probably shouldn't be used, but better for visualization\n",
    "# until results are more even\n",
    "columns = get_attention_columns(scaled=False)\n",
    "subject_ids = meta['SubID'].to_numpy()\n",
    "\n",
    "# Load graphs\n",
    "graphs, subject_ids = load_many_graphs(subject_ids, column=columns)\n",
    "# graphs = [compute_graph(g) for g in graphs]\n",
    "\n",
    "# # Get attentions\n",
    "# df = {}\n",
    "# for column in get_attention_columns():\n",
    "#     attention, _ = compute_edge_summary(graphs, subject_ids=subject_ids)\n",
    "#     attention = attention.set_index('Edge')\n",
    "#     df[column] = attention.var(axis=1)\n",
    "\n",
    "\n",
    "# Set indices to edges and clean\n",
    "print('Fixing indices...')\n",
    "for i in tqdm(range(len(graphs))):\n",
    "    graphs[i].index = graphs[i].apply(lambda r: get_edge_string([r['TF'], r['TG']]), axis=1)\n",
    "    graphs[i] = graphs[i].drop(columns=['TF', 'TG'])\n",
    "    # Remove duplicates\n",
    "    graphs[i] = graphs[i][~graphs[i].index.duplicated(keep='first')]\n",
    "\n",
    "# Get all unique edges\n",
    "print('Getting unique edges...')\n",
    "all_edges = np.unique(sum([list(g.index) for g in graphs], []))\n",
    "\n",
    "\n",
    "# Standardize index order\n",
    "print('Standardizing indices...')\n",
    "for i in tqdm(range(len(graphs))):\n",
    "    # Add missing indices and order based on `all_edges`\n",
    "    # to_add = [edge for edge in all_edges if edge not in list(graphs[i].index)]  # SLOW\n",
    "    to_add = list(set(all_edges) - set(graphs[i].index))\n",
    "\n",
    "    # Empty rows\n",
    "    new_rows = pd.DataFrame(\n",
    "        [[np.nan]*len(graphs[i].columns)]*len(to_add),\n",
    "        columns=graphs[i].columns,\n",
    "    ).set_index(pd.Series(to_add))\n",
    "    # Native concat\n",
    "    graphs[i] = pd.concat([graphs[i], new_rows]).loc[all_edges]\n",
    "\n",
    "# Convert to numpy\n",
    "graphs = [g.to_numpy() for g in graphs]\n",
    "attention_stack = np.stack(graphs, axis=-1)\n",
    "# attention_stack.shape = (Edge, Head, Subject)\n",
    "# attention_stack.shape = (all_edges, columns, subject_ids)\n"
   ]
  },
  {
   "cell_type": "code",
   "execution_count": 82,
   "metadata": {},
   "outputs": [],
   "source": [
    "# Calculate heatmap\n",
    "df = np.var(np.nan_to_num(attention_stack), axis=2)\n",
    "# Create df\n",
    "df = pd.DataFrame(df, index=all_edges, columns=columns)\n",
    "# Sort\n",
    "df = df.iloc[df.fillna(0).mean(axis=1).argsort().to_numpy()[::-1]]\n",
    "# Standardize for visualization\n",
    "# TODO: Remove once model scale is fixed, only for visualization\n",
    "df = (df - df.mean()) / df.std()\n",
    "# Sample or filter\n",
    "# TODO: Currently, too many edges leads to the whole\n",
    "# visualization looking like the darkest value.  If\n",
    "# this can be fixed, then the random sampling can be\n",
    "# removed.\n",
    "# df = df.iloc[np.random.choice(df.shape[0], 200, replace=False)]\n",
    "df = df.iloc[np.nan_to_num(attention_stack).mean(axis=(1,2)) > .05]\n",
    "\n",
    "### Combined clustermap\n",
    "# Assign groups by associated cell type\n",
    "# TODO: Make greater depth, currently 1\n",
    "clusters = pd.DataFrame(\n",
    "    np.array([\n",
    "        [tf, tg] for tf, tg in df.index.map(lambda s: split_edge_string(s))\n",
    "    ]),\n",
    "    index=df.index,\n",
    "    columns=pd.Series(['TF', 'TG']),\n",
    ")\n",
    "def assign(row):\n",
    "    if string_is_synthetic(row['TF']):\n",
    "        return row['TF']\n",
    "    if string_is_synthetic(row['TG']):\n",
    "        return row['TG']\n",
    "    return 'None'\n",
    "clusters['Association'] = clusters.apply(assign, axis=1)\n",
    "# Convert to colors\n",
    "cluster_colors = {\n",
    "    a: c for a, c in zip(\n",
    "        np.unique(clusters['Association']),\n",
    "        sns.color_palette(palette='husl', n_colors=np.unique(clusters['Association']).shape[0]),\n",
    "    )\n",
    "}\n",
    "clusters['Colors'] = clusters['Association'].apply(lambda a: cluster_colors[a])\n",
    "# Plot\n",
    "\n",
    "np.random.seed(42)\n",
    "fig = sns.clustermap(\n",
    "    data=df,\n",
    "    row_colors=clusters[['Colors']].rename(columns={'Colors': 'Cell Association'}),\n",
    "    # row_cluster=False,\n",
    "    # norm=LogNorm(),\n",
    "    cmap='mako',\n",
    "    # dendrogram_ratio=.1,\n",
    "    figsize=(9, 27),\n",
    ")\n",
    "fig.savefig(f'../plots/individual_edge_variance_heatmap.pdf', format='pdf', transparent=True, backend='cairo')\n",
    "plt.show()\n",
    "# Plot legend\n",
    "plt.clf()\n",
    "ax = plt.gca()\n",
    "legend_elements = [\n",
    "    Line2D([0], [0], color='gray', linestyle='None', markersize=10, marker='s', markerfacecolor=color, label=ct)\n",
    "    for ct, color in cluster_colors.items()\n",
    "]\n",
    "ax.legend(handles=legend_elements, loc='best')\n",
    "plt.gca().axis('off')\n",
    "plt.tight_layout()\n",
    "plt.savefig(f'../plots/individual_edge_variance_heatmap_cell_legend.pdf', format='pdf', transparent=True, backend='cairo')\n",
    "\n",
    "### Combined heatmap\n",
    "# fig, axs = get_mosaic([[0,0,0]]*9, scale=3)\n",
    "# sns.heatmap(data=df, cmap='crest', norm=LogNorm(), ax=axs[0])\n",
    "# plt.xticks(rotation=60)\n",
    "# fig.savefig(f'../plots/individual_edge_variance_heatmap.pdf', format='pdf', transparent=True, backend='cairo')\n",
    "# plt.show()\n",
    "\n",
    "### Separate heatmaps\n",
    "# # Get data and diffusion idx\n",
    "# idx = range(len(columns))\n",
    "# data_idx = [i for i in idx if 'no_prior' in columns[i]]\n",
    "# diff_idx = list(set(idx) - set(data_idx))\n",
    "\n",
    "# # Data heatmap\n",
    "# fig, axs = get_mosaic([[0,0,0]]*9, scale=3)\n",
    "# sns.heatmap(data=df.iloc[:, data_idx], cmap='crest', norm=LogNorm(), ax=axs[0])\n",
    "# plt.xticks(rotation=60)\n",
    "# fig.savefig(f'../plots/individual_edge_variance_heatmap_data.pdf', format='pdf', transparent=True, backend='cairo')\n",
    "# plt.show()\n",
    "\n",
    "# # Diffusion heatmap\n",
    "# fig, axs = get_mosaic([[0,0,0]]*9, scale=3)\n",
    "# sns.heatmap(data=df.iloc[:, diff_idx], cmap='crest', norm=LogNorm(), ax=axs[0])\n",
    "# plt.xticks(rotation=60)\n",
    "# fig.savefig(f'../plots/individual_edge_variance_heatmap_diff.pdf', format='pdf', transparent=True, backend='cairo')\n",
    "# plt.show()\n"
   ]
  },
  {
   "cell_type": "code",
   "execution_count": null,
   "metadata": {},
   "outputs": [],
   "source": [
    "# # Get variance filtered by contrast\n",
    "# contrast = 'c15x'\n",
    "# contrast_subjects = sum([v for k, v in get_contrast(contrast).items()], [])\n",
    "# attention_stack[:, :, [s in contrast_subjects for s in subject_ids]]\n",
    "# df = np.var(np.nan_to_num(attention_stack), axis=2)\n",
    "# df = pd.DataFrame(df, index=all_edges, columns=columns)\n",
    "# df.to_csv(f'../plots/{contrast}_variation.csv')\n"
   ]
  },
  {
   "cell_type": "code",
   "execution_count": 33,
   "metadata": {},
   "outputs": [],
   "source": [
    "# # Parameters\n",
    "# column = column_data\n",
    "\n",
    "# # Filter to data column\n",
    "# data_idx = np.argwhere(np.array(columns) == column)[0][0]\n",
    "# df = pd.DataFrame(attention_stack[:, data_idx], index=all_edges, columns=subject_ids)\n",
    "# # Sort (fillna can be excluded, but this also makes more common edges visible)\n",
    "# df = df.iloc[df.fillna(0).mean(axis=1).argsort().to_numpy()[::-1]]\n",
    "\n",
    "# # Individual heatmap (Limited to top 5k links)\n",
    "# fig, axs = get_mosaic([[0]*9]*9, scale=3)\n",
    "# sns.heatmap(data=df.iloc[:5000], cmap='crest', norm=LogNorm(), ax=axs[0])\n",
    "# plt.xticks(rotation=60)\n",
    "# fig.savefig(f'../plots/individual_edge_heatmap_{column}.pdf', format='pdf', transparent=True, backend='cairo')\n",
    "# plt.show()\n"
   ]
  },
  {
   "cell_type": "markdown",
   "metadata": {},
   "source": [
    "### 3E Dosage Analysis"
   ]
  },
  {
   "cell_type": "code",
   "execution_count": 22,
   "metadata": {},
   "outputs": [
    {
     "name": "stderr",
     "output_type": "stream",
     "text": [
      "/mnt/c/Users/nck/repos/GNN-Plus/Attention Analysis/scripts/functions/file.py:112: DtypeWarning: Columns (20,24,25,57,59,61,90,145,231,249,270,271,286,292,297,318,355,397,437,510,511,627,632,646,662,702,732,738,761,786,804,805,833,837,868,891,913,918,924,953,954,955,956,957,958) have mixed types. Specify dtype option on import or set low_memory=False.\n",
      "  dosage = pd.read_csv(DOSAGE)\n",
      "/mnt/c/Users/nck/repos/GNN-Plus/Attention Analysis/scripts/functions/utility.py:1173: UserWarning: Unable to find SNP '8321' in metadata\n",
      "  warnings.warn(f'Unable to find SNP \\'{dosage_id}\\' in metadata')\n",
      "/mnt/c/Users/nck/repos/GNN-Plus/Attention Analysis/scripts/functions/utility.py:1173: UserWarning: Unable to find SNP '38162' in metadata\n",
      "  warnings.warn(f'Unable to find SNP \\'{dosage_id}\\' in metadata')\n",
      "/mnt/c/Users/nck/repos/GNN-Plus/Attention Analysis/scripts/functions/utility.py:1173: UserWarning: Unable to find SNP '208768' in metadata\n",
      "  warnings.warn(f'Unable to find SNP \\'{dosage_id}\\' in metadata')\n",
      "/mnt/c/Users/nck/repos/GNN-Plus/Attention Analysis/scripts/functions/utility.py:1173: UserWarning: Unable to find SNP '115724' in metadata\n",
      "  warnings.warn(f'Unable to find SNP \\'{dosage_id}\\' in metadata')\n",
      "/mnt/c/Users/nck/repos/GNN-Plus/Attention Analysis/scripts/functions/utility.py:1173: UserWarning: Unable to find SNP '207239' in metadata\n",
      "  warnings.warn(f'Unable to find SNP \\'{dosage_id}\\' in metadata')\n",
      "/mnt/c/Users/nck/repos/GNN-Plus/Attention Analysis/scripts/functions/utility.py:1173: UserWarning: Unable to find SNP '152322' in metadata\n",
      "  warnings.warn(f'Unable to find SNP \\'{dosage_id}\\' in metadata')\n",
      "/mnt/c/Users/nck/repos/GNN-Plus/Attention Analysis/scripts/functions/utility.py:1173: UserWarning: Unable to find SNP '189035' in metadata\n",
      "  warnings.warn(f'Unable to find SNP \\'{dosage_id}\\' in metadata')\n",
      "/mnt/c/Users/nck/repos/GNN-Plus/Attention Analysis/scripts/functions/utility.py:1173: UserWarning: Unable to find SNP '214625' in metadata\n",
      "  warnings.warn(f'Unable to find SNP \\'{dosage_id}\\' in metadata')\n",
      "/mnt/c/Users/nck/repos/GNN-Plus/Attention Analysis/scripts/functions/utility.py:1173: UserWarning: Unable to find SNP '201441' in metadata\n",
      "  warnings.warn(f'Unable to find SNP \\'{dosage_id}\\' in metadata')\n",
      "/mnt/c/Users/nck/repos/GNN-Plus/Attention Analysis/scripts/functions/utility.py:1173: UserWarning: Unable to find SNP '207680' in metadata\n",
      "  warnings.warn(f'Unable to find SNP \\'{dosage_id}\\' in metadata')\n",
      "/mnt/c/Users/nck/repos/GNN-Plus/Attention Analysis/scripts/functions/utility.py:1173: UserWarning: Unable to find SNP '34627' in metadata\n",
      "  warnings.warn(f'Unable to find SNP \\'{dosage_id}\\' in metadata')\n",
      "/mnt/c/Users/nck/repos/GNN-Plus/Attention Analysis/scripts/functions/utility.py:1173: UserWarning: Unable to find SNP '47415' in metadata\n",
      "  warnings.warn(f'Unable to find SNP \\'{dosage_id}\\' in metadata')\n",
      "/mnt/c/Users/nck/repos/GNN-Plus/Attention Analysis/scripts/functions/utility.py:1173: UserWarning: Unable to find SNP '208888' in metadata\n",
      "  warnings.warn(f'Unable to find SNP \\'{dosage_id}\\' in metadata')\n",
      "/mnt/c/Users/nck/repos/GNN-Plus/Attention Analysis/scripts/functions/utility.py:1173: UserWarning: Unable to find SNP '36388' in metadata\n",
      "  warnings.warn(f'Unable to find SNP \\'{dosage_id}\\' in metadata')\n",
      "/mnt/c/Users/nck/repos/GNN-Plus/Attention Analysis/scripts/functions/utility.py:1173: UserWarning: Unable to find SNP '112444' in metadata\n",
      "  warnings.warn(f'Unable to find SNP \\'{dosage_id}\\' in metadata')\n",
      "/mnt/c/Users/nck/repos/GNN-Plus/Attention Analysis/scripts/functions/utility.py:1173: UserWarning: Unable to find SNP '40206' in metadata\n",
      "  warnings.warn(f'Unable to find SNP \\'{dosage_id}\\' in metadata')\n",
      "/mnt/c/Users/nck/repos/GNN-Plus/Attention Analysis/scripts/functions/utility.py:1173: UserWarning: Unable to find SNP '35995' in metadata\n",
      "  warnings.warn(f'Unable to find SNP \\'{dosage_id}\\' in metadata')\n",
      "/mnt/c/Users/nck/repos/GNN-Plus/Attention Analysis/scripts/functions/utility.py:1173: UserWarning: Unable to find SNP '143013' in metadata\n",
      "  warnings.warn(f'Unable to find SNP \\'{dosage_id}\\' in metadata')\n",
      "/mnt/c/Users/nck/repos/GNN-Plus/Attention Analysis/scripts/functions/utility.py:1173: UserWarning: Unable to find SNP '142955' in metadata\n",
      "  warnings.warn(f'Unable to find SNP \\'{dosage_id}\\' in metadata')\n",
      "/mnt/c/Users/nck/repos/GNN-Plus/Attention Analysis/scripts/functions/utility.py:1173: UserWarning: Unable to find SNP '214948' in metadata\n",
      "  warnings.warn(f'Unable to find SNP \\'{dosage_id}\\' in metadata')\n",
      "/mnt/c/Users/nck/repos/GNN-Plus/Attention Analysis/scripts/functions/utility.py:1173: UserWarning: Unable to find SNP '115629' in metadata\n",
      "  warnings.warn(f'Unable to find SNP \\'{dosage_id}\\' in metadata')\n",
      "/mnt/c/Users/nck/repos/GNN-Plus/Attention Analysis/scripts/functions/utility.py:1173: UserWarning: Unable to find SNP '189454' in metadata\n",
      "  warnings.warn(f'Unable to find SNP \\'{dosage_id}\\' in metadata')\n",
      "/mnt/c/Users/nck/repos/GNN-Plus/Attention Analysis/scripts/functions/utility.py:1173: UserWarning: Unable to find SNP '167162' in metadata\n",
      "  warnings.warn(f'Unable to find SNP \\'{dosage_id}\\' in metadata')\n",
      "/mnt/c/Users/nck/repos/GNN-Plus/Attention Analysis/scripts/functions/utility.py:1173: UserWarning: Unable to find SNP '184231' in metadata\n",
      "  warnings.warn(f'Unable to find SNP \\'{dosage_id}\\' in metadata')\n",
      "/mnt/c/Users/nck/repos/GNN-Plus/Attention Analysis/scripts/functions/utility.py:1173: UserWarning: Unable to find SNP '207731' in metadata\n",
      "  warnings.warn(f'Unable to find SNP \\'{dosage_id}\\' in metadata')\n",
      "/mnt/c/Users/nck/repos/GNN-Plus/Attention Analysis/scripts/functions/utility.py:1173: UserWarning: Unable to find SNP '208751' in metadata\n",
      "  warnings.warn(f'Unable to find SNP \\'{dosage_id}\\' in metadata')\n",
      "/mnt/c/Users/nck/repos/GNN-Plus/Attention Analysis/scripts/functions/utility.py:1173: UserWarning: Unable to find SNP '143004' in metadata\n",
      "  warnings.warn(f'Unable to find SNP \\'{dosage_id}\\' in metadata')\n",
      "/mnt/c/Users/nck/repos/GNN-Plus/Attention Analysis/scripts/functions/utility.py:1173: UserWarning: Unable to find SNP '184272' in metadata\n",
      "  warnings.warn(f'Unable to find SNP \\'{dosage_id}\\' in metadata')\n",
      "/mnt/c/Users/nck/repos/GNN-Plus/Attention Analysis/scripts/functions/utility.py:1173: UserWarning: Unable to find SNP '170421' in metadata\n",
      "  warnings.warn(f'Unable to find SNP \\'{dosage_id}\\' in metadata')\n",
      "/mnt/c/Users/nck/repos/GNN-Plus/Attention Analysis/scripts/functions/utility.py:1173: UserWarning: Unable to find SNP '198910' in metadata\n",
      "  warnings.warn(f'Unable to find SNP \\'{dosage_id}\\' in metadata')\n",
      "/mnt/c/Users/nck/repos/GNN-Plus/Attention Analysis/scripts/functions/utility.py:1173: UserWarning: Unable to find SNP '214900' in metadata\n",
      "  warnings.warn(f'Unable to find SNP \\'{dosage_id}\\' in metadata')\n",
      "/mnt/c/Users/nck/repos/GNN-Plus/Attention Analysis/scripts/functions/utility.py:1173: UserWarning: Unable to find SNP '152766' in metadata\n",
      "  warnings.warn(f'Unable to find SNP \\'{dosage_id}\\' in metadata')\n",
      "/mnt/c/Users/nck/repos/GNN-Plus/Attention Analysis/scripts/functions/utility.py:1173: UserWarning: Unable to find SNP '149696' in metadata\n",
      "  warnings.warn(f'Unable to find SNP \\'{dosage_id}\\' in metadata')\n",
      "/mnt/c/Users/nck/repos/GNN-Plus/Attention Analysis/scripts/functions/utility.py:1173: UserWarning: Unable to find SNP '214946' in metadata\n",
      "  warnings.warn(f'Unable to find SNP \\'{dosage_id}\\' in metadata')\n",
      "/mnt/c/Users/nck/repos/GNN-Plus/Attention Analysis/scripts/functions/utility.py:1173: UserWarning: Unable to find SNP '37067' in metadata\n",
      "  warnings.warn(f'Unable to find SNP \\'{dosage_id}\\' in metadata')\n",
      "/mnt/c/Users/nck/repos/GNN-Plus/Attention Analysis/scripts/functions/utility.py:1173: UserWarning: Unable to find SNP '151435' in metadata\n",
      "  warnings.warn(f'Unable to find SNP \\'{dosage_id}\\' in metadata')\n",
      "/mnt/c/Users/nck/repos/GNN-Plus/Attention Analysis/scripts/functions/utility.py:1173: UserWarning: Unable to find SNP '213213' in metadata\n",
      "  warnings.warn(f'Unable to find SNP \\'{dosage_id}\\' in metadata')\n",
      "/mnt/c/Users/nck/repos/GNN-Plus/Attention Analysis/scripts/functions/utility.py:1173: UserWarning: Unable to find SNP '214954' in metadata\n",
      "  warnings.warn(f'Unable to find SNP \\'{dosage_id}\\' in metadata')\n",
      "/mnt/c/Users/nck/repos/GNN-Plus/Attention Analysis/scripts/functions/utility.py:1173: UserWarning: Unable to find SNP '214911' in metadata\n",
      "  warnings.warn(f'Unable to find SNP \\'{dosage_id}\\' in metadata')\n",
      "/mnt/c/Users/nck/repos/GNN-Plus/Attention Analysis/scripts/functions/utility.py:1173: UserWarning: Unable to find SNP '205055' in metadata\n",
      "  warnings.warn(f'Unable to find SNP \\'{dosage_id}\\' in metadata')\n",
      "/mnt/c/Users/nck/repos/GNN-Plus/Attention Analysis/scripts/functions/utility.py:1173: UserWarning: Unable to find SNP '162916' in metadata\n",
      "  warnings.warn(f'Unable to find SNP \\'{dosage_id}\\' in metadata')\n",
      "/mnt/c/Users/nck/repos/GNN-Plus/Attention Analysis/scripts/functions/utility.py:1173: UserWarning: Unable to find SNP '214951' in metadata\n",
      "  warnings.warn(f'Unable to find SNP \\'{dosage_id}\\' in metadata')\n",
      "/mnt/c/Users/nck/repos/GNN-Plus/Attention Analysis/scripts/functions/utility.py:1173: UserWarning: Unable to find SNP '144513' in metadata\n",
      "  warnings.warn(f'Unable to find SNP \\'{dosage_id}\\' in metadata')\n",
      "/mnt/c/Users/nck/repos/GNN-Plus/Attention Analysis/scripts/functions/utility.py:1173: UserWarning: Unable to find SNP '37563' in metadata\n",
      "  warnings.warn(f'Unable to find SNP \\'{dosage_id}\\' in metadata')\n",
      "/mnt/c/Users/nck/repos/GNN-Plus/Attention Analysis/scripts/functions/utility.py:1173: UserWarning: Unable to find SNP '167276' in metadata\n",
      "  warnings.warn(f'Unable to find SNP \\'{dosage_id}\\' in metadata')\n",
      "/mnt/c/Users/nck/repos/GNN-Plus/Attention Analysis/scripts/functions/utility.py:1173: UserWarning: Unable to find SNP '141195' in metadata\n",
      "  warnings.warn(f'Unable to find SNP \\'{dosage_id}\\' in metadata')\n",
      "/mnt/c/Users/nck/repos/GNN-Plus/Attention Analysis/scripts/functions/utility.py:1173: UserWarning: Unable to find SNP '137112' in metadata\n",
      "  warnings.warn(f'Unable to find SNP \\'{dosage_id}\\' in metadata')\n",
      "/mnt/c/Users/nck/repos/GNN-Plus/Attention Analysis/scripts/functions/utility.py:1173: UserWarning: Unable to find SNP '214701' in metadata\n",
      "  warnings.warn(f'Unable to find SNP \\'{dosage_id}\\' in metadata')\n",
      "/mnt/c/Users/nck/repos/GNN-Plus/Attention Analysis/scripts/functions/utility.py:1173: UserWarning: Unable to find SNP '214904' in metadata\n",
      "  warnings.warn(f'Unable to find SNP \\'{dosage_id}\\' in metadata')\n",
      "/mnt/c/Users/nck/repos/GNN-Plus/Attention Analysis/scripts/functions/utility.py:1173: UserWarning: Unable to find SNP '140670' in metadata\n",
      "  warnings.warn(f'Unable to find SNP \\'{dosage_id}\\' in metadata')\n",
      "/mnt/c/Users/nck/repos/GNN-Plus/Attention Analysis/scripts/functions/utility.py:1173: UserWarning: Unable to find SNP '113771' in metadata\n",
      "  warnings.warn(f'Unable to find SNP \\'{dosage_id}\\' in metadata')\n",
      "/mnt/c/Users/nck/repos/GNN-Plus/Attention Analysis/scripts/functions/utility.py:1173: UserWarning: Unable to find SNP '113460' in metadata\n",
      "  warnings.warn(f'Unable to find SNP \\'{dosage_id}\\' in metadata')\n",
      "/mnt/c/Users/nck/repos/GNN-Plus/Attention Analysis/scripts/functions/utility.py:1173: UserWarning: Unable to find SNP '208781' in metadata\n",
      "  warnings.warn(f'Unable to find SNP \\'{dosage_id}\\' in metadata')\n",
      "/mnt/c/Users/nck/repos/GNN-Plus/Attention Analysis/scripts/functions/utility.py:1173: UserWarning: Unable to find SNP '182140' in metadata\n",
      "  warnings.warn(f'Unable to find SNP \\'{dosage_id}\\' in metadata')\n",
      "/mnt/c/Users/nck/repos/GNN-Plus/Attention Analysis/scripts/functions/utility.py:1173: UserWarning: Unable to find SNP '183891' in metadata\n",
      "  warnings.warn(f'Unable to find SNP \\'{dosage_id}\\' in metadata')\n",
      "/mnt/c/Users/nck/repos/GNN-Plus/Attention Analysis/scripts/functions/utility.py:1173: UserWarning: Unable to find SNP '42984' in metadata\n",
      "  warnings.warn(f'Unable to find SNP \\'{dosage_id}\\' in metadata')\n",
      "/mnt/c/Users/nck/repos/GNN-Plus/Attention Analysis/scripts/functions/utility.py:1173: UserWarning: Unable to find SNP '208104' in metadata\n",
      "  warnings.warn(f'Unable to find SNP \\'{dosage_id}\\' in metadata')\n",
      "/mnt/c/Users/nck/repos/GNN-Plus/Attention Analysis/scripts/functions/utility.py:1173: UserWarning: Unable to find SNP '214953' in metadata\n",
      "  warnings.warn(f'Unable to find SNP \\'{dosage_id}\\' in metadata')\n",
      "/mnt/c/Users/nck/repos/GNN-Plus/Attention Analysis/scripts/functions/utility.py:1173: UserWarning: Unable to find SNP '8361' in metadata\n",
      "  warnings.warn(f'Unable to find SNP \\'{dosage_id}\\' in metadata')\n",
      "/mnt/c/Users/nck/repos/GNN-Plus/Attention Analysis/scripts/functions/utility.py:1173: UserWarning: Unable to find SNP '198640' in metadata\n",
      "  warnings.warn(f'Unable to find SNP \\'{dosage_id}\\' in metadata')\n",
      "/mnt/c/Users/nck/repos/GNN-Plus/Attention Analysis/scripts/functions/utility.py:1173: UserWarning: Unable to find SNP '33325' in metadata\n",
      "  warnings.warn(f'Unable to find SNP \\'{dosage_id}\\' in metadata')\n",
      "/mnt/c/Users/nck/repos/GNN-Plus/Attention Analysis/scripts/functions/utility.py:1173: UserWarning: Unable to find SNP '37410' in metadata\n",
      "  warnings.warn(f'Unable to find SNP \\'{dosage_id}\\' in metadata')\n",
      "/mnt/c/Users/nck/repos/GNN-Plus/Attention Analysis/scripts/functions/utility.py:1173: UserWarning: Unable to find SNP '144015' in metadata\n",
      "  warnings.warn(f'Unable to find SNP \\'{dosage_id}\\' in metadata')\n",
      "/mnt/c/Users/nck/repos/GNN-Plus/Attention Analysis/scripts/functions/utility.py:1173: UserWarning: Unable to find SNP '207755' in metadata\n",
      "  warnings.warn(f'Unable to find SNP \\'{dosage_id}\\' in metadata')\n",
      "/mnt/c/Users/nck/repos/GNN-Plus/Attention Analysis/scripts/functions/utility.py:1173: UserWarning: Unable to find SNP '112670' in metadata\n",
      "  warnings.warn(f'Unable to find SNP \\'{dosage_id}\\' in metadata')\n",
      "/mnt/c/Users/nck/repos/GNN-Plus/Attention Analysis/scripts/functions/utility.py:1173: UserWarning: Unable to find SNP '201249' in metadata\n",
      "  warnings.warn(f'Unable to find SNP \\'{dosage_id}\\' in metadata')\n",
      "/mnt/c/Users/nck/repos/GNN-Plus/Attention Analysis/scripts/functions/utility.py:1173: UserWarning: Unable to find SNP '138858' in metadata\n",
      "  warnings.warn(f'Unable to find SNP \\'{dosage_id}\\' in metadata')\n",
      "/mnt/c/Users/nck/repos/GNN-Plus/Attention Analysis/scripts/functions/utility.py:1173: UserWarning: Unable to find SNP '184613' in metadata\n",
      "  warnings.warn(f'Unable to find SNP \\'{dosage_id}\\' in metadata')\n",
      "/mnt/c/Users/nck/repos/GNN-Plus/Attention Analysis/scripts/functions/utility.py:1173: UserWarning: Unable to find SNP '207762' in metadata\n",
      "  warnings.warn(f'Unable to find SNP \\'{dosage_id}\\' in metadata')\n",
      "/mnt/c/Users/nck/repos/GNN-Plus/Attention Analysis/scripts/functions/utility.py:1173: UserWarning: Unable to find SNP '144500' in metadata\n",
      "  warnings.warn(f'Unable to find SNP \\'{dosage_id}\\' in metadata')\n",
      "/mnt/c/Users/nck/repos/GNN-Plus/Attention Analysis/scripts/functions/utility.py:1173: UserWarning: Unable to find SNP '214955' in metadata\n",
      "  warnings.warn(f'Unable to find SNP \\'{dosage_id}\\' in metadata')\n",
      "/mnt/c/Users/nck/repos/GNN-Plus/Attention Analysis/scripts/functions/utility.py:1173: UserWarning: Unable to find SNP 'BM-22-7786' in metadata\n",
      "  warnings.warn(f'Unable to find SNP \\'{dosage_id}\\' in metadata')\n",
      "/mnt/c/Users/nck/repos/GNN-Plus/Attention Analysis/scripts/functions/utility.py:1173: UserWarning: Unable to find SNP '208723' in metadata\n",
      "  warnings.warn(f'Unable to find SNP \\'{dosage_id}\\' in metadata')\n",
      "/mnt/c/Users/nck/repos/GNN-Plus/Attention Analysis/scripts/functions/utility.py:1173: UserWarning: Unable to find SNP '137120' in metadata\n",
      "  warnings.warn(f'Unable to find SNP \\'{dosage_id}\\' in metadata')\n",
      "/mnt/c/Users/nck/repos/GNN-Plus/Attention Analysis/scripts/functions/utility.py:1173: UserWarning: Unable to find SNP 'BM-44-4996' in metadata\n",
      "  warnings.warn(f'Unable to find SNP \\'{dosage_id}\\' in metadata')\n",
      "/mnt/c/Users/nck/repos/GNN-Plus/Attention Analysis/scripts/functions/utility.py:1173: UserWarning: Unable to find SNP '35515' in metadata\n",
      "  warnings.warn(f'Unable to find SNP \\'{dosage_id}\\' in metadata')\n",
      "/mnt/c/Users/nck/repos/GNN-Plus/Attention Analysis/scripts/functions/utility.py:1173: UserWarning: Unable to find SNP '198112' in metadata\n",
      "  warnings.warn(f'Unable to find SNP \\'{dosage_id}\\' in metadata')\n",
      "/mnt/c/Users/nck/repos/GNN-Plus/Attention Analysis/scripts/functions/utility.py:1173: UserWarning: Unable to find SNP '177067' in metadata\n",
      "  warnings.warn(f'Unable to find SNP \\'{dosage_id}\\' in metadata')\n",
      "/mnt/c/Users/nck/repos/GNN-Plus/Attention Analysis/scripts/functions/utility.py:1173: UserWarning: Unable to find SNP '144478' in metadata\n",
      "  warnings.warn(f'Unable to find SNP \\'{dosage_id}\\' in metadata')\n",
      "/mnt/c/Users/nck/repos/GNN-Plus/Attention Analysis/scripts/functions/utility.py:1173: UserWarning: Unable to find SNP '208830' in metadata\n",
      "  warnings.warn(f'Unable to find SNP \\'{dosage_id}\\' in metadata')\n",
      "/mnt/c/Users/nck/repos/GNN-Plus/Attention Analysis/scripts/functions/utility.py:1173: UserWarning: Unable to find SNP '198940' in metadata\n",
      "  warnings.warn(f'Unable to find SNP \\'{dosage_id}\\' in metadata')\n",
      "/mnt/c/Users/nck/repos/GNN-Plus/Attention Analysis/scripts/functions/utility.py:1173: UserWarning: Unable to find SNP '207737' in metadata\n",
      "  warnings.warn(f'Unable to find SNP \\'{dosage_id}\\' in metadata')\n",
      "/mnt/c/Users/nck/repos/GNN-Plus/Attention Analysis/scripts/functions/utility.py:1173: UserWarning: Unable to find SNP '35260' in metadata\n",
      "  warnings.warn(f'Unable to find SNP \\'{dosage_id}\\' in metadata')\n",
      "/mnt/c/Users/nck/repos/GNN-Plus/Attention Analysis/scripts/functions/utility.py:1173: UserWarning: Unable to find SNP '143032' in metadata\n",
      "  warnings.warn(f'Unable to find SNP \\'{dosage_id}\\' in metadata')\n",
      "/mnt/c/Users/nck/repos/GNN-Plus/Attention Analysis/scripts/functions/utility.py:1173: UserWarning: Unable to find SNP '113123' in metadata\n",
      "  warnings.warn(f'Unable to find SNP \\'{dosage_id}\\' in metadata')\n",
      "/mnt/c/Users/nck/repos/GNN-Plus/Attention Analysis/scripts/functions/utility.py:1173: UserWarning: Unable to find SNP '144424' in metadata\n",
      "  warnings.warn(f'Unable to find SNP \\'{dosage_id}\\' in metadata')\n",
      "/mnt/c/Users/nck/repos/GNN-Plus/Attention Analysis/scripts/functions/utility.py:1173: UserWarning: Unable to find SNP '214734' in metadata\n",
      "  warnings.warn(f'Unable to find SNP \\'{dosage_id}\\' in metadata')\n",
      "/mnt/c/Users/nck/repos/GNN-Plus/Attention Analysis/scripts/functions/utility.py:1173: UserWarning: Unable to find SNP '208763' in metadata\n",
      "  warnings.warn(f'Unable to find SNP \\'{dosage_id}\\' in metadata')\n",
      "/mnt/c/Users/nck/repos/GNN-Plus/Attention Analysis/scripts/functions/utility.py:1173: UserWarning: Unable to find SNP 'RUSH-043\n",
      "' in metadata\n",
      "  warnings.warn(f'Unable to find SNP \\'{dosage_id}\\' in metadata')\n"
     ]
    },
    {
     "name": "stdout",
     "output_type": "stream",
     "text": [
      "No threshold provided, using threshold of 0.01381273008154222.\n",
      "Removing duplicate edges...\n"
     ]
    },
    {
     "name": "stderr",
     "output_type": "stream",
     "text": [
      "100%|█████████████████████████████████████████████████████████████████████| 1005000/1005000 [00:03<00:00, 302670.25it/s]\n"
     ]
    },
    {
     "name": "stdout",
     "output_type": "stream",
     "text": [
      "Filtered from 5047 vertices and 362559 edges to 1629 vertices and 12719 edges via common edge filtering.\n",
      "Collecting edges...\n"
     ]
    },
    {
     "name": "stderr",
     "output_type": "stream",
     "text": [
      "100%|███████████████████████████████████████████████████████████████████████████| 12719/12719 [00:02<00:00, 5782.52it/s]\n"
     ]
    }
   ],
   "source": [
    "# Parameters\n",
    "column = column_ad\n",
    "subject_ids = meta['SubID'].to_numpy()\n",
    "\n",
    "# Load graphs\n",
    "graphs, subject_ids = load_many_graphs(subject_ids, column=column)\n",
    "graphs = [compute_graph(g) for g in graphs]\n",
    "\n",
    "# Get dosage information\n",
    "dosage = get_dosage()\n",
    "# Why do some SNPs go missing with the new meta?\n",
    "dosage = convert_dosage_ids_to_subject_ids(dosage, meta=meta)\n",
    "\n",
    "# Get attention\n",
    "attention, _ = compute_edge_summary(graphs, subject_ids=subject_ids)\n",
    "attention = attention.set_index('Edge')\n"
   ]
  },
  {
   "cell_type": "code",
   "execution_count": 23,
   "metadata": {},
   "outputs": [
    {
     "name": "stdout",
     "output_type": "stream",
     "text": [
      "Found minimal p-value of 0.000171 (Correlation: 0.163327).\n"
     ]
    }
   ],
   "source": [
    "# Select target SNP\n",
    "target_snp = dosage.index[42]  # Random for now\n",
    "\n",
    "# Make df\n",
    "data_dosage = dosage.loc[[target_snp]].T\n",
    "data_attention = attention.T\n",
    "df = data_dosage.join(data_attention, how='inner')\n",
    "\n",
    "# Select target edge\n",
    "p_min = 1\n",
    "for edge in attention.index:\n",
    "    corr, pval = scipy.stats.pearsonr(\n",
    "        df[[edge]].to_numpy().squeeze(),\n",
    "        df[[target_snp]].to_numpy().squeeze())\n",
    "    if pval < p_min:\n",
    "        p_min = pval\n",
    "        best_corr = corr\n",
    "        target_edge = edge\n",
    "print(f'Found minimal p-value of {p_min:.6f} (Correlation: {best_corr:.6f}).')\n",
    "\n",
    "# Format df\n",
    "axis_snp = f'{target_snp} Dosage'\n",
    "axis_edge = f'{target_edge} Attention'\n",
    "df = df.rename(columns={target_snp: axis_snp, target_edge: axis_edge})\n",
    "\n",
    "# Scatter\n",
    "fig, axs = get_mosaic([list(range(1))], scale=9)\n",
    "sns.scatterplot(data=df, x=axis_snp, y=axis_edge, ax=axs[0])\n",
    "fig.savefig(f'../plots/individual_dosage_correlation_{column}.pdf', format='pdf', transparent=True, backend='cairo')\n"
   ]
  },
  {
   "cell_type": "markdown",
   "metadata": {},
   "source": [
    "## Group Comparisons (Figure 4)"
   ]
  },
  {
   "cell_type": "code",
   "execution_count": 40,
   "metadata": {},
   "outputs": [],
   "source": [
    "# Combinations\n",
    "# TODO: Potentially move each entry to dictionary, so changes in order\n",
    "#   are easier to propagate\n",
    "contrast_groupings = [\n",
    "    # (contrast name, contrast group, attention column, comparison column, target meta column, other target meta column)\n",
    "    # for contrast_name, contrast_group, column, comparison, target, target_comparison in contrast_groupings:\n",
    "    # TODO: Revise ethnicity prediction\n",
    "    ('c15x', 'AD', column_data, column_ad, 'Ethnicity', 'BRAAK_AD'),\n",
    "    # ('c06x', 'AD', column_ad, column_data, 'BRAAK_AD'),  # Eventually SCZ, BP and such\n",
    "    # ('c71x', 'MoodDys', column_data, column_ad, 'nps_MoodDysCurValue'),  # Dysphoria\n",
    "    # ('c72x', 'DecInt', column_data, column_ad, 'nps_DecIntCurValue'),  # Anhedonia\n",
    "]\n"
   ]
  },
  {
   "cell_type": "markdown",
   "metadata": {},
   "source": [
    "### 4A Variance Heatmap"
   ]
  },
  {
   "cell_type": "code",
   "execution_count": 35,
   "metadata": {},
   "outputs": [
    {
     "name": "stdout",
     "output_type": "stream",
     "text": [
      "c15x - att_D_no_prior_0\n",
      "No threshold provided, using threshold of 0.017553121661133885.\n",
      "Removing duplicate edges...\n"
     ]
    },
    {
     "name": "stderr",
     "output_type": "stream",
     "text": [
      "100%|███████████████████████████████████████████████████████████████████████| 698279/698279 [00:02<00:00, 309781.98it/s]\n"
     ]
    },
    {
     "name": "stdout",
     "output_type": "stream",
     "text": [
      "Filtered from 5030 vertices and 270687 edges to 1463 vertices and 10173 edges via common edge filtering.\n",
      "No threshold provided, using threshold of 0.04979338607285737.\n",
      "Removing duplicate edges...\n"
     ]
    },
    {
     "name": "stderr",
     "output_type": "stream",
     "text": [
      "100%|███████████████████████████████████████████████████████████████████████| 146728/146728 [00:00<00:00, 312538.86it/s]\n"
     ]
    },
    {
     "name": "stdout",
     "output_type": "stream",
     "text": [
      "Filtered from 4719 vertices and 81268 edges to 684 vertices and 3350 edges via common edge filtering.\n",
      "Collecting edges...\n"
     ]
    },
    {
     "name": "stderr",
     "output_type": "stream",
     "text": [
      "100%|███████████████████████████████████████████████████████████████████████████| 10173/10173 [00:01<00:00, 7498.59it/s]\n"
     ]
    },
    {
     "name": "stdout",
     "output_type": "stream",
     "text": [
      "Collecting edges...\n"
     ]
    },
    {
     "name": "stderr",
     "output_type": "stream",
     "text": [
      "100%|████████████████████████████████████████████████████████████████████████████| 3350/3350 [00:00<00:00, 22346.14it/s]\n"
     ]
    },
    {
     "name": "stdout",
     "output_type": "stream",
     "text": [
      "No threshold provided, using threshold of 0.01546432984072714.\n",
      "Removing duplicate edges...\n"
     ]
    },
    {
     "name": "stderr",
     "output_type": "stream",
     "text": [
      "100%|███████████████████████████████████████████████████████████████████████| 845007/845007 [00:02<00:00, 310301.53it/s]\n"
     ]
    },
    {
     "name": "stdout",
     "output_type": "stream",
     "text": [
      "Filtered from 5039 vertices and 315575 edges to 1488 vertices and 10734 edges via common edge filtering.\n",
      "Collecting edges...\n"
     ]
    },
    {
     "name": "stderr",
     "output_type": "stream",
     "text": [
      "100%|███████████████████████████████████████████████████████████████████████████| 10734/10734 [00:01<00:00, 6635.70it/s]\n",
      "/tmp/ipykernel_700/1238480732.py:15: UserWarning: The figure layout has changed to tight\n",
      "  plt.tight_layout()\n"
     ]
    },
    {
     "name": "stdout",
     "output_type": "stream",
     "text": [
      "c15x - att_D_AD_1\n",
      "No threshold provided, using threshold of 0.017553121661133885.\n",
      "Removing duplicate edges...\n"
     ]
    },
    {
     "name": "stderr",
     "output_type": "stream",
     "text": [
      "100%|███████████████████████████████████████████████████████████████████████| 698279/698279 [00:02<00:00, 314327.01it/s]\n"
     ]
    },
    {
     "name": "stdout",
     "output_type": "stream",
     "text": [
      "Filtered from 5030 vertices and 270687 edges to 1463 vertices and 10173 edges via common edge filtering.\n",
      "No threshold provided, using threshold of 0.04979338607285737.\n",
      "Removing duplicate edges...\n"
     ]
    },
    {
     "name": "stderr",
     "output_type": "stream",
     "text": [
      "100%|███████████████████████████████████████████████████████████████████████| 146728/146728 [00:00<00:00, 324060.76it/s]\n"
     ]
    },
    {
     "name": "stdout",
     "output_type": "stream",
     "text": [
      "Filtered from 4719 vertices and 81268 edges to 684 vertices and 3350 edges via common edge filtering.\n",
      "Collecting edges...\n"
     ]
    },
    {
     "name": "stderr",
     "output_type": "stream",
     "text": [
      "100%|███████████████████████████████████████████████████████████████████████████| 10173/10173 [00:01<00:00, 8249.59it/s]\n"
     ]
    },
    {
     "name": "stdout",
     "output_type": "stream",
     "text": [
      "Collecting edges...\n"
     ]
    },
    {
     "name": "stderr",
     "output_type": "stream",
     "text": [
      "100%|████████████████████████████████████████████████████████████████████████████| 3350/3350 [00:00<00:00, 24357.50it/s]\n"
     ]
    },
    {
     "name": "stdout",
     "output_type": "stream",
     "text": [
      "No threshold provided, using threshold of 0.01546432984072714.\n",
      "Removing duplicate edges...\n"
     ]
    },
    {
     "name": "stderr",
     "output_type": "stream",
     "text": [
      "100%|███████████████████████████████████████████████████████████████████████| 845007/845007 [00:02<00:00, 318097.24it/s]\n"
     ]
    },
    {
     "name": "stdout",
     "output_type": "stream",
     "text": [
      "Filtered from 5039 vertices and 315575 edges to 1488 vertices and 10734 edges via common edge filtering.\n",
      "Collecting edges...\n"
     ]
    },
    {
     "name": "stderr",
     "output_type": "stream",
     "text": [
      "100%|███████████████████████████████████████████████████████████████████████████| 10734/10734 [00:01<00:00, 6827.90it/s]\n",
      "/tmp/ipykernel_700/1238480732.py:15: UserWarning: The figure layout has changed to tight\n",
      "  plt.tight_layout()\n"
     ]
    }
   ],
   "source": [
    "# Get plots for each column\n",
    "for contrast_name, _, column, comparison, _, _ in contrast_groupings:\n",
    "    for col in (column, comparison):\n",
    "        print(' - '.join((contrast_name, col)))\n",
    "\n",
    "        # Get contrast\n",
    "        contrast = get_contrast(contrast_name)\n",
    "\n",
    "        # Compute\n",
    "        df_subgroup = compute_contrast_summary(contrast, column=col)\n",
    "\n",
    "        # Plot mean-sorted\n",
    "        fig, axs = get_mosaic([list(range(1))], scale=9)\n",
    "        plot_subgroup_heatmap(df_subgroup, ax=axs[0])\n",
    "        plt.tight_layout()\n",
    "        fig.savefig(f'../plots/group_variance_heatmap_{contrast_name}_{col}.pdf', format='pdf', transparent=True, backend='cairo')\n"
   ]
  },
  {
   "cell_type": "markdown",
   "metadata": {},
   "source": [
    "### 4B Distribution Comparison"
   ]
  },
  {
   "cell_type": "code",
   "execution_count": 39,
   "metadata": {},
   "outputs": [
    {
     "name": "stdout",
     "output_type": "stream",
     "text": [
      "c15x - att_D_no_prior_0 - Ethnicity\n",
      "No threshold provided, using threshold of 0.01546432984072714.\n",
      "Removing duplicate edges...\n"
     ]
    },
    {
     "name": "stderr",
     "output_type": "stream",
     "text": [
      "100%|███████████████████████████████████████████████████████████████████████| 845007/845007 [00:02<00:00, 327763.05it/s]\n"
     ]
    },
    {
     "name": "stdout",
     "output_type": "stream",
     "text": [
      "Filtered from 5039 vertices and 315575 edges to 1488 vertices and 10734 edges via common edge filtering.\n",
      "Collecting edges...\n"
     ]
    },
    {
     "name": "stderr",
     "output_type": "stream",
     "text": [
      "100%|███████████████████████████████████████████████████████████████████████████| 10734/10734 [00:01<00:00, 7225.57it/s]\n"
     ]
    },
    {
     "name": "stdout",
     "output_type": "stream",
     "text": [
      "No threshold provided, using threshold of 0.01546432984072714.\n",
      "Removing duplicate edges...\n"
     ]
    },
    {
     "name": "stderr",
     "output_type": "stream",
     "text": [
      "100%|███████████████████████████████████████████████████████████████████████| 845007/845007 [00:03<00:00, 248182.11it/s]\n"
     ]
    },
    {
     "name": "stdout",
     "output_type": "stream",
     "text": [
      "Filtered from 5039 vertices and 315575 edges to 1488 vertices and 10734 edges via common edge filtering.\n",
      "Collecting edges...\n"
     ]
    },
    {
     "name": "stderr",
     "output_type": "stream",
     "text": [
      "100%|███████████████████████████████████████████████████████████████████████████| 10734/10734 [00:01<00:00, 7209.93it/s]\n"
     ]
    },
    {
     "name": "stdout",
     "output_type": "stream",
     "text": [
      "\n"
     ]
    }
   ],
   "source": [
    "# TODO: Use highest variance rather than random edges\n",
    "# TODO: Make both columns same scale, maybe?\n",
    "for contrast_name, _, column, comparison, target, _ in contrast_groupings:\n",
    "    print(' - '.join((contrast_name, column, target)))\n",
    "    # Get contrast\n",
    "    contrast = get_contrast(contrast_name)\n",
    "\n",
    "    # Plot\n",
    "    fig, axs = get_mosaic([2*[0], 2*[1]], scale=3)\n",
    "    sns.despine()\n",
    "\n",
    "    _, edges_include = plot_BRAAK_comparison(\n",
    "        contrast,\n",
    "        # {k: v[:10] for k, v in contrast.items()},\n",
    "        meta=meta,\n",
    "        column=column,\n",
    "        target=target,\n",
    "        legend=False,\n",
    "        ax=axs[0])\n",
    "    plt.xlabel(None)\n",
    "    plt.ylabel(column)\n",
    "    plt.xticks([])\n",
    "\n",
    "    plot_BRAAK_comparison(\n",
    "        contrast,\n",
    "        meta=meta,\n",
    "        column=comparison,\n",
    "        target=target,\n",
    "        edges_include=edges_include,\n",
    "        ax=axs[1])\n",
    "    plt.ylabel(comparison)\n",
    "\n",
    "    fig.savefig(f'../plots/group_differential_expression_{contrast_name}_{column}_{comparison}_{target}.pdf', format='pdf', transparent=True, backend='cairo')\n",
    "    print()\n"
   ]
  },
  {
   "cell_type": "markdown",
   "metadata": {},
   "source": [
    "### 4C Cross-Validation Accuracies"
   ]
  },
  {
   "cell_type": "code",
   "execution_count": 41,
   "metadata": {},
   "outputs": [
    {
     "name": "stdout",
     "output_type": "stream",
     "text": [
      "c15x - att_D_no_prior_0 - Ethnicity\n",
      "No threshold provided, using threshold of 0.017553121661133885.\n",
      "Removing duplicate edges...\n"
     ]
    },
    {
     "name": "stderr",
     "output_type": "stream",
     "text": [
      "100%|███████████████████████████████████████████████████████████████████████| 698279/698279 [00:02<00:00, 317518.60it/s]\n"
     ]
    },
    {
     "name": "stdout",
     "output_type": "stream",
     "text": [
      "Filtered from 5030 vertices and 270687 edges to 1463 vertices and 10173 edges via common edge filtering.\n",
      "No threshold provided, using threshold of 0.04979338607285737.\n",
      "Removing duplicate edges...\n"
     ]
    },
    {
     "name": "stderr",
     "output_type": "stream",
     "text": [
      "100%|███████████████████████████████████████████████████████████████████████| 146728/146728 [00:00<00:00, 307304.66it/s]\n"
     ]
    },
    {
     "name": "stdout",
     "output_type": "stream",
     "text": [
      "Filtered from 4719 vertices and 81268 edges to 684 vertices and 3350 edges via common edge filtering.\n",
      "Collecting edges...\n"
     ]
    },
    {
     "name": "stderr",
     "output_type": "stream",
     "text": [
      "100%|███████████████████████████████████████████████████████████████████████████| 10173/10173 [00:01<00:00, 8003.11it/s]\n"
     ]
    },
    {
     "name": "stdout",
     "output_type": "stream",
     "text": [
      "Collecting edges...\n"
     ]
    },
    {
     "name": "stderr",
     "output_type": "stream",
     "text": [
      "100%|████████████████████████████████████████████████████████████████████████████| 3350/3350 [00:00<00:00, 23049.63it/s]\n"
     ]
    },
    {
     "name": "stdout",
     "output_type": "stream",
     "text": [
      "No threshold provided, using threshold of 0.01546432984072714.\n",
      "Removing duplicate edges...\n"
     ]
    },
    {
     "name": "stderr",
     "output_type": "stream",
     "text": [
      "100%|███████████████████████████████████████████████████████████████████████| 845007/845007 [00:02<00:00, 319710.15it/s]\n"
     ]
    },
    {
     "name": "stdout",
     "output_type": "stream",
     "text": [
      "Filtered from 5039 vertices and 315575 edges to 1488 vertices and 10734 edges via common edge filtering.\n",
      "Collecting edges...\n"
     ]
    },
    {
     "name": "stderr",
     "output_type": "stream",
     "text": [
      "100%|███████████████████████████████████████████████████████████████████████████| 10734/10734 [00:01<00:00, 6782.52it/s]\n"
     ]
    },
    {
     "name": "stdout",
     "output_type": "stream",
     "text": [
      "No threshold provided, using threshold of 0.01546432984072714.\n",
      "Removing duplicate edges...\n"
     ]
    },
    {
     "name": "stderr",
     "output_type": "stream",
     "text": [
      "100%|███████████████████████████████████████████████████████████████████████| 845007/845007 [00:02<00:00, 322522.42it/s]\n"
     ]
    },
    {
     "name": "stdout",
     "output_type": "stream",
     "text": [
      "Filtered from 5039 vertices and 315575 edges to 1488 vertices and 10734 edges via common edge filtering.\n",
      "Collecting edges...\n"
     ]
    },
    {
     "name": "stderr",
     "output_type": "stream",
     "text": [
      "100%|███████████████████████████████████████████████████████████████████████████| 10734/10734 [00:01<00:00, 6991.41it/s]\n"
     ]
    },
    {
     "name": "stdout",
     "output_type": "stream",
     "text": [
      "\n",
      "c15x - att_D_no_prior_0 - BRAAK_AD\n",
      "No threshold provided, using threshold of 0.017553121661133885.\n",
      "Removing duplicate edges...\n"
     ]
    },
    {
     "name": "stderr",
     "output_type": "stream",
     "text": [
      "100%|███████████████████████████████████████████████████████████████████████| 698279/698279 [00:02<00:00, 320423.04it/s]\n"
     ]
    },
    {
     "name": "stdout",
     "output_type": "stream",
     "text": [
      "Filtered from 5030 vertices and 270687 edges to 1463 vertices and 10173 edges via common edge filtering.\n",
      "No threshold provided, using threshold of 0.04979338607285737.\n",
      "Removing duplicate edges...\n"
     ]
    },
    {
     "name": "stderr",
     "output_type": "stream",
     "text": [
      "100%|███████████████████████████████████████████████████████████████████████| 146728/146728 [00:00<00:00, 314874.63it/s]\n"
     ]
    },
    {
     "name": "stdout",
     "output_type": "stream",
     "text": [
      "Filtered from 4719 vertices and 81268 edges to 684 vertices and 3350 edges via common edge filtering.\n",
      "Collecting edges...\n"
     ]
    },
    {
     "name": "stderr",
     "output_type": "stream",
     "text": [
      "100%|███████████████████████████████████████████████████████████████████████████| 10173/10173 [00:01<00:00, 7940.68it/s]\n"
     ]
    },
    {
     "name": "stdout",
     "output_type": "stream",
     "text": [
      "Collecting edges...\n"
     ]
    },
    {
     "name": "stderr",
     "output_type": "stream",
     "text": [
      "100%|████████████████████████████████████████████████████████████████████████████| 3350/3350 [00:00<00:00, 22981.13it/s]\n"
     ]
    },
    {
     "name": "stdout",
     "output_type": "stream",
     "text": [
      "No threshold provided, using threshold of 0.01546432984072714.\n",
      "Removing duplicate edges...\n"
     ]
    },
    {
     "name": "stderr",
     "output_type": "stream",
     "text": [
      "100%|███████████████████████████████████████████████████████████████████████| 845007/845007 [00:02<00:00, 320074.75it/s]\n"
     ]
    },
    {
     "name": "stdout",
     "output_type": "stream",
     "text": [
      "Filtered from 5039 vertices and 315575 edges to 1488 vertices and 10734 edges via common edge filtering.\n",
      "Collecting edges...\n"
     ]
    },
    {
     "name": "stderr",
     "output_type": "stream",
     "text": [
      "100%|███████████████████████████████████████████████████████████████████████████| 10734/10734 [00:01<00:00, 6633.76it/s]\n"
     ]
    },
    {
     "name": "stdout",
     "output_type": "stream",
     "text": [
      "No threshold provided, using threshold of 0.01546432984072714.\n",
      "Removing duplicate edges...\n"
     ]
    },
    {
     "name": "stderr",
     "output_type": "stream",
     "text": [
      "100%|███████████████████████████████████████████████████████████████████████| 845007/845007 [00:02<00:00, 316957.47it/s]\n"
     ]
    },
    {
     "name": "stdout",
     "output_type": "stream",
     "text": [
      "Filtered from 5039 vertices and 315575 edges to 1488 vertices and 10734 edges via common edge filtering.\n",
      "Collecting edges...\n"
     ]
    },
    {
     "name": "stderr",
     "output_type": "stream",
     "text": [
      "100%|███████████████████████████████████████████████████████████████████████████| 10734/10734 [00:01<00:00, 6880.93it/s]\n"
     ]
    },
    {
     "name": "stdout",
     "output_type": "stream",
     "text": [
      "\n"
     ]
    }
   ],
   "source": [
    "# TODO: Make all y-labels horizontal\n",
    "for contrast_name, _, column, _, target, target_comparison in contrast_groupings:\n",
    "    for tar in (target, target_comparison):\n",
    "        # if contrast_name != 'c71x': continue\n",
    "        print(' - '.join((contrast_name, column, tar)))\n",
    "        # Get contrast\n",
    "        contrast = get_contrast(contrast_name)\n",
    "\n",
    "        # Compute prioritized edges\n",
    "        # Get 100 most variant edges\n",
    "        # TODO: Revise this method, maybe also consider means\n",
    "        sids = sum([sids for _, sids in contrast.items()], [])\n",
    "        df_subgroup = compute_contrast_summary(contrast, column=column)\n",
    "        df = join_df_subgroup(df_subgroup, num_sort=100)\n",
    "        prioritized_edges = list(df.index)\n",
    "\n",
    "        # Plot\n",
    "        # TODO: Maybe return to row-normalization\n",
    "        fig, axs = get_mosaic([[0]], scale=9)\n",
    "        df, acc = plot_prediction_confusion(contrast, meta=meta, column=column, target=tar, prioritized_edges=prioritized_edges, classifier_type='SGD', ax=axs[0])\n",
    "\n",
    "        # Save plot\n",
    "        fname_prefix = f'../plots/group_prioritized_edge_prediction_{contrast_name}_{column}_{tar}'\n",
    "        fig.savefig(f'{fname_prefix}.pdf', format='pdf', transparent=True, backend='cairo')\n",
    "\n",
    "        # Save text\n",
    "        f_edges = open(f'{fname_prefix}.edges.txt', 'w')\n",
    "        f_tfs = open(f'{fname_prefix}.tfs.txt', 'w')\n",
    "        f_tgs = open(f'{fname_prefix}.tgs.txt', 'w')\n",
    "        for edge in prioritized_edges:\n",
    "            f_edges.write(edge + '\\n')\n",
    "            tf, tg = edge.split(get_edge_string(['', '']))\n",
    "            f_tfs.write(tf + '\\n')\n",
    "            f_tgs.write(tg + '\\n')\n",
    "        f_edges.close()\n",
    "        f_tfs.close()\n",
    "        f_tgs.close()\n",
    "\n",
    "        # CLI\n",
    "        print()\n"
   ]
  },
  {
   "cell_type": "markdown",
   "metadata": {},
   "source": [
    "## General"
   ]
  },
  {
   "cell_type": "markdown",
   "metadata": {},
   "source": [
    "### Graph Legend"
   ]
  },
  {
   "cell_type": "code",
   "execution_count": 38,
   "metadata": {},
   "outputs": [
    {
     "name": "stderr",
     "output_type": "stream",
     "text": [
      "/tmp/ipykernel_700/3570599204.py:5: UserWarning: The figure layout has changed to tight\n",
      "  plt.tight_layout()\n"
     ]
    }
   ],
   "source": [
    "# Plot legend\n",
    "plt.clf()\n",
    "plot_legend()\n",
    "plt.gca().axis('off')\n",
    "plt.tight_layout()\n",
    "plt.savefig(f'../plots/graph_legend.pdf', format='pdf', transparent=True, backend='cairo')\n"
   ]
  }
 ],
 "metadata": {
  "kernelspec": {
   "display_name": "GNN",
   "language": "python",
   "name": "gnn"
  },
  "language_info": {
   "codemirror_mode": {
    "name": "ipython",
    "version": 3
   },
   "file_extension": ".py",
   "mimetype": "text/x-python",
   "name": "python",
   "nbconvert_exporter": "python",
   "pygments_lexer": "ipython3",
   "version": "3.11.4"
  }
 },
 "nbformat": 4,
 "nbformat_minor": 2
}
