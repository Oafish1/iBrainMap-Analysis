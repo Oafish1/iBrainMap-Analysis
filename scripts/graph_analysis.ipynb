{
 "cells": [
  {
   "cell_type": "code",
   "execution_count": 1,
   "metadata": {
    "execution": {
     "iopub.execute_input": "2023-07-13T06:40:26.417400Z",
     "iopub.status.busy": "2023-07-13T06:40:26.417242Z",
     "iopub.status.idle": "2023-07-13T06:40:26.428582Z",
     "shell.execute_reply": "2023-07-13T06:40:26.427990Z"
    }
   },
   "outputs": [],
   "source": [
    "%load_ext autoreload\n",
    "%autoreload 2\n",
    "%matplotlib inline\n",
    "%matplotlib notebook\n"
   ]
  },
  {
   "cell_type": "code",
   "execution_count": 2,
   "metadata": {
    "execution": {
     "iopub.execute_input": "2023-07-13T06:40:26.430818Z",
     "iopub.status.busy": "2023-07-13T06:40:26.430522Z",
     "iopub.status.idle": "2023-07-13T06:40:27.436429Z",
     "shell.execute_reply": "2023-07-13T06:40:27.435960Z"
    }
   },
   "outputs": [],
   "source": [
    "import os\n",
    "\n",
    "import graph_tool.all as gt\n",
    "import matplotlib\n",
    "from matplotlib.colors import LogNorm\n",
    "import matplotlib.pyplot as plt\n",
    "import numpy as np\n",
    "import pandas as pd\n",
    "import seaborn as sns\n",
    "\n",
    "from functions import *\n",
    "\n",
    "\n",
    "# Graph-Tool compatibility\n",
    "plt.switch_backend('cairo')\n",
    "# Style\n",
    "sns.set_theme(context='talk', style='white', palette='Set2')\n",
    "matplotlib.rcParams['pdf.fonttype'] = 42\n",
    "matplotlib.rcParams['ps.fonttype'] = 42\n"
   ]
  },
  {
   "attachments": {},
   "cell_type": "markdown",
   "metadata": {},
   "source": [
    "# Meta and Parameters"
   ]
  },
  {
   "cell_type": "code",
   "execution_count": 3,
   "metadata": {},
   "outputs": [
    {
     "name": "stderr",
     "output_type": "stream",
     "text": [
      "/mnt/c/Users/nck/repos/GNN-Plus/Attention Analysis/scripts/functions/file.py:108: DtypeWarning: Columns (5,157,158,159,161,164,165,166,167,170,172,176,177,178,179,189,191,193,195,276,285,286,287,288,289,290,291,292,293,294,295,297,342,345,346,462,465,566,570,571,572,573,574,580,582,583,584,586,589,592,594,597,599,601,603,606,607,611,613,615,617,618,620,622,625,684,686) have mixed types. Specify dtype option on import or set low_memory=False.\n",
      "  return pd.read_csv(META)\n"
     ]
    },
    {
     "name": "stdout",
     "output_type": "stream",
     "text": [
      "\n",
      "Available attention columns: ['att_D_AD_1', 'att_D_AD_2', 'att_D_SCZ_1', 'att_D_SCZ_2', 'att_D_no_prior_0', 'att_D_no_prior_1', 'att_D_no_prior_2', 'att_D_no_prior_3']\n"
     ]
    }
   ],
   "source": [
    "# Load metadata\n",
    "meta = get_meta()\n",
    "\n",
    "# Subject preview\n",
    "filtered = []\n",
    "for i, row in meta.iterrows():\n",
    "    try:\n",
    "        load_graph_by_id(row['SubID'])\n",
    "        assert not np.isnan(row['nps_MoodDysCurValue'])  # Has NPS information available\n",
    "        # assert row['BRAAK_AD'] in (3, 4, 5)\n",
    "    except:\n",
    "        continue\n",
    "    filtered.append(f'{row[\"SubID\"]} {row[\"Ethnicity\"]} {row[\"Sex\"]}, {row[\"Age\"]}, BRAAK {row[\"BRAAK_AD\"]}')\n",
    "filtered = np.sort(filtered)\n",
    "for i in range(len(filtered)):\n",
    "    print(filtered[i])\n",
    "\n",
    "# Parameters\n",
    "print(f'\\nAvailable attention columns: {get_attention_columns()}')\n",
    "column_ad = get_attention_columns()[0]\n",
    "column_scz = get_attention_columns()[2]\n",
    "column_data = get_attention_columns()[4]\n",
    "synthetic_nodes_of_interest = ['OPC', 'Micro', 'Oligo', 'EN']\n"
   ]
  },
  {
   "cell_type": "markdown",
   "metadata": {},
   "source": [
    "# Plots"
   ]
  },
  {
   "cell_type": "markdown",
   "metadata": {},
   "source": [
    "## Individual Comparisons (Figure 3)"
   ]
  },
  {
   "cell_type": "code",
   "execution_count": 5,
   "metadata": {},
   "outputs": [],
   "source": [
    "individual_comparisons = [\n",
    "    # M19050 Hispanic Female, 74.0, BRAAK 5.0\n",
    "    # M59593 Hispanic Female, 76.0, BRAAK 5.0\n",
    "    # M72079 Black Female, 64.0, BRAAK 6.0\n",
    "    # M41496 Black Female, 76.0, BRAAK 4.0\n",
    "    # M11589 Black Female, 63.0, BRAAK 2.0\n",
    "    # M73342 Black Female, 62.0, BRAAK 0.0\n",
    "    # (subject_id_1, subject_id_2, column)\n",
    "    # for subject_id_1, subject_id_2, column in individual_comparisons:\n",
    "    ('M19050', 'M59593', column_ad),  # AD - AD\n",
    "    # ('M72079', 'M41496', column_ad),  # AD - High BRAAK\n",
    "    # ('M72079', 'M11589', column_ad),  # AD - Low BRAAK\n",
    "    # ('M72079', 'M73342', column_ad),  # AD - CTRL\n",
    "]\n",
    "palette = plt.rcParams['axes.prop_cycle'].by_key()['color']\n",
    "individual_colors = {\n",
    "    sid: rgba_to_hex(palette[i]) for i, sid in enumerate(\n",
    "        sum([list(comparison[:2]) for comparison in individual_comparisons], []))\n",
    "}\n",
    "\n",
    "# Verify all are available\n",
    "for subject_id_1, subject_id_2, column in individual_comparisons:\n",
    "    for sid in [subject_id_1, subject_id_2]:\n",
    "        load_graph_by_id(sid)\n"
   ]
  },
  {
   "cell_type": "markdown",
   "metadata": {},
   "source": [
    "### 3A Mini Plots"
   ]
  },
  {
   "cell_type": "code",
   "execution_count": 6,
   "metadata": {},
   "outputs": [
    {
     "name": "stdout",
     "output_type": "stream",
     "text": [
      "M19050 - M59593 - att_D_AD_1\n",
      "Removing duplicate edges...\n"
     ]
    },
    {
     "name": "stderr",
     "output_type": "stream",
     "text": [
      "100%|█████████████████████████████████████████████████████████████████████████████| 649/649 [00:00<00:00, 217942.62it/s]"
     ]
    },
    {
     "name": "stdout",
     "output_type": "stream",
     "text": [
      "Calculating positions...\n"
     ]
    },
    {
     "name": "stderr",
     "output_type": "stream",
     "text": [
      "\n"
     ]
    },
    {
     "name": "stdout",
     "output_type": "stream",
     "text": [
      "Removing duplicate edges...\n"
     ]
    },
    {
     "name": "stderr",
     "output_type": "stream",
     "text": [
      "100%|█████████████████████████████████████████████████████████████████████████████| 344/344 [00:00<00:00, 167538.39it/s]\n"
     ]
    },
    {
     "name": "stdout",
     "output_type": "stream",
     "text": [
      "Removing duplicate edges...\n"
     ]
    },
    {
     "name": "stderr",
     "output_type": "stream",
     "text": [
      "100%|█████████████████████████████████████████████████████████████████████████████| 305/305 [00:00<00:00, 185912.33it/s]\n"
     ]
    },
    {
     "name": "stdout",
     "output_type": "stream",
     "text": [
      "\n",
      "M72079 - M73342 - att_D_AD_1\n",
      "Removing duplicate edges...\n"
     ]
    },
    {
     "name": "stderr",
     "output_type": "stream",
     "text": [
      "100%|█████████████████████████████████████████████████████████████████████████████| 685/685 [00:00<00:00, 197179.21it/s]"
     ]
    },
    {
     "name": "stdout",
     "output_type": "stream",
     "text": [
      "Calculating positions...\n"
     ]
    },
    {
     "name": "stderr",
     "output_type": "stream",
     "text": [
      "\n"
     ]
    },
    {
     "name": "stdout",
     "output_type": "stream",
     "text": [
      "Removing duplicate edges...\n"
     ]
    },
    {
     "name": "stderr",
     "output_type": "stream",
     "text": [
      "100%|█████████████████████████████████████████████████████████████████████████████| 332/332 [00:00<00:00, 271497.16it/s]\n"
     ]
    },
    {
     "name": "stdout",
     "output_type": "stream",
     "text": [
      "Removing duplicate edges...\n"
     ]
    },
    {
     "name": "stderr",
     "output_type": "stream",
     "text": [
      "100%|█████████████████████████████████████████████████████████████████████████████| 353/353 [00:00<00:00, 235687.57it/s]\n"
     ]
    },
    {
     "name": "stdout",
     "output_type": "stream",
     "text": [
      "\n"
     ]
    }
   ],
   "source": [
    "for i, (subject_id_1, subject_id_2, column) in enumerate(individual_comparisons):\n",
    "    print(' - '.join((subject_id_1, subject_id_2, column)))\n",
    "\n",
    "    # Assemble\n",
    "    sids = [subject_id_1, subject_id_2]\n",
    "    gs = [compute_graph(load_graph_by_id(sid, column=column)) for sid in sids]\n",
    "\n",
    "    # Filter\n",
    "    gs = [\n",
    "        filter_to_synthetic_vertices(g.copy(), vertex_ids=synthetic_nodes_of_interest)\n",
    "        for g in gs\n",
    "    ]\n",
    "\n",
    "    # Recalculate\n",
    "    gs = [assign_vertex_properties(g) for g in gs]\n",
    "\n",
    "    # Plot\n",
    "    fig, axs = get_mosaic([list(range(2))], scale=9)\n",
    "    plot_graph_comparison(gs, axs=axs, subject_ids=sids)\n",
    "    fig.savefig(f'../plots/individual_mini_{\"-\".join(sids)}_{column}.pdf', format='pdf', transparent=True, backend='cairo')\n",
    "    print()\n"
   ]
  },
  {
   "cell_type": "markdown",
   "metadata": {},
   "source": [
    "### 3B Attention Comparisons"
   ]
  },
  {
   "cell_type": "code",
   "execution_count": 24,
   "metadata": {},
   "outputs": [
    {
     "name": "stdout",
     "output_type": "stream",
     "text": [
      "M19050 - M59593 - att_D_AD_1\n",
      "Removing duplicate edges...\n"
     ]
    },
    {
     "name": "stderr",
     "output_type": "stream",
     "text": [
      "100%|███████████████████████████████████████████████████████████████████████████| 3347/3347 [00:00<00:00, 240090.57it/s]\n",
      "/tmp/ipykernel_700/3732660470.py:16: UserWarning: The figure layout has changed to tight\n",
      "  plt.tight_layout()\n"
     ]
    },
    {
     "name": "stdout",
     "output_type": "stream",
     "text": [
      "\n",
      "M19050 - M59593 - att_D_AD_2\n",
      "Removing duplicate edges...\n"
     ]
    },
    {
     "name": "stderr",
     "output_type": "stream",
     "text": [
      "100%|███████████████████████████████████████████████████████████████████████████| 3347/3347 [00:00<00:00, 228120.96it/s]\n",
      "/tmp/ipykernel_700/3732660470.py:16: UserWarning: The figure layout has changed to tight\n",
      "  plt.tight_layout()\n"
     ]
    },
    {
     "name": "stdout",
     "output_type": "stream",
     "text": [
      "\n",
      "M19050 - M59593 - att_D_SCZ_1\n",
      "Removing duplicate edges...\n"
     ]
    },
    {
     "name": "stderr",
     "output_type": "stream",
     "text": [
      "100%|███████████████████████████████████████████████████████████████████████████| 3347/3347 [00:00<00:00, 252093.59it/s]\n",
      "/tmp/ipykernel_700/3732660470.py:16: UserWarning: The figure layout has changed to tight\n",
      "  plt.tight_layout()\n"
     ]
    },
    {
     "name": "stdout",
     "output_type": "stream",
     "text": [
      "\n",
      "M19050 - M59593 - att_D_SCZ_2\n",
      "Removing duplicate edges...\n"
     ]
    },
    {
     "name": "stderr",
     "output_type": "stream",
     "text": [
      "100%|███████████████████████████████████████████████████████████████████████████| 3347/3347 [00:00<00:00, 296480.16it/s]\n",
      "/tmp/ipykernel_700/3732660470.py:16: UserWarning: The figure layout has changed to tight\n",
      "  plt.tight_layout()\n"
     ]
    },
    {
     "name": "stdout",
     "output_type": "stream",
     "text": [
      "\n",
      "M19050 - M59593 - att_D_no_prior_0\n",
      "Removing duplicate edges...\n"
     ]
    },
    {
     "name": "stderr",
     "output_type": "stream",
     "text": [
      "100%|███████████████████████████████████████████████████████████████████████████| 3347/3347 [00:00<00:00, 250483.28it/s]\n",
      "/tmp/ipykernel_700/3732660470.py:16: UserWarning: The figure layout has changed to tight\n",
      "  plt.tight_layout()\n"
     ]
    },
    {
     "name": "stdout",
     "output_type": "stream",
     "text": [
      "\n",
      "M19050 - M59593 - att_D_no_prior_1\n",
      "Removing duplicate edges...\n"
     ]
    },
    {
     "name": "stderr",
     "output_type": "stream",
     "text": [
      "100%|███████████████████████████████████████████████████████████████████████████| 3347/3347 [00:00<00:00, 216393.86it/s]\n",
      "/tmp/ipykernel_700/3732660470.py:16: UserWarning: The figure layout has changed to tight\n",
      "  plt.tight_layout()\n"
     ]
    },
    {
     "name": "stdout",
     "output_type": "stream",
     "text": [
      "\n",
      "M19050 - M59593 - att_D_no_prior_2\n",
      "Removing duplicate edges...\n"
     ]
    },
    {
     "name": "stderr",
     "output_type": "stream",
     "text": [
      "100%|███████████████████████████████████████████████████████████████████████████| 3347/3347 [00:00<00:00, 259844.07it/s]\n",
      "/mnt/c/Users/nck/repos/GNN-Plus/Attention Analysis/scripts/functions/plotting.py:468: RuntimeWarning: More than 20 figures have been opened. Figures created through the pyplot interface (`matplotlib.pyplot.figure`) are retained until explicitly closed and may consume too much memory. (To control this warning, see the rcParam `figure.max_open_warning`). Consider using `matplotlib.pyplot.close()`.\n",
      "  fig = plt.figure(figsize=(scale*len(mosaic[0]), scale*len(mosaic)), constrained_layout=True)\n",
      "/tmp/ipykernel_700/3732660470.py:16: UserWarning: The figure layout has changed to tight\n",
      "  plt.tight_layout()\n"
     ]
    },
    {
     "name": "stdout",
     "output_type": "stream",
     "text": [
      "\n",
      "M19050 - M59593 - att_D_no_prior_3\n",
      "Removing duplicate edges...\n"
     ]
    },
    {
     "name": "stderr",
     "output_type": "stream",
     "text": [
      "100%|███████████████████████████████████████████████████████████████████████████| 3347/3347 [00:00<00:00, 251917.16it/s]\n",
      "/tmp/ipykernel_700/3732660470.py:16: UserWarning: The figure layout has changed to tight\n",
      "  plt.tight_layout()\n"
     ]
    },
    {
     "name": "stdout",
     "output_type": "stream",
     "text": [
      "\n",
      "M72079 - M73342 - att_D_AD_1\n",
      "Removing duplicate edges...\n"
     ]
    },
    {
     "name": "stderr",
     "output_type": "stream",
     "text": [
      "100%|███████████████████████████████████████████████████████████████████████████| 3797/3797 [00:00<00:00, 276979.59it/s]\n",
      "/tmp/ipykernel_700/3732660470.py:16: UserWarning: The figure layout has changed to tight\n",
      "  plt.tight_layout()\n"
     ]
    },
    {
     "name": "stdout",
     "output_type": "stream",
     "text": [
      "\n",
      "M72079 - M73342 - att_D_AD_2\n",
      "Removing duplicate edges...\n"
     ]
    },
    {
     "name": "stderr",
     "output_type": "stream",
     "text": [
      "100%|███████████████████████████████████████████████████████████████████████████| 3797/3797 [00:00<00:00, 231321.22it/s]\n",
      "/tmp/ipykernel_700/3732660470.py:16: UserWarning: The figure layout has changed to tight\n",
      "  plt.tight_layout()\n"
     ]
    },
    {
     "name": "stdout",
     "output_type": "stream",
     "text": [
      "\n",
      "M72079 - M73342 - att_D_SCZ_1\n",
      "Removing duplicate edges...\n"
     ]
    },
    {
     "name": "stderr",
     "output_type": "stream",
     "text": [
      "100%|███████████████████████████████████████████████████████████████████████████| 3797/3797 [00:00<00:00, 238449.03it/s]\n",
      "/tmp/ipykernel_700/3732660470.py:16: UserWarning: The figure layout has changed to tight\n",
      "  plt.tight_layout()\n"
     ]
    },
    {
     "name": "stdout",
     "output_type": "stream",
     "text": [
      "\n",
      "M72079 - M73342 - att_D_SCZ_2\n",
      "Removing duplicate edges...\n"
     ]
    },
    {
     "name": "stderr",
     "output_type": "stream",
     "text": [
      "100%|███████████████████████████████████████████████████████████████████████████| 3797/3797 [00:00<00:00, 248731.37it/s]\n",
      "/tmp/ipykernel_700/3732660470.py:16: UserWarning: The figure layout has changed to tight\n",
      "  plt.tight_layout()\n"
     ]
    },
    {
     "name": "stdout",
     "output_type": "stream",
     "text": [
      "\n",
      "M72079 - M73342 - att_D_no_prior_0\n",
      "Removing duplicate edges...\n"
     ]
    },
    {
     "name": "stderr",
     "output_type": "stream",
     "text": [
      "100%|███████████████████████████████████████████████████████████████████████████| 3797/3797 [00:00<00:00, 233153.34it/s]\n",
      "/tmp/ipykernel_700/3732660470.py:16: UserWarning: The figure layout has changed to tight\n",
      "  plt.tight_layout()\n"
     ]
    },
    {
     "name": "stdout",
     "output_type": "stream",
     "text": [
      "\n",
      "M72079 - M73342 - att_D_no_prior_1\n",
      "Removing duplicate edges...\n"
     ]
    },
    {
     "name": "stderr",
     "output_type": "stream",
     "text": [
      "100%|███████████████████████████████████████████████████████████████████████████| 3797/3797 [00:00<00:00, 251155.53it/s]\n",
      "/tmp/ipykernel_700/3732660470.py:16: UserWarning: The figure layout has changed to tight\n",
      "  plt.tight_layout()\n"
     ]
    },
    {
     "name": "stdout",
     "output_type": "stream",
     "text": [
      "\n",
      "M72079 - M73342 - att_D_no_prior_2\n",
      "Removing duplicate edges...\n"
     ]
    },
    {
     "name": "stderr",
     "output_type": "stream",
     "text": [
      "100%|███████████████████████████████████████████████████████████████████████████| 3797/3797 [00:00<00:00, 302122.29it/s]\n",
      "/tmp/ipykernel_700/3732660470.py:16: UserWarning: The figure layout has changed to tight\n",
      "  plt.tight_layout()\n"
     ]
    },
    {
     "name": "stdout",
     "output_type": "stream",
     "text": [
      "\n",
      "M72079 - M73342 - att_D_no_prior_3\n",
      "Removing duplicate edges...\n"
     ]
    },
    {
     "name": "stderr",
     "output_type": "stream",
     "text": [
      "100%|███████████████████████████████████████████████████████████████████████████| 3797/3797 [00:00<00:00, 201237.98it/s]\n"
     ]
    },
    {
     "name": "stdout",
     "output_type": "stream",
     "text": [
      "\n"
     ]
    },
    {
     "name": "stderr",
     "output_type": "stream",
     "text": [
      "/tmp/ipykernel_700/3732660470.py:16: UserWarning: The figure layout has changed to tight\n",
      "  plt.tight_layout()\n"
     ]
    }
   ],
   "source": [
    "for subject_id_1, subject_id_2, _ in individual_comparisons:\n",
    "    for column in get_attention_columns():\n",
    "        print(' - '.join((subject_id_1, subject_id_2, column)))\n",
    "\n",
    "        # Assemble\n",
    "        sample_ids = [subject_id_1, subject_id_2]\n",
    "        graphs = [compute_graph(load_graph_by_id(sid, column=column)) for sid in sample_ids]\n",
    "\n",
    "        # Get graph\n",
    "        g = concatenate_graphs(*graphs, threshold=False)\n",
    "        g = get_intersection(g)\n",
    "        g = cull_isolated_leaves(g)\n",
    "\n",
    "        fig, axs = get_mosaic([list(range(1))], scale=6)\n",
    "        df = plot_individual_edge_comparison(g, sample_ids, ax=axs[0])\n",
    "        plt.tight_layout()\n",
    "        fig.savefig(f'../plots/individual_edge_comparison_{\"-\".join((subject_id_1, subject_id_2))}_{column}.pdf', format='pdf', transparent=True, backend='cairo')\n",
    "        print()\n"
   ]
  },
  {
   "cell_type": "markdown",
   "metadata": {},
   "source": [
    "### 3C Pathway Enrichment (MANUAL)"
   ]
  },
  {
   "cell_type": "code",
   "execution_count": 8,
   "metadata": {},
   "outputs": [],
   "source": [
    "# Enrichment\n",
    "for subject_id_1, subject_id_2, column in individual_comparisons:\n",
    "    # Assemble\n",
    "    sample_ids = [subject_id_1, subject_id_2]\n",
    "    graphs = [load_graph_by_id(sid, column=column) for sid in sample_ids]\n",
    "    for i in range(len(graphs)):\n",
    "        # Remove self-loops\n",
    "        graphs[i] = graphs[i].loc[graphs[i].apply(lambda x: x['TF'] != x['TG'], axis=1)]\n",
    "\n",
    "        # Set index, combine tf and tg, rename coef column\n",
    "        graphs[i].index = graphs[i].apply(lambda x: get_edge_string([x['TF'], x['TG']]), axis=1)\n",
    "        graphs[i] = graphs[i].drop(columns=['TF', 'TG'])\n",
    "        graphs[i] = graphs[i].rename(columns={'coef': sample_ids[i]})\n",
    "\n",
    "        # Drop duplicates\n",
    "        # TODO: Why are there duplicates?\n",
    "        graphs[i] = graphs[i].drop_duplicates()\n",
    "\n",
    "    # Filter to common graphs and join\n",
    "    graphs = graphs[0].join(graphs[1], how='inner')\n",
    "\n",
    "    # Get differentially expressed genes\n",
    "    graphs['Difference'] = np.abs(graphs[subject_id_1] - graphs[subject_id_2])\n",
    "    graphs = graphs.sort_values('Difference', ascending=False)\n",
    "\n",
    "    # Write to file\n",
    "    fname_prefix = f'../plots/individual_pathway_enrichment_{\"-\".join((subject_id_1, subject_id_2))}_{column}'\n",
    "    f_tfs = open(fname_prefix + '.tfs.txt', 'w')\n",
    "    f_tgs = open(fname_prefix + '.tgs.txt', 'w')\n",
    "    f_edges = open(fname_prefix + '.edges.txt', 'w')\n",
    "    for edge in graphs.index:\n",
    "        # TODO: Only show unique tf, tg, maybe?\n",
    "        f_edges.write(edge + '\\t' + f'{graphs.loc[edge, \"Difference\"]:.5f}' + '\\n')\n",
    "        tf, tg = edge.split(get_edge_string())\n",
    "        # Don't show synthetic nodes\n",
    "        if not string_is_synthetic(tf): f_tfs.write(tf + '\\n')\n",
    "        if not string_is_synthetic(tg): f_tgs.write(tg + '\\n')\n",
    "    f_tfs.close()\n",
    "    f_tgs.close()\n",
    "    f_edges.close()\n",
    "\n",
    "    # MANUAL PROCESSING\n",
    "    # Run the output from '<fname_prefix>.xxs.txt' in DisGeNet, save file\n",
    "    # from Enrichment_QC/GO_DisGeNET as '<fname_prefix>.xxs.csv'\n",
    "\n",
    "    # Plot enrichments\n",
    "    get_enrichment_file = lambda x: f'{fname_prefix}.{x}'\n",
    "    for ftype in ['tfs', 'tgs']:\n",
    "        # Get file name\n",
    "        fname = get_enrichment_file(ftype)\n",
    "\n",
    "        # Get enrichment\n",
    "        enrichment = get_enrichment(fname)\n",
    "        if enrichment is None: continue\n",
    "\n",
    "        # Plot\n",
    "        fig, axs = get_mosaic([list(range(1))], scale=9)\n",
    "        plot_enrichment(enrichment, ax=axs[0])\n",
    "        fig.savefig(fname + '.pdf', format='pdf', transparent=True, backend='cairo')\n",
    "\n",
    "        # Plot\n",
    "        fig, axs = get_mosaic([list(range(1))], scale=9)\n",
    "        plot_enrichment(enrichment, ax=axs[0])\n",
    "        fig.savefig(fname + '.pdf', format='pdf', transparent=True, backend='cairo')\n"
   ]
  },
  {
   "cell_type": "markdown",
   "metadata": {},
   "source": [
    "### 3D Attention Heatmap"
   ]
  },
  {
   "cell_type": "code",
   "execution_count": 9,
   "metadata": {},
   "outputs": [],
   "source": [
    "# Parameters\n",
    "column = column_ad\n",
    "subject_ids = meta['SubID'].to_numpy()\n",
    "\n",
    "# Load graphs\n",
    "graphs, subject_ids = load_many_graphs(subject_ids, column=get_attention_columns())\n",
    "# graphs = [compute_graph(g) for g in graphs]\n",
    "\n",
    "# # Get attentions\n",
    "# df = {}\n",
    "# for column in get_attention_columns():\n",
    "#     attention, _ = compute_edge_summary(graphs, subject_ids=subject_ids)\n",
    "#     attention = attention.set_index('Edge')\n",
    "#     df[column] = attention.var(axis=1)\n"
   ]
  },
  {
   "cell_type": "code",
   "execution_count": 10,
   "metadata": {},
   "outputs": [
    {
     "name": "stdout",
     "output_type": "stream",
     "text": [
      "Fixing indices...\n"
     ]
    },
    {
     "name": "stderr",
     "output_type": "stream",
     "text": [
      "  0%|                                                                                           | 0/616 [00:00<?, ?it/s]"
     ]
    },
    {
     "name": "stderr",
     "output_type": "stream",
     "text": [
      "100%|████████████████████████████████████████████████████████████████████████████████| 616/616 [00:04<00:00, 136.45it/s]\n"
     ]
    },
    {
     "name": "stdout",
     "output_type": "stream",
     "text": [
      "Getting unique edges...\n",
      "Standardizing indices...\n"
     ]
    },
    {
     "name": "stderr",
     "output_type": "stream",
     "text": [
      "100%|█████████████████████████████████████████████████████████████████████████████████| 616/616 [06:06<00:00,  1.68it/s]\n"
     ]
    }
   ],
   "source": [
    "# Set indices to edges and clean\n",
    "print('Fixing indices...')\n",
    "for i in tqdm(range(len(graphs))):\n",
    "    graphs[i].index = graphs[i].apply(lambda r: get_edge_string([r['TF'], r['TG']]), axis=1)\n",
    "    graphs[i] = graphs[i].drop(columns=['TF', 'TG'])\n",
    "    # Remove duplicates\n",
    "    graphs[i] = graphs[i][~graphs[i].index.duplicated(keep='first')]\n",
    "\n",
    "# Get all unique edges\n",
    "print('Getting unique edges...')\n",
    "all_edges = np.unique(sum([list(g.index) for g in graphs], []))\n",
    "\n",
    "\n",
    "# Standardize index order\n",
    "print('Standardizing indices...')\n",
    "for i in tqdm(range(len(graphs))):\n",
    "    # Add missing indices and order based on `all_edges`\n",
    "    # to_add = [edge for edge in all_edges if edge not in list(graphs[i].index)]  # SLOW\n",
    "    to_add = list(set(all_edges) - set(graphs[i].index))\n",
    "\n",
    "    # Empty rows\n",
    "    new_rows = pd.DataFrame(\n",
    "        [[np.nan]*len(graphs[i].columns)]*len(to_add),\n",
    "        columns=graphs[i].columns,\n",
    "    ).set_index(pd.Series(to_add))\n",
    "    # Native concat\n",
    "    graphs[i] = pd.concat([graphs[i], new_rows]).loc[all_edges]\n",
    "\n",
    "# Convert to numpy\n",
    "graphs = [g.to_numpy() for g in graphs]\n",
    "attention_stack = np.stack(graphs, axis=-1)\n",
    "# attention_stack.shape = (Edge, Head, Subject)\n",
    "# attention_stack.shape = (all_edges, get_attention_columns(), subject_ids)\n"
   ]
  },
  {
   "cell_type": "code",
   "execution_count": 32,
   "metadata": {},
   "outputs": [],
   "source": [
    "# Calculate heatmap\n",
    "variance = np.var(np.nan_to_num(attention_stack), axis=2)\n",
    "df = pd.DataFrame(variance, index=all_edges, columns=get_attention_columns())\n"
   ]
  },
  {
   "cell_type": "code",
   "execution_count": 33,
   "metadata": {},
   "outputs": [],
   "source": [
    "\n",
    "\n",
    "fig, axs = get_mosaic([[0,0,0,0]]*6, scale=3)\n",
    "sns.heatmap(data=df, ax=axs[0])  # , norm=LogNorm()\n",
    "fig.savefig(f'../plots/individual_edge_variance_heatmap.pdf', format='pdf', transparent=True, backend='cairo')\n",
    "plt.show()\n"
   ]
  },
  {
   "cell_type": "markdown",
   "metadata": {},
   "source": [
    "### 3E Dosage Analysis"
   ]
  },
  {
   "cell_type": "code",
   "execution_count": 22,
   "metadata": {},
   "outputs": [
    {
     "name": "stderr",
     "output_type": "stream",
     "text": [
      "/mnt/c/Users/nck/repos/GNN-Plus/Attention Analysis/scripts/functions/file.py:112: DtypeWarning: Columns (20,24,25,57,59,61,90,145,231,249,270,271,286,292,297,318,355,397,437,510,511,627,632,646,662,702,732,738,761,786,804,805,833,837,868,891,913,918,924,953,954,955,956,957,958) have mixed types. Specify dtype option on import or set low_memory=False.\n",
      "  dosage = pd.read_csv(DOSAGE)\n",
      "/mnt/c/Users/nck/repos/GNN-Plus/Attention Analysis/scripts/functions/utility.py:1173: UserWarning: Unable to find SNP '8321' in metadata\n",
      "  warnings.warn(f'Unable to find SNP \\'{dosage_id}\\' in metadata')\n",
      "/mnt/c/Users/nck/repos/GNN-Plus/Attention Analysis/scripts/functions/utility.py:1173: UserWarning: Unable to find SNP '38162' in metadata\n",
      "  warnings.warn(f'Unable to find SNP \\'{dosage_id}\\' in metadata')\n",
      "/mnt/c/Users/nck/repos/GNN-Plus/Attention Analysis/scripts/functions/utility.py:1173: UserWarning: Unable to find SNP '208768' in metadata\n",
      "  warnings.warn(f'Unable to find SNP \\'{dosage_id}\\' in metadata')\n",
      "/mnt/c/Users/nck/repos/GNN-Plus/Attention Analysis/scripts/functions/utility.py:1173: UserWarning: Unable to find SNP '115724' in metadata\n",
      "  warnings.warn(f'Unable to find SNP \\'{dosage_id}\\' in metadata')\n",
      "/mnt/c/Users/nck/repos/GNN-Plus/Attention Analysis/scripts/functions/utility.py:1173: UserWarning: Unable to find SNP '207239' in metadata\n",
      "  warnings.warn(f'Unable to find SNP \\'{dosage_id}\\' in metadata')\n",
      "/mnt/c/Users/nck/repos/GNN-Plus/Attention Analysis/scripts/functions/utility.py:1173: UserWarning: Unable to find SNP '152322' in metadata\n",
      "  warnings.warn(f'Unable to find SNP \\'{dosage_id}\\' in metadata')\n",
      "/mnt/c/Users/nck/repos/GNN-Plus/Attention Analysis/scripts/functions/utility.py:1173: UserWarning: Unable to find SNP '189035' in metadata\n",
      "  warnings.warn(f'Unable to find SNP \\'{dosage_id}\\' in metadata')\n",
      "/mnt/c/Users/nck/repos/GNN-Plus/Attention Analysis/scripts/functions/utility.py:1173: UserWarning: Unable to find SNP '214625' in metadata\n",
      "  warnings.warn(f'Unable to find SNP \\'{dosage_id}\\' in metadata')\n",
      "/mnt/c/Users/nck/repos/GNN-Plus/Attention Analysis/scripts/functions/utility.py:1173: UserWarning: Unable to find SNP '201441' in metadata\n",
      "  warnings.warn(f'Unable to find SNP \\'{dosage_id}\\' in metadata')\n",
      "/mnt/c/Users/nck/repos/GNN-Plus/Attention Analysis/scripts/functions/utility.py:1173: UserWarning: Unable to find SNP '207680' in metadata\n",
      "  warnings.warn(f'Unable to find SNP \\'{dosage_id}\\' in metadata')\n",
      "/mnt/c/Users/nck/repos/GNN-Plus/Attention Analysis/scripts/functions/utility.py:1173: UserWarning: Unable to find SNP '34627' in metadata\n",
      "  warnings.warn(f'Unable to find SNP \\'{dosage_id}\\' in metadata')\n",
      "/mnt/c/Users/nck/repos/GNN-Plus/Attention Analysis/scripts/functions/utility.py:1173: UserWarning: Unable to find SNP '47415' in metadata\n",
      "  warnings.warn(f'Unable to find SNP \\'{dosage_id}\\' in metadata')\n",
      "/mnt/c/Users/nck/repos/GNN-Plus/Attention Analysis/scripts/functions/utility.py:1173: UserWarning: Unable to find SNP '208888' in metadata\n",
      "  warnings.warn(f'Unable to find SNP \\'{dosage_id}\\' in metadata')\n",
      "/mnt/c/Users/nck/repos/GNN-Plus/Attention Analysis/scripts/functions/utility.py:1173: UserWarning: Unable to find SNP '36388' in metadata\n",
      "  warnings.warn(f'Unable to find SNP \\'{dosage_id}\\' in metadata')\n",
      "/mnt/c/Users/nck/repos/GNN-Plus/Attention Analysis/scripts/functions/utility.py:1173: UserWarning: Unable to find SNP '112444' in metadata\n",
      "  warnings.warn(f'Unable to find SNP \\'{dosage_id}\\' in metadata')\n",
      "/mnt/c/Users/nck/repos/GNN-Plus/Attention Analysis/scripts/functions/utility.py:1173: UserWarning: Unable to find SNP '40206' in metadata\n",
      "  warnings.warn(f'Unable to find SNP \\'{dosage_id}\\' in metadata')\n",
      "/mnt/c/Users/nck/repos/GNN-Plus/Attention Analysis/scripts/functions/utility.py:1173: UserWarning: Unable to find SNP '35995' in metadata\n",
      "  warnings.warn(f'Unable to find SNP \\'{dosage_id}\\' in metadata')\n",
      "/mnt/c/Users/nck/repos/GNN-Plus/Attention Analysis/scripts/functions/utility.py:1173: UserWarning: Unable to find SNP '143013' in metadata\n",
      "  warnings.warn(f'Unable to find SNP \\'{dosage_id}\\' in metadata')\n",
      "/mnt/c/Users/nck/repos/GNN-Plus/Attention Analysis/scripts/functions/utility.py:1173: UserWarning: Unable to find SNP '142955' in metadata\n",
      "  warnings.warn(f'Unable to find SNP \\'{dosage_id}\\' in metadata')\n",
      "/mnt/c/Users/nck/repos/GNN-Plus/Attention Analysis/scripts/functions/utility.py:1173: UserWarning: Unable to find SNP '214948' in metadata\n",
      "  warnings.warn(f'Unable to find SNP \\'{dosage_id}\\' in metadata')\n",
      "/mnt/c/Users/nck/repos/GNN-Plus/Attention Analysis/scripts/functions/utility.py:1173: UserWarning: Unable to find SNP '115629' in metadata\n",
      "  warnings.warn(f'Unable to find SNP \\'{dosage_id}\\' in metadata')\n",
      "/mnt/c/Users/nck/repos/GNN-Plus/Attention Analysis/scripts/functions/utility.py:1173: UserWarning: Unable to find SNP '189454' in metadata\n",
      "  warnings.warn(f'Unable to find SNP \\'{dosage_id}\\' in metadata')\n",
      "/mnt/c/Users/nck/repos/GNN-Plus/Attention Analysis/scripts/functions/utility.py:1173: UserWarning: Unable to find SNP '167162' in metadata\n",
      "  warnings.warn(f'Unable to find SNP \\'{dosage_id}\\' in metadata')\n",
      "/mnt/c/Users/nck/repos/GNN-Plus/Attention Analysis/scripts/functions/utility.py:1173: UserWarning: Unable to find SNP '184231' in metadata\n",
      "  warnings.warn(f'Unable to find SNP \\'{dosage_id}\\' in metadata')\n",
      "/mnt/c/Users/nck/repos/GNN-Plus/Attention Analysis/scripts/functions/utility.py:1173: UserWarning: Unable to find SNP '207731' in metadata\n",
      "  warnings.warn(f'Unable to find SNP \\'{dosage_id}\\' in metadata')\n",
      "/mnt/c/Users/nck/repos/GNN-Plus/Attention Analysis/scripts/functions/utility.py:1173: UserWarning: Unable to find SNP '208751' in metadata\n",
      "  warnings.warn(f'Unable to find SNP \\'{dosage_id}\\' in metadata')\n",
      "/mnt/c/Users/nck/repos/GNN-Plus/Attention Analysis/scripts/functions/utility.py:1173: UserWarning: Unable to find SNP '143004' in metadata\n",
      "  warnings.warn(f'Unable to find SNP \\'{dosage_id}\\' in metadata')\n",
      "/mnt/c/Users/nck/repos/GNN-Plus/Attention Analysis/scripts/functions/utility.py:1173: UserWarning: Unable to find SNP '184272' in metadata\n",
      "  warnings.warn(f'Unable to find SNP \\'{dosage_id}\\' in metadata')\n",
      "/mnt/c/Users/nck/repos/GNN-Plus/Attention Analysis/scripts/functions/utility.py:1173: UserWarning: Unable to find SNP '170421' in metadata\n",
      "  warnings.warn(f'Unable to find SNP \\'{dosage_id}\\' in metadata')\n",
      "/mnt/c/Users/nck/repos/GNN-Plus/Attention Analysis/scripts/functions/utility.py:1173: UserWarning: Unable to find SNP '198910' in metadata\n",
      "  warnings.warn(f'Unable to find SNP \\'{dosage_id}\\' in metadata')\n",
      "/mnt/c/Users/nck/repos/GNN-Plus/Attention Analysis/scripts/functions/utility.py:1173: UserWarning: Unable to find SNP '214900' in metadata\n",
      "  warnings.warn(f'Unable to find SNP \\'{dosage_id}\\' in metadata')\n",
      "/mnt/c/Users/nck/repos/GNN-Plus/Attention Analysis/scripts/functions/utility.py:1173: UserWarning: Unable to find SNP '152766' in metadata\n",
      "  warnings.warn(f'Unable to find SNP \\'{dosage_id}\\' in metadata')\n",
      "/mnt/c/Users/nck/repos/GNN-Plus/Attention Analysis/scripts/functions/utility.py:1173: UserWarning: Unable to find SNP '149696' in metadata\n",
      "  warnings.warn(f'Unable to find SNP \\'{dosage_id}\\' in metadata')\n",
      "/mnt/c/Users/nck/repos/GNN-Plus/Attention Analysis/scripts/functions/utility.py:1173: UserWarning: Unable to find SNP '214946' in metadata\n",
      "  warnings.warn(f'Unable to find SNP \\'{dosage_id}\\' in metadata')\n",
      "/mnt/c/Users/nck/repos/GNN-Plus/Attention Analysis/scripts/functions/utility.py:1173: UserWarning: Unable to find SNP '37067' in metadata\n",
      "  warnings.warn(f'Unable to find SNP \\'{dosage_id}\\' in metadata')\n",
      "/mnt/c/Users/nck/repos/GNN-Plus/Attention Analysis/scripts/functions/utility.py:1173: UserWarning: Unable to find SNP '151435' in metadata\n",
      "  warnings.warn(f'Unable to find SNP \\'{dosage_id}\\' in metadata')\n",
      "/mnt/c/Users/nck/repos/GNN-Plus/Attention Analysis/scripts/functions/utility.py:1173: UserWarning: Unable to find SNP '213213' in metadata\n",
      "  warnings.warn(f'Unable to find SNP \\'{dosage_id}\\' in metadata')\n",
      "/mnt/c/Users/nck/repos/GNN-Plus/Attention Analysis/scripts/functions/utility.py:1173: UserWarning: Unable to find SNP '214954' in metadata\n",
      "  warnings.warn(f'Unable to find SNP \\'{dosage_id}\\' in metadata')\n",
      "/mnt/c/Users/nck/repos/GNN-Plus/Attention Analysis/scripts/functions/utility.py:1173: UserWarning: Unable to find SNP '214911' in metadata\n",
      "  warnings.warn(f'Unable to find SNP \\'{dosage_id}\\' in metadata')\n",
      "/mnt/c/Users/nck/repos/GNN-Plus/Attention Analysis/scripts/functions/utility.py:1173: UserWarning: Unable to find SNP '205055' in metadata\n",
      "  warnings.warn(f'Unable to find SNP \\'{dosage_id}\\' in metadata')\n",
      "/mnt/c/Users/nck/repos/GNN-Plus/Attention Analysis/scripts/functions/utility.py:1173: UserWarning: Unable to find SNP '162916' in metadata\n",
      "  warnings.warn(f'Unable to find SNP \\'{dosage_id}\\' in metadata')\n",
      "/mnt/c/Users/nck/repos/GNN-Plus/Attention Analysis/scripts/functions/utility.py:1173: UserWarning: Unable to find SNP '214951' in metadata\n",
      "  warnings.warn(f'Unable to find SNP \\'{dosage_id}\\' in metadata')\n",
      "/mnt/c/Users/nck/repos/GNN-Plus/Attention Analysis/scripts/functions/utility.py:1173: UserWarning: Unable to find SNP '144513' in metadata\n",
      "  warnings.warn(f'Unable to find SNP \\'{dosage_id}\\' in metadata')\n",
      "/mnt/c/Users/nck/repos/GNN-Plus/Attention Analysis/scripts/functions/utility.py:1173: UserWarning: Unable to find SNP '37563' in metadata\n",
      "  warnings.warn(f'Unable to find SNP \\'{dosage_id}\\' in metadata')\n",
      "/mnt/c/Users/nck/repos/GNN-Plus/Attention Analysis/scripts/functions/utility.py:1173: UserWarning: Unable to find SNP '167276' in metadata\n",
      "  warnings.warn(f'Unable to find SNP \\'{dosage_id}\\' in metadata')\n",
      "/mnt/c/Users/nck/repos/GNN-Plus/Attention Analysis/scripts/functions/utility.py:1173: UserWarning: Unable to find SNP '141195' in metadata\n",
      "  warnings.warn(f'Unable to find SNP \\'{dosage_id}\\' in metadata')\n",
      "/mnt/c/Users/nck/repos/GNN-Plus/Attention Analysis/scripts/functions/utility.py:1173: UserWarning: Unable to find SNP '137112' in metadata\n",
      "  warnings.warn(f'Unable to find SNP \\'{dosage_id}\\' in metadata')\n",
      "/mnt/c/Users/nck/repos/GNN-Plus/Attention Analysis/scripts/functions/utility.py:1173: UserWarning: Unable to find SNP '214701' in metadata\n",
      "  warnings.warn(f'Unable to find SNP \\'{dosage_id}\\' in metadata')\n",
      "/mnt/c/Users/nck/repos/GNN-Plus/Attention Analysis/scripts/functions/utility.py:1173: UserWarning: Unable to find SNP '214904' in metadata\n",
      "  warnings.warn(f'Unable to find SNP \\'{dosage_id}\\' in metadata')\n",
      "/mnt/c/Users/nck/repos/GNN-Plus/Attention Analysis/scripts/functions/utility.py:1173: UserWarning: Unable to find SNP '140670' in metadata\n",
      "  warnings.warn(f'Unable to find SNP \\'{dosage_id}\\' in metadata')\n",
      "/mnt/c/Users/nck/repos/GNN-Plus/Attention Analysis/scripts/functions/utility.py:1173: UserWarning: Unable to find SNP '113771' in metadata\n",
      "  warnings.warn(f'Unable to find SNP \\'{dosage_id}\\' in metadata')\n",
      "/mnt/c/Users/nck/repos/GNN-Plus/Attention Analysis/scripts/functions/utility.py:1173: UserWarning: Unable to find SNP '113460' in metadata\n",
      "  warnings.warn(f'Unable to find SNP \\'{dosage_id}\\' in metadata')\n",
      "/mnt/c/Users/nck/repos/GNN-Plus/Attention Analysis/scripts/functions/utility.py:1173: UserWarning: Unable to find SNP '208781' in metadata\n",
      "  warnings.warn(f'Unable to find SNP \\'{dosage_id}\\' in metadata')\n",
      "/mnt/c/Users/nck/repos/GNN-Plus/Attention Analysis/scripts/functions/utility.py:1173: UserWarning: Unable to find SNP '182140' in metadata\n",
      "  warnings.warn(f'Unable to find SNP \\'{dosage_id}\\' in metadata')\n",
      "/mnt/c/Users/nck/repos/GNN-Plus/Attention Analysis/scripts/functions/utility.py:1173: UserWarning: Unable to find SNP '183891' in metadata\n",
      "  warnings.warn(f'Unable to find SNP \\'{dosage_id}\\' in metadata')\n",
      "/mnt/c/Users/nck/repos/GNN-Plus/Attention Analysis/scripts/functions/utility.py:1173: UserWarning: Unable to find SNP '42984' in metadata\n",
      "  warnings.warn(f'Unable to find SNP \\'{dosage_id}\\' in metadata')\n",
      "/mnt/c/Users/nck/repos/GNN-Plus/Attention Analysis/scripts/functions/utility.py:1173: UserWarning: Unable to find SNP '208104' in metadata\n",
      "  warnings.warn(f'Unable to find SNP \\'{dosage_id}\\' in metadata')\n",
      "/mnt/c/Users/nck/repos/GNN-Plus/Attention Analysis/scripts/functions/utility.py:1173: UserWarning: Unable to find SNP '214953' in metadata\n",
      "  warnings.warn(f'Unable to find SNP \\'{dosage_id}\\' in metadata')\n",
      "/mnt/c/Users/nck/repos/GNN-Plus/Attention Analysis/scripts/functions/utility.py:1173: UserWarning: Unable to find SNP '8361' in metadata\n",
      "  warnings.warn(f'Unable to find SNP \\'{dosage_id}\\' in metadata')\n",
      "/mnt/c/Users/nck/repos/GNN-Plus/Attention Analysis/scripts/functions/utility.py:1173: UserWarning: Unable to find SNP '198640' in metadata\n",
      "  warnings.warn(f'Unable to find SNP \\'{dosage_id}\\' in metadata')\n",
      "/mnt/c/Users/nck/repos/GNN-Plus/Attention Analysis/scripts/functions/utility.py:1173: UserWarning: Unable to find SNP '33325' in metadata\n",
      "  warnings.warn(f'Unable to find SNP \\'{dosage_id}\\' in metadata')\n",
      "/mnt/c/Users/nck/repos/GNN-Plus/Attention Analysis/scripts/functions/utility.py:1173: UserWarning: Unable to find SNP '37410' in metadata\n",
      "  warnings.warn(f'Unable to find SNP \\'{dosage_id}\\' in metadata')\n",
      "/mnt/c/Users/nck/repos/GNN-Plus/Attention Analysis/scripts/functions/utility.py:1173: UserWarning: Unable to find SNP '144015' in metadata\n",
      "  warnings.warn(f'Unable to find SNP \\'{dosage_id}\\' in metadata')\n",
      "/mnt/c/Users/nck/repos/GNN-Plus/Attention Analysis/scripts/functions/utility.py:1173: UserWarning: Unable to find SNP '207755' in metadata\n",
      "  warnings.warn(f'Unable to find SNP \\'{dosage_id}\\' in metadata')\n",
      "/mnt/c/Users/nck/repos/GNN-Plus/Attention Analysis/scripts/functions/utility.py:1173: UserWarning: Unable to find SNP '112670' in metadata\n",
      "  warnings.warn(f'Unable to find SNP \\'{dosage_id}\\' in metadata')\n",
      "/mnt/c/Users/nck/repos/GNN-Plus/Attention Analysis/scripts/functions/utility.py:1173: UserWarning: Unable to find SNP '201249' in metadata\n",
      "  warnings.warn(f'Unable to find SNP \\'{dosage_id}\\' in metadata')\n",
      "/mnt/c/Users/nck/repos/GNN-Plus/Attention Analysis/scripts/functions/utility.py:1173: UserWarning: Unable to find SNP '138858' in metadata\n",
      "  warnings.warn(f'Unable to find SNP \\'{dosage_id}\\' in metadata')\n",
      "/mnt/c/Users/nck/repos/GNN-Plus/Attention Analysis/scripts/functions/utility.py:1173: UserWarning: Unable to find SNP '184613' in metadata\n",
      "  warnings.warn(f'Unable to find SNP \\'{dosage_id}\\' in metadata')\n",
      "/mnt/c/Users/nck/repos/GNN-Plus/Attention Analysis/scripts/functions/utility.py:1173: UserWarning: Unable to find SNP '207762' in metadata\n",
      "  warnings.warn(f'Unable to find SNP \\'{dosage_id}\\' in metadata')\n",
      "/mnt/c/Users/nck/repos/GNN-Plus/Attention Analysis/scripts/functions/utility.py:1173: UserWarning: Unable to find SNP '144500' in metadata\n",
      "  warnings.warn(f'Unable to find SNP \\'{dosage_id}\\' in metadata')\n",
      "/mnt/c/Users/nck/repos/GNN-Plus/Attention Analysis/scripts/functions/utility.py:1173: UserWarning: Unable to find SNP '214955' in metadata\n",
      "  warnings.warn(f'Unable to find SNP \\'{dosage_id}\\' in metadata')\n",
      "/mnt/c/Users/nck/repos/GNN-Plus/Attention Analysis/scripts/functions/utility.py:1173: UserWarning: Unable to find SNP 'BM-22-7786' in metadata\n",
      "  warnings.warn(f'Unable to find SNP \\'{dosage_id}\\' in metadata')\n",
      "/mnt/c/Users/nck/repos/GNN-Plus/Attention Analysis/scripts/functions/utility.py:1173: UserWarning: Unable to find SNP '208723' in metadata\n",
      "  warnings.warn(f'Unable to find SNP \\'{dosage_id}\\' in metadata')\n",
      "/mnt/c/Users/nck/repos/GNN-Plus/Attention Analysis/scripts/functions/utility.py:1173: UserWarning: Unable to find SNP '137120' in metadata\n",
      "  warnings.warn(f'Unable to find SNP \\'{dosage_id}\\' in metadata')\n",
      "/mnt/c/Users/nck/repos/GNN-Plus/Attention Analysis/scripts/functions/utility.py:1173: UserWarning: Unable to find SNP 'BM-44-4996' in metadata\n",
      "  warnings.warn(f'Unable to find SNP \\'{dosage_id}\\' in metadata')\n",
      "/mnt/c/Users/nck/repos/GNN-Plus/Attention Analysis/scripts/functions/utility.py:1173: UserWarning: Unable to find SNP '35515' in metadata\n",
      "  warnings.warn(f'Unable to find SNP \\'{dosage_id}\\' in metadata')\n",
      "/mnt/c/Users/nck/repos/GNN-Plus/Attention Analysis/scripts/functions/utility.py:1173: UserWarning: Unable to find SNP '198112' in metadata\n",
      "  warnings.warn(f'Unable to find SNP \\'{dosage_id}\\' in metadata')\n",
      "/mnt/c/Users/nck/repos/GNN-Plus/Attention Analysis/scripts/functions/utility.py:1173: UserWarning: Unable to find SNP '177067' in metadata\n",
      "  warnings.warn(f'Unable to find SNP \\'{dosage_id}\\' in metadata')\n",
      "/mnt/c/Users/nck/repos/GNN-Plus/Attention Analysis/scripts/functions/utility.py:1173: UserWarning: Unable to find SNP '144478' in metadata\n",
      "  warnings.warn(f'Unable to find SNP \\'{dosage_id}\\' in metadata')\n",
      "/mnt/c/Users/nck/repos/GNN-Plus/Attention Analysis/scripts/functions/utility.py:1173: UserWarning: Unable to find SNP '208830' in metadata\n",
      "  warnings.warn(f'Unable to find SNP \\'{dosage_id}\\' in metadata')\n",
      "/mnt/c/Users/nck/repos/GNN-Plus/Attention Analysis/scripts/functions/utility.py:1173: UserWarning: Unable to find SNP '198940' in metadata\n",
      "  warnings.warn(f'Unable to find SNP \\'{dosage_id}\\' in metadata')\n",
      "/mnt/c/Users/nck/repos/GNN-Plus/Attention Analysis/scripts/functions/utility.py:1173: UserWarning: Unable to find SNP '207737' in metadata\n",
      "  warnings.warn(f'Unable to find SNP \\'{dosage_id}\\' in metadata')\n",
      "/mnt/c/Users/nck/repos/GNN-Plus/Attention Analysis/scripts/functions/utility.py:1173: UserWarning: Unable to find SNP '35260' in metadata\n",
      "  warnings.warn(f'Unable to find SNP \\'{dosage_id}\\' in metadata')\n",
      "/mnt/c/Users/nck/repos/GNN-Plus/Attention Analysis/scripts/functions/utility.py:1173: UserWarning: Unable to find SNP '143032' in metadata\n",
      "  warnings.warn(f'Unable to find SNP \\'{dosage_id}\\' in metadata')\n",
      "/mnt/c/Users/nck/repos/GNN-Plus/Attention Analysis/scripts/functions/utility.py:1173: UserWarning: Unable to find SNP '113123' in metadata\n",
      "  warnings.warn(f'Unable to find SNP \\'{dosage_id}\\' in metadata')\n",
      "/mnt/c/Users/nck/repos/GNN-Plus/Attention Analysis/scripts/functions/utility.py:1173: UserWarning: Unable to find SNP '144424' in metadata\n",
      "  warnings.warn(f'Unable to find SNP \\'{dosage_id}\\' in metadata')\n",
      "/mnt/c/Users/nck/repos/GNN-Plus/Attention Analysis/scripts/functions/utility.py:1173: UserWarning: Unable to find SNP '214734' in metadata\n",
      "  warnings.warn(f'Unable to find SNP \\'{dosage_id}\\' in metadata')\n",
      "/mnt/c/Users/nck/repos/GNN-Plus/Attention Analysis/scripts/functions/utility.py:1173: UserWarning: Unable to find SNP '208763' in metadata\n",
      "  warnings.warn(f'Unable to find SNP \\'{dosage_id}\\' in metadata')\n",
      "/mnt/c/Users/nck/repos/GNN-Plus/Attention Analysis/scripts/functions/utility.py:1173: UserWarning: Unable to find SNP 'RUSH-043\n",
      "' in metadata\n",
      "  warnings.warn(f'Unable to find SNP \\'{dosage_id}\\' in metadata')\n"
     ]
    },
    {
     "name": "stdout",
     "output_type": "stream",
     "text": [
      "No threshold provided, using threshold of 0.01381273008154222.\n",
      "Removing duplicate edges...\n"
     ]
    },
    {
     "name": "stderr",
     "output_type": "stream",
     "text": [
      "100%|█████████████████████████████████████████████████████████████████████| 1005000/1005000 [00:03<00:00, 302670.25it/s]\n"
     ]
    },
    {
     "name": "stdout",
     "output_type": "stream",
     "text": [
      "Filtered from 5047 vertices and 362559 edges to 1629 vertices and 12719 edges via common edge filtering.\n",
      "Collecting edges...\n"
     ]
    },
    {
     "name": "stderr",
     "output_type": "stream",
     "text": [
      "100%|███████████████████████████████████████████████████████████████████████████| 12719/12719 [00:02<00:00, 5782.52it/s]\n"
     ]
    }
   ],
   "source": [
    "# Parameters\n",
    "column = column_ad\n",
    "subject_ids = meta['SubID'].to_numpy()\n",
    "\n",
    "# Load graphs\n",
    "graphs, subject_ids = load_many_graphs(subject_ids, column=column)\n",
    "graphs = [compute_graph(g) for g in graphs]\n",
    "\n",
    "# Get dosage information\n",
    "dosage = get_dosage()\n",
    "dosage = convert_dosage_ids_to_subject_ids(dosage, meta=meta)\n",
    "\n",
    "# Get attention\n",
    "attention, _ = compute_edge_summary(graphs, subject_ids=subject_ids)\n",
    "attention = attention.set_index('Edge')\n"
   ]
  },
  {
   "cell_type": "code",
   "execution_count": 27,
   "metadata": {},
   "outputs": [
    {
     "data": {
      "text/plain": [
       "['SubID',\n",
       " 'Brain_bank',\n",
       " 'Age',\n",
       " 'Sex',\n",
       " 'Ethnicity',\n",
       " 'Education',\n",
       " 'PMI',\n",
       " 'Dx',\n",
       " 'pH',\n",
       " 'CERAD',\n",
       " 'BRAAK_AD',\n",
       " 'PLAQUE',\n",
       " 'BB',\n",
       " 'SubNum',\n",
       " 'Batch1_Barcode',\n",
       " 'Batch1_Storage.Type',\n",
       " 'Batch1_Brain.Region',\n",
       " 'Batch1_UoM',\n",
       " 'Batch1_Size',\n",
       " 'Batch2_Barcode',\n",
       " 'Batch2_Storage.Type',\n",
       " 'Batch2_Brain.Region',\n",
       " 'Batch2_UoM',\n",
       " 'Batch2_Size',\n",
       " 'Batch2_Loc.Type',\n",
       " 'Batch2_Loc',\n",
       " 'Batch2_Shell',\n",
       " 'Batch2_Box',\n",
       " 'CDRScore',\n",
       " 'CERAD_1',\n",
       " 'CERAD_2',\n",
       " 'Plq_Mn',\n",
       " 'HippoPlaquesValue',\n",
       " 'EntorPlaquesValue',\n",
       " 'AmygPlaquesValue',\n",
       " 'HippoPlaquesWCoresValue',\n",
       " 'EntorPlaquesWCoresValue',\n",
       " 'AmygPlaquesWCoresValue',\n",
       " 'HippoTanglesValue',\n",
       " 'EntorTanglesValue',\n",
       " 'AmygTanglesValue',\n",
       " 'HippoLewyValue',\n",
       " 'EntorLewyValue',\n",
       " 'AmygLewyValue',\n",
       " 'MidPlaquesValue',\n",
       " 'SupPlaquesValue',\n",
       " 'InfPlaquesValue',\n",
       " 'OcciPlaquesValue',\n",
       " 'MidPlaquesWCoresValue',\n",
       " 'SupPlaquesWCoresValue',\n",
       " 'InfPlaquesWCoresValue',\n",
       " 'OcciPlaquesWCoresValue',\n",
       " 'MidGliosisValue',\n",
       " 'SupGliosisValue',\n",
       " 'InfGliosisValue',\n",
       " 'OcciGliosisValue',\n",
       " 'MidLewyValue',\n",
       " 'SupLewyValue',\n",
       " 'InfLewyValue',\n",
       " 'OcciLewyValue',\n",
       " 'LewySubValue',\n",
       " 'LewyNucleusValue',\n",
       " 'LewyLocusValue',\n",
       " 'LewyDorsalVValue',\n",
       " 'MoodDysCurValue',\n",
       " 'MoodDysHxValue',\n",
       " 'DecIntCurValue',\n",
       " 'DecIntHxValue',\n",
       " 'WtLossCurValue',\n",
       " 'WtLossHxValue',\n",
       " 'DecAppCurValue',\n",
       " 'DecAppHxValue',\n",
       " 'WtGainCurValue',\n",
       " 'WtGainHxValue',\n",
       " 'EarlyInsomCurValue',\n",
       " 'EarlyInsomHxValue',\n",
       " 'MidInsomCurValue',\n",
       " 'MidInsomHxValue',\n",
       " 'LateInsomCurValue',\n",
       " 'LateInsomHxValue',\n",
       " 'HypersomCurValue',\n",
       " 'HypersomHxValue',\n",
       " 'PsychoAgiCurValue',\n",
       " 'PsychoAgiHxValue',\n",
       " 'PsychoRetardCurValue',\n",
       " 'PsychoRetardHxValue',\n",
       " 'FatCurValue',\n",
       " 'FatHxValue',\n",
       " 'WorthCurValue',\n",
       " 'WorthHxValue',\n",
       " 'DelCurValue',\n",
       " 'DelHxValue',\n",
       " 'RumCurValue',\n",
       " 'RumHxValue',\n",
       " 'ThoughtDeathCurValue',\n",
       " 'ThoughtDeathHxValue',\n",
       " 'Last2WkCurValue',\n",
       " 'Last2WkHxValue',\n",
       " 'SixMoCurValue',\n",
       " 'SixMoHxValue',\n",
       " 'LifeCurValue',\n",
       " 'LifeHxValue',\n",
       " 'DepCOntDemCurValue',\n",
       " 'DepContDemHxValue',\n",
       " 'CMC_individual_ID',\n",
       " 'CMC_ATACseq',\n",
       " 'CMC_ChIPSeq',\n",
       " 'CMC_microarray',\n",
       " 'CMC_proteomics',\n",
       " 'CMC_rnaSeq',\n",
       " 'CMC_SNP',\n",
       " 'CMC_WGS',\n",
       " 'AMPAD_msbb_individualID',\n",
       " 'Barcode_received',\n",
       " 'nps_MoodDysCurValue',\n",
       " 'nps_DecIntCurValue',\n",
       " 'nps_WtLossCurValue',\n",
       " 'nps_DecAppCurValue',\n",
       " 'nps_WtGainCurValue',\n",
       " 'nps_EarlyInsomCurValue',\n",
       " 'nps_MidInsomCurValue',\n",
       " 'nps_LateInsomCurValue',\n",
       " 'nps_HypersomCurValue',\n",
       " 'nps_PsychoAgiCurValue',\n",
       " 'nps_PsychoRetardCurValue',\n",
       " 'nps_FatCurValue',\n",
       " 'nps_WorthCurValue',\n",
       " 'nps_DelCurValue',\n",
       " 'nps_RumCurValue',\n",
       " 'nps_ThoughtDeathCurValue',\n",
       " 'nps_Last2WkCurValue',\n",
       " 'nps_SixMoCurValue',\n",
       " 'nps_LifeCurValue',\n",
       " 'nps_MoodDysHxValue',\n",
       " 'nps_DecIntHxValue',\n",
       " 'nps_WtLossHxValue',\n",
       " 'nps_DecAppHxValue',\n",
       " 'nps_WtGainHxValue',\n",
       " 'nps_EarlyInsomHxValue',\n",
       " 'nps_MidInsomHxValue',\n",
       " 'nps_LateInsomHxValue',\n",
       " 'nps_HypersomHxValue',\n",
       " 'nps_PsychoAgiHxValue',\n",
       " 'nps_PsychoRetardHxValue',\n",
       " 'nps_FatHxValue',\n",
       " 'nps_WorthHxValue',\n",
       " 'nps_DelHxValue',\n",
       " 'nps_RumHxValue',\n",
       " 'nps_ThoughtDeathHxValue',\n",
       " 'nps_Last2WkHxValue',\n",
       " 'nps_SixMoHxValue',\n",
       " 'nps_LifeHxValue',\n",
       " 'CERAD_1_text',\n",
       " 'CERAD_2_text',\n",
       " 'CERAD.1',\n",
       " 'Imaging_XENum',\n",
       " 'Dx.1',\n",
       " 'Projects',\n",
       " 'CMC..Yes.No.',\n",
       " 'Brain.Region',\n",
       " 'Mass..mg.',\n",
       " 'Box.Location',\n",
       " 'Dissection.ID',\n",
       " 'Aliquot.Box',\n",
       " 'Sample.Location',\n",
       " 'Individual.Notes',\n",
       " 'Individual.ID',\n",
       " 'Sex.1',\n",
       " 'Date.of.Death',\n",
       " 'Brain.Weight..in.grams.',\n",
       " 'primaryDiagnosisDetail',\n",
       " 'causeOfDeath',\n",
       " 'DescDeath',\n",
       " 'BMI..Traditional.',\n",
       " 'Height..Inches.',\n",
       " 'Weight..pounds.',\n",
       " 'Source.of.Autopsy',\n",
       " 'Years.of.Education',\n",
       " 'MaritalStatus',\n",
       " 'FormalinTissue',\n",
       " 'Toxicology.Screen..Alcohol',\n",
       " 'Toxicology.Screen..Antipsychotics',\n",
       " 'Toxicology.Screen..Antidepress',\n",
       " 'Toxicology.Screen..Moodstab',\n",
       " 'Toxicology.Screen..Benzos',\n",
       " 'Toxicology.Screen..Nicotine.Cotinine',\n",
       " 'Toxicology.Screen..THC',\n",
       " 'Toxicology.Screen..Cocaine',\n",
       " 'Toxicology.Screen..Opiates',\n",
       " 'CMC_SubID',\n",
       " 'CMC_ChIPseq_dissection_ID',\n",
       " 'Dissection_ID_equal',\n",
       " 'rnaSeq_isolation.RIN',\n",
       " 'rnaSeq_report.Exclude_Reason',\n",
       " 'X',\n",
       " 'study',\n",
       " 'emotional_neglect',\n",
       " 'family_pro_sep',\n",
       " 'financial_need',\n",
       " 'parental_intimidation',\n",
       " 'parental_violence',\n",
       " 'tot_adverse_exp',\n",
       " 'conscientiousness',\n",
       " 'extraversion_6',\n",
       " 'neuroticism_12',\n",
       " 'angerin',\n",
       " 'angertrait',\n",
       " 'disord_regiment',\n",
       " 'explor_rigid',\n",
       " 'extrav_reserv',\n",
       " 'haanticipatoryworry',\n",
       " 'hafatigability',\n",
       " 'hafearuncetainty',\n",
       " 'harmavoidance',\n",
       " 'hashyness',\n",
       " 'impul_reflect',\n",
       " 'nov_seek',\n",
       " 'ApoE_gt_fromBrainBank',\n",
       " 'tomm40_hap',\n",
       " 'age_first_ad_dx',\n",
       " 'cogdx',\n",
       " 'cognep_random_slope',\n",
       " 'cogng_random_slope',\n",
       " 'cognpo_random_slope',\n",
       " 'cognps_random_slope',\n",
       " 'cognse_random_slope',\n",
       " 'cognwo_random_slope',\n",
       " 'age_bl',\n",
       " 'marital_now_bl',\n",
       " 'spanish',\n",
       " 'alcohol_g_bl',\n",
       " 'ldai_bl',\n",
       " 'smoking',\n",
       " 'chd_cogact_freq',\n",
       " 'lifetime_cogact_freq_bl',\n",
       " 'ma_adult_cogact_freq',\n",
       " 'ya_adult_cogact_freq',\n",
       " 'cancer_bl',\n",
       " 'headinjrloc_bl',\n",
       " 'med_con_sum_bl',\n",
       " 'thyroid_bl',\n",
       " 'ad_reagan',\n",
       " 'gpath',\n",
       " 'niareagansc',\n",
       " 'amyloid',\n",
       " 'plaq_d',\n",
       " 'plaq_n',\n",
       " 'hspath_typ',\n",
       " 'dlbdx',\n",
       " 'nft',\n",
       " 'tangles',\n",
       " 'tdp_st4',\n",
       " 'arteriol_scler',\n",
       " 'caa_4gp',\n",
       " 'cvda_4gp2',\n",
       " 'ci_num2_gct',\n",
       " 'ci_num2_mct',\n",
       " 'cog_res_age12',\n",
       " 'cog_res_age40',\n",
       " 'tot_cog_res',\n",
       " 'early_hh_ses',\n",
       " 'income_bl',\n",
       " 'ladder_composite',\n",
       " 'mateduc',\n",
       " 'pareduc',\n",
       " 'pateduc',\n",
       " 'q40inc',\n",
       " 'als',\n",
       " 'cogdx_stroke',\n",
       " 'demceph',\n",
       " 'demcort',\n",
       " 'demdelir',\n",
       " 'demdep',\n",
       " 'demlewy',\n",
       " 'demmotor',\n",
       " 'demother',\n",
       " 'demothsp',\n",
       " 'dempark',\n",
       " 'dempicks',\n",
       " 'demppa',\n",
       " 'dempsp',\n",
       " 'demvasc',\n",
       " 'dxpark',\n",
       " 'r_depres_lv',\n",
       " 'hip_scl_3reg_yn',\n",
       " 'scaled_to',\n",
       " 'cogdx_text',\n",
       " 'ad_reagan_text',\n",
       " 'med_con_sum_bl_text',\n",
       " 'dlbdx_text',\n",
       " 'caa_4gp_text',\n",
       " 'cvda_4gp2_text',\n",
       " 'ci_num2_gct_text',\n",
       " 'ci_num2_mct_text',\n",
       " 'dxpark_text',\n",
       " 'cogdx_stroke_text',\n",
       " 'SubID.1',\n",
       " 'Comment',\n",
       " 'AD',\n",
       " 'MCI',\n",
       " 'Dementia',\n",
       " 'PD',\n",
       " 'PD_uncertain_plus_encephalitic',\n",
       " 'DLBD',\n",
       " 'FTD',\n",
       " 'ALS',\n",
       " 'NormPressHydrocephalus',\n",
       " 'ArgyrophilicGrain',\n",
       " 'CerebralAtrophy',\n",
       " 'Tauopathy',\n",
       " 'Others_Neurodegenerative',\n",
       " 'MS',\n",
       " 'PSP',\n",
       " 'Epilepsy',\n",
       " 'Seizures',\n",
       " 'Tumor',\n",
       " 'Migraine_headaches',\n",
       " 'Head_Injury',\n",
       " 'Vascular',\n",
       " 'Others_Neurological',\n",
       " 'Leucotomy',\n",
       " 'SCZ',\n",
       " 'MDD',\n",
       " 'BD_unspecific',\n",
       " 'BD_I',\n",
       " 'BD_II',\n",
       " 'PTSD',\n",
       " 'ADHD',\n",
       " 'OCD',\n",
       " 'Tardive_Dyskinesia_Neuroleptic_induced',\n",
       " 'Schizoaffective_bipolar',\n",
       " 'Schizoaffective_depressive',\n",
       " 'Anorexia',\n",
       " 'Bulimia',\n",
       " 'Anxiety',\n",
       " 'Binge_Purge',\n",
       " 'Eating_disorder',\n",
       " 'Others_Neuropsychiatric',\n",
       " 'Diabetes_mellitus_unspecified',\n",
       " 'ASHCVD',\n",
       " 'TD_I',\n",
       " 'TD_II',\n",
       " 'is_problematic',\n",
       " 'BRAAK_old',\n",
       " 'BRAAK_PD',\n",
       " 'SNParray_PsychAD',\n",
       " 'Dx_text',\n",
       " 'Microglia_ID',\n",
       " 'RUSH_ID',\n",
       " 'ADSP_SampleId',\n",
       " 'SNParray_CommonMind',\n",
       " 'WGS_CommonMind',\n",
       " 'snRNAseq_ID',\n",
       " 'snRNAseq_ID_count',\n",
       " 'prs_AD2',\n",
       " 'prs_ADHD_2010',\n",
       " 'prs_ADHD_2021',\n",
       " 'prs_adhd_or_asd',\n",
       " 'prs_Alc_bin',\n",
       " 'prs_Alc_cont',\n",
       " 'prs_als2021',\n",
       " 'prs_alzKunkle',\n",
       " 'prs_alzKunkleNoapoe',\n",
       " 'prs_AN',\n",
       " 'prs_ANX_CC',\n",
       " 'prs_ANX_FS',\n",
       " 'prs_asd',\n",
       " 'prs_ASD',\n",
       " 'prs_BED_MVP_ML_BMI_best',\n",
       " 'prs_BED_MVP_ML_BMI_simple',\n",
       " 'prs_BIP_and_SCZ',\n",
       " 'prs_bip_mvp_pgc3',\n",
       " 'prs_BIP',\n",
       " 'prs_BiP.3_1',\n",
       " 'prs_BiP.3_2',\n",
       " 'prs_BiP.3',\n",
       " 'prs_bmi',\n",
       " 'prs_cad',\n",
       " 'prs_Child_intel',\n",
       " 'prs_chrono',\n",
       " 'prs_CP',\n",
       " 'prs_cud',\n",
       " 'prs_Dep_broad_iPSYCH',\n",
       " 'prs_Dep_UKB_PGC_23Me',\n",
       " 'prs_Dep_UKB_PGC',\n",
       " 'prs_drink',\n",
       " 'prs_dt2',\n",
       " 'prs_dt2adj',\n",
       " 'prs_EA_2018',\n",
       " 'prs_ebmd',\n",
       " 'prs_egg',\n",
       " 'prs_epilepsyFocal',\n",
       " 'prs_epilepsyGen',\n",
       " 'prs_FFM_Agreeableness_GPC.1',\n",
       " 'prs_FFM_Conscientiousness_GPC.1',\n",
       " 'prs_FFM_Extraversion_GPC.2',\n",
       " 'prs_FFM_Neuroticism_WellBeing',\n",
       " 'prs_FFM_Openness_GPC.1',\n",
       " 'prs_FTD',\n",
       " 'prs_gaming',\n",
       " 'prs_HbA1c',\n",
       " 'prs_hbp',\n",
       " 'prs_height',\n",
       " 'prs_ibd',\n",
       " 'prs_ICH_deep',\n",
       " 'prs_ICH_lobar',\n",
       " 'prs_ICH',\n",
       " 'prs_insomn2',\n",
       " 'prs_iPSYCH_XDX',\n",
       " 'prs_IQ',\n",
       " 'prs_lipidCholTotal',\n",
       " 'prs_lipidHDL',\n",
       " 'prs_lipidLDL',\n",
       " 'prs_Longevity',\n",
       " 'prs_mem',\n",
       " 'prs_migraine',\n",
       " 'prs_MS',\n",
       " 'prs_neu2',\n",
       " 'prs_obesity',\n",
       " 'prs_OCD',\n",
       " 'prs_PD.3',\n",
       " 'prs_phoneUse',\n",
       " 'prs_ra',\n",
       " 'prs_reacTime',\n",
       " 'prs_riskTolerance',\n",
       " 'prs_sa_bip',\n",
       " 'prs_sa_mdd_bip_scz',\n",
       " 'prs_sa_mdd',\n",
       " 'prs_sa_scz',\n",
       " 'prs_sbp',\n",
       " 'prs_SCZ.2',\n",
       " 'prs_SCZ.3',\n",
       " 'prs_SCZ.3.5_MVP',\n",
       " 'prs_sexPartners',\n",
       " 'prs_sleep',\n",
       " 'prs_smoke_evr',\n",
       " 'prs_Stroke_CE',\n",
       " 'prs_Stroke_LVD',\n",
       " 'prs_Stroke_SVD',\n",
       " 'prs_Stroke',\n",
       " 'prs_tgl',\n",
       " 'prs_tourette',\n",
       " 'prs_WellBeing_DS',\n",
       " 'prs_WellBeing_SWB',\n",
       " 'prs_whr',\n",
       " 'Cognitive_and_Tau_Resilience',\n",
       " 'Cognitive_Resilience',\n",
       " 'Source_Location',\n",
       " 'Death_Day',\n",
       " 'Death_Time',\n",
       " 'Death_Month',\n",
       " 'Death_Season',\n",
       " 'Plq_Mn_MFG',\n",
       " 'MidTanglesValue',\n",
       " 'CDR_Memory',\n",
       " 'CDR_Orientation',\n",
       " 'CDR_Judgement',\n",
       " 'CDR_Community',\n",
       " 'CDR_HomeHobbies',\n",
       " 'CDR_PersonalCare',\n",
       " 'CDR_SumBoxes',\n",
       " 'Sex_chr_aneuploidy',\n",
       " 'SNParray_HBBC',\n",
       " 'WGS_Ampad',\n",
       " 'SNParray_Microglia',\n",
       " 'WGS_RUSH',\n",
       " 'ADSP_WGS',\n",
       " 'primary_genotype',\n",
       " 'Ethnicity_fromBrainBank',\n",
       " 'ApoE_gt',\n",
       " 'SCZ_ALL',\n",
       " 'BD_ALL',\n",
       " 'PD_ALL',\n",
       " 'TD_ALL',\n",
       " 'sum_dx_all',\n",
       " 'sum_dx_deleterious',\n",
       " 'Dementia_hack',\n",
       " 'MCI_hack',\n",
       " 'sum_dx',\n",
       " 'buildblock_controls_neuropathological',\n",
       " 'buildblock_controls_neuropathological_clinical',\n",
       " 'buildblock_controls_supercontrols',\n",
       " 'buildblock_controls_supercontrols_for_aging',\n",
       " 'buildblock_AD',\n",
       " 'buildblock_AD_lenient',\n",
       " 'buildblock_AD_resilient',\n",
       " 'buildblock_AD_strict',\n",
       " 'buildblock_AD_DLBD',\n",
       " 'buildblock_AD_DLBD_lenient',\n",
       " 'buildblock_AD_Vascular',\n",
       " 'buildblock_AD_Vascular_lenient',\n",
       " 'buildblock_AD_PD_lenient',\n",
       " 'buildblock_AD_SCZ',\n",
       " 'buildblock_AD_SCZ_lenient',\n",
       " 'buildblock_Tauopathy',\n",
       " 'buildblock_SCZ',\n",
       " 'buildblock_SCZ_lenient',\n",
       " 'buildblock_BD',\n",
       " 'buildblock_BD_lenient',\n",
       " 'buildblock_PD',\n",
       " 'buildblock_PD_lenient',\n",
       " 'buildblock_DLBD',\n",
       " 'buildblock_DLBD_lenient',\n",
       " 'buildblock_Vascular',\n",
       " 'buildblock_Vascular_lenient',\n",
       " 'buildblock_FTD_lenient',\n",
       " 'buildblock_FTD_controls',\n",
       " 'buildblock_ALS_lenient',\n",
       " 'buildblock_ALS_controls',\n",
       " 'buildblock_Seizures_lenient',\n",
       " 'buildblock_Seizures_controls',\n",
       " 'buildblock_PSP_lenient',\n",
       " 'buildblock_PSP_controls',\n",
       " 'buildblock_HeadInjury_lenient',\n",
       " 'buildblock_HeadInjury_controls',\n",
       " 'buildblock_MS_lenient',\n",
       " 'buildblock_MS_controls',\n",
       " 'buildblock_NormPressHydrocephalus_lenient',\n",
       " 'buildblock_NormPressHydrocephalus_controls',\n",
       " 'buildblock_ArgyrophilicGrain_lenient',\n",
       " 'buildblock_ArgyrophilicGrain_controls',\n",
       " 'buildblock_CerebralAtrophy_lenient',\n",
       " 'buildblock_CerebralAtrophy_controls',\n",
       " 'buildblock_Leucotomy_lenient',\n",
       " 'buildblock_Leucotomy_controls',\n",
       " 'buildblock_CERAD_1',\n",
       " 'buildblock_CERAD_2',\n",
       " 'buildblock_CERAD_3',\n",
       " 'buildblock_CERAD_4',\n",
       " 'buildblock_Braak_0',\n",
       " 'buildblock_Braak_1',\n",
       " 'buildblock_Braak_2',\n",
       " 'buildblock_Braak_3',\n",
       " 'buildblock_Braak_4',\n",
       " 'buildblock_Braak_5',\n",
       " 'buildblock_Braak_6',\n",
       " 'buildblock_CDR_0',\n",
       " 'buildblock_CDR_0.5',\n",
       " 'buildblock_CDR_1',\n",
       " 'buildblock_CDR_2',\n",
       " 'buildblock_CDR_3',\n",
       " 'buildblock_CDR_4',\n",
       " 'buildblock_CDR_5',\n",
       " 'buildblock_codgx_0-1',\n",
       " 'buildblock_codgx_2-3',\n",
       " 'buildblock_codgx_4-6',\n",
       " 'buildblock_ApoE_noRisk',\n",
       " 'buildblock_ApoE_34',\n",
       " 'buildblock_ApoE_44',\n",
       " 'buildblock_controls_crossDis',\n",
       " 'buildblock_AD_crossDis',\n",
       " 'buildblock_SCZ_crossDis',\n",
       " 'buildblock_DLBD_crossDis',\n",
       " 'buildblock_Vascular_crossDis',\n",
       " 'buildblock_BD_crossDis',\n",
       " 'buildblock_Tauopathy_crossDis',\n",
       " 'buildblock_PD_crossDis',\n",
       " 'buildblock_FTD_crossDis',\n",
       " 'buildblock_ADplus_crossDis',\n",
       " 'inBuildingBlock',\n",
       " 'Control',\n",
       " 'treeClass_controlMetabol',\n",
       " 'treeClass_neurodegenerative',\n",
       " 'treeClass_mental',\n",
       " 'c01x',\n",
       " 'c02x',\n",
       " 'c03x',\n",
       " 'c11x',\n",
       " 'c06x',\n",
       " 'c07x',\n",
       " 'c08x',\n",
       " 'c36x',\n",
       " 'c37x',\n",
       " 'c38x',\n",
       " 'c39x',\n",
       " 'c09x',\n",
       " 'n01x',\n",
       " 'r10x',\n",
       " 'c10x',\n",
       " 'c15x',\n",
       " 'c16x',\n",
       " 'c17x',\n",
       " 'c18x',\n",
       " 'c19x',\n",
       " 'c20x',\n",
       " 'c21x',\n",
       " 'c22x',\n",
       " 'c23x',\n",
       " 'c24x',\n",
       " 'c05x',\n",
       " 'c25x',\n",
       " 'c26x',\n",
       " 'c27x',\n",
       " 'c28x',\n",
       " 'c29x',\n",
       " 'c30x',\n",
       " 'c31x',\n",
       " 'c32x',\n",
       " 'c33x',\n",
       " 'c34x',\n",
       " 'c35x',\n",
       " 'c42x',\n",
       " 'c43x',\n",
       " 'c44x',\n",
       " 'c40x',\n",
       " 'c41x',\n",
       " 'c04x',\n",
       " 'c14x',\n",
       " 'c12x',\n",
       " 'c13x',\n",
       " 'c45x',\n",
       " 'c46x',\n",
       " 'c47x',\n",
       " 'c48x',\n",
       " 'c49x',\n",
       " 'c50x',\n",
       " 'c51x',\n",
       " 'c52x',\n",
       " 'c53x',\n",
       " 'c54x',\n",
       " 'c55x',\n",
       " 'c56x',\n",
       " 'c57x',\n",
       " 'c58x',\n",
       " 'c59x',\n",
       " 'c60x',\n",
       " 'c71x',\n",
       " 'c72x',\n",
       " 'c73x',\n",
       " 'c74x',\n",
       " 'c75x',\n",
       " 'c76x',\n",
       " 'c77x',\n",
       " 'c78x',\n",
       " 'c79x',\n",
       " 'c80x',\n",
       " 'c81x',\n",
       " 'c82x',\n",
       " 'c83x',\n",
       " 'c84x',\n",
       " 'c85x',\n",
       " 'c86x',\n",
       " 'c87x',\n",
       " 'c88x',\n",
       " 'c89x',\n",
       " 'c90x',\n",
       " 'c91x',\n",
       " 'c92x',\n",
       " 'c101x',\n",
       " 'c102x',\n",
       " 'c103x',\n",
       " 'c104x',\n",
       " 'c105x',\n",
       " 'c106x',\n",
       " 'c107x',\n",
       " 'c108x',\n",
       " 'c109x',\n",
       " 'c110x',\n",
       " 'c111x',\n",
       " 'c112x',\n",
       " 'c113x',\n",
       " 'c114x',\n",
       " 'c115x',\n",
       " 'c116x',\n",
       " 'c117x',\n",
       " 'c118x',\n",
       " 'c119x',\n",
       " 'c120x',\n",
       " 'c121x',\n",
       " 'c122x',\n",
       " 'c123x',\n",
       " 'c124x',\n",
       " 'c125x',\n",
       " 'n02x',\n",
       " 'n03x',\n",
       " 'n04x',\n",
       " 'n05x',\n",
       " 'n06x',\n",
       " 'n07x',\n",
       " 'r01x',\n",
       " 'r02x',\n",
       " 'r03x',\n",
       " 'r04x',\n",
       " 'r05x',\n",
       " 'r06x',\n",
       " 'r07x',\n",
       " 'r08x',\n",
       " 'r09x',\n",
       " 'inContrastCount']"
      ]
     },
     "execution_count": 27,
     "metadata": {},
     "output_type": "execute_result"
    }
   ],
   "source": [
    "list(meta.columns)\n"
   ]
  },
  {
   "cell_type": "code",
   "execution_count": 23,
   "metadata": {},
   "outputs": [
    {
     "name": "stdout",
     "output_type": "stream",
     "text": [
      "Found minimal p-value of 0.000171 (Correlation: 0.163327).\n"
     ]
    }
   ],
   "source": [
    "# Select target SNP\n",
    "target_snp = dosage.index[42]  # Random for now\n",
    "\n",
    "# Make df\n",
    "data_dosage = dosage.loc[[target_snp]].T\n",
    "data_attention = attention.T\n",
    "df = data_dosage.join(data_attention, how='inner')\n",
    "\n",
    "# Select target edge\n",
    "p_min = 1\n",
    "for edge in attention.index:\n",
    "    corr, pval = scipy.stats.pearsonr(\n",
    "        df[[edge]].to_numpy().squeeze(),\n",
    "        df[[target_snp]].to_numpy().squeeze())\n",
    "    if pval < p_min:\n",
    "        p_min = pval\n",
    "        best_corr = corr\n",
    "        target_edge = edge\n",
    "print(f'Found minimal p-value of {p_min:.6f} (Correlation: {best_corr:.6f}).')\n",
    "\n",
    "# Format df\n",
    "axis_snp = f'{target_snp} Dosage'\n",
    "axis_edge = f'{target_edge} Attention'\n",
    "df = df.rename(columns={target_snp: axis_snp, target_edge: axis_edge})\n",
    "\n",
    "# Scatter\n",
    "fig, axs = get_mosaic([list(range(1))], scale=9)\n",
    "sns.scatterplot(data=df, x=axis_snp, y=axis_edge, ax=axs[0])\n",
    "fig.savefig(f'../plots/individual_dosage_correlation_{column}.pdf', format='pdf', transparent=True, backend='cairo')\n"
   ]
  },
  {
   "cell_type": "markdown",
   "metadata": {},
   "source": [
    "## Group Comparisons (Figure 4)"
   ]
  },
  {
   "cell_type": "code",
   "execution_count": 40,
   "metadata": {},
   "outputs": [],
   "source": [
    "# Combinations\n",
    "# TODO: Potentially move each entry to dictionary, so changes in order\n",
    "#   are easier to propagate\n",
    "contrast_groupings = [\n",
    "    # (contrast name, contrast group, attention column, comparison column, target meta column, other target meta column)\n",
    "    # for contrast_name, contrast_group, column, comparison, target, target_comparison in contrast_groupings:\n",
    "    # TODO: Revise ethnicity prediction\n",
    "    ('c15x', 'AD', column_data, column_ad, 'Ethnicity', 'BRAAK_AD'),\n",
    "    # ('c06x', 'AD', column_ad, column_data, 'BRAAK_AD'),  # Eventually SCZ, BP and such\n",
    "    # ('c71x', 'MoodDys', column_data, column_ad, 'nps_MoodDysCurValue'),  # Dysphoria\n",
    "    # ('c72x', 'DecInt', column_data, column_ad, 'nps_DecIntCurValue'),  # Anhedonia\n",
    "]\n"
   ]
  },
  {
   "cell_type": "markdown",
   "metadata": {},
   "source": [
    "### 4A Variance Heatmap"
   ]
  },
  {
   "cell_type": "code",
   "execution_count": 35,
   "metadata": {},
   "outputs": [
    {
     "name": "stdout",
     "output_type": "stream",
     "text": [
      "c15x - att_D_no_prior_0\n",
      "No threshold provided, using threshold of 0.017553121661133885.\n",
      "Removing duplicate edges...\n"
     ]
    },
    {
     "name": "stderr",
     "output_type": "stream",
     "text": [
      "100%|███████████████████████████████████████████████████████████████████████| 698279/698279 [00:02<00:00, 309781.98it/s]\n"
     ]
    },
    {
     "name": "stdout",
     "output_type": "stream",
     "text": [
      "Filtered from 5030 vertices and 270687 edges to 1463 vertices and 10173 edges via common edge filtering.\n",
      "No threshold provided, using threshold of 0.04979338607285737.\n",
      "Removing duplicate edges...\n"
     ]
    },
    {
     "name": "stderr",
     "output_type": "stream",
     "text": [
      "100%|███████████████████████████████████████████████████████████████████████| 146728/146728 [00:00<00:00, 312538.86it/s]\n"
     ]
    },
    {
     "name": "stdout",
     "output_type": "stream",
     "text": [
      "Filtered from 4719 vertices and 81268 edges to 684 vertices and 3350 edges via common edge filtering.\n",
      "Collecting edges...\n"
     ]
    },
    {
     "name": "stderr",
     "output_type": "stream",
     "text": [
      "100%|███████████████████████████████████████████████████████████████████████████| 10173/10173 [00:01<00:00, 7498.59it/s]\n"
     ]
    },
    {
     "name": "stdout",
     "output_type": "stream",
     "text": [
      "Collecting edges...\n"
     ]
    },
    {
     "name": "stderr",
     "output_type": "stream",
     "text": [
      "100%|████████████████████████████████████████████████████████████████████████████| 3350/3350 [00:00<00:00, 22346.14it/s]\n"
     ]
    },
    {
     "name": "stdout",
     "output_type": "stream",
     "text": [
      "No threshold provided, using threshold of 0.01546432984072714.\n",
      "Removing duplicate edges...\n"
     ]
    },
    {
     "name": "stderr",
     "output_type": "stream",
     "text": [
      "100%|███████████████████████████████████████████████████████████████████████| 845007/845007 [00:02<00:00, 310301.53it/s]\n"
     ]
    },
    {
     "name": "stdout",
     "output_type": "stream",
     "text": [
      "Filtered from 5039 vertices and 315575 edges to 1488 vertices and 10734 edges via common edge filtering.\n",
      "Collecting edges...\n"
     ]
    },
    {
     "name": "stderr",
     "output_type": "stream",
     "text": [
      "100%|███████████████████████████████████████████████████████████████████████████| 10734/10734 [00:01<00:00, 6635.70it/s]\n",
      "/tmp/ipykernel_700/1238480732.py:15: UserWarning: The figure layout has changed to tight\n",
      "  plt.tight_layout()\n"
     ]
    },
    {
     "name": "stdout",
     "output_type": "stream",
     "text": [
      "c15x - att_D_AD_1\n",
      "No threshold provided, using threshold of 0.017553121661133885.\n",
      "Removing duplicate edges...\n"
     ]
    },
    {
     "name": "stderr",
     "output_type": "stream",
     "text": [
      "100%|███████████████████████████████████████████████████████████████████████| 698279/698279 [00:02<00:00, 314327.01it/s]\n"
     ]
    },
    {
     "name": "stdout",
     "output_type": "stream",
     "text": [
      "Filtered from 5030 vertices and 270687 edges to 1463 vertices and 10173 edges via common edge filtering.\n",
      "No threshold provided, using threshold of 0.04979338607285737.\n",
      "Removing duplicate edges...\n"
     ]
    },
    {
     "name": "stderr",
     "output_type": "stream",
     "text": [
      "100%|███████████████████████████████████████████████████████████████████████| 146728/146728 [00:00<00:00, 324060.76it/s]\n"
     ]
    },
    {
     "name": "stdout",
     "output_type": "stream",
     "text": [
      "Filtered from 4719 vertices and 81268 edges to 684 vertices and 3350 edges via common edge filtering.\n",
      "Collecting edges...\n"
     ]
    },
    {
     "name": "stderr",
     "output_type": "stream",
     "text": [
      "100%|███████████████████████████████████████████████████████████████████████████| 10173/10173 [00:01<00:00, 8249.59it/s]\n"
     ]
    },
    {
     "name": "stdout",
     "output_type": "stream",
     "text": [
      "Collecting edges...\n"
     ]
    },
    {
     "name": "stderr",
     "output_type": "stream",
     "text": [
      "100%|████████████████████████████████████████████████████████████████████████████| 3350/3350 [00:00<00:00, 24357.50it/s]\n"
     ]
    },
    {
     "name": "stdout",
     "output_type": "stream",
     "text": [
      "No threshold provided, using threshold of 0.01546432984072714.\n",
      "Removing duplicate edges...\n"
     ]
    },
    {
     "name": "stderr",
     "output_type": "stream",
     "text": [
      "100%|███████████████████████████████████████████████████████████████████████| 845007/845007 [00:02<00:00, 318097.24it/s]\n"
     ]
    },
    {
     "name": "stdout",
     "output_type": "stream",
     "text": [
      "Filtered from 5039 vertices and 315575 edges to 1488 vertices and 10734 edges via common edge filtering.\n",
      "Collecting edges...\n"
     ]
    },
    {
     "name": "stderr",
     "output_type": "stream",
     "text": [
      "100%|███████████████████████████████████████████████████████████████████████████| 10734/10734 [00:01<00:00, 6827.90it/s]\n",
      "/tmp/ipykernel_700/1238480732.py:15: UserWarning: The figure layout has changed to tight\n",
      "  plt.tight_layout()\n"
     ]
    }
   ],
   "source": [
    "# Get plots for each column\n",
    "for contrast_name, _, column, comparison, _, _ in contrast_groupings:\n",
    "    for col in (column, comparison):\n",
    "        print(' - '.join((contrast_name, col)))\n",
    "\n",
    "        # Get contrast\n",
    "        contrast = get_contrast(contrast_name)\n",
    "\n",
    "        # Compute\n",
    "        df_subgroup = compute_contrast_summary(contrast, column=col)\n",
    "\n",
    "        # Plot mean-sorted\n",
    "        fig, axs = get_mosaic([list(range(1))], scale=9)\n",
    "        plot_subgroup_heatmap(df_subgroup, ax=axs[0])\n",
    "        plt.tight_layout()\n",
    "        fig.savefig(f'../plots/group_variance_heatmap_{contrast_name}_{col}.pdf', format='pdf', transparent=True, backend='cairo')\n"
   ]
  },
  {
   "cell_type": "markdown",
   "metadata": {},
   "source": [
    "### 4B Distribution Comparison"
   ]
  },
  {
   "cell_type": "code",
   "execution_count": 39,
   "metadata": {},
   "outputs": [
    {
     "name": "stdout",
     "output_type": "stream",
     "text": [
      "c15x - att_D_no_prior_0 - Ethnicity\n",
      "No threshold provided, using threshold of 0.01546432984072714.\n",
      "Removing duplicate edges...\n"
     ]
    },
    {
     "name": "stderr",
     "output_type": "stream",
     "text": [
      "100%|███████████████████████████████████████████████████████████████████████| 845007/845007 [00:02<00:00, 327763.05it/s]\n"
     ]
    },
    {
     "name": "stdout",
     "output_type": "stream",
     "text": [
      "Filtered from 5039 vertices and 315575 edges to 1488 vertices and 10734 edges via common edge filtering.\n",
      "Collecting edges...\n"
     ]
    },
    {
     "name": "stderr",
     "output_type": "stream",
     "text": [
      "100%|███████████████████████████████████████████████████████████████████████████| 10734/10734 [00:01<00:00, 7225.57it/s]\n"
     ]
    },
    {
     "name": "stdout",
     "output_type": "stream",
     "text": [
      "No threshold provided, using threshold of 0.01546432984072714.\n",
      "Removing duplicate edges...\n"
     ]
    },
    {
     "name": "stderr",
     "output_type": "stream",
     "text": [
      "100%|███████████████████████████████████████████████████████████████████████| 845007/845007 [00:03<00:00, 248182.11it/s]\n"
     ]
    },
    {
     "name": "stdout",
     "output_type": "stream",
     "text": [
      "Filtered from 5039 vertices and 315575 edges to 1488 vertices and 10734 edges via common edge filtering.\n",
      "Collecting edges...\n"
     ]
    },
    {
     "name": "stderr",
     "output_type": "stream",
     "text": [
      "100%|███████████████████████████████████████████████████████████████████████████| 10734/10734 [00:01<00:00, 7209.93it/s]\n"
     ]
    },
    {
     "name": "stdout",
     "output_type": "stream",
     "text": [
      "\n"
     ]
    }
   ],
   "source": [
    "# TODO: Use highest variance rather than random edges\n",
    "# TODO: Make both columns same scale, maybe?\n",
    "for contrast_name, _, column, comparison, target, _ in contrast_groupings:\n",
    "    print(' - '.join((contrast_name, column, target)))\n",
    "    # Get contrast\n",
    "    contrast = get_contrast(contrast_name)\n",
    "\n",
    "    # Plot\n",
    "    fig, axs = get_mosaic([2*[0], 2*[1]], scale=3)\n",
    "    sns.despine()\n",
    "\n",
    "    _, edges_include = plot_BRAAK_comparison(\n",
    "        contrast,\n",
    "        # {k: v[:10] for k, v in contrast.items()},\n",
    "        meta=meta,\n",
    "        column=column,\n",
    "        target=target,\n",
    "        legend=False,\n",
    "        ax=axs[0])\n",
    "    plt.xlabel(None)\n",
    "    plt.ylabel(column)\n",
    "    plt.xticks([])\n",
    "\n",
    "    plot_BRAAK_comparison(\n",
    "        contrast,\n",
    "        meta=meta,\n",
    "        column=comparison,\n",
    "        target=target,\n",
    "        edges_include=edges_include,\n",
    "        ax=axs[1])\n",
    "    plt.ylabel(comparison)\n",
    "\n",
    "    fig.savefig(f'../plots/group_differential_expression_{contrast_name}_{column}_{comparison}_{target}.pdf', format='pdf', transparent=True, backend='cairo')\n",
    "    print()\n"
   ]
  },
  {
   "cell_type": "markdown",
   "metadata": {},
   "source": [
    "### 4C Cross-Validation Accuracies"
   ]
  },
  {
   "cell_type": "code",
   "execution_count": 41,
   "metadata": {},
   "outputs": [
    {
     "name": "stdout",
     "output_type": "stream",
     "text": [
      "c15x - att_D_no_prior_0 - Ethnicity\n",
      "No threshold provided, using threshold of 0.017553121661133885.\n",
      "Removing duplicate edges...\n"
     ]
    },
    {
     "name": "stderr",
     "output_type": "stream",
     "text": [
      "100%|███████████████████████████████████████████████████████████████████████| 698279/698279 [00:02<00:00, 317518.60it/s]\n"
     ]
    },
    {
     "name": "stdout",
     "output_type": "stream",
     "text": [
      "Filtered from 5030 vertices and 270687 edges to 1463 vertices and 10173 edges via common edge filtering.\n",
      "No threshold provided, using threshold of 0.04979338607285737.\n",
      "Removing duplicate edges...\n"
     ]
    },
    {
     "name": "stderr",
     "output_type": "stream",
     "text": [
      "100%|███████████████████████████████████████████████████████████████████████| 146728/146728 [00:00<00:00, 307304.66it/s]\n"
     ]
    },
    {
     "name": "stdout",
     "output_type": "stream",
     "text": [
      "Filtered from 4719 vertices and 81268 edges to 684 vertices and 3350 edges via common edge filtering.\n",
      "Collecting edges...\n"
     ]
    },
    {
     "name": "stderr",
     "output_type": "stream",
     "text": [
      "100%|███████████████████████████████████████████████████████████████████████████| 10173/10173 [00:01<00:00, 8003.11it/s]\n"
     ]
    },
    {
     "name": "stdout",
     "output_type": "stream",
     "text": [
      "Collecting edges...\n"
     ]
    },
    {
     "name": "stderr",
     "output_type": "stream",
     "text": [
      "100%|████████████████████████████████████████████████████████████████████████████| 3350/3350 [00:00<00:00, 23049.63it/s]\n"
     ]
    },
    {
     "name": "stdout",
     "output_type": "stream",
     "text": [
      "No threshold provided, using threshold of 0.01546432984072714.\n",
      "Removing duplicate edges...\n"
     ]
    },
    {
     "name": "stderr",
     "output_type": "stream",
     "text": [
      "100%|███████████████████████████████████████████████████████████████████████| 845007/845007 [00:02<00:00, 319710.15it/s]\n"
     ]
    },
    {
     "name": "stdout",
     "output_type": "stream",
     "text": [
      "Filtered from 5039 vertices and 315575 edges to 1488 vertices and 10734 edges via common edge filtering.\n",
      "Collecting edges...\n"
     ]
    },
    {
     "name": "stderr",
     "output_type": "stream",
     "text": [
      "100%|███████████████████████████████████████████████████████████████████████████| 10734/10734 [00:01<00:00, 6782.52it/s]\n"
     ]
    },
    {
     "name": "stdout",
     "output_type": "stream",
     "text": [
      "No threshold provided, using threshold of 0.01546432984072714.\n",
      "Removing duplicate edges...\n"
     ]
    },
    {
     "name": "stderr",
     "output_type": "stream",
     "text": [
      "100%|███████████████████████████████████████████████████████████████████████| 845007/845007 [00:02<00:00, 322522.42it/s]\n"
     ]
    },
    {
     "name": "stdout",
     "output_type": "stream",
     "text": [
      "Filtered from 5039 vertices and 315575 edges to 1488 vertices and 10734 edges via common edge filtering.\n",
      "Collecting edges...\n"
     ]
    },
    {
     "name": "stderr",
     "output_type": "stream",
     "text": [
      "100%|███████████████████████████████████████████████████████████████████████████| 10734/10734 [00:01<00:00, 6991.41it/s]\n"
     ]
    },
    {
     "name": "stdout",
     "output_type": "stream",
     "text": [
      "\n",
      "c15x - att_D_no_prior_0 - BRAAK_AD\n",
      "No threshold provided, using threshold of 0.017553121661133885.\n",
      "Removing duplicate edges...\n"
     ]
    },
    {
     "name": "stderr",
     "output_type": "stream",
     "text": [
      "100%|███████████████████████████████████████████████████████████████████████| 698279/698279 [00:02<00:00, 320423.04it/s]\n"
     ]
    },
    {
     "name": "stdout",
     "output_type": "stream",
     "text": [
      "Filtered from 5030 vertices and 270687 edges to 1463 vertices and 10173 edges via common edge filtering.\n",
      "No threshold provided, using threshold of 0.04979338607285737.\n",
      "Removing duplicate edges...\n"
     ]
    },
    {
     "name": "stderr",
     "output_type": "stream",
     "text": [
      "100%|███████████████████████████████████████████████████████████████████████| 146728/146728 [00:00<00:00, 314874.63it/s]\n"
     ]
    },
    {
     "name": "stdout",
     "output_type": "stream",
     "text": [
      "Filtered from 4719 vertices and 81268 edges to 684 vertices and 3350 edges via common edge filtering.\n",
      "Collecting edges...\n"
     ]
    },
    {
     "name": "stderr",
     "output_type": "stream",
     "text": [
      "100%|███████████████████████████████████████████████████████████████████████████| 10173/10173 [00:01<00:00, 7940.68it/s]\n"
     ]
    },
    {
     "name": "stdout",
     "output_type": "stream",
     "text": [
      "Collecting edges...\n"
     ]
    },
    {
     "name": "stderr",
     "output_type": "stream",
     "text": [
      "100%|████████████████████████████████████████████████████████████████████████████| 3350/3350 [00:00<00:00, 22981.13it/s]\n"
     ]
    },
    {
     "name": "stdout",
     "output_type": "stream",
     "text": [
      "No threshold provided, using threshold of 0.01546432984072714.\n",
      "Removing duplicate edges...\n"
     ]
    },
    {
     "name": "stderr",
     "output_type": "stream",
     "text": [
      "100%|███████████████████████████████████████████████████████████████████████| 845007/845007 [00:02<00:00, 320074.75it/s]\n"
     ]
    },
    {
     "name": "stdout",
     "output_type": "stream",
     "text": [
      "Filtered from 5039 vertices and 315575 edges to 1488 vertices and 10734 edges via common edge filtering.\n",
      "Collecting edges...\n"
     ]
    },
    {
     "name": "stderr",
     "output_type": "stream",
     "text": [
      "100%|███████████████████████████████████████████████████████████████████████████| 10734/10734 [00:01<00:00, 6633.76it/s]\n"
     ]
    },
    {
     "name": "stdout",
     "output_type": "stream",
     "text": [
      "No threshold provided, using threshold of 0.01546432984072714.\n",
      "Removing duplicate edges...\n"
     ]
    },
    {
     "name": "stderr",
     "output_type": "stream",
     "text": [
      "100%|███████████████████████████████████████████████████████████████████████| 845007/845007 [00:02<00:00, 316957.47it/s]\n"
     ]
    },
    {
     "name": "stdout",
     "output_type": "stream",
     "text": [
      "Filtered from 5039 vertices and 315575 edges to 1488 vertices and 10734 edges via common edge filtering.\n",
      "Collecting edges...\n"
     ]
    },
    {
     "name": "stderr",
     "output_type": "stream",
     "text": [
      "100%|███████████████████████████████████████████████████████████████████████████| 10734/10734 [00:01<00:00, 6880.93it/s]\n"
     ]
    },
    {
     "name": "stdout",
     "output_type": "stream",
     "text": [
      "\n"
     ]
    }
   ],
   "source": [
    "# TODO: Make all y-labels horizontal\n",
    "for contrast_name, _, column, _, target, target_comparison in contrast_groupings:\n",
    "    for tar in (target, target_comparison):\n",
    "        # if contrast_name != 'c71x': continue\n",
    "        print(' - '.join((contrast_name, column, tar)))\n",
    "        # Get contrast\n",
    "        contrast = get_contrast(contrast_name)\n",
    "\n",
    "        # Compute prioritized edges\n",
    "        # Get 100 most variant edges\n",
    "        # TODO: Revise this method, maybe also consider means\n",
    "        sids = sum([sids for _, sids in contrast.items()], [])\n",
    "        df_subgroup = compute_contrast_summary(contrast, column=column)\n",
    "        df = join_df_subgroup(df_subgroup, num_sort=100)\n",
    "        prioritized_edges = list(df.index)\n",
    "\n",
    "        # Plot\n",
    "        # TODO: Maybe return to row-normalization\n",
    "        fig, axs = get_mosaic([[0]], scale=9)\n",
    "        df, acc = plot_prediction_confusion(contrast, meta=meta, column=column, target=tar, prioritized_edges=prioritized_edges, classifier_type='SGD', ax=axs[0])\n",
    "\n",
    "        # Save plot\n",
    "        fname_prefix = f'../plots/group_prioritized_edge_prediction_{contrast_name}_{column}_{tar}'\n",
    "        fig.savefig(f'{fname_prefix}.pdf', format='pdf', transparent=True, backend='cairo')\n",
    "\n",
    "        # Save text\n",
    "        f_edges = open(f'{fname_prefix}.edges.txt', 'w')\n",
    "        f_tfs = open(f'{fname_prefix}.tfs.txt', 'w')\n",
    "        f_tgs = open(f'{fname_prefix}.tgs.txt', 'w')\n",
    "        for edge in prioritized_edges:\n",
    "            f_edges.write(edge + '\\n')\n",
    "            tf, tg = edge.split(get_edge_string(['', '']))\n",
    "            f_tfs.write(tf + '\\n')\n",
    "            f_tgs.write(tg + '\\n')\n",
    "        f_edges.close()\n",
    "        f_tfs.close()\n",
    "        f_tgs.close()\n",
    "\n",
    "        # CLI\n",
    "        print()\n"
   ]
  },
  {
   "cell_type": "markdown",
   "metadata": {},
   "source": [
    "## General"
   ]
  },
  {
   "cell_type": "markdown",
   "metadata": {},
   "source": [
    "### Graph Legend"
   ]
  },
  {
   "cell_type": "code",
   "execution_count": 38,
   "metadata": {},
   "outputs": [
    {
     "name": "stderr",
     "output_type": "stream",
     "text": [
      "/tmp/ipykernel_700/3570599204.py:5: UserWarning: The figure layout has changed to tight\n",
      "  plt.tight_layout()\n"
     ]
    }
   ],
   "source": [
    "# Plot legend\n",
    "plt.clf()\n",
    "plot_legend()\n",
    "plt.gca().axis('off')\n",
    "plt.tight_layout()\n",
    "plt.savefig(f'../plots/graph_legend.pdf', format='pdf', transparent=True, backend='cairo')\n"
   ]
  }
 ],
 "metadata": {
  "kernelspec": {
   "display_name": "GNN",
   "language": "python",
   "name": "gnn"
  },
  "language_info": {
   "codemirror_mode": {
    "name": "ipython",
    "version": 3
   },
   "file_extension": ".py",
   "mimetype": "text/x-python",
   "name": "python",
   "nbconvert_exporter": "python",
   "pygments_lexer": "ipython3",
   "version": "3.11.4"
  }
 },
 "nbformat": 4,
 "nbformat_minor": 2
}
