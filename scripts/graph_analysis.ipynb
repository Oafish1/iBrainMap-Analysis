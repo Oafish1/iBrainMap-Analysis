{
 "cells": [
  {
   "cell_type": "code",
   "execution_count": 1,
   "metadata": {
    "execution": {
     "iopub.execute_input": "2023-07-13T06:40:26.417400Z",
     "iopub.status.busy": "2023-07-13T06:40:26.417242Z",
     "iopub.status.idle": "2023-07-13T06:40:26.428582Z",
     "shell.execute_reply": "2023-07-13T06:40:26.427990Z"
    }
   },
   "outputs": [],
   "source": [
    "%load_ext autoreload\n",
    "%autoreload 2"
   ]
  },
  {
   "cell_type": "code",
   "execution_count": 2,
   "metadata": {
    "execution": {
     "iopub.execute_input": "2023-07-13T06:40:26.430818Z",
     "iopub.status.busy": "2023-07-13T06:40:26.430522Z",
     "iopub.status.idle": "2023-07-13T06:40:27.436429Z",
     "shell.execute_reply": "2023-07-13T06:40:27.435960Z"
    }
   },
   "outputs": [],
   "source": [
    "import graph_tool.all as gt\n",
    "import matplotlib\n",
    "import matplotlib.pyplot as plt\n",
    "import numpy as np\n",
    "import pandas as pd\n",
    "import seaborn as sns\n",
    "\n",
    "from functions import *\n",
    "\n",
    "\n",
    "# Graph-Tool compatibility\n",
    "plt.switch_backend('cairo')\n",
    "# Style\n",
    "sns.set_theme(context='paper', style='white', palette='Set2')\n",
    "matplotlib.rcParams['pdf.fonttype'] = 42\n",
    "matplotlib.rcParams['ps.fonttype'] = 42"
   ]
  },
  {
   "attachments": {},
   "cell_type": "markdown",
   "metadata": {},
   "source": [
    "### Computation"
   ]
  },
  {
   "cell_type": "code",
   "execution_count": 3,
   "metadata": {},
   "outputs": [],
   "source": [
    "# Load metadata\n",
    "meta = get_meta()"
   ]
  },
  {
   "cell_type": "code",
   "execution_count": 4,
   "metadata": {
    "execution": {
     "iopub.execute_input": "2023-07-13T06:42:26.851147Z",
     "iopub.status.busy": "2023-07-13T06:42:26.850635Z",
     "iopub.status.idle": "2023-07-13T06:42:27.027866Z",
     "shell.execute_reply": "2023-07-13T06:42:27.027147Z"
    }
   },
   "outputs": [
    {
     "name": "stdout",
     "output_type": "stream",
     "text": [
      "M19050 Hispanic Female, 74.0, BRAAK 5.0\n",
      "M59593 Hispanic Female, 76.0, BRAAK 5.0\n",
      "M83214 Hispanic Female, 83.0, BRAAK 6.0\n",
      "M36634 Hispanic Female, 87.0, BRAAK 6.0\n"
     ]
    }
   ],
   "source": [
    "filtered = []\n",
    "for i, row in meta.iterrows():\n",
    "    try:\n",
    "        load_graph_by_id(row['SubID'])\n",
    "        assert not np.isnan(row['nps_MoodDysCurValue'])  # Has NPS\n",
    "        assert row['Sex'] == 'Female'\n",
    "        assert row['Ethnicity'] != 'White'\n",
    "    except:\n",
    "        continue\n",
    "    filtered.append(f'{row[\"SubID\"]} {row[\"Ethnicity\"]} {row[\"Sex\"]}, {row[\"Age\"]}, BRAAK {row[\"BRAAK_AD\"]}')\n",
    "for i in (2, 4, 5, 6):\n",
    "    print(filtered[i])"
   ]
  },
  {
   "cell_type": "code",
   "execution_count": 5,
   "metadata": {
    "execution": {
     "iopub.execute_input": "2023-07-13T06:40:27.439086Z",
     "iopub.status.busy": "2023-07-13T06:40:27.438610Z",
     "iopub.status.idle": "2023-07-13T06:42:22.841017Z",
     "shell.execute_reply": "2023-07-13T06:42:22.840281Z"
    }
   },
   "outputs": [],
   "source": [
    "# Load AD Genes\n",
    "with open('../../data/freeze2/attention/AD_genes.txt') as f:\n",
    "    ad_genes = f.readlines()\n",
    "ad_genes = [s.replace('\\n', '') for s in ad_genes if len(s.replace('\\n', '')) > 0]\n",
    "\n",
    "# Graph summaries\n",
    "# nps_WtLossCurValue, nps_MoodDysCurValue, Sex, nps_PsychoAgiCurValue\n",
    "# TODO: Change `column` to respective heads\n",
    "column_diff = 'att_D_AD_0_1'\n",
    "column_data = 'att_D_no_prior_0'\n",
    "coex_diff_compare_phenotype = 'nps_PsychoAgiCurValue'\n",
    "diff_data_compare_phenotype = 'nps_WtLossCurValue'\n",
    "individual_sample_ids = ['M19050', 'M59593', 'M83214', 'M36634']\n",
    "diff_graph_summary_coex = compute_statistics(meta, 'BRAAK_AD', coex_diff_compare_phenotype, source='coexpression')\n",
    "diff_graph_summary_att = compute_statistics(meta, 'BRAAK_AD', coex_diff_compare_phenotype, column=column_diff)\n",
    "diff_graph_summary = compute_statistics(meta, 'BRAAK_AD', diff_data_compare_phenotype, column=column_diff)\n",
    "data_graph_summary = compute_statistics(meta, 'BRAAK_AD', diff_data_compare_phenotype, column=column_data)\n",
    "\n",
    "# Graphs\n",
    "diff_g_individuals = [compute_graph(load_graph_by_id(individual_sample_ids[i], column=column_diff)) for i in range(2)]\n",
    "data_g_individuals = [compute_graph(load_graph_by_id(individual_sample_ids[i], column=column_data)) for i in range(len(individual_sample_ids))]\n",
    "# diff_g_individual_coex = compute_graph(load_graph_by_id(individual_sample_ids[0], source='coexpression'))\n",
    "# diff_g_individual_diffusion = subset_graph(simulate_diffusion(diff_g_individual_coex, ad_genes), diff_g_individual)\n",
    "# data_g_group = compute_graph(combine_graphs(get_contrast('c01x')['Control'], source='attention', column=column_data))"
   ]
  },
  {
   "cell_type": "code",
   "execution_count": 25,
   "metadata": {
    "execution": {
     "iopub.execute_input": "2023-07-13T06:42:22.843669Z",
     "iopub.status.busy": "2023-07-13T06:42:22.843537Z",
     "iopub.status.idle": "2023-07-13T06:42:26.848161Z",
     "shell.execute_reply": "2023-07-13T06:42:26.847412Z"
    }
   },
   "outputs": [],
   "source": [
    "# Make main figure plots\n",
    "fig = figure_diffusion(\n",
    "        diff_g_individuals,\n",
    "        diff_graph_summary_coex,\n",
    "        diff_graph_summary_att,\n",
    "        meta=meta,\n",
    "        individual_sample_ids=individual_sample_ids[:2],\n",
    ")\n",
    "fig.savefig('../plots/diffusion.pdf', format='pdf', transparent=True, backend='cairo')\n",
    "fig = figure_data_driven(\n",
    "    [subset_by_hub(g, ['OPC']) for g in data_g_individuals],  # OPC myelin disruption\n",
    "    diff_graph_summary,\n",
    "    data_graph_summary,\n",
    "    meta=meta,\n",
    "    individual_sample_ids=individual_sample_ids,\n",
    ")\n",
    "fig.savefig('../plots/data_driven.pdf', format='pdf', transparent=True, backend='cairo')"
   ]
  },
  {
   "cell_type": "code",
   "execution_count": 38,
   "metadata": {},
   "outputs": [],
   "source": [
    "# Test concatenate graph functionality\n",
    "plt.clf()\n",
    "concat = concatenate_graphs(*diff_g_individuals)\n",
    "visualize_graph(concat)\n",
    "plt.gca().axis('off')\n",
    "plt.savefig('../plots/test.pdf', format='pdf', transparent=True, backend='cairo')\n",
    "\n",
    "plt.clf()\n",
    "concat = subset_by_hub(concat, ['OPC'])  # Could also subset after creation\n",
    "visualize_graph(concat)\n",
    "plt.gca().axis('off')\n",
    "plt.savefig('../plots/test_small.pdf', format='pdf', transparent=True, backend='cairo')"
   ]
  }
 ],
 "metadata": {
  "kernelspec": {
   "display_name": "GNN",
   "language": "python",
   "name": "gnn"
  },
  "language_info": {
   "codemirror_mode": {
    "name": "ipython",
    "version": 3
   },
   "file_extension": ".py",
   "mimetype": "text/x-python",
   "name": "python",
   "nbconvert_exporter": "python",
   "pygments_lexer": "ipython3",
   "version": "3.11.4"
  }
 },
 "nbformat": 4,
 "nbformat_minor": 2
}
