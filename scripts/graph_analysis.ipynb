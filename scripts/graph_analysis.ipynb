{
 "cells": [
  {
   "cell_type": "code",
   "execution_count": 1,
   "metadata": {
    "execution": {
     "iopub.execute_input": "2023-07-13T06:40:26.417400Z",
     "iopub.status.busy": "2023-07-13T06:40:26.417242Z",
     "iopub.status.idle": "2023-07-13T06:40:26.428582Z",
     "shell.execute_reply": "2023-07-13T06:40:26.427990Z"
    }
   },
   "outputs": [],
   "source": [
    "%load_ext autoreload\n",
    "%autoreload 2"
   ]
  },
  {
   "cell_type": "code",
   "execution_count": 2,
   "metadata": {
    "execution": {
     "iopub.execute_input": "2023-07-13T06:40:26.430818Z",
     "iopub.status.busy": "2023-07-13T06:40:26.430522Z",
     "iopub.status.idle": "2023-07-13T06:40:27.436429Z",
     "shell.execute_reply": "2023-07-13T06:40:27.435960Z"
    }
   },
   "outputs": [],
   "source": [
    "import os\n",
    "\n",
    "import graph_tool.all as gt\n",
    "import matplotlib\n",
    "import matplotlib.pyplot as plt\n",
    "import numpy as np\n",
    "import pandas as pd\n",
    "import seaborn as sns\n",
    "\n",
    "from functions import *\n",
    "\n",
    "\n",
    "# Graph-Tool compatibility\n",
    "plt.switch_backend('cairo')\n",
    "# Style\n",
    "sns.set_theme(context='talk', style='white', palette='Set2')\n",
    "matplotlib.rcParams['pdf.fonttype'] = 42\n",
    "matplotlib.rcParams['ps.fonttype'] = 42"
   ]
  },
  {
   "attachments": {},
   "cell_type": "markdown",
   "metadata": {},
   "source": [
    "# Meta and Parameters"
   ]
  },
  {
   "cell_type": "code",
   "execution_count": 3,
   "metadata": {},
   "outputs": [
    {
     "name": "stdout",
     "output_type": "stream",
     "text": [
      "M10795 Hispanic Female, 79.0, BRAAK 3.0\n",
      "M107983 Hispanic Female, 65.0, BRAAK 1.0\n",
      "M11589 Black Female, 63.0, BRAAK 2.0\n",
      "M12614 Black Female, 75.0, BRAAK 0.0\n",
      "M12876 Hispanic Female, 76.0, BRAAK 2.0\n",
      "M17639 Hispanic Female, 86.0, BRAAK 4.0\n",
      "M18518 Hispanic Female, 91.0, BRAAK 6.0\n",
      "M19050 Hispanic Female, 74.0, BRAAK 5.0\n",
      "M19331 Black Female, 89.0, BRAAK 6.0\n",
      "M19844 Black Female, 84.0, BRAAK 4.0\n",
      "M22176 Black Female, 72.0, BRAAK 6.0\n",
      "M23996 Black Female, 40.0, BRAAK 0.0\n",
      "M26992 Black Female, 94.0, BRAAK 3.0\n",
      "M27409 Black Female, 68.0, BRAAK 2.0\n",
      "M283783 nan Female, 55.0, BRAAK nan\n",
      "M28379 Hispanic Female, 72.0, BRAAK 6.0\n",
      "M28437 Hispanic Female, 91.0, BRAAK 6.0\n",
      "M29263 Black Female, 52.0, BRAAK 0.0\n",
      "M307567 Black Female, 67.0, BRAAK 1.0\n",
      "M33390 Hispanic Female, 77.0, BRAAK 2.0\n",
      "M35312 Black Female, 76.0, BRAAK 0.0\n",
      "M36388 Black Female, 89.0, BRAAK 3.0\n",
      "M36634 Hispanic Female, 87.0, BRAAK 6.0\n",
      "M41136 Black Female, 87.0, BRAAK 6.0\n",
      "M41496 Black Female, 76.0, BRAAK 4.0\n",
      "M41581 Black Female, 84.0, BRAAK 3.0\n",
      "M41973 Asian Female, 84.0, BRAAK 6.0\n",
      "M44475 Hispanic Female, 86.0, BRAAK 5.0\n",
      "M44532 Hispanic Female, 90.0, BRAAK 5.0\n",
      "M4458 Hispanic Female, 91.0, BRAAK 5.0\n",
      "M44657 Black Female, 94.0, BRAAK 5.0\n",
      "M45801 Black Female, 86.0, BRAAK 6.0\n",
      "M46196 Black Female, 80.0, BRAAK 6.0\n",
      "M48247 Black Female, 95.0, BRAAK 6.0\n",
      "M49935 Black Female, 89.0, BRAAK 3.0\n",
      "M503571 Hispanic Female, 81.0, BRAAK 2.0\n",
      "M50743 Black Female, 92.0, BRAAK 6.0\n",
      "M508462 nan Female, 106.0, BRAAK 5.0\n",
      "M51374 Black Female, 72.0, BRAAK 2.0\n",
      "M52649 Black Female, 79.0, BRAAK 3.0\n",
      "M5323 Hispanic Female, 91.0, BRAAK 6.0\n",
      "M53661 Hispanic Female, 85.0, BRAAK 3.0\n",
      "M56009 Black Female, 92.0, BRAAK 4.0\n",
      "M57064 Black Female, 98.0, BRAAK 4.0\n",
      "M58071 Hispanic Female, 90.0, BRAAK 4.0\n",
      "M587421 Hispanic Female, 76.0, BRAAK 5.0\n",
      "M59593 Hispanic Female, 76.0, BRAAK 5.0\n",
      "M59697 Black Female, 90.0, BRAAK 3.0\n",
      "M59796 Black Female, 90.0, BRAAK 4.0\n",
      "M598564 Hispanic Female, 84.0, BRAAK 6.0\n",
      "M61350 Black Female, 85.0, BRAAK 6.0\n",
      "M614558 Hispanic Female, 41.0, BRAAK 0.0\n",
      "M61862 Black Female, 79.0, BRAAK 6.0\n",
      "M62474 Black Female, 81.0, BRAAK 6.0\n",
      "M63213 Black Female, 78.0, BRAAK 6.0\n",
      "M643271 nan Female, 56.0, BRAAK 6.0\n",
      "M64456 Hispanic Female, 79.0, BRAAK 6.0\n",
      "M67351 Hispanic Female, 88.0, BRAAK 2.0\n",
      "M67782 Hispanic Female, 90.0, BRAAK 6.0\n",
      "M70362 Hispanic Female, 81.0, BRAAK 6.0\n",
      "M72079 Black Female, 64.0, BRAAK 6.0\n",
      "M7283 Hispanic Female, 79.0, BRAAK 3.0\n",
      "M73342 Black Female, 62.0, BRAAK 0.0\n",
      "M75505 Hispanic Female, 76.0, BRAAK 3.0\n",
      "M76268 Black Female, 70.0, BRAAK 2.0\n",
      "M7698 Black Female, 79.0, BRAAK 3.0\n",
      "M77061 Hispanic Female, 89.0, BRAAK 6.0\n",
      "M80488 Black Female, 108.0, BRAAK 3.0\n",
      "M8105 Hispanic Female, 57.0, BRAAK 1.0\n",
      "M83214 Hispanic Female, 83.0, BRAAK 6.0\n",
      "M837246 Black Female, 85.0, BRAAK 6.0\n",
      "M83910 Hispanic Female, 71.0, BRAAK 3.0\n",
      "M864250 Hispanic Female, 89.0, BRAAK 4.0\n",
      "M96154 Black Female, 49.0, BRAAK 1.0\n",
      "M99118 Hispanic Female, 82.0, BRAAK 6.0\n",
      "\n",
      "Available attention columns: ['att_D_AD_1', 'att_D_AD_2', 'att_D_SCZ_1', 'att_D_SCZ_2', 'att_D_no_prior_0', 'att_D_no_prior_1']\n"
     ]
    }
   ],
   "source": [
    "# Load metadata\n",
    "meta = get_meta()\n",
    "\n",
    "# Subject preview\n",
    "filtered = []\n",
    "for i, row in meta.iterrows():\n",
    "    try:\n",
    "        load_graph_by_id(row['SubID'])\n",
    "        assert not np.isnan(row['nps_MoodDysCurValue'])  # Has NPS information available\n",
    "        assert row['Sex'] == 'Female'\n",
    "        assert row['Ethnicity'] != 'White'\n",
    "        # assert row['BRAAK_AD'] in (3, 4, 5)\n",
    "    except:\n",
    "        continue\n",
    "    filtered.append(f'{row[\"SubID\"]} {row[\"Ethnicity\"]} {row[\"Sex\"]}, {row[\"Age\"]}, BRAAK {row[\"BRAAK_AD\"]}')\n",
    "filtered = np.sort(filtered)\n",
    "for i in range(len(filtered)):\n",
    "    print(filtered[i])\n",
    "\n",
    "# Parameters\n",
    "print(f'\\nAvailable attention columns: {get_attention_columns()}')\n",
    "column_ad = get_attention_columns()[0]\n",
    "column_scz = get_attention_columns()[2]\n",
    "column_data = get_attention_columns()[4]\n",
    "synthetic_nodes_of_interest = ['OPC', 'Micro', 'Oligo', 'EN']"
   ]
  },
  {
   "cell_type": "markdown",
   "metadata": {},
   "source": [
    "# Plots"
   ]
  },
  {
   "cell_type": "markdown",
   "metadata": {},
   "source": [
    "## Individual Comparisons (Figure 3)"
   ]
  },
  {
   "cell_type": "code",
   "execution_count": 4,
   "metadata": {},
   "outputs": [],
   "source": [
    "individual_comparisons = [\n",
    "    # M19050 Hispanic Female, 74.0, BRAAK 5.0\n",
    "    # M59593 Hispanic Female, 76.0, BRAAK 5.0\n",
    "    # M72079 Black Female, 64.0, BRAAK 6.0\n",
    "    # M41496 Black Female, 76.0, BRAAK 4.0\n",
    "    # M11589 Black Female, 63.0, BRAAK 2.0\n",
    "    # M73342 Black Female, 62.0, BRAAK 0.0\n",
    "    # (subject_id_1, subject_id_2, column)\n",
    "    # for subject_id_1, subject_id_2, column in individual_comparisons:\n",
    "    ('M19050', 'M59593', column_ad),  # AD - AD\n",
    "    # ('M72079', 'M41496', column_ad),  # AD - High BRAAK\n",
    "    # ('M72079', 'M11589', column_ad),  # AD - Low BRAAK\n",
    "    ('M72079', 'M73342', column_ad),  # AD - CTRL\n",
    "]\n",
    "palette = plt.rcParams['axes.prop_cycle'].by_key()['color']\n",
    "individual_colors = {\n",
    "    sid: rgba_to_hex(palette[i]) for i, sid in enumerate(\n",
    "        sum([list(comparison[:2]) for comparison in individual_comparisons], []))\n",
    "}\n",
    "\n",
    "# Verify all are available\n",
    "for subject_id_1, subject_id_2, column in individual_comparisons:\n",
    "    for sid in [subject_id_1, subject_id_2]:\n",
    "        load_graph_by_id(sid)"
   ]
  },
  {
   "cell_type": "markdown",
   "metadata": {},
   "source": [
    "### 3AE Mini Plots (MANUAL)"
   ]
  },
  {
   "cell_type": "code",
   "execution_count": 5,
   "metadata": {},
   "outputs": [
    {
     "name": "stdout",
     "output_type": "stream",
     "text": [
      "M19050 - M59593 - att_D_AD_1\n",
      "Removing duplicate edges...\n"
     ]
    },
    {
     "name": "stderr",
     "output_type": "stream",
     "text": [
      "100%|███████████████████████████████████████████████████████████████████████████████| 62/62 [00:00<00:00, 205408.25it/s]\n"
     ]
    },
    {
     "name": "stdout",
     "output_type": "stream",
     "text": [
      "Calculating positions...\n",
      "Removing duplicate edges...\n"
     ]
    },
    {
     "name": "stderr",
     "output_type": "stream",
     "text": [
      "100%|███████████████████████████████████████████████████████████████████████████████| 34/34 [00:00<00:00, 146563.55it/s]\n"
     ]
    },
    {
     "name": "stdout",
     "output_type": "stream",
     "text": [
      "Removing duplicate edges...\n"
     ]
    },
    {
     "name": "stderr",
     "output_type": "stream",
     "text": [
      "100%|███████████████████████████████████████████████████████████████████████████████| 28/28 [00:00<00:00, 150758.04it/s]"
     ]
    },
    {
     "name": "stdout",
     "output_type": "stream",
     "text": [
      "\n",
      "M72079 - M73342 - att_D_AD_1\n"
     ]
    },
    {
     "name": "stderr",
     "output_type": "stream",
     "text": [
      "\n"
     ]
    },
    {
     "name": "stdout",
     "output_type": "stream",
     "text": [
      "Removing duplicate edges...\n"
     ]
    },
    {
     "name": "stderr",
     "output_type": "stream",
     "text": [
      "100%|███████████████████████████████████████████████████████████████████████████████| 57/57 [00:00<00:00, 202950.19it/s]\n"
     ]
    },
    {
     "name": "stdout",
     "output_type": "stream",
     "text": [
      "Calculating positions...\n",
      "Removing duplicate edges...\n"
     ]
    },
    {
     "name": "stderr",
     "output_type": "stream",
     "text": [
      "100%|███████████████████████████████████████████████████████████████████████████████| 26/26 [00:00<00:00, 132344.54it/s]\n"
     ]
    },
    {
     "name": "stdout",
     "output_type": "stream",
     "text": [
      "Removing duplicate edges...\n"
     ]
    },
    {
     "name": "stderr",
     "output_type": "stream",
     "text": [
      "100%|███████████████████████████████████████████████████████████████████████████████| 31/31 [00:00<00:00, 162529.28it/s]"
     ]
    },
    {
     "name": "stdout",
     "output_type": "stream",
     "text": [
      "\n"
     ]
    },
    {
     "name": "stderr",
     "output_type": "stream",
     "text": [
      "\n"
     ]
    }
   ],
   "source": [
    "# SNPs to add (MANUAL)\n",
    "# TODO: Change to identifying genes, maybe?\n",
    "graph_snps = {\n",
    "    'M19050': [('chrx:xxx-xx1:x:x', 'SOX6'), ('chrx:xxx-xx2:x:x', 'TCF12')],\n",
    "    'M59593': [('chrx:xxx-xx1:x:x', 'SOX6')],\n",
    "}\n",
    "\n",
    "for i, (subject_id_1, subject_id_2, column) in enumerate(individual_comparisons):\n",
    "    print(' - '.join((subject_id_1, subject_id_2, column)))\n",
    "    \n",
    "    # Assemble\n",
    "    sids = [subject_id_1, subject_id_2]\n",
    "    gs = [compute_graph(load_graph_by_id(sid, column=column)) for sid in sids]\n",
    "\n",
    "    # Filter\n",
    "    gs = [\n",
    "        filter_graph_by_synthetic_vertices(g.copy(), vertex_ids=synthetic_nodes_of_interest)\n",
    "        for g in gs\n",
    "    ]\n",
    "    # TODO: Recalculate once recursive filtering is implemented\n",
    "\n",
    "    # Add SNPs\n",
    "    # TODO: Move before filtering once recursive filtering is implemented\n",
    "    for j, (g, sid) in enumerate(zip(gs, sids)):\n",
    "        # Skip if no SNPs\n",
    "        if sid not in graph_snps: continue\n",
    "\n",
    "        # Add SNPs\n",
    "        for snp in graph_snps[sid]:\n",
    "            snp_id, snp_target = snp\n",
    "            add_snp_to_graph(g, snp_id=snp_id, snp_target=snp_target)\n",
    "    \n",
    "    # Plot\n",
    "    fig, axs = get_mosaic([list(range(2))], scale=9)\n",
    "    plot_graph_comparison(gs, axs=axs, subject_ids=sids)\n",
    "    fig.savefig(f'../plots/individual_mini_{\"-\".join(sids)}_{column}.pdf', format='pdf', transparent=True, backend='cairo')\n",
    "    print()"
   ]
  },
  {
   "cell_type": "markdown",
   "metadata": {},
   "source": [
    "### 3BF Attention Comparisons"
   ]
  },
  {
   "cell_type": "code",
   "execution_count": 6,
   "metadata": {},
   "outputs": [
    {
     "name": "stdout",
     "output_type": "stream",
     "text": [
      "M19050 - M59593 - att_D_AD_1\n",
      "Removing duplicate edges...\n"
     ]
    },
    {
     "name": "stderr",
     "output_type": "stream",
     "text": [
      "100%|███████████████████████████████████████████████████████████████████████████| 3327/3327 [00:00<00:00, 250209.78it/s]\n",
      "/tmp/ipykernel_765/1566030153.py:15: UserWarning: The figure layout has changed to tight\n",
      "  plt.tight_layout()\n"
     ]
    },
    {
     "name": "stdout",
     "output_type": "stream",
     "text": [
      "\n",
      "M72079 - M73342 - att_D_AD_1\n",
      "Removing duplicate edges...\n"
     ]
    },
    {
     "name": "stderr",
     "output_type": "stream",
     "text": [
      "100%|███████████████████████████████████████████████████████████████████████████| 3781/3781 [00:00<00:00, 254214.50it/s]\n"
     ]
    },
    {
     "name": "stdout",
     "output_type": "stream",
     "text": [
      "\n"
     ]
    },
    {
     "name": "stderr",
     "output_type": "stream",
     "text": [
      "/tmp/ipykernel_765/1566030153.py:15: UserWarning: The figure layout has changed to tight\n",
      "  plt.tight_layout()\n"
     ]
    }
   ],
   "source": [
    "for subject_id_1, subject_id_2, column in individual_comparisons:\n",
    "    print(' - '.join((subject_id_1, subject_id_2, column)))\n",
    "\n",
    "    # Assemble\n",
    "    sample_ids = [subject_id_1, subject_id_2]\n",
    "    graphs = [compute_graph(load_graph_by_id(sid, column=column)) for sid in sample_ids]\n",
    "\n",
    "    # Get graph\n",
    "    g = concatenate_graphs(*graphs, threshold=False)\n",
    "    g = get_intersection(g)\n",
    "    g = cull_isolated_leaves(g)\n",
    "\n",
    "    fig, axs = get_mosaic([list(range(1))], scale=6)\n",
    "    df = plot_individual_edge_comparison(g, sample_ids, ax=axs[0])\n",
    "    plt.tight_layout()\n",
    "    fig.savefig(f'../plots/individual_edge_comparison_{\"-\".join((subject_id_1, subject_id_2))}_{column}.pdf', format='pdf', transparent=True, backend='cairo')\n",
    "    print()"
   ]
  },
  {
   "cell_type": "markdown",
   "metadata": {},
   "source": [
    "### 3CG Head Comparison"
   ]
  },
  {
   "cell_type": "code",
   "execution_count": 7,
   "metadata": {},
   "outputs": [
    {
     "name": "stdout",
     "output_type": "stream",
     "text": [
      "M19050 - M59593 - att_D_AD_1\n",
      "1562 common edges found\n",
      "\n",
      "M72079 - M73342 - att_D_AD_1\n",
      "1884 common edges found\n",
      "\n"
     ]
    }
   ],
   "source": [
    "# Parameters\n",
    "num_edges_per_head = 2\n",
    "\n",
    "# Compute\n",
    "all_columns = get_attention_columns()\n",
    "for subject_id_1, subject_id_2, _ in individual_comparisons:\n",
    "    print(' - '.join((subject_id_1, subject_id_2, column)))\n",
    "\n",
    "    # Plot\n",
    "    fig, axs = get_mosaic([list(range(1))], scale=12)\n",
    "    plot_head_comparison(\n",
    "        subject_id_1,\n",
    "        subject_id_2,\n",
    "        colors=[individual_colors[sid] for sid in (subject_id_1, subject_id_2)],\n",
    "        ax=axs[0])\n",
    "    # plt.tight_layout()\n",
    "    fig.savefig(f'../plots/individual_head_comparison_{\"-\".join((subject_id_1, subject_id_2))}_{column}.pdf', format='pdf', transparent=True, backend='cairo')\n",
    "    print()"
   ]
  },
  {
   "cell_type": "markdown",
   "metadata": {},
   "source": [
    "### 3DH Pathway Enrichment (MANUAL)"
   ]
  },
  {
   "cell_type": "code",
   "execution_count": 11,
   "metadata": {},
   "outputs": [],
   "source": [
    "# Enrichment\n",
    "for subject_id_1, subject_id_2, column in individual_comparisons:\n",
    "    # Assemble\n",
    "    sample_ids = [subject_id_1, subject_id_2]\n",
    "    graphs = [load_graph_by_id(sid, column=column) for sid in sample_ids]\n",
    "    for i in range(len(graphs)):\n",
    "        # Remove self-loops\n",
    "        graphs[i] = graphs[i].loc[graphs[i].apply(lambda x: x['TF'] != x['TG'], axis=1)]\n",
    "\n",
    "        # Set index, combine tf and tg, rename coef column\n",
    "        graphs[i].index = graphs[i].apply(lambda x: get_edge_string([x['TF'], x['TG']]), axis=1)\n",
    "        graphs[i] = graphs[i].drop(columns=['TF', 'TG'])\n",
    "        graphs[i] = graphs[i].rename(columns={'coef': sample_ids[i]})\n",
    "\n",
    "        # Drop duplicates\n",
    "        # TODO: Why are there duplicates?\n",
    "        graphs[i] = graphs[i].drop_duplicates()\n",
    "\n",
    "    # Filter to common graphs and join\n",
    "    graphs = graphs[0].join(graphs[1], how='inner')\n",
    "\n",
    "    # Get differentially expressed genes\n",
    "    graphs['Difference'] = np.abs(graphs[subject_id_1] - graphs[subject_id_2])\n",
    "    graphs = graphs.sort_values('Difference', ascending=False)\n",
    "\n",
    "    # Write to file\n",
    "    fname_prefix = f'../plots/individual_pathway_enrichment_{\"-\".join((subject_id_1, subject_id_2))}_{column}'\n",
    "    f_tfs = open(fname_prefix + '.tfs.txt', 'w')\n",
    "    f_tgs = open(fname_prefix + '.tgs.txt', 'w')\n",
    "    f_edges = open(fname_prefix + '.edges.txt', 'w')\n",
    "    for edge in graphs.index:\n",
    "        # TODO: Only show unique tf, tg, maybe?\n",
    "        f_edges.write(edge + '\\t' + f'{graphs.loc[edge, \"Difference\"]:.5f}' + '\\n')\n",
    "        tf, tg = edge.split(get_edge_string())\n",
    "        # Don't show synthetic nodes\n",
    "        if not string_is_synthetic(tf): f_tfs.write(tf + '\\n')\n",
    "        if not string_is_synthetic(tg): f_tgs.write(tg + '\\n')\n",
    "    f_tfs.close()\n",
    "    f_tgs.close()\n",
    "    f_edges.close()\n",
    "\n",
    "    # MANUAL PROCESSING\n",
    "    # Run the output from '<fname_prefix>.xxs.txt' in DisGeNet, save file\n",
    "    # from Enrichment_QC/GO_DisGeNET as '<fname_prefix>.xxs.csv'\n",
    "\n",
    "    # Plot enrichments\n",
    "    get_enrichment_file = lambda x: f'{fname_prefix}.{x}'\n",
    "    for ftype in ['tfs', 'tgs']:\n",
    "        # Get file name\n",
    "        fname = get_enrichment_file(ftype)\n",
    "\n",
    "        # Get enrichment\n",
    "        enrichment = get_enrichment(fname)\n",
    "        if enrichment is None: continue\n",
    "\n",
    "        # Plot\n",
    "        fig, axs = get_mosaic([list(range(1))], scale=9)\n",
    "        plot_enrichment(enrichment, ax=axs[0])\n",
    "        fig.savefig(fname + '.pdf', format='pdf', transparent=True, backend='cairo')\n",
    "\n",
    "        # Plot\n",
    "        fig, axs = get_mosaic([list(range(1))], scale=9)\n",
    "        plot_enrichment(enrichment, ax=axs[0])\n",
    "        fig.savefig(fname + '.pdf', format='pdf', transparent=True, backend='cairo')"
   ]
  },
  {
   "cell_type": "markdown",
   "metadata": {},
   "source": [
    "### 3IJ Population Variance Analysis"
   ]
  },
  {
   "cell_type": "code",
   "execution_count": 9,
   "metadata": {},
   "outputs": [
    {
     "name": "stdout",
     "output_type": "stream",
     "text": [
      "att_D_AD_1\n",
      "No threshold provided, using threshold of 0.013423301698535669.\n",
      "Removing duplicate edges...\n"
     ]
    },
    {
     "name": "stderr",
     "output_type": "stream",
     "text": [
      "100%|█████████████████████████████████████████████████████████████████████| 1043828/1043828 [00:03<00:00, 342779.36it/s]\n",
      "/home/thema/miniconda3/envs/GNN/lib/python3.11/site-packages/numpy/core/fromnumeric.py:3464: RuntimeWarning: Mean of empty slice.\n",
      "  return _methods._mean(a, axis=axis, dtype=dtype,\n",
      "/home/thema/miniconda3/envs/GNN/lib/python3.11/site-packages/numpy/core/_methods.py:192: RuntimeWarning: invalid value encountered in scalar divide\n",
      "  ret = ret.dtype.type(ret / rcount)\n"
     ]
    },
    {
     "name": "stdout",
     "output_type": "stream",
     "text": [
      "Filtered from 5047 vertices and 374869 edges to 1664 vertices and 13275 edges via common edge filtering.\n",
      "Collecting edges...\n"
     ]
    },
    {
     "name": "stderr",
     "output_type": "stream",
     "text": [
      "100%|███████████████████████████████████████████████████████████████████████████| 13275/13275 [00:02<00:00, 5879.28it/s]\n"
     ]
    },
    {
     "name": "stdout",
     "output_type": "stream",
     "text": [
      "\n",
      "att_D_AD_2\n",
      "No threshold provided, using threshold of 0.013423301698535669.\n",
      "Removing duplicate edges...\n"
     ]
    },
    {
     "name": "stderr",
     "output_type": "stream",
     "text": [
      "100%|█████████████████████████████████████████████████████████████████████| 1043828/1043828 [00:03<00:00, 344290.50it/s]\n",
      "/home/thema/miniconda3/envs/GNN/lib/python3.11/site-packages/numpy/core/fromnumeric.py:3464: RuntimeWarning: Mean of empty slice.\n",
      "  return _methods._mean(a, axis=axis, dtype=dtype,\n",
      "/home/thema/miniconda3/envs/GNN/lib/python3.11/site-packages/numpy/core/_methods.py:192: RuntimeWarning: invalid value encountered in scalar divide\n",
      "  ret = ret.dtype.type(ret / rcount)\n"
     ]
    },
    {
     "name": "stdout",
     "output_type": "stream",
     "text": [
      "Filtered from 5047 vertices and 374869 edges to 1664 vertices and 13258 edges via common edge filtering.\n",
      "Collecting edges...\n"
     ]
    },
    {
     "name": "stderr",
     "output_type": "stream",
     "text": [
      "100%|███████████████████████████████████████████████████████████████████████████| 13258/13258 [00:02<00:00, 5903.10it/s]\n"
     ]
    },
    {
     "name": "stdout",
     "output_type": "stream",
     "text": [
      "\n",
      "att_D_SCZ_1\n",
      "No threshold provided, using threshold of 0.013423301698535669.\n",
      "Removing duplicate edges...\n"
     ]
    },
    {
     "name": "stderr",
     "output_type": "stream",
     "text": [
      "100%|█████████████████████████████████████████████████████████████████████| 1043828/1043828 [00:03<00:00, 341986.44it/s]\n",
      "/home/thema/miniconda3/envs/GNN/lib/python3.11/site-packages/numpy/core/fromnumeric.py:3464: RuntimeWarning: Mean of empty slice.\n",
      "  return _methods._mean(a, axis=axis, dtype=dtype,\n",
      "/home/thema/miniconda3/envs/GNN/lib/python3.11/site-packages/numpy/core/_methods.py:192: RuntimeWarning: invalid value encountered in scalar divide\n",
      "  ret = ret.dtype.type(ret / rcount)\n"
     ]
    },
    {
     "name": "stdout",
     "output_type": "stream",
     "text": [
      "Filtered from 5047 vertices and 374869 edges to 1664 vertices and 13274 edges via common edge filtering.\n",
      "Collecting edges...\n"
     ]
    },
    {
     "name": "stderr",
     "output_type": "stream",
     "text": [
      "100%|███████████████████████████████████████████████████████████████████████████| 13274/13274 [00:02<00:00, 5823.64it/s]\n"
     ]
    },
    {
     "name": "stdout",
     "output_type": "stream",
     "text": [
      "\n",
      "att_D_SCZ_2\n",
      "No threshold provided, using threshold of 0.013423301698535669.\n",
      "Removing duplicate edges...\n"
     ]
    },
    {
     "name": "stderr",
     "output_type": "stream",
     "text": [
      "100%|█████████████████████████████████████████████████████████████████████| 1043828/1043828 [00:03<00:00, 337219.63it/s]\n",
      "/home/thema/miniconda3/envs/GNN/lib/python3.11/site-packages/numpy/core/fromnumeric.py:3464: RuntimeWarning: Mean of empty slice.\n",
      "  return _methods._mean(a, axis=axis, dtype=dtype,\n",
      "/home/thema/miniconda3/envs/GNN/lib/python3.11/site-packages/numpy/core/_methods.py:192: RuntimeWarning: invalid value encountered in scalar divide\n",
      "  ret = ret.dtype.type(ret / rcount)\n"
     ]
    },
    {
     "name": "stdout",
     "output_type": "stream",
     "text": [
      "Filtered from 5047 vertices and 374869 edges to 1664 vertices and 13272 edges via common edge filtering.\n",
      "Collecting edges...\n"
     ]
    },
    {
     "name": "stderr",
     "output_type": "stream",
     "text": [
      "100%|███████████████████████████████████████████████████████████████████████████| 13272/13272 [00:02<00:00, 5935.70it/s]\n"
     ]
    },
    {
     "name": "stdout",
     "output_type": "stream",
     "text": [
      "\n",
      "att_D_no_prior_0\n",
      "No threshold provided, using threshold of 0.013423301698535669.\n",
      "Removing duplicate edges...\n"
     ]
    },
    {
     "name": "stderr",
     "output_type": "stream",
     "text": [
      "100%|█████████████████████████████████████████████████████████████████████| 1043828/1043828 [00:03<00:00, 345610.42it/s]\n",
      "/home/thema/miniconda3/envs/GNN/lib/python3.11/site-packages/numpy/core/fromnumeric.py:3464: RuntimeWarning: Mean of empty slice.\n",
      "  return _methods._mean(a, axis=axis, dtype=dtype,\n",
      "/home/thema/miniconda3/envs/GNN/lib/python3.11/site-packages/numpy/core/_methods.py:192: RuntimeWarning: invalid value encountered in scalar divide\n",
      "  ret = ret.dtype.type(ret / rcount)\n"
     ]
    },
    {
     "name": "stdout",
     "output_type": "stream",
     "text": [
      "Filtered from 5047 vertices and 374869 edges to 1664 vertices and 13268 edges via common edge filtering.\n",
      "Collecting edges...\n"
     ]
    },
    {
     "name": "stderr",
     "output_type": "stream",
     "text": [
      "100%|███████████████████████████████████████████████████████████████████████████| 13268/13268 [00:02<00:00, 5183.22it/s]\n"
     ]
    },
    {
     "name": "stdout",
     "output_type": "stream",
     "text": [
      "\n",
      "att_D_no_prior_1\n",
      "No threshold provided, using threshold of 0.013423301698535669.\n",
      "Removing duplicate edges...\n"
     ]
    },
    {
     "name": "stderr",
     "output_type": "stream",
     "text": [
      "100%|█████████████████████████████████████████████████████████████████████| 1043828/1043828 [00:03<00:00, 343529.74it/s]\n",
      "/home/thema/miniconda3/envs/GNN/lib/python3.11/site-packages/numpy/core/fromnumeric.py:3464: RuntimeWarning: Mean of empty slice.\n",
      "  return _methods._mean(a, axis=axis, dtype=dtype,\n",
      "/home/thema/miniconda3/envs/GNN/lib/python3.11/site-packages/numpy/core/_methods.py:192: RuntimeWarning: invalid value encountered in scalar divide\n",
      "  ret = ret.dtype.type(ret / rcount)\n"
     ]
    },
    {
     "name": "stdout",
     "output_type": "stream",
     "text": [
      "Filtered from 5047 vertices and 374869 edges to 1664 vertices and 13269 edges via common edge filtering.\n",
      "Collecting edges...\n"
     ]
    },
    {
     "name": "stderr",
     "output_type": "stream",
     "text": [
      "100%|███████████████████████████████████████████████████████████████████████████| 13269/13269 [00:02<00:00, 5867.16it/s]\n"
     ]
    },
    {
     "name": "stdout",
     "output_type": "stream",
     "text": [
      "\n"
     ]
    },
    {
     "name": "stderr",
     "output_type": "stream",
     "text": [
      "/tmp/ipykernel_765/4202816374.py:37: UserWarning: The figure layout has changed to tight\n",
      "  plt.tight_layout()\n"
     ]
    }
   ],
   "source": [
    "# Get variance for each head over all edges\n",
    "all_columns = get_attention_columns()\n",
    "subject_ids = list(meta['SubID'])\n",
    "value_name = 'Variance'\n",
    "\n",
    "df_all = pd.DataFrame(columns=['Edge', 'Head', value_name])\n",
    "for column in all_columns:\n",
    "    print(column)\n",
    "\n",
    "    # Compute variance\n",
    "    df_subgroup = compute_contrast_summary(\n",
    "        {'Population': subject_ids},\n",
    "        column=column,\n",
    "        population=False)\n",
    "\n",
    "    # Format df\n",
    "    df = df_subgroup['Population'][['Edge', value_name]].copy()\n",
    "    df['Head'] = column\n",
    "    df_all = pd.concat([df_all, df])\n",
    "\n",
    "    print()\n",
    "\n",
    "# Format\n",
    "df_all_pivot = df_all.pivot(index='Edge', columns='Head', values=value_name)\n",
    "\n",
    "# Get top edges\n",
    "idx_to_include = get_top_idx(df_all_pivot.abs(), all_columns, num_edges_per_head=2)\n",
    "\n",
    "# Plot curves and circle heatmap\n",
    "fig, axs = get_mosaic([list(range(1))], scale=9)\n",
    "plot_contrast_curve(df_all, subgroup_name='Head', value_name=value_name, sorting_subgroup='Mean', concatenate=False, ax=axs[0])\n",
    "axs[0].set_ylabel('Attention Variance')\n",
    "fig.savefig(f'../plots/individual_population_curves.pdf', format='pdf', transparent=True, backend='cairo')\n",
    "fig, axs = get_mosaic([list(range(1))], scale=9)\n",
    "plot_circle_heatmap(df_all_pivot.iloc[idx_to_include], column_name='Head', index_name='Edge', value_name=value_name, ax=axs[0])\n",
    "axs[0].set_xlabel(None); axs[0].set_ylabel(None)\n",
    "plt.tight_layout()\n",
    "fig.savefig(f'../plots/individual_population_heatmap.pdf', format='pdf', transparent=True, backend='cairo')"
   ]
  },
  {
   "cell_type": "markdown",
   "metadata": {},
   "source": [
    "### 3K Dosage Analysis (MANUAL)"
   ]
  },
  {
   "cell_type": "code",
   "execution_count": 8,
   "metadata": {},
   "outputs": [
    {
     "name": "stderr",
     "output_type": "stream",
     "text": [
      "/mnt/c/Users/nck/repos/GNN-Plus/Attention Analysis/scripts/functions/file.py:109: DtypeWarning: Columns (20,24,25,57,59,61,90,145,231,249,270,271,286,292,297,318,355,397,437,510,511,627,632,646,662,702,732,738,761,786,804,805,833,837,868,891,913,918,924,953,954,955,956,957,958) have mixed types. Specify dtype option on import or set low_memory=False.\n",
      "  dosage = pd.read_csv(DOSAGE)\n"
     ]
    },
    {
     "name": "stdout",
     "output_type": "stream",
     "text": [
      "No threshold provided, using threshold of 0.013423301698535669.\n",
      "Removing duplicate edges...\n"
     ]
    },
    {
     "name": "stderr",
     "output_type": "stream",
     "text": [
      "100%|█████████████████████████████████████████████████████████████████████| 1043828/1043828 [00:02<00:00, 349175.90it/s]\n",
      "/home/thema/miniconda3/envs/GNN/lib/python3.11/site-packages/numpy/core/fromnumeric.py:3464: RuntimeWarning: Mean of empty slice.\n",
      "  return _methods._mean(a, axis=axis, dtype=dtype,\n",
      "/home/thema/miniconda3/envs/GNN/lib/python3.11/site-packages/numpy/core/_methods.py:192: RuntimeWarning: invalid value encountered in scalar divide\n",
      "  ret = ret.dtype.type(ret / rcount)\n"
     ]
    },
    {
     "name": "stdout",
     "output_type": "stream",
     "text": [
      "Filtered from 5047 vertices and 374869 edges to 1664 vertices and 13268 edges via common edge filtering.\n",
      "Collecting edges...\n"
     ]
    },
    {
     "name": "stderr",
     "output_type": "stream",
     "text": [
      "100%|███████████████████████████████████████████████████████████████████████████| 13268/13268 [00:02<00:00, 6002.36it/s]\n"
     ]
    },
    {
     "name": "stdout",
     "output_type": "stream",
     "text": [
      "\n",
      "0. Micro -- OPC\n",
      "1. Micro -- Astro\n",
      "2. Micro -- IN_LAMP5_RELN\n",
      "3. Micro -- Oligo\n",
      "4. Micro -- EN_L2_3_IT\n",
      "5. Micro -- IN_LAMP5_LHX6\n",
      "6. Micro -- EN_L3_5_IT_1\n",
      "7. Micro -- EN_L6_IT_1\n",
      "8. Micro -- EN_L6_CT\n",
      "9. Micro -- EN_L3_5_IT_2\n"
     ]
    }
   ],
   "source": [
    "# Get dosage information\n",
    "dosage = get_dosage()\n",
    "\n",
    "# Parameters\n",
    "column = column_data\n",
    "subject_ids = meta['SubID'].to_numpy()\n",
    "\n",
    "# Get most variant edges\n",
    "graphs = []; graph_sids = []\n",
    "for sid in subject_ids:\n",
    "    try:\n",
    "        graphs.append(compute_graph(load_graph_by_id(sid, column=column)))\n",
    "        graph_sids.append(sid)\n",
    "    except: pass\n",
    "variance = compute_edge_summary(graphs=graphs, subject_ids=graph_sids)[0]\n",
    "variance = variance.set_index('Edge')\n",
    "variance = variance.std(axis=1)\n",
    "target_edges_all = variance.index[np.argsort(variance)[::-1]]\n",
    "target_edges_all = np.array(target_edges_all)\n",
    "\n",
    "# CLI\n",
    "print()\n",
    "for i, edge in enumerate(target_edges_all[:20]):\n",
    "    print(f'{i}. {edge}')"
   ]
  },
  {
   "cell_type": "code",
   "execution_count": 10,
   "metadata": {},
   "outputs": [
    {
     "name": "stdout",
     "output_type": "stream",
     "text": [
      "SOX6 -- PCDH15\n",
      "Converting dosage ids to subject ids...\n"
     ]
    },
    {
     "name": "stderr",
     "output_type": "stream",
     "text": [
      "/mnt/c/Users/nck/repos/GNN-Plus/Attention Analysis/scripts/functions/computation.py:398: UserWarning: Unable to find SNP 'BM-44-4996' in metadata\n",
      "  warnings.warn(f'Unable to find SNP \\'{dosage_id}\\' in metadata')\n",
      "/mnt/c/Users/nck/repos/GNN-Plus/Attention Analysis/scripts/functions/computation.py:398: UserWarning: Unable to find SNP 'RUSH-043\n",
      "' in metadata\n",
      "  warnings.warn(f'Unable to find SNP \\'{dosage_id}\\' in metadata')\n"
     ]
    },
    {
     "name": "stdout",
     "output_type": "stream",
     "text": [
      "Computing correlations...\n"
     ]
    },
    {
     "name": "stderr",
     "output_type": "stream",
     "text": [
      "100%|████████████████████████████████████████████████████████████████████████| 502282/502282 [00:23<00:00, 21697.66it/s]\n",
      "/tmp/ipykernel_827/2425618143.py:21: UserWarning: The figure layout has changed to tight\n",
      "  plt.tight_layout()\n"
     ]
    },
    {
     "name": "stdout",
     "output_type": "stream",
     "text": [
      "\n",
      "Immune -- RUNX3\n",
      "Converting dosage ids to subject ids...\n"
     ]
    },
    {
     "name": "stderr",
     "output_type": "stream",
     "text": [
      "/mnt/c/Users/nck/repos/GNN-Plus/Attention Analysis/scripts/functions/computation.py:398: UserWarning: Unable to find SNP 'BM-44-4996' in metadata\n",
      "  warnings.warn(f'Unable to find SNP \\'{dosage_id}\\' in metadata')\n",
      "/mnt/c/Users/nck/repos/GNN-Plus/Attention Analysis/scripts/functions/computation.py:398: UserWarning: Unable to find SNP 'RUSH-043\n",
      "' in metadata\n",
      "  warnings.warn(f'Unable to find SNP \\'{dosage_id}\\' in metadata')\n"
     ]
    },
    {
     "name": "stdout",
     "output_type": "stream",
     "text": [
      "Computing correlations...\n"
     ]
    },
    {
     "name": "stderr",
     "output_type": "stream",
     "text": [
      "100%|████████████████████████████████████████████████████████████████████████| 502282/502282 [00:41<00:00, 12236.02it/s]\n",
      "/tmp/ipykernel_827/2425618143.py:21: UserWarning: The figure layout has changed to tight\n",
      "  plt.tight_layout()\n"
     ]
    },
    {
     "name": "stdout",
     "output_type": "stream",
     "text": [
      "\n",
      "Micro -- TAL1\n",
      "Converting dosage ids to subject ids...\n"
     ]
    },
    {
     "name": "stderr",
     "output_type": "stream",
     "text": [
      "/mnt/c/Users/nck/repos/GNN-Plus/Attention Analysis/scripts/functions/computation.py:398: UserWarning: Unable to find SNP 'BM-44-4996' in metadata\n",
      "  warnings.warn(f'Unable to find SNP \\'{dosage_id}\\' in metadata')\n",
      "/mnt/c/Users/nck/repos/GNN-Plus/Attention Analysis/scripts/functions/computation.py:398: UserWarning: Unable to find SNP 'RUSH-043\n",
      "' in metadata\n",
      "  warnings.warn(f'Unable to find SNP \\'{dosage_id}\\' in metadata')\n"
     ]
    },
    {
     "name": "stdout",
     "output_type": "stream",
     "text": [
      "Computing correlations...\n"
     ]
    },
    {
     "name": "stderr",
     "output_type": "stream",
     "text": [
      "100%|████████████████████████████████████████████████████████████████████████| 502282/502282 [00:39<00:00, 12772.98it/s]\n",
      "/tmp/ipykernel_827/2425618143.py:21: UserWarning: The figure layout has changed to tight\n",
      "  plt.tight_layout()\n"
     ]
    },
    {
     "name": "stdout",
     "output_type": "stream",
     "text": [
      "\n"
     ]
    }
   ],
   "source": [
    "# COMPUTED MANUALLY USING `target_genes`\n",
    "target_edges = target_edges_all[[12, 13, 16]]\n",
    "chromosomes = ['10', '1', '1']\n",
    "\n",
    "# Plot\n",
    "# TODO: Find out why there are gaps in the plot,\n",
    "# TODO: Right now FDR finds no significant SNPs, find another adjustment\n",
    "#   likely to do with `get_chromosome_lengths`\n",
    "for i, (target_edge, chromosome) in enumerate(zip(target_edges, chromosomes)):\n",
    "    print(target_edge)\n",
    "    fig, axs = get_mosaic([3*[0]], scale=9)\n",
    "    df = plot_attention_dosage_correlation(\n",
    "        dosage,\n",
    "        # n=100,\n",
    "        meta=meta,\n",
    "        subject_ids=subject_ids,\n",
    "        column=column,\n",
    "        target_edge=target_edge,\n",
    "        chromosomes=[chromosome] if chromosome is not None else None,\n",
    "        ax=axs[0])\n",
    "    plt.tight_layout()\n",
    "    fig.savefig(f'../plots/individual_dosage_correlation_{target_edge}.pdf', format='pdf', transparent=True, backend='cairo')\n",
    "    print()"
   ]
  },
  {
   "cell_type": "markdown",
   "metadata": {},
   "source": [
    "## Group Comparisons (Figure 4)"
   ]
  },
  {
   "cell_type": "code",
   "execution_count": 12,
   "metadata": {},
   "outputs": [],
   "source": [
    "# Combinations\n",
    "# TODO: Potentially move each entry to dictionary, so changes in order\n",
    "#   are easier to propagate\n",
    "contrast_groupings = [\n",
    "    # (contrast name, contrast group, attention column, comparison column, target meta column)\n",
    "    # for contrast_name, contrast_group, column, comparison, target in contrast_groupings:\n",
    "    # TODO: Revise ethnicity prediction\n",
    "    ('c06x', 'AD', column_data, column_ad, 'Ethnicity'),  # Maybe make this all subjects?  Or just control?\n",
    "    ('c06x', 'AD', column_ad, column_data, 'BRAAK_AD'),  # Eventually SCZ, BP and such\n",
    "    ('c71x', 'MoodDys', column_data, column_ad, 'nps_MoodDysCurValue'),  # Dysphoria\n",
    "    ('c72x', 'DecInt', column_data, column_ad, 'nps_DecIntCurValue'),  # Anhedonia\n",
    "]"
   ]
  },
  {
   "cell_type": "markdown",
   "metadata": {},
   "source": [
    "### 4A BRAAK Comparison"
   ]
  },
  {
   "cell_type": "code",
   "execution_count": 13,
   "metadata": {},
   "outputs": [
    {
     "name": "stdout",
     "output_type": "stream",
     "text": [
      "c06x - att_D_no_prior_0 - Ethnicity\n",
      "No threshold provided, using threshold of 0.021198411899135766.\n",
      "Removing duplicate edges...\n"
     ]
    },
    {
     "name": "stderr",
     "output_type": "stream",
     "text": [
      "100%|███████████████████████████████████████████████████████████████████████| 522653/522653 [00:01<00:00, 340015.97it/s]\n",
      "/home/thema/miniconda3/envs/GNN/lib/python3.11/site-packages/numpy/core/fromnumeric.py:3464: RuntimeWarning: Mean of empty slice.\n",
      "  return _methods._mean(a, axis=axis, dtype=dtype,\n",
      "/home/thema/miniconda3/envs/GNN/lib/python3.11/site-packages/numpy/core/_methods.py:192: RuntimeWarning: invalid value encountered in scalar divide\n",
      "  ret = ret.dtype.type(ret / rcount)\n"
     ]
    },
    {
     "name": "stdout",
     "output_type": "stream",
     "text": [
      "Filtered from 4997 vertices and 221958 edges to 1319 vertices and 8839 edges via common edge filtering.\n",
      "Collecting edges...\n"
     ]
    },
    {
     "name": "stderr",
     "output_type": "stream",
     "text": [
      "100%|████████████████████████████████████████████████████████████████████████████| 8839/8839 [00:00<00:00, 10518.20it/s]\n"
     ]
    },
    {
     "name": "stdout",
     "output_type": "stream",
     "text": [
      "No threshold provided, using threshold of 0.021198411899135766.\n",
      "Removing duplicate edges...\n"
     ]
    },
    {
     "name": "stderr",
     "output_type": "stream",
     "text": [
      "100%|███████████████████████████████████████████████████████████████████████| 522653/522653 [00:01<00:00, 331132.98it/s]\n",
      "/home/thema/miniconda3/envs/GNN/lib/python3.11/site-packages/numpy/core/fromnumeric.py:3464: RuntimeWarning: Mean of empty slice.\n",
      "  return _methods._mean(a, axis=axis, dtype=dtype,\n",
      "/home/thema/miniconda3/envs/GNN/lib/python3.11/site-packages/numpy/core/_methods.py:192: RuntimeWarning: invalid value encountered in scalar divide\n",
      "  ret = ret.dtype.type(ret / rcount)\n"
     ]
    },
    {
     "name": "stdout",
     "output_type": "stream",
     "text": [
      "Filtered from 4997 vertices and 221958 edges to 1319 vertices and 8842 edges via common edge filtering.\n",
      "Collecting edges...\n"
     ]
    },
    {
     "name": "stderr",
     "output_type": "stream",
     "text": [
      "100%|████████████████████████████████████████████████████████████████████████████| 8842/8842 [00:00<00:00, 10882.53it/s]\n"
     ]
    },
    {
     "name": "stdout",
     "output_type": "stream",
     "text": [
      "\n",
      "c06x - att_D_AD_1 - BRAAK_AD\n",
      "No threshold provided, using threshold of 0.021198411899135766.\n",
      "Removing duplicate edges...\n"
     ]
    },
    {
     "name": "stderr",
     "output_type": "stream",
     "text": [
      "100%|███████████████████████████████████████████████████████████████████████| 522653/522653 [00:01<00:00, 348579.50it/s]\n",
      "/home/thema/miniconda3/envs/GNN/lib/python3.11/site-packages/numpy/core/fromnumeric.py:3464: RuntimeWarning: Mean of empty slice.\n",
      "  return _methods._mean(a, axis=axis, dtype=dtype,\n",
      "/home/thema/miniconda3/envs/GNN/lib/python3.11/site-packages/numpy/core/_methods.py:192: RuntimeWarning: invalid value encountered in scalar divide\n",
      "  ret = ret.dtype.type(ret / rcount)\n"
     ]
    },
    {
     "name": "stdout",
     "output_type": "stream",
     "text": [
      "Filtered from 4997 vertices and 221958 edges to 1319 vertices and 8842 edges via common edge filtering.\n",
      "Collecting edges...\n"
     ]
    },
    {
     "name": "stderr",
     "output_type": "stream",
     "text": [
      "100%|████████████████████████████████████████████████████████████████████████████| 8842/8842 [00:00<00:00, 10994.43it/s]\n"
     ]
    },
    {
     "name": "stdout",
     "output_type": "stream",
     "text": [
      "No threshold provided, using threshold of 0.021198411899135766.\n",
      "Removing duplicate edges...\n"
     ]
    },
    {
     "name": "stderr",
     "output_type": "stream",
     "text": [
      "100%|███████████████████████████████████████████████████████████████████████| 522653/522653 [00:01<00:00, 343541.09it/s]\n",
      "/home/thema/miniconda3/envs/GNN/lib/python3.11/site-packages/numpy/core/fromnumeric.py:3464: RuntimeWarning: Mean of empty slice.\n",
      "  return _methods._mean(a, axis=axis, dtype=dtype,\n",
      "/home/thema/miniconda3/envs/GNN/lib/python3.11/site-packages/numpy/core/_methods.py:192: RuntimeWarning: invalid value encountered in scalar divide\n",
      "  ret = ret.dtype.type(ret / rcount)\n"
     ]
    },
    {
     "name": "stdout",
     "output_type": "stream",
     "text": [
      "Filtered from 4997 vertices and 221958 edges to 1319 vertices and 8839 edges via common edge filtering.\n",
      "Collecting edges...\n"
     ]
    },
    {
     "name": "stderr",
     "output_type": "stream",
     "text": [
      "100%|████████████████████████████████████████████████████████████████████████████| 8839/8839 [00:00<00:00, 10798.45it/s]\n"
     ]
    },
    {
     "name": "stdout",
     "output_type": "stream",
     "text": [
      "\n",
      "c71x - att_D_no_prior_0 - nps_MoodDysCurValue\n",
      "No threshold provided, using threshold of 0.031137643451082758.\n",
      "Removing duplicate edges...\n"
     ]
    },
    {
     "name": "stderr",
     "output_type": "stream",
     "text": [
      "100%|███████████████████████████████████████████████████████████████████████| 300049/300049 [00:00<00:00, 345553.27it/s]\n",
      "/home/thema/miniconda3/envs/GNN/lib/python3.11/site-packages/numpy/core/fromnumeric.py:3464: RuntimeWarning: Mean of empty slice.\n",
      "  return _methods._mean(a, axis=axis, dtype=dtype,\n",
      "/home/thema/miniconda3/envs/GNN/lib/python3.11/site-packages/numpy/core/_methods.py:192: RuntimeWarning: invalid value encountered in scalar divide\n",
      "  ret = ret.dtype.type(ret / rcount)\n"
     ]
    },
    {
     "name": "stdout",
     "output_type": "stream",
     "text": [
      "Filtered from 4943 vertices and 144737 edges to 995 vertices and 5711 edges via common edge filtering.\n",
      "Collecting edges...\n"
     ]
    },
    {
     "name": "stderr",
     "output_type": "stream",
     "text": [
      "100%|████████████████████████████████████████████████████████████████████████████| 5711/5711 [00:00<00:00, 17362.37it/s]\n"
     ]
    },
    {
     "name": "stdout",
     "output_type": "stream",
     "text": [
      "No threshold provided, using threshold of 0.031137643451082758.\n",
      "Removing duplicate edges...\n"
     ]
    },
    {
     "name": "stderr",
     "output_type": "stream",
     "text": [
      "100%|███████████████████████████████████████████████████████████████████████| 300049/300049 [00:00<00:00, 350859.84it/s]\n",
      "/home/thema/miniconda3/envs/GNN/lib/python3.11/site-packages/numpy/core/fromnumeric.py:3464: RuntimeWarning: Mean of empty slice.\n",
      "  return _methods._mean(a, axis=axis, dtype=dtype,\n",
      "/home/thema/miniconda3/envs/GNN/lib/python3.11/site-packages/numpy/core/_methods.py:192: RuntimeWarning: invalid value encountered in scalar divide\n",
      "  ret = ret.dtype.type(ret / rcount)\n"
     ]
    },
    {
     "name": "stdout",
     "output_type": "stream",
     "text": [
      "Filtered from 4943 vertices and 144737 edges to 995 vertices and 5714 edges via common edge filtering.\n",
      "Collecting edges...\n"
     ]
    },
    {
     "name": "stderr",
     "output_type": "stream",
     "text": [
      "100%|████████████████████████████████████████████████████████████████████████████| 5714/5714 [00:00<00:00, 16118.47it/s]\n"
     ]
    },
    {
     "name": "stdout",
     "output_type": "stream",
     "text": [
      "\n",
      "c72x - att_D_no_prior_0 - nps_DecIntCurValue\n",
      "No threshold provided, using threshold of 0.031252225557032644.\n",
      "Removing duplicate edges...\n"
     ]
    },
    {
     "name": "stderr",
     "output_type": "stream",
     "text": [
      "100%|███████████████████████████████████████████████████████████████████████| 297554/297554 [00:00<00:00, 344718.97it/s]\n",
      "/home/thema/miniconda3/envs/GNN/lib/python3.11/site-packages/numpy/core/fromnumeric.py:3464: RuntimeWarning: Mean of empty slice.\n",
      "  return _methods._mean(a, axis=axis, dtype=dtype,\n",
      "/home/thema/miniconda3/envs/GNN/lib/python3.11/site-packages/numpy/core/_methods.py:192: RuntimeWarning: invalid value encountered in scalar divide\n",
      "  ret = ret.dtype.type(ret / rcount)\n"
     ]
    },
    {
     "name": "stdout",
     "output_type": "stream",
     "text": [
      "Filtered from 4942 vertices and 144619 edges to 993 vertices and 5652 edges via common edge filtering.\n",
      "Collecting edges...\n"
     ]
    },
    {
     "name": "stderr",
     "output_type": "stream",
     "text": [
      "100%|████████████████████████████████████████████████████████████████████████████| 5652/5652 [00:00<00:00, 15897.87it/s]\n"
     ]
    },
    {
     "name": "stdout",
     "output_type": "stream",
     "text": [
      "No threshold provided, using threshold of 0.031252225557032644.\n",
      "Removing duplicate edges...\n"
     ]
    },
    {
     "name": "stderr",
     "output_type": "stream",
     "text": [
      "100%|███████████████████████████████████████████████████████████████████████| 297554/297554 [00:00<00:00, 347348.43it/s]\n",
      "/home/thema/miniconda3/envs/GNN/lib/python3.11/site-packages/numpy/core/fromnumeric.py:3464: RuntimeWarning: Mean of empty slice.\n",
      "  return _methods._mean(a, axis=axis, dtype=dtype,\n",
      "/home/thema/miniconda3/envs/GNN/lib/python3.11/site-packages/numpy/core/_methods.py:192: RuntimeWarning: invalid value encountered in scalar divide\n",
      "  ret = ret.dtype.type(ret / rcount)\n"
     ]
    },
    {
     "name": "stdout",
     "output_type": "stream",
     "text": [
      "Filtered from 4942 vertices and 144619 edges to 993 vertices and 5655 edges via common edge filtering.\n",
      "Collecting edges...\n"
     ]
    },
    {
     "name": "stderr",
     "output_type": "stream",
     "text": [
      "100%|████████████████████████████████████████████████████████████████████████████| 5655/5655 [00:00<00:00, 17229.03it/s]\n"
     ]
    },
    {
     "name": "stdout",
     "output_type": "stream",
     "text": [
      "\n"
     ]
    }
   ],
   "source": [
    "# TODO: Use highest variance rather than random edges\n",
    "# TODO: Make both columns same scale, maybe?\n",
    "for contrast_name, _, column, comparison, target in contrast_groupings:\n",
    "    print(' - '.join((contrast_name, column, target)))\n",
    "    # Get contrast\n",
    "    contrast = get_contrast(contrast_name)\n",
    "\n",
    "    # Plot\n",
    "    fig, axs = get_mosaic([6*[0], 6*[1]], scale=3)\n",
    "    sns.despine()\n",
    "\n",
    "    _, edges_include = plot_BRAAK_comparison(\n",
    "        contrast,\n",
    "        # {k: v[:10] for k, v in contrast.items()},\n",
    "        meta=meta,\n",
    "        column=column,\n",
    "        target=target,\n",
    "        legend=False,\n",
    "        ax=axs[0])\n",
    "    plt.xlabel(None)\n",
    "    plt.ylabel(column)\n",
    "    plt.xticks([])\n",
    "    \n",
    "    plot_BRAAK_comparison(\n",
    "        contrast,\n",
    "        meta=meta,\n",
    "        column=comparison,\n",
    "        target=target,\n",
    "        edges_include=edges_include,\n",
    "        ax=axs[1])\n",
    "    plt.ylabel(comparison)\n",
    "\n",
    "    fig.savefig(f'../plots/group_differential_expression_{contrast_name}_{column}_{comparison}_{target}.pdf', format='pdf', transparent=True, backend='cairo')\n",
    "    print()"
   ]
  },
  {
   "cell_type": "markdown",
   "metadata": {},
   "source": [
    "### 4B Cross-Validation Accuracies"
   ]
  },
  {
   "cell_type": "code",
   "execution_count": 14,
   "metadata": {},
   "outputs": [
    {
     "name": "stdout",
     "output_type": "stream",
     "text": [
      "c06x - att_D_no_prior_0 - Ethnicity\n",
      "No threshold provided, using threshold of 0.02839460354258344.\n",
      "Removing duplicate edges...\n"
     ]
    },
    {
     "name": "stderr",
     "output_type": "stream",
     "text": [
      "100%|███████████████████████████████████████████████████████████████████████| 335051/335051 [00:00<00:00, 343979.63it/s]\n",
      "/home/thema/miniconda3/envs/GNN/lib/python3.11/site-packages/numpy/core/fromnumeric.py:3464: RuntimeWarning: Mean of empty slice.\n",
      "  return _methods._mean(a, axis=axis, dtype=dtype,\n",
      "/home/thema/miniconda3/envs/GNN/lib/python3.11/site-packages/numpy/core/_methods.py:192: RuntimeWarning: invalid value encountered in scalar divide\n",
      "  ret = ret.dtype.type(ret / rcount)\n"
     ]
    },
    {
     "name": "stdout",
     "output_type": "stream",
     "text": [
      "Filtered from 4943 vertices and 154650 edges to 1134 vertices and 6814 edges via common edge filtering.\n",
      "No threshold provided, using threshold of 0.04228647070516764.\n",
      "Removing duplicate edges...\n"
     ]
    },
    {
     "name": "stderr",
     "output_type": "stream",
     "text": [
      "100%|███████████████████████████████████████████████████████████████████████| 187602/187602 [00:00<00:00, 343998.83it/s]\n",
      "/home/thema/miniconda3/envs/GNN/lib/python3.11/site-packages/numpy/core/fromnumeric.py:3464: RuntimeWarning: Mean of empty slice.\n",
      "  return _methods._mean(a, axis=axis, dtype=dtype,\n",
      "/home/thema/miniconda3/envs/GNN/lib/python3.11/site-packages/numpy/core/_methods.py:192: RuntimeWarning: invalid value encountered in scalar divide\n",
      "  ret = ret.dtype.type(ret / rcount)\n"
     ]
    },
    {
     "name": "stdout",
     "output_type": "stream",
     "text": [
      "Filtered from 4830 vertices and 99726 edges to 829 vertices and 4368 edges via common edge filtering.\n",
      "Collecting edges...\n"
     ]
    },
    {
     "name": "stderr",
     "output_type": "stream",
     "text": [
      "100%|████████████████████████████████████████████████████████████████████████████| 6814/6814 [00:00<00:00, 15452.74it/s]\n"
     ]
    },
    {
     "name": "stdout",
     "output_type": "stream",
     "text": [
      "Collecting edges...\n"
     ]
    },
    {
     "name": "stderr",
     "output_type": "stream",
     "text": [
      "100%|████████████████████████████████████████████████████████████████████████████| 4368/4368 [00:00<00:00, 22745.10it/s]\n"
     ]
    },
    {
     "name": "stdout",
     "output_type": "stream",
     "text": [
      "No threshold provided, using threshold of 0.021198411899135766.\n",
      "Removing duplicate edges...\n"
     ]
    },
    {
     "name": "stderr",
     "output_type": "stream",
     "text": [
      "100%|███████████████████████████████████████████████████████████████████████| 522653/522653 [00:01<00:00, 346904.18it/s]\n",
      "/home/thema/miniconda3/envs/GNN/lib/python3.11/site-packages/numpy/core/fromnumeric.py:3464: RuntimeWarning: Mean of empty slice.\n",
      "  return _methods._mean(a, axis=axis, dtype=dtype,\n",
      "/home/thema/miniconda3/envs/GNN/lib/python3.11/site-packages/numpy/core/_methods.py:192: RuntimeWarning: invalid value encountered in scalar divide\n",
      "  ret = ret.dtype.type(ret / rcount)\n"
     ]
    },
    {
     "name": "stdout",
     "output_type": "stream",
     "text": [
      "Filtered from 4997 vertices and 221958 edges to 1319 vertices and 8839 edges via common edge filtering.\n",
      "Collecting edges...\n"
     ]
    },
    {
     "name": "stderr",
     "output_type": "stream",
     "text": [
      "100%|████████████████████████████████████████████████████████████████████████████| 8839/8839 [00:00<00:00, 10890.86it/s]\n"
     ]
    },
    {
     "name": "stdout",
     "output_type": "stream",
     "text": [
      "No threshold provided, using threshold of 0.021198411899135766.\n",
      "Removing duplicate edges...\n"
     ]
    },
    {
     "name": "stderr",
     "output_type": "stream",
     "text": [
      "100%|███████████████████████████████████████████████████████████████████████| 522653/522653 [00:01<00:00, 350577.04it/s]\n",
      "/home/thema/miniconda3/envs/GNN/lib/python3.11/site-packages/numpy/core/fromnumeric.py:3464: RuntimeWarning: Mean of empty slice.\n",
      "  return _methods._mean(a, axis=axis, dtype=dtype,\n",
      "/home/thema/miniconda3/envs/GNN/lib/python3.11/site-packages/numpy/core/_methods.py:192: RuntimeWarning: invalid value encountered in scalar divide\n",
      "  ret = ret.dtype.type(ret / rcount)\n"
     ]
    },
    {
     "name": "stdout",
     "output_type": "stream",
     "text": [
      "Filtered from 4997 vertices and 221958 edges to 1319 vertices and 8839 edges via common edge filtering.\n",
      "Collecting edges...\n"
     ]
    },
    {
     "name": "stderr",
     "output_type": "stream",
     "text": [
      "100%|████████████████████████████████████████████████████████████████████████████| 8839/8839 [00:00<00:00, 11003.33it/s]\n"
     ]
    },
    {
     "name": "stdout",
     "output_type": "stream",
     "text": [
      "\n",
      "c06x - att_D_AD_1 - BRAAK_AD\n",
      "No threshold provided, using threshold of 0.02839460354258344.\n",
      "Removing duplicate edges...\n"
     ]
    },
    {
     "name": "stderr",
     "output_type": "stream",
     "text": [
      "100%|███████████████████████████████████████████████████████████████████████| 335051/335051 [00:00<00:00, 347139.84it/s]\n",
      "/home/thema/miniconda3/envs/GNN/lib/python3.11/site-packages/numpy/core/fromnumeric.py:3464: RuntimeWarning: Mean of empty slice.\n",
      "  return _methods._mean(a, axis=axis, dtype=dtype,\n",
      "/home/thema/miniconda3/envs/GNN/lib/python3.11/site-packages/numpy/core/_methods.py:192: RuntimeWarning: invalid value encountered in scalar divide\n",
      "  ret = ret.dtype.type(ret / rcount)\n"
     ]
    },
    {
     "name": "stdout",
     "output_type": "stream",
     "text": [
      "Filtered from 4943 vertices and 154650 edges to 1134 vertices and 6818 edges via common edge filtering.\n",
      "No threshold provided, using threshold of 0.04228647070516764.\n",
      "Removing duplicate edges...\n"
     ]
    },
    {
     "name": "stderr",
     "output_type": "stream",
     "text": [
      "100%|███████████████████████████████████████████████████████████████████████| 187602/187602 [00:00<00:00, 343232.50it/s]\n",
      "/home/thema/miniconda3/envs/GNN/lib/python3.11/site-packages/numpy/core/fromnumeric.py:3464: RuntimeWarning: Mean of empty slice.\n",
      "  return _methods._mean(a, axis=axis, dtype=dtype,\n",
      "/home/thema/miniconda3/envs/GNN/lib/python3.11/site-packages/numpy/core/_methods.py:192: RuntimeWarning: invalid value encountered in scalar divide\n",
      "  ret = ret.dtype.type(ret / rcount)\n"
     ]
    },
    {
     "name": "stdout",
     "output_type": "stream",
     "text": [
      "Filtered from 4830 vertices and 99726 edges to 829 vertices and 4368 edges via common edge filtering.\n",
      "Collecting edges...\n"
     ]
    },
    {
     "name": "stderr",
     "output_type": "stream",
     "text": [
      "100%|████████████████████████████████████████████████████████████████████████████| 6818/6818 [00:00<00:00, 15256.75it/s]\n"
     ]
    },
    {
     "name": "stdout",
     "output_type": "stream",
     "text": [
      "Collecting edges...\n"
     ]
    },
    {
     "name": "stderr",
     "output_type": "stream",
     "text": [
      "100%|████████████████████████████████████████████████████████████████████████████| 4368/4368 [00:00<00:00, 22315.73it/s]\n"
     ]
    },
    {
     "name": "stdout",
     "output_type": "stream",
     "text": [
      "No threshold provided, using threshold of 0.021198411899135766.\n",
      "Removing duplicate edges...\n"
     ]
    },
    {
     "name": "stderr",
     "output_type": "stream",
     "text": [
      "100%|███████████████████████████████████████████████████████████████████████| 522653/522653 [00:01<00:00, 315584.93it/s]\n",
      "/home/thema/miniconda3/envs/GNN/lib/python3.11/site-packages/numpy/core/fromnumeric.py:3464: RuntimeWarning: Mean of empty slice.\n",
      "  return _methods._mean(a, axis=axis, dtype=dtype,\n",
      "/home/thema/miniconda3/envs/GNN/lib/python3.11/site-packages/numpy/core/_methods.py:192: RuntimeWarning: invalid value encountered in scalar divide\n",
      "  ret = ret.dtype.type(ret / rcount)\n"
     ]
    },
    {
     "name": "stdout",
     "output_type": "stream",
     "text": [
      "Filtered from 4997 vertices and 221958 edges to 1319 vertices and 8842 edges via common edge filtering.\n",
      "Collecting edges...\n"
     ]
    },
    {
     "name": "stderr",
     "output_type": "stream",
     "text": [
      "100%|████████████████████████████████████████████████████████████████████████████| 8842/8842 [00:00<00:00, 10647.59it/s]\n",
      "/mnt/c/Users/nck/repos/GNN-Plus/Attention Analysis/scripts/functions/plotting.py:468: RuntimeWarning: More than 20 figures have been opened. Figures created through the pyplot interface (`matplotlib.pyplot.figure`) are retained until explicitly closed and may consume too much memory. (To control this warning, see the rcParam `figure.max_open_warning`). Consider using `matplotlib.pyplot.close()`.\n",
      "  fig = plt.figure(figsize=(scale*len(mosaic[0]), scale*len(mosaic)), constrained_layout=True)\n"
     ]
    },
    {
     "name": "stdout",
     "output_type": "stream",
     "text": [
      "No threshold provided, using threshold of 0.021198411899135766.\n",
      "Removing duplicate edges...\n"
     ]
    },
    {
     "name": "stderr",
     "output_type": "stream",
     "text": [
      "100%|███████████████████████████████████████████████████████████████████████| 522653/522653 [00:01<00:00, 348554.83it/s]\n",
      "/home/thema/miniconda3/envs/GNN/lib/python3.11/site-packages/numpy/core/fromnumeric.py:3464: RuntimeWarning: Mean of empty slice.\n",
      "  return _methods._mean(a, axis=axis, dtype=dtype,\n",
      "/home/thema/miniconda3/envs/GNN/lib/python3.11/site-packages/numpy/core/_methods.py:192: RuntimeWarning: invalid value encountered in scalar divide\n",
      "  ret = ret.dtype.type(ret / rcount)\n"
     ]
    },
    {
     "name": "stdout",
     "output_type": "stream",
     "text": [
      "Filtered from 4997 vertices and 221958 edges to 1319 vertices and 8842 edges via common edge filtering.\n",
      "Collecting edges...\n"
     ]
    },
    {
     "name": "stderr",
     "output_type": "stream",
     "text": [
      "100%|████████████████████████████████████████████████████████████████████████████| 8842/8842 [00:00<00:00, 11113.96it/s]\n",
      "/mnt/c/Users/nck/repos/GNN-Plus/Attention Analysis/scripts/functions/computation.py:308: RuntimeWarning: invalid value encountered in divide\n",
      "  col_acc = np.diag(confusion_matrix) / col_sum\n"
     ]
    },
    {
     "name": "stdout",
     "output_type": "stream",
     "text": [
      "\n",
      "c71x - att_D_no_prior_0 - nps_MoodDysCurValue\n",
      "No threshold provided, using threshold of 0.04278396572665166.\n",
      "Removing duplicate edges...\n"
     ]
    },
    {
     "name": "stderr",
     "output_type": "stream",
     "text": [
      "100%|███████████████████████████████████████████████████████████████████████| 185364/185364 [00:00<00:00, 338466.14it/s]\n",
      "/home/thema/miniconda3/envs/GNN/lib/python3.11/site-packages/numpy/core/fromnumeric.py:3464: RuntimeWarning: Mean of empty slice.\n",
      "  return _methods._mean(a, axis=axis, dtype=dtype,\n",
      "/home/thema/miniconda3/envs/GNN/lib/python3.11/site-packages/numpy/core/_methods.py:192: RuntimeWarning: invalid value encountered in scalar divide\n",
      "  ret = ret.dtype.type(ret / rcount)\n"
     ]
    },
    {
     "name": "stdout",
     "output_type": "stream",
     "text": [
      "Filtered from 4806 vertices and 98883 edges to 822 vertices and 4311 edges via common edge filtering.\n",
      "No threshold provided, using threshold of 0.0594429844884398.\n",
      "Removing duplicate edges...\n"
     ]
    },
    {
     "name": "stderr",
     "output_type": "stream",
     "text": [
      "100%|███████████████████████████████████████████████████████████████████████| 114685/114685 [00:00<00:00, 343898.89it/s]\n",
      "/home/thema/miniconda3/envs/GNN/lib/python3.11/site-packages/numpy/core/fromnumeric.py:3464: RuntimeWarning: Mean of empty slice.\n",
      "  return _methods._mean(a, axis=axis, dtype=dtype,\n",
      "/home/thema/miniconda3/envs/GNN/lib/python3.11/site-packages/numpy/core/_methods.py:192: RuntimeWarning: invalid value encountered in scalar divide\n",
      "  ret = ret.dtype.type(ret / rcount)\n"
     ]
    },
    {
     "name": "stdout",
     "output_type": "stream",
     "text": [
      "Filtered from 4581 vertices and 65495 edges to 543 vertices and 2540 edges via common edge filtering.\n",
      "Collecting edges...\n"
     ]
    },
    {
     "name": "stderr",
     "output_type": "stream",
     "text": [
      "100%|████████████████████████████████████████████████████████████████████████████| 4311/4311 [00:00<00:00, 23047.57it/s]\n"
     ]
    },
    {
     "name": "stdout",
     "output_type": "stream",
     "text": [
      "Collecting edges...\n"
     ]
    },
    {
     "name": "stderr",
     "output_type": "stream",
     "text": [
      "100%|████████████████████████████████████████████████████████████████████████████| 2540/2540 [00:00<00:00, 29942.73it/s]\n"
     ]
    },
    {
     "name": "stdout",
     "output_type": "stream",
     "text": [
      "No threshold provided, using threshold of 0.031137643451082758.\n",
      "Removing duplicate edges...\n"
     ]
    },
    {
     "name": "stderr",
     "output_type": "stream",
     "text": [
      "100%|███████████████████████████████████████████████████████████████████████| 300049/300049 [00:00<00:00, 341666.30it/s]\n",
      "/home/thema/miniconda3/envs/GNN/lib/python3.11/site-packages/numpy/core/fromnumeric.py:3464: RuntimeWarning: Mean of empty slice.\n",
      "  return _methods._mean(a, axis=axis, dtype=dtype,\n",
      "/home/thema/miniconda3/envs/GNN/lib/python3.11/site-packages/numpy/core/_methods.py:192: RuntimeWarning: invalid value encountered in scalar divide\n",
      "  ret = ret.dtype.type(ret / rcount)\n"
     ]
    },
    {
     "name": "stdout",
     "output_type": "stream",
     "text": [
      "Filtered from 4943 vertices and 144737 edges to 995 vertices and 5711 edges via common edge filtering.\n",
      "Collecting edges...\n"
     ]
    },
    {
     "name": "stderr",
     "output_type": "stream",
     "text": [
      "100%|████████████████████████████████████████████████████████████████████████████| 5711/5711 [00:00<00:00, 16960.01it/s]\n"
     ]
    },
    {
     "name": "stdout",
     "output_type": "stream",
     "text": [
      "No threshold provided, using threshold of 0.031137643451082758.\n",
      "Removing duplicate edges...\n"
     ]
    },
    {
     "name": "stderr",
     "output_type": "stream",
     "text": [
      "100%|███████████████████████████████████████████████████████████████████████| 300049/300049 [00:00<00:00, 349549.12it/s]\n",
      "/home/thema/miniconda3/envs/GNN/lib/python3.11/site-packages/numpy/core/fromnumeric.py:3464: RuntimeWarning: Mean of empty slice.\n",
      "  return _methods._mean(a, axis=axis, dtype=dtype,\n",
      "/home/thema/miniconda3/envs/GNN/lib/python3.11/site-packages/numpy/core/_methods.py:192: RuntimeWarning: invalid value encountered in scalar divide\n",
      "  ret = ret.dtype.type(ret / rcount)\n"
     ]
    },
    {
     "name": "stdout",
     "output_type": "stream",
     "text": [
      "Filtered from 4943 vertices and 144737 edges to 995 vertices and 5711 edges via common edge filtering.\n",
      "Collecting edges...\n"
     ]
    },
    {
     "name": "stderr",
     "output_type": "stream",
     "text": [
      "100%|████████████████████████████████████████████████████████████████████████████| 5711/5711 [00:00<00:00, 17079.20it/s]\n"
     ]
    },
    {
     "name": "stdout",
     "output_type": "stream",
     "text": [
      "\n",
      "c72x - att_D_no_prior_0 - nps_DecIntCurValue\n",
      "No threshold provided, using threshold of 0.04156667908071199.\n",
      "Removing duplicate edges...\n"
     ]
    },
    {
     "name": "stderr",
     "output_type": "stream",
     "text": [
      "100%|███████████████████████████████████████████████████████████████████████| 193823/193823 [00:00<00:00, 346683.60it/s]\n",
      "/home/thema/miniconda3/envs/GNN/lib/python3.11/site-packages/numpy/core/fromnumeric.py:3464: RuntimeWarning: Mean of empty slice.\n",
      "  return _methods._mean(a, axis=axis, dtype=dtype,\n",
      "/home/thema/miniconda3/envs/GNN/lib/python3.11/site-packages/numpy/core/_methods.py:192: RuntimeWarning: invalid value encountered in scalar divide\n",
      "  ret = ret.dtype.type(ret / rcount)\n"
     ]
    },
    {
     "name": "stdout",
     "output_type": "stream",
     "text": [
      "Filtered from 4823 vertices and 103202 edges to 850 vertices and 4474 edges via common edge filtering.\n",
      "No threshold provided, using threshold of 0.06315963822057763.\n",
      "Removing duplicate edges...\n"
     ]
    },
    {
     "name": "stderr",
     "output_type": "stream",
     "text": [
      "100%|███████████████████████████████████████████████████████████████████████| 103731/103731 [00:00<00:00, 346629.82it/s]\n",
      "/home/thema/miniconda3/envs/GNN/lib/python3.11/site-packages/numpy/core/fromnumeric.py:3464: RuntimeWarning: Mean of empty slice.\n",
      "  return _methods._mean(a, axis=axis, dtype=dtype,\n",
      "/home/thema/miniconda3/envs/GNN/lib/python3.11/site-packages/numpy/core/_methods.py:192: RuntimeWarning: invalid value encountered in scalar divide\n",
      "  ret = ret.dtype.type(ret / rcount)\n"
     ]
    },
    {
     "name": "stdout",
     "output_type": "stream",
     "text": [
      "Filtered from 4529 vertices and 60393 edges to 674 vertices and 3159 edges via common edge filtering.\n",
      "Collecting edges...\n"
     ]
    },
    {
     "name": "stderr",
     "output_type": "stream",
     "text": [
      "100%|████████████████████████████████████████████████████████████████████████████| 4474/4474 [00:00<00:00, 22652.67it/s]\n"
     ]
    },
    {
     "name": "stdout",
     "output_type": "stream",
     "text": [
      "Collecting edges...\n"
     ]
    },
    {
     "name": "stderr",
     "output_type": "stream",
     "text": [
      "100%|████████████████████████████████████████████████████████████████████████████| 3159/3159 [00:00<00:00, 31562.64it/s]\n"
     ]
    },
    {
     "name": "stdout",
     "output_type": "stream",
     "text": [
      "No threshold provided, using threshold of 0.031252225557032644.\n",
      "Removing duplicate edges...\n"
     ]
    },
    {
     "name": "stderr",
     "output_type": "stream",
     "text": [
      "100%|███████████████████████████████████████████████████████████████████████| 297554/297554 [00:00<00:00, 346253.49it/s]\n",
      "/home/thema/miniconda3/envs/GNN/lib/python3.11/site-packages/numpy/core/fromnumeric.py:3464: RuntimeWarning: Mean of empty slice.\n",
      "  return _methods._mean(a, axis=axis, dtype=dtype,\n",
      "/home/thema/miniconda3/envs/GNN/lib/python3.11/site-packages/numpy/core/_methods.py:192: RuntimeWarning: invalid value encountered in scalar divide\n",
      "  ret = ret.dtype.type(ret / rcount)\n"
     ]
    },
    {
     "name": "stdout",
     "output_type": "stream",
     "text": [
      "Filtered from 4942 vertices and 144619 edges to 993 vertices and 5652 edges via common edge filtering.\n",
      "Collecting edges...\n"
     ]
    },
    {
     "name": "stderr",
     "output_type": "stream",
     "text": [
      "100%|████████████████████████████████████████████████████████████████████████████| 5652/5652 [00:00<00:00, 16950.58it/s]\n"
     ]
    },
    {
     "name": "stdout",
     "output_type": "stream",
     "text": [
      "No threshold provided, using threshold of 0.031252225557032644.\n",
      "Removing duplicate edges...\n"
     ]
    },
    {
     "name": "stderr",
     "output_type": "stream",
     "text": [
      "100%|███████████████████████████████████████████████████████████████████████| 297554/297554 [00:00<00:00, 350479.11it/s]\n",
      "/home/thema/miniconda3/envs/GNN/lib/python3.11/site-packages/numpy/core/fromnumeric.py:3464: RuntimeWarning: Mean of empty slice.\n",
      "  return _methods._mean(a, axis=axis, dtype=dtype,\n",
      "/home/thema/miniconda3/envs/GNN/lib/python3.11/site-packages/numpy/core/_methods.py:192: RuntimeWarning: invalid value encountered in scalar divide\n",
      "  ret = ret.dtype.type(ret / rcount)\n"
     ]
    },
    {
     "name": "stdout",
     "output_type": "stream",
     "text": [
      "Filtered from 4942 vertices and 144619 edges to 993 vertices and 5652 edges via common edge filtering.\n",
      "Collecting edges...\n"
     ]
    },
    {
     "name": "stderr",
     "output_type": "stream",
     "text": [
      "100%|████████████████████████████████████████████████████████████████████████████| 5652/5652 [00:00<00:00, 17488.13it/s]\n"
     ]
    },
    {
     "name": "stdout",
     "output_type": "stream",
     "text": [
      "\n"
     ]
    }
   ],
   "source": [
    "# TODO: Make all y-labels horizontal\n",
    "for contrast_name, _, column, _, target in contrast_groupings:\n",
    "    # if contrast_name != 'c71x': continue\n",
    "    print(' - '.join((contrast_name, column, target)))\n",
    "    # Get contrast\n",
    "    contrast = get_contrast(contrast_name)\n",
    "\n",
    "    # Compute prioritized edges\n",
    "    # Get 100 most variant edges\n",
    "    # TODO: Revise this method, maybe also consider means\n",
    "    sids = sum([sids for _, sids in contrast.items()], [])\n",
    "    df_subgroup = compute_contrast_summary(contrast, column=column)\n",
    "    df = join_df_subgroup(df_subgroup, num_sort=100)\n",
    "    prioritized_edges = list(df.index)\n",
    "\n",
    "    # Plot\n",
    "    # TODO: Maybe return to row-normalization\n",
    "    fig, axs = get_mosaic([2*[0]], scale=9)\n",
    "    df, acc = plot_prediction_confusion(contrast, meta=meta, column=column, target=target, prioritized_edges=prioritized_edges, classifier_type='SGD', ax=axs[0])\n",
    "    \n",
    "    # Save plot\n",
    "    fname_prefix = f'../plots/group_prioritized_edge_prediction_{contrast_name}_{column}_{target}'\n",
    "    fig.savefig(f'{fname_prefix}.pdf', format='pdf', transparent=True, backend='cairo')\n",
    "\n",
    "    # Save text\n",
    "    f_edges = open(f'{fname_prefix}.edges.txt', 'w')\n",
    "    f_tfs = open(f'{fname_prefix}.tfs.txt', 'w')\n",
    "    f_tgs = open(f'{fname_prefix}.tgs.txt', 'w')\n",
    "    for edge in prioritized_edges:\n",
    "        f_edges.write(edge + '\\n')\n",
    "        tf, tg = edge.split(get_edge_string(['', '']))\n",
    "        f_tfs.write(tf + '\\n')\n",
    "        f_tgs.write(tg + '\\n')\n",
    "    f_edges.close()\n",
    "    f_tfs.close()\n",
    "    f_tgs.close()\n",
    "\n",
    "    # CLI\n",
    "    print()"
   ]
  },
  {
   "cell_type": "markdown",
   "metadata": {},
   "source": [
    "### 4CD Characteristic Curves"
   ]
  },
  {
   "cell_type": "code",
   "execution_count": 15,
   "metadata": {},
   "outputs": [
    {
     "name": "stdout",
     "output_type": "stream",
     "text": [
      "c06x - att_D_no_prior_0\n",
      "No threshold provided, using threshold of 0.02839460354258344.\n",
      "Removing duplicate edges...\n"
     ]
    },
    {
     "name": "stderr",
     "output_type": "stream",
     "text": [
      "100%|███████████████████████████████████████████████████████████████████████| 335051/335051 [00:00<00:00, 349004.34it/s]\n",
      "/home/thema/miniconda3/envs/GNN/lib/python3.11/site-packages/numpy/core/fromnumeric.py:3464: RuntimeWarning: Mean of empty slice.\n",
      "  return _methods._mean(a, axis=axis, dtype=dtype,\n",
      "/home/thema/miniconda3/envs/GNN/lib/python3.11/site-packages/numpy/core/_methods.py:192: RuntimeWarning: invalid value encountered in scalar divide\n",
      "  ret = ret.dtype.type(ret / rcount)\n"
     ]
    },
    {
     "name": "stdout",
     "output_type": "stream",
     "text": [
      "Filtered from 4943 vertices and 154650 edges to 1134 vertices and 6814 edges via common edge filtering.\n",
      "No threshold provided, using threshold of 0.04228647070516764.\n",
      "Removing duplicate edges...\n"
     ]
    },
    {
     "name": "stderr",
     "output_type": "stream",
     "text": [
      "100%|███████████████████████████████████████████████████████████████████████| 187602/187602 [00:00<00:00, 348181.46it/s]\n",
      "/home/thema/miniconda3/envs/GNN/lib/python3.11/site-packages/numpy/core/fromnumeric.py:3464: RuntimeWarning: Mean of empty slice.\n",
      "  return _methods._mean(a, axis=axis, dtype=dtype,\n",
      "/home/thema/miniconda3/envs/GNN/lib/python3.11/site-packages/numpy/core/_methods.py:192: RuntimeWarning: invalid value encountered in scalar divide\n",
      "  ret = ret.dtype.type(ret / rcount)\n"
     ]
    },
    {
     "name": "stdout",
     "output_type": "stream",
     "text": [
      "Filtered from 4830 vertices and 99726 edges to 829 vertices and 4368 edges via common edge filtering.\n",
      "Collecting edges...\n"
     ]
    },
    {
     "name": "stderr",
     "output_type": "stream",
     "text": [
      "100%|████████████████████████████████████████████████████████████████████████████| 6814/6814 [00:00<00:00, 15516.49it/s]\n"
     ]
    },
    {
     "name": "stdout",
     "output_type": "stream",
     "text": [
      "Collecting edges...\n"
     ]
    },
    {
     "name": "stderr",
     "output_type": "stream",
     "text": [
      "100%|████████████████████████████████████████████████████████████████████████████| 4368/4368 [00:00<00:00, 22759.96it/s]\n"
     ]
    },
    {
     "name": "stdout",
     "output_type": "stream",
     "text": [
      "No threshold provided, using threshold of 0.021198411899135766.\n",
      "Removing duplicate edges...\n"
     ]
    },
    {
     "name": "stderr",
     "output_type": "stream",
     "text": [
      "100%|███████████████████████████████████████████████████████████████████████| 522653/522653 [00:01<00:00, 312094.33it/s]\n",
      "/home/thema/miniconda3/envs/GNN/lib/python3.11/site-packages/numpy/core/fromnumeric.py:3464: RuntimeWarning: Mean of empty slice.\n",
      "  return _methods._mean(a, axis=axis, dtype=dtype,\n",
      "/home/thema/miniconda3/envs/GNN/lib/python3.11/site-packages/numpy/core/_methods.py:192: RuntimeWarning: invalid value encountered in scalar divide\n",
      "  ret = ret.dtype.type(ret / rcount)\n"
     ]
    },
    {
     "name": "stdout",
     "output_type": "stream",
     "text": [
      "Filtered from 4997 vertices and 221958 edges to 1319 vertices and 8839 edges via common edge filtering.\n",
      "Collecting edges...\n"
     ]
    },
    {
     "name": "stderr",
     "output_type": "stream",
     "text": [
      "100%|████████████████████████████████████████████████████████████████████████████| 8839/8839 [00:00<00:00, 10881.41it/s]\n",
      "/tmp/ipykernel_765/1001339706.py:22: UserWarning: The figure layout has changed to tight\n",
      "  plt.tight_layout()\n",
      "/tmp/ipykernel_765/1001339706.py:26: UserWarning: The figure layout has changed to tight\n",
      "  plt.tight_layout()\n"
     ]
    },
    {
     "name": "stdout",
     "output_type": "stream",
     "text": [
      "\n",
      "c06x - att_D_AD_1\n",
      "No threshold provided, using threshold of 0.02839460354258344.\n",
      "Removing duplicate edges...\n"
     ]
    },
    {
     "name": "stderr",
     "output_type": "stream",
     "text": [
      "100%|███████████████████████████████████████████████████████████████████████| 335051/335051 [00:00<00:00, 347160.43it/s]\n",
      "/home/thema/miniconda3/envs/GNN/lib/python3.11/site-packages/numpy/core/fromnumeric.py:3464: RuntimeWarning: Mean of empty slice.\n",
      "  return _methods._mean(a, axis=axis, dtype=dtype,\n",
      "/home/thema/miniconda3/envs/GNN/lib/python3.11/site-packages/numpy/core/_methods.py:192: RuntimeWarning: invalid value encountered in scalar divide\n",
      "  ret = ret.dtype.type(ret / rcount)\n"
     ]
    },
    {
     "name": "stdout",
     "output_type": "stream",
     "text": [
      "Filtered from 4943 vertices and 154650 edges to 1134 vertices and 6818 edges via common edge filtering.\n",
      "No threshold provided, using threshold of 0.04228647070516764.\n",
      "Removing duplicate edges...\n"
     ]
    },
    {
     "name": "stderr",
     "output_type": "stream",
     "text": [
      "100%|███████████████████████████████████████████████████████████████████████| 187602/187602 [00:00<00:00, 340688.15it/s]\n",
      "/home/thema/miniconda3/envs/GNN/lib/python3.11/site-packages/numpy/core/fromnumeric.py:3464: RuntimeWarning: Mean of empty slice.\n",
      "  return _methods._mean(a, axis=axis, dtype=dtype,\n",
      "/home/thema/miniconda3/envs/GNN/lib/python3.11/site-packages/numpy/core/_methods.py:192: RuntimeWarning: invalid value encountered in scalar divide\n",
      "  ret = ret.dtype.type(ret / rcount)\n"
     ]
    },
    {
     "name": "stdout",
     "output_type": "stream",
     "text": [
      "Filtered from 4830 vertices and 99726 edges to 829 vertices and 4368 edges via common edge filtering.\n",
      "Collecting edges...\n"
     ]
    },
    {
     "name": "stderr",
     "output_type": "stream",
     "text": [
      "100%|████████████████████████████████████████████████████████████████████████████| 6818/6818 [00:00<00:00, 15443.30it/s]\n"
     ]
    },
    {
     "name": "stdout",
     "output_type": "stream",
     "text": [
      "Collecting edges...\n"
     ]
    },
    {
     "name": "stderr",
     "output_type": "stream",
     "text": [
      "100%|████████████████████████████████████████████████████████████████████████████| 4368/4368 [00:00<00:00, 23337.87it/s]\n"
     ]
    },
    {
     "name": "stdout",
     "output_type": "stream",
     "text": [
      "No threshold provided, using threshold of 0.021198411899135766.\n",
      "Removing duplicate edges...\n"
     ]
    },
    {
     "name": "stderr",
     "output_type": "stream",
     "text": [
      "100%|███████████████████████████████████████████████████████████████████████| 522653/522653 [00:01<00:00, 343018.58it/s]\n",
      "/home/thema/miniconda3/envs/GNN/lib/python3.11/site-packages/numpy/core/fromnumeric.py:3464: RuntimeWarning: Mean of empty slice.\n",
      "  return _methods._mean(a, axis=axis, dtype=dtype,\n",
      "/home/thema/miniconda3/envs/GNN/lib/python3.11/site-packages/numpy/core/_methods.py:192: RuntimeWarning: invalid value encountered in scalar divide\n",
      "  ret = ret.dtype.type(ret / rcount)\n"
     ]
    },
    {
     "name": "stdout",
     "output_type": "stream",
     "text": [
      "Filtered from 4997 vertices and 221958 edges to 1319 vertices and 8842 edges via common edge filtering.\n",
      "Collecting edges...\n"
     ]
    },
    {
     "name": "stderr",
     "output_type": "stream",
     "text": [
      "100%|█████████████████████████████████████████████████████████████████████████████| 8842/8842 [00:00<00:00, 9930.03it/s]\n",
      "/tmp/ipykernel_765/1001339706.py:22: UserWarning: The figure layout has changed to tight\n",
      "  plt.tight_layout()\n",
      "/tmp/ipykernel_765/1001339706.py:26: UserWarning: The figure layout has changed to tight\n",
      "  plt.tight_layout()\n"
     ]
    },
    {
     "name": "stdout",
     "output_type": "stream",
     "text": [
      "\n",
      "c71x - att_D_no_prior_0\n",
      "No threshold provided, using threshold of 0.04278396572665166.\n",
      "Removing duplicate edges...\n"
     ]
    },
    {
     "name": "stderr",
     "output_type": "stream",
     "text": [
      "100%|███████████████████████████████████████████████████████████████████████| 185364/185364 [00:00<00:00, 333737.68it/s]\n",
      "/home/thema/miniconda3/envs/GNN/lib/python3.11/site-packages/numpy/core/fromnumeric.py:3464: RuntimeWarning: Mean of empty slice.\n",
      "  return _methods._mean(a, axis=axis, dtype=dtype,\n",
      "/home/thema/miniconda3/envs/GNN/lib/python3.11/site-packages/numpy/core/_methods.py:192: RuntimeWarning: invalid value encountered in scalar divide\n",
      "  ret = ret.dtype.type(ret / rcount)\n"
     ]
    },
    {
     "name": "stdout",
     "output_type": "stream",
     "text": [
      "Filtered from 4806 vertices and 98883 edges to 822 vertices and 4311 edges via common edge filtering.\n",
      "No threshold provided, using threshold of 0.0594429844884398.\n",
      "Removing duplicate edges...\n"
     ]
    },
    {
     "name": "stderr",
     "output_type": "stream",
     "text": [
      "100%|███████████████████████████████████████████████████████████████████████| 114685/114685 [00:00<00:00, 340009.07it/s]\n",
      "/home/thema/miniconda3/envs/GNN/lib/python3.11/site-packages/numpy/core/fromnumeric.py:3464: RuntimeWarning: Mean of empty slice.\n",
      "  return _methods._mean(a, axis=axis, dtype=dtype,\n",
      "/home/thema/miniconda3/envs/GNN/lib/python3.11/site-packages/numpy/core/_methods.py:192: RuntimeWarning: invalid value encountered in scalar divide\n",
      "  ret = ret.dtype.type(ret / rcount)\n"
     ]
    },
    {
     "name": "stdout",
     "output_type": "stream",
     "text": [
      "Filtered from 4581 vertices and 65495 edges to 543 vertices and 2540 edges via common edge filtering.\n",
      "Collecting edges...\n"
     ]
    },
    {
     "name": "stderr",
     "output_type": "stream",
     "text": [
      "100%|████████████████████████████████████████████████████████████████████████████| 4311/4311 [00:00<00:00, 22061.49it/s]\n"
     ]
    },
    {
     "name": "stdout",
     "output_type": "stream",
     "text": [
      "Collecting edges...\n"
     ]
    },
    {
     "name": "stderr",
     "output_type": "stream",
     "text": [
      "100%|████████████████████████████████████████████████████████████████████████████| 2540/2540 [00:00<00:00, 29062.04it/s]\n"
     ]
    },
    {
     "name": "stdout",
     "output_type": "stream",
     "text": [
      "No threshold provided, using threshold of 0.031137643451082758.\n",
      "Removing duplicate edges...\n"
     ]
    },
    {
     "name": "stderr",
     "output_type": "stream",
     "text": [
      "100%|███████████████████████████████████████████████████████████████████████| 300049/300049 [00:00<00:00, 329930.31it/s]\n",
      "/home/thema/miniconda3/envs/GNN/lib/python3.11/site-packages/numpy/core/fromnumeric.py:3464: RuntimeWarning: Mean of empty slice.\n",
      "  return _methods._mean(a, axis=axis, dtype=dtype,\n",
      "/home/thema/miniconda3/envs/GNN/lib/python3.11/site-packages/numpy/core/_methods.py:192: RuntimeWarning: invalid value encountered in scalar divide\n",
      "  ret = ret.dtype.type(ret / rcount)\n"
     ]
    },
    {
     "name": "stdout",
     "output_type": "stream",
     "text": [
      "Filtered from 4943 vertices and 144737 edges to 995 vertices and 5711 edges via common edge filtering.\n",
      "Collecting edges...\n"
     ]
    },
    {
     "name": "stderr",
     "output_type": "stream",
     "text": [
      "100%|████████████████████████████████████████████████████████████████████████████| 5711/5711 [00:00<00:00, 16260.05it/s]\n",
      "/tmp/ipykernel_765/1001339706.py:22: UserWarning: The figure layout has changed to tight\n",
      "  plt.tight_layout()\n",
      "/tmp/ipykernel_765/1001339706.py:26: UserWarning: The figure layout has changed to tight\n",
      "  plt.tight_layout()\n"
     ]
    },
    {
     "name": "stdout",
     "output_type": "stream",
     "text": [
      "\n",
      "c72x - att_D_no_prior_0\n",
      "No threshold provided, using threshold of 0.04156667908071199.\n",
      "Removing duplicate edges...\n"
     ]
    },
    {
     "name": "stderr",
     "output_type": "stream",
     "text": [
      "100%|███████████████████████████████████████████████████████████████████████| 193823/193823 [00:00<00:00, 336500.79it/s]\n",
      "/home/thema/miniconda3/envs/GNN/lib/python3.11/site-packages/numpy/core/fromnumeric.py:3464: RuntimeWarning: Mean of empty slice.\n",
      "  return _methods._mean(a, axis=axis, dtype=dtype,\n",
      "/home/thema/miniconda3/envs/GNN/lib/python3.11/site-packages/numpy/core/_methods.py:192: RuntimeWarning: invalid value encountered in scalar divide\n",
      "  ret = ret.dtype.type(ret / rcount)\n"
     ]
    },
    {
     "name": "stdout",
     "output_type": "stream",
     "text": [
      "Filtered from 4823 vertices and 103202 edges to 850 vertices and 4474 edges via common edge filtering.\n",
      "No threshold provided, using threshold of 0.06315963822057763.\n",
      "Removing duplicate edges...\n"
     ]
    },
    {
     "name": "stderr",
     "output_type": "stream",
     "text": [
      "100%|███████████████████████████████████████████████████████████████████████| 103731/103731 [00:00<00:00, 341426.15it/s]\n",
      "/home/thema/miniconda3/envs/GNN/lib/python3.11/site-packages/numpy/core/fromnumeric.py:3464: RuntimeWarning: Mean of empty slice.\n",
      "  return _methods._mean(a, axis=axis, dtype=dtype,\n",
      "/home/thema/miniconda3/envs/GNN/lib/python3.11/site-packages/numpy/core/_methods.py:192: RuntimeWarning: invalid value encountered in scalar divide\n",
      "  ret = ret.dtype.type(ret / rcount)\n"
     ]
    },
    {
     "name": "stdout",
     "output_type": "stream",
     "text": [
      "Filtered from 4529 vertices and 60393 edges to 674 vertices and 3159 edges via common edge filtering.\n",
      "Collecting edges...\n"
     ]
    },
    {
     "name": "stderr",
     "output_type": "stream",
     "text": [
      "100%|████████████████████████████████████████████████████████████████████████████| 4474/4474 [00:00<00:00, 22147.85it/s]\n"
     ]
    },
    {
     "name": "stdout",
     "output_type": "stream",
     "text": [
      "Collecting edges...\n"
     ]
    },
    {
     "name": "stderr",
     "output_type": "stream",
     "text": [
      "100%|████████████████████████████████████████████████████████████████████████████| 3159/3159 [00:00<00:00, 31210.46it/s]\n"
     ]
    },
    {
     "name": "stdout",
     "output_type": "stream",
     "text": [
      "No threshold provided, using threshold of 0.031252225557032644.\n",
      "Removing duplicate edges...\n"
     ]
    },
    {
     "name": "stderr",
     "output_type": "stream",
     "text": [
      "100%|███████████████████████████████████████████████████████████████████████| 297554/297554 [00:00<00:00, 315417.65it/s]\n",
      "/home/thema/miniconda3/envs/GNN/lib/python3.11/site-packages/numpy/core/fromnumeric.py:3464: RuntimeWarning: Mean of empty slice.\n",
      "  return _methods._mean(a, axis=axis, dtype=dtype,\n",
      "/home/thema/miniconda3/envs/GNN/lib/python3.11/site-packages/numpy/core/_methods.py:192: RuntimeWarning: invalid value encountered in scalar divide\n",
      "  ret = ret.dtype.type(ret / rcount)\n"
     ]
    },
    {
     "name": "stdout",
     "output_type": "stream",
     "text": [
      "Filtered from 4942 vertices and 144619 edges to 993 vertices and 5652 edges via common edge filtering.\n",
      "Collecting edges...\n"
     ]
    },
    {
     "name": "stderr",
     "output_type": "stream",
     "text": [
      "100%|████████████████████████████████████████████████████████████████████████████| 5652/5652 [00:00<00:00, 16963.56it/s]\n",
      "/tmp/ipykernel_765/1001339706.py:22: UserWarning: The figure layout has changed to tight\n",
      "  plt.tight_layout()\n",
      "/tmp/ipykernel_765/1001339706.py:26: UserWarning: The figure layout has changed to tight\n",
      "  plt.tight_layout()\n"
     ]
    },
    {
     "name": "stdout",
     "output_type": "stream",
     "text": [
      "\n"
     ]
    }
   ],
   "source": [
    "# TODO: Separate into two plots\n",
    "# Get plots for each column\n",
    "for contrast_name, _, column, _, _ in contrast_groupings:\n",
    "    print(' - '.join((contrast_name, column)))\n",
    "\n",
    "    # Get contrast\n",
    "    contrast = get_contrast(contrast_name)\n",
    "\n",
    "    # Compute\n",
    "    df_subgroup = compute_contrast_summary(contrast, column=column)\n",
    "\n",
    "    # Plot heatmap, individually-sorted, and pop-sorted\n",
    "    # plot_subgroup_heatmap(df_subgroup, ax=axs[0])\n",
    "    # axs[1].get_shared_x_axes().join(axs[1], axs[2])\n",
    "    # plot_contrast_curve(df_subgroup, ax=axs[1], legend=False)  # Individually sorted\n",
    "    # plot_contrast_curve(df_subgroup, sorting_subgroup='Population', ax=axs[1])  # Population sorted\n",
    "    # axs[2].set_ylabel(None)\n",
    "\n",
    "    # Plot mean-sorted\n",
    "    fig, axs = get_mosaic([list(range(1))], scale=9)\n",
    "    plot_subgroup_heatmap(df_subgroup, ax=axs[0])\n",
    "    plt.tight_layout()\n",
    "    fig.savefig(f'../plots/group_variance_heatmap_{contrast_name}_{column}.pdf', format='pdf', transparent=True, backend='cairo')\n",
    "    fig, axs = get_mosaic([list(range(1))], scale=9)\n",
    "    plot_contrast_curve(df_subgroup, sorting_subgroup='Mean', ax=axs[0])  # Mean sorted\n",
    "    plt.tight_layout()\n",
    "    fig.savefig(f'../plots/group_variance_curves_{contrast_name}_{column}.pdf', format='pdf', transparent=True, backend='cairo')\n",
    "    print()"
   ]
  },
  {
   "cell_type": "markdown",
   "metadata": {},
   "source": [
    "### 4E Group Enrichment (MANUAL)"
   ]
  },
  {
   "cell_type": "code",
   "execution_count": 12,
   "metadata": {},
   "outputs": [
    {
     "ename": "NameError",
     "evalue": "name 'contrast_groupings' is not defined",
     "output_type": "error",
     "traceback": [
      "\u001b[0;31m---------------------------------------------------------------------------\u001b[0m",
      "\u001b[0;31mNameError\u001b[0m                                 Traceback (most recent call last)",
      "\u001b[1;32mc:\\Users\\nck\\repos\\GNN-Plus\\Attention Analysis\\scripts\\graph_analysis.ipynb Cell 30\u001b[0m line \u001b[0;36m5\n\u001b[1;32m      <a href='vscode-notebook-cell:/c%3A/Users/nck/repos/GNN-Plus/Attention%20Analysis/scripts/graph_analysis.ipynb#Y131sZmlsZQ%3D%3D?line=0'>1</a>\u001b[0m \u001b[39m# MANUAL PROCESSING\u001b[39;00m\n\u001b[1;32m      <a href='vscode-notebook-cell:/c%3A/Users/nck/repos/GNN-Plus/Attention%20Analysis/scripts/graph_analysis.ipynb#Y131sZmlsZQ%3D%3D?line=1'>2</a>\u001b[0m \u001b[39m# Run the output from 4B '<fname_prefix>.xxs.txt' in DisGeNet, save file\u001b[39;00m\n\u001b[1;32m      <a href='vscode-notebook-cell:/c%3A/Users/nck/repos/GNN-Plus/Attention%20Analysis/scripts/graph_analysis.ipynb#Y131sZmlsZQ%3D%3D?line=2'>3</a>\u001b[0m \u001b[39m# from Enrichment_QC/GO_DisGeNET as '<fname_prefix>.xxs.csv'\u001b[39;00m\n\u001b[0;32m----> <a href='vscode-notebook-cell:/c%3A/Users/nck/repos/GNN-Plus/Attention%20Analysis/scripts/graph_analysis.ipynb#Y131sZmlsZQ%3D%3D?line=4'>5</a>\u001b[0m \u001b[39mfor\u001b[39;00m contrast_name, _, column, _, target \u001b[39min\u001b[39;00m contrast_groupings:\n\u001b[1;32m      <a href='vscode-notebook-cell:/c%3A/Users/nck/repos/GNN-Plus/Attention%20Analysis/scripts/graph_analysis.ipynb#Y131sZmlsZQ%3D%3D?line=5'>6</a>\u001b[0m     \u001b[39m# Make fname\u001b[39;00m\n\u001b[1;32m      <a href='vscode-notebook-cell:/c%3A/Users/nck/repos/GNN-Plus/Attention%20Analysis/scripts/graph_analysis.ipynb#Y131sZmlsZQ%3D%3D?line=6'>7</a>\u001b[0m     fname_prefix \u001b[39m=\u001b[39m \u001b[39mf\u001b[39m\u001b[39m'\u001b[39m\u001b[39m../plots/group_prioritized_edge_prediction_\u001b[39m\u001b[39m{\u001b[39;00mcontrast_name\u001b[39m}\u001b[39;00m\u001b[39m_\u001b[39m\u001b[39m{\u001b[39;00mcolumn\u001b[39m}\u001b[39;00m\u001b[39m_\u001b[39m\u001b[39m{\u001b[39;00mtarget\u001b[39m}\u001b[39;00m\u001b[39m'\u001b[39m\n\u001b[1;32m      <a href='vscode-notebook-cell:/c%3A/Users/nck/repos/GNN-Plus/Attention%20Analysis/scripts/graph_analysis.ipynb#Y131sZmlsZQ%3D%3D?line=8'>9</a>\u001b[0m     \u001b[39m# Plot enrichments\u001b[39;00m\n",
      "\u001b[0;31mNameError\u001b[0m: name 'contrast_groupings' is not defined"
     ]
    }
   ],
   "source": [
    "# MANUAL PROCESSING\n",
    "# Run the output from 4B '<fname_prefix>.xxs.txt' in DisGeNet, save file\n",
    "# from Enrichment_QC/GO_DisGeNET as '<fname_prefix>.xxs.csv'\n",
    "\n",
    "for contrast_name, _, column, _, target in contrast_groupings:\n",
    "    # Make fname\n",
    "    fname_prefix = f'../plots/group_prioritized_edge_prediction_{contrast_name}_{column}_{target}'\n",
    "\n",
    "    # Plot enrichments\n",
    "    get_enrichment_file = lambda x: f'{fname_prefix}.{x}'\n",
    "    for ftype in ['tfs', 'tgs']:\n",
    "        # Get file name\n",
    "        fname = get_enrichment_file(ftype)\n",
    "\n",
    "        # Get enrichment\n",
    "        enrichment = get_enrichment(fname)\n",
    "        if enrichment is None: continue\n",
    "\n",
    "        # Plot\n",
    "        fig, axs = get_mosaic([list(range(1))], scale=9)\n",
    "        plot_enrichment(enrichment, ax=axs[0])\n",
    "        fig.savefig(fname + '.pdf', format='pdf', transparent=True, backend='cairo')"
   ]
  },
  {
   "cell_type": "markdown",
   "metadata": {},
   "source": [
    "## General"
   ]
  },
  {
   "cell_type": "markdown",
   "metadata": {},
   "source": [
    "### Enrichment"
   ]
  },
  {
   "cell_type": "code",
   "execution_count": 17,
   "metadata": {},
   "outputs": [],
   "source": [
    "# Generate fake enrichment data\n",
    "import itertools\n",
    "# Get columns\n",
    "cell_type = synthetic_nodes_of_interest\n",
    "disease = ['Alzheimer\\'s', 'Schizophrenia', 'Bipolar', 'Depression', 'Weight Loss', 'Sleeplessness']\n",
    "combined = [val for val in itertools.product(cell_type, disease)]\n",
    "cell_type = [val[0] for val in combined]\n",
    "disease = [val[1] for val in combined]\n",
    "# Get significance\n",
    "np.random.seed(42)\n",
    "significance = np.exp(-8 * np.random.rand(len(combined)))\n",
    "# Combine\n",
    "df = pd.DataFrame({'cell_type': cell_type, 'disease': disease, 'significance': significance})\n",
    "df = df.loc[df['significance'] < 5e-2]\n",
    "\n",
    "# Rename\n",
    "df = df.rename(columns={'cell_type': 'Cell Type', 'disease': 'Disease'})\n",
    "# Add significance scale\n",
    "df['-log(p)'] = -np.log10(df['significance'])\n",
    "# Plot\n",
    "fig, axs = get_mosaic([list(range(1))], scale=9)\n",
    "plot_enrichment(df, ax=axs[0])\n",
    "plt.savefig(f'../plots/enrichment.pdf', format='pdf', transparent=True, backend='cairo')"
   ]
  },
  {
   "cell_type": "markdown",
   "metadata": {},
   "source": [
    "### Graph Legend"
   ]
  },
  {
   "cell_type": "code",
   "execution_count": 18,
   "metadata": {},
   "outputs": [
    {
     "name": "stderr",
     "output_type": "stream",
     "text": [
      "/tmp/ipykernel_765/2458235525.py:5: UserWarning: The figure layout has changed to tight\n",
      "  plt.tight_layout()\n"
     ]
    }
   ],
   "source": [
    "# Plot legend\n",
    "plt.clf()\n",
    "plot_legend()\n",
    "plt.gca().axis('off')\n",
    "plt.tight_layout()\n",
    "plt.savefig(f'../plots/graph_legend.pdf', format='pdf', transparent=True, backend='cairo')"
   ]
  },
  {
   "cell_type": "markdown",
   "metadata": {},
   "source": [
    "# Archive"
   ]
  },
  {
   "cell_type": "markdown",
   "metadata": {},
   "source": [
    "## Individual Comparisons"
   ]
  },
  {
   "cell_type": "markdown",
   "metadata": {},
   "source": [
    "### 3I SNP Trend Analysis"
   ]
  },
  {
   "cell_type": "code",
   "execution_count": 19,
   "metadata": {},
   "outputs": [],
   "source": [
    "# Get top variant edges across population, and values for all heads\n",
    "# TODO\n",
    "\n",
    "# For all edges\n",
    "# TODO\n",
    "    # Get 100 closest SNPs for TG\n",
    "    # TODO\n",
    "\n",
    "    # For all close SNPs\n",
    "    # TODO\n",
    "        # For all heads\n",
    "        # TODO\n",
    "            # Assess mean separation across SNP variants\n",
    "            # TODO\n",
    "\n",
    "            # Add mean separation, edge, SNP, head to LIST\n",
    "            # TODO\n",
    "    \n",
    "# Choose best mean separation results from LIST\n",
    "# TODO\n",
    "\n",
    "# Plot SNP variants vs attention\n",
    "# TODO"
   ]
  },
  {
   "cell_type": "code",
   "execution_count": 20,
   "metadata": {},
   "outputs": [],
   "source": [
    "# # Fake data placeholder\n",
    "# for i in range(3):\n",
    "#     np.random.seed(42+i)\n",
    "\n",
    "#     # Fake dataframe for a single SNP\n",
    "#     n = 200\n",
    "#     variants = ['AATG', 'ACTG', 'GATG', 'GGTG', 'AATA', 'AAGG']\n",
    "#     ch = np.random.randint(23) + 1\n",
    "#     loc = np.random.randint(10000, 1000000)\n",
    "#     loc = f'{ch}:{loc}-{loc+len(variants[0])}'\n",
    "#     df = pd.DataFrame({\n",
    "#         'Subject ID': np.random.choice(range(int(n/10)), n, replace=True),\n",
    "#         'SNP Variant': np.random.choice(variants, n, replace=True),\n",
    "#         'Head': np.random.choice(get_attention_columns(), n, replace=True),\n",
    "#         'Attention Weight': np.random.rand(n) / 10,\n",
    "#     })\n",
    "#     df = df.sort_values(['Head'])  # Enforce x ordering\n",
    "\n",
    "#     # Plot\n",
    "#     fig, axs = get_mosaic([2*[0]], scale=9)\n",
    "\n",
    "#     sns.boxplot(data=df, x='Head', y='Attention Weight', hue='SNP Variant', ax=axs[0])\n",
    "#     axs[0].set_title(f'SNP: {loc}'); axs[0].set_xlabel(None)\n",
    "#     plt.xticks(rotation=90)\n",
    "#     plt.legend(bbox_to_anchor=(1.02, .7), loc='upper left', borderaxespad=0, frameon=False)\n",
    "\n",
    "#     plt.tight_layout()\n",
    "#     fig.savefig(f'../plots/individual_SNP_analysis_{i}.pdf', format='pdf', transparent=True, backend='cairo')"
   ]
  },
  {
   "cell_type": "markdown",
   "metadata": {},
   "source": [
    "### Coex Individual Trio Comparison"
   ]
  },
  {
   "cell_type": "code",
   "execution_count": 21,
   "metadata": {},
   "outputs": [],
   "source": [
    "# # Choose three graphs\n",
    "# graphs = coex_g_individuals[:3]\n",
    "# graphs_subject_ids = individual_subject_ids[:3]\n",
    "\n",
    "# # Create figure\n",
    "# fig, axs = get_mosaic([list(range(len(graphs)+1))], scale=9)\n",
    "\n",
    "# # Compute edge summaries\n",
    "# df, concatenated_graph = compute_edge_summary(graphs=graphs, subject_ids=graphs_subject_ids)\n",
    "\n",
    "# # Show individual graph comparisons\n",
    "# plot_graph_comparison(graphs, axs=axs, subject_ids=graphs_subject_ids)\n",
    "\n",
    "# # Show edge summary\n",
    "# plot_edge_summary(graphs, df=df, ax=axs[len(graphs)], subject_ids=graphs_subject_ids)\n",
    "\n",
    "# # Save figure\n",
    "# plt.tight_layout()\n",
    "# fig.savefig(f'../plots/CoexIndividualTrioComparison.pdf', format='pdf', transparent=True, backend='cairo')"
   ]
  },
  {
   "cell_type": "markdown",
   "metadata": {},
   "source": [
    "### Individual Trio Comparison"
   ]
  },
  {
   "cell_type": "code",
   "execution_count": 22,
   "metadata": {},
   "outputs": [],
   "source": [
    "# # Choose three graphs\n",
    "# graphs = data_g_individuals[:3]\n",
    "# graphs_subject_ids = individual_subject_ids[:3]\n",
    "\n",
    "# # Create figure\n",
    "# plt.clf()\n",
    "# fig, axs = get_mosaic([list(range(len(graphs)+1))], scale=9)\n",
    "\n",
    "# # Compute edge summaries\n",
    "# df, concatenated_graph = compute_edge_summary(graphs=graphs, subject_ids=graphs_subject_ids)\n",
    "\n",
    "# # Show individual graph comparisons\n",
    "# plot_graph_comparison(graphs, axs=axs, subject_ids=graphs_subject_ids)\n",
    "\n",
    "# # Show edge summary\n",
    "# plot_edge_summary(graphs, df=df, ax=axs[len(graphs)], subject_ids=graphs_subject_ids)\n",
    "\n",
    "# # Save figure\n",
    "# plt.tight_layout()\n",
    "# fig.savefig(f'../plots/IndividualTrioComparison.pdf', format='pdf', transparent=True, backend='cairo')"
   ]
  },
  {
   "cell_type": "markdown",
   "metadata": {},
   "source": [
    "## Group Comparisons"
   ]
  },
  {
   "cell_type": "markdown",
   "metadata": {},
   "source": [
    "### 4A Group Visualizations"
   ]
  },
  {
   "cell_type": "code",
   "execution_count": 23,
   "metadata": {},
   "outputs": [],
   "source": [
    "# for contrast_name, contrast_group, column, _ in contrast_groupings:\n",
    "#     print(' - '.join((contrast_name, contrast_group, column)))\n",
    "#     # Get contrast\n",
    "#     contrast = get_contrast(contrast_name)\n",
    "\n",
    "#     # Calculate aggregate graph\n",
    "#     all_graphs, _ = load_many_graphs(contrast[contrast_group], column=column_ad)\n",
    "#     all_graphs = [compute_graph(graph) for graph in all_graphs]\n",
    "#     aggregate_graph = concatenate_graphs(\n",
    "#         *all_graphs,\n",
    "#         threshold=True,\n",
    "#         color_by_source=False,\n",
    "#         # remove_duplicate_edge=False,\n",
    "#     )\n",
    "\n",
    "#     # Filter graph\n",
    "#     aggregate_graph = filter_graph_by_synthetic_vertices(aggregate_graph, vertex_ids=synthetic_nodes_of_interest)\n",
    "\n",
    "#     # Plot\n",
    "#     fig, axs = get_mosaic([list(range(1))], scale=9)\n",
    "\n",
    "#     ax = axs[0]\n",
    "#     visualize_graph_base(aggregate_graph, pos=get_graph_pos(aggregate_graph), mplfig=ax)\n",
    "#     ax.axis('off')\n",
    "\n",
    "#     fig.savefig(f'../plots/group_aggregate_{contrast_name}_{contrast_group}_{column}.pdf', format='pdf', transparent=True, backend='cairo')\n",
    "#     print()"
   ]
  },
  {
   "cell_type": "markdown",
   "metadata": {},
   "source": [
    "### Aggregate Trio Comparison"
   ]
  },
  {
   "cell_type": "code",
   "execution_count": 24,
   "metadata": {},
   "outputs": [],
   "source": [
    "# # Parameters\n",
    "# contrast = 'c01x'\n",
    "# column = column_ad\n",
    "\n",
    "# # Create figure\n",
    "# fig, axs = get_mosaic([list(range(len(get_contrast(contrast))+1))], scale=9)\n",
    "\n",
    "# # Compute aggregate edge summaries\n",
    "# contrast_group = compute_aggregate_edge_summary(get_contrast(contrast), column=column_ad)\n",
    "\n",
    "# # Plot graph comparison\n",
    "# plot_graph_comparison(\n",
    "#     graphs=[v for k, v in contrast_group[0].items()],\n",
    "#     subject_ids=[k for k, v in contrast_group[1].items()],\n",
    "#     axs=[axs[i] for i in range(len(get_contrast(contrast)))])\n",
    "\n",
    "# # Plot edge summary for subgroups\n",
    "# plot_aggregate_edge_summary(ax=axs[len(get_contrast(contrast))], contrast=contrast_group)\n",
    "\n",
    "# # Save figure\n",
    "# plt.tight_layout()\n",
    "# fig.savefig(f'../plots/AggregateTrioComparison.pdf', format='pdf', transparent=True, backend='cairo')"
   ]
  },
  {
   "cell_type": "markdown",
   "metadata": {},
   "source": [
    "##### Linkage Analysis"
   ]
  },
  {
   "cell_type": "code",
   "execution_count": 25,
   "metadata": {},
   "outputs": [],
   "source": [
    "# # Record edge instances\n",
    "# # df = pd.DataFrame(columns=['Edge', 'Subgroup', 'Count'])\n",
    "# df = {k: [] for k in ['Edge', 'Subgroup', 'Count']}\n",
    "# for subgroup in contrast_group[0]:\n",
    "#     g = contrast_group[0][subgroup]\n",
    "#     for e in tqdm(g.edges(), total=g.num_edges()):\n",
    "#         coefs = g.ep.coefs[e]\n",
    "#         row = [get_edge_string(g, e), subgroup, sum([c!=0 for c in coefs])]\n",
    "#         # df.loc[df.shape[0]] = row  # Slow\n",
    "#         for k, v in zip(df, row):\n",
    "#             df[k].append(v)\n",
    "# df = pd.DataFrame(df)\n",
    "\n",
    "# # Get edge counts\n",
    "# count_table = df.pivot(index='Edge', columns='Subgroup', values='Count')\n",
    "# count_table = count_table.fillna(0)\n",
    "# # Max scale for fairness\n",
    "# for subgroup in contrast_group[0]:\n",
    "#     count_table[subgroup] /= count_table[subgroup].max()\n",
    "# # Compute differences\n",
    "# # TODO: REVISE DIFFERENCE METRIC\n",
    "# count_table['Difference'] = count_table['AD'] - count_table['Control']\n",
    "# count_table['Range'] = count_table.max(axis=1) - count_table.min(axis=1)\n",
    "\n",
    "# # Get list of linkages by significance\n",
    "# open(f'../plots/AggregateTrioComparisonList.txt', 'w').close()\n",
    "# for i in np.unique(count_table['Difference'])[::-1]:\n",
    "#     condition = (count_table['Difference'] == i)\n",
    "#     significant_edges = list(count_table.loc[condition].index)\n",
    "#     synthetic_genes = np.concatenate([detect_synthetic_vertices_graph(contrast_group[0][subgroup]) for subgroup in contrast_group[0]])\n",
    "#     try: significant_genes = np.concatenate([e.split('--') for e in significant_edges])\n",
    "#     except: significant_genes = []\n",
    "#     significant_genes = np.unique([g for g in significant_genes if g not in synthetic_genes])\n",
    "\n",
    "#     # Print significant genes\n",
    "#     if len(significant_genes) > 0:\n",
    "#         with open(f'../plots/AggregateTrioComparisonList.txt', 'a') as f:\n",
    "#             print(f'--- {i} ---', file=f)\n",
    "#             for g in significant_genes:\n",
    "#                 print(g, file=f)\n",
    "#             print(file=f)"
   ]
  },
  {
   "cell_type": "markdown",
   "metadata": {},
   "source": [
    "### Differentially Expressed Edges"
   ]
  },
  {
   "cell_type": "code",
   "execution_count": 26,
   "metadata": {},
   "outputs": [],
   "source": [
    "# # TODO: Fix nodes cutting off\n",
    "# # Plot total and subplots for aggregate differences\n",
    "# for prefix, individuals in zip(('diff', 'data'), (diff_g_individuals, data_g_individuals)):\n",
    "#     plt.clf()\n",
    "#     concat = concatenate_graphs(*individuals)\n",
    "#     concat = get_intersection(concat)\n",
    "#     concat = cull_isolated_leaves(concat)\n",
    "#     concat = remove_text_by_centrality(concat)\n",
    "#     concat = color_by_significance(concat)\n",
    "#     visualize_graph(concat)\n",
    "#     plt.gca().axis('off')\n",
    "#     plt.tight_layout()\n",
    "#     plt.savefig(f'../plots/{prefix}_concat.pdf', format='pdf', transparent=True, backend='cairo')\n",
    "\n",
    "#     # Show all subsets of graph by cell type\n",
    "#     for v_name in detect_synthetic_vertices_graph(concat):\n",
    "#         plt.clf()\n",
    "#         subset = subset_by_hub(concat, [v_name])\n",
    "#         visualize_graph(subset)\n",
    "#         plt.gca().axis('off')\n",
    "#         plt.tight_layout()\n",
    "#         plt.savefig(f'../plots/{prefix}_concat_{v_name}.pdf', format='pdf', transparent=True, backend='cairo')"
   ]
  }
 ],
 "metadata": {
  "kernelspec": {
   "display_name": "GNN",
   "language": "python",
   "name": "gnn"
  },
  "language_info": {
   "codemirror_mode": {
    "name": "ipython",
    "version": 3
   },
   "file_extension": ".py",
   "mimetype": "text/x-python",
   "name": "python",
   "nbconvert_exporter": "python",
   "pygments_lexer": "ipython3",
   "version": "3.11.4"
  }
 },
 "nbformat": 4,
 "nbformat_minor": 2
}
