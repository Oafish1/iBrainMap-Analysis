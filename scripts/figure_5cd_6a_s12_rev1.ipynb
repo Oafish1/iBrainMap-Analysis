{
 "cells": [
  {
   "cell_type": "code",
   "execution_count": 1,
   "metadata": {},
   "outputs": [],
   "source": [
    "%%capture\n",
    "%cd scripts"
   ]
  },
  {
   "cell_type": "code",
   "execution_count": 2,
   "metadata": {
    "execution": {
     "iopub.execute_input": "2023-07-13T06:40:26.417400Z",
     "iopub.status.busy": "2023-07-13T06:40:26.417242Z",
     "iopub.status.idle": "2023-07-13T06:40:26.428582Z",
     "shell.execute_reply": "2023-07-13T06:40:26.427990Z"
    }
   },
   "outputs": [],
   "source": [
    "%load_ext autoreload\n",
    "%autoreload 2\n",
    "%matplotlib inline\n",
    "%matplotlib notebook"
   ]
  },
  {
   "cell_type": "markdown",
   "metadata": {},
   "source": [
    "# Imports"
   ]
  },
  {
   "cell_type": "code",
   "execution_count": 3,
   "metadata": {
    "execution": {
     "iopub.execute_input": "2023-07-13T06:40:26.430818Z",
     "iopub.status.busy": "2023-07-13T06:40:26.430522Z",
     "iopub.status.idle": "2023-07-13T06:40:27.436429Z",
     "shell.execute_reply": "2023-07-13T06:40:27.435960Z"
    }
   },
   "outputs": [],
   "source": [
    "from itertools import product\n",
    "import os\n",
    "\n",
    "import graph_tool.all as gt\n",
    "import matplotlib\n",
    "from matplotlib.colors import LogNorm\n",
    "import matplotlib.pyplot as plt\n",
    "import numpy as np\n",
    "import pandas as pd\n",
    "import scipy.stats\n",
    "from scipy.stats import hypergeom, pearsonr\n",
    "import seaborn as sns\n",
    "from sklearn.cluster import KMeans\n",
    "\n",
    "from functions import *\n",
    "\n",
    "\n",
    "# Graph-Tool compatibility\n",
    "plt.switch_backend('cairo')\n",
    "\n",
    "# Style\n",
    "sns.set_theme(context='talk', style='white', palette='Set2')\n",
    "plt.rcParams.update({\n",
    "    'pdf.fonttype': 42,\n",
    "    'ps.fonttype': 42,\n",
    "    'font.size': 22,\n",
    "    'axes.titlesize': 'medium',\n",
    "    'axes.labelsize': 'large',\n",
    "    'xtick.labelsize': 'medium',\n",
    "    'ytick.labelsize': 'medium',\n",
    "    'legend.fontsize': 'medium',\n",
    "    'legend.title_fontsize': 'medium',\n",
    "    'figure.titlesize': 'x-large',\n",
    "})\n",
    "\n",
    "# Figure transparency\n",
    "# matplotlib.rcParams['figure.facecolor'] = (1., 0., 0., 0.3)  # Debugging\n",
    "matplotlib.rcParams['figure.facecolor'] = (1., 0., 0., 0.)\n"
   ]
  },
  {
   "cell_type": "code",
   "execution_count": 4,
   "metadata": {},
   "outputs": [
    {
     "name": "stderr",
     "output_type": "stream",
     "text": [
      "100%|███████████████████████████████████████████████████████████████████| 1022/1022 [00:21<00:00, 46.60it/s]\n"
     ]
    }
   ],
   "source": [
    "# Integrity check\n",
    "check_ct_edge_specificity()  # Check for duplicate edges with different attentions"
   ]
  },
  {
   "attachments": {},
   "cell_type": "markdown",
   "metadata": {},
   "source": [
    "# Metadata"
   ]
  },
  {
   "cell_type": "code",
   "execution_count": 5,
   "metadata": {},
   "outputs": [],
   "source": [
    "# Load metadata\n",
    "meta = get_meta()\n",
    "\n",
    "# Subject preview\n",
    "filtered = []\n",
    "for i, row in meta.iterrows():\n",
    "    try:\n",
    "        load_graph_by_id(row['SubID'])\n",
    "        assert not np.isnan(row['nps_MoodDysCurValue'])  # Has NPS information available\n",
    "        assert row['BRAAK_AD'] in (6,) and row['CERAD'] in (4,) and row['CDRScore'] in (3,)\n",
    "    except:\n",
    "        continue\n",
    "    filtered.append(f'{row[\"SubID\"]} {row[\"Ethnicity\"]} {row[\"Sex\"]}, {row[\"Age\"]}, BRAAK {row[\"BRAAK_AD\"]}, CERAD {row[\"CERAD\"]}, CDR {row[\"CDRScore\"]}, {row[\"Dx\"]}')\n",
    "filtered = np.sort(filtered)\n",
    "for i in range(len(filtered)):\n",
    "    # print(filtered[i])\n",
    "    pass\n"
   ]
  },
  {
   "cell_type": "markdown",
   "metadata": {},
   "source": [
    "# Attention Stack"
   ]
  },
  {
   "cell_type": "code",
   "execution_count": 6,
   "metadata": {},
   "outputs": [],
   "source": [
    "fname = './attentions.pkl'\n",
    "if os.path.isfile(fname):\n",
    "    # Load data\n",
    "    with open('./attentions.pkl', 'rb') as f:\n",
    "        all_data = pickle.load(f)\n",
    "    attention_stack, all_edges, columns, subject_ids = all_data['data'], all_data['edges'], all_data['heads'], all_data['subject_ids']\n",
    "\n",
    "else:\n",
    "    # Parameters\n",
    "    # Scaled probably shouldn't be used, but better for visualization\n",
    "    # until results are more even\n",
    "    columns = get_attention_columns(scaled=False)\n",
    "    subject_ids = meta['SubID'].to_numpy()\n",
    "\n",
    "    # Load graphs\n",
    "    graphs, subject_ids = load_many_graphs(subject_ids, column=columns)\n",
    "    # graphs = [compute_graph(g) for g in graphs]\n",
    "\n",
    "    # # Get attentions\n",
    "    # df = {}\n",
    "    # for column in get_attention_columns():\n",
    "    #     attention, _ = compute_edge_summary(graphs, subject_ids=subject_ids)\n",
    "    #     attention = attention.set_index('Edge')\n",
    "    #     df[column] = attention.var(axis=1)\n",
    "\n",
    "\n",
    "    # Set indices to edges and clean\n",
    "    print('Fixing indices...')\n",
    "    for i in tqdm(range(len(graphs))):\n",
    "        graphs[i].index = graphs[i].apply(lambda r: get_edge_string([r['TF'], r['TG']]), axis=1)\n",
    "        graphs[i] = graphs[i].drop(columns=['TF', 'TG'])\n",
    "        # Remove duplicates\n",
    "        graphs[i] = graphs[i][~graphs[i].index.duplicated(keep='first')]\n",
    "\n",
    "    # Get all unique edges\n",
    "    print('Getting unique edges...')\n",
    "    all_edges = np.unique(sum([list(g.index) for g in graphs], []))\n",
    "\n",
    "\n",
    "    # Standardize index order\n",
    "    print('Standardizing indices...')\n",
    "    for i in tqdm(range(len(graphs))):\n",
    "        # Add missing indices and order based on `all_edges`\n",
    "        # to_add = [edge for edge in all_edges if edge not in list(graphs[i].index)]  # SLOW\n",
    "        to_add = list(set(all_edges) - set(graphs[i].index))\n",
    "\n",
    "        # Empty rows\n",
    "        new_rows = pd.DataFrame(\n",
    "            [[np.nan]*len(graphs[i].columns)]*len(to_add),\n",
    "            columns=graphs[i].columns,\n",
    "        ).set_index(pd.Series(to_add))\n",
    "        # Native concat\n",
    "        graphs[i] = pd.concat([graphs[i], new_rows]).loc[all_edges]\n",
    "\n",
    "    # Convert to numpy\n",
    "    graphs = [g.to_numpy() for g in graphs]\n",
    "    attention_stack = np.stack(graphs, axis=-1)\n",
    "    # attention_stack.shape = (Edge, Head, Subject)\n",
    "    # attention_stack.shape = (all_edges, columns, subject_ids)\n",
    "\n",
    "    # Save all data\n",
    "    all_data = {'data': attention_stack, 'edges': all_edges, 'heads': columns, 'subject_ids': subject_ids}\n",
    "    # np.savez('attentions.npz', **all_data)\n",
    "    with open(fname, 'wb') as f:\n",
    "        pickle.dump(\n",
    "            all_data,\n",
    "            f,\n",
    "            protocol=pickle.HIGHEST_PROTOCOL,\n",
    "        )\n"
   ]
  },
  {
   "cell_type": "code",
   "execution_count": 7,
   "metadata": {},
   "outputs": [],
   "source": [
    "# Additional useful parameters\n",
    "self_loops = [split_edge_string(s)[0] == split_edge_string(s)[1] for s in all_edges]\n",
    "self_loops = np.array(self_loops)\n",
    "# Remove self loops\n",
    "all_edges = all_edges[~self_loops]\n",
    "attention_stack = attention_stack[~self_loops]\n"
   ]
  },
  {
   "cell_type": "markdown",
   "metadata": {},
   "source": [
    "# Global Parameters"
   ]
  },
  {
   "cell_type": "code",
   "execution_count": 8,
   "metadata": {},
   "outputs": [
    {
     "name": "stdout",
     "output_type": "stream",
     "text": [
      "\n",
      "Available attention columns: ['AD_imp_1', 'AD_imp_2', 'SCZ_imp_1', 'SCZ_imp_2', 'data_imp_1', 'data_imp_2', 'data_imp_3', 'data_imp_4']\n"
     ]
    }
   ],
   "source": [
    "# Parameters\n",
    "print(f'\\nAvailable attention columns: {get_attention_columns()}')\n",
    "column_ad = get_attention_columns()[0]\n",
    "column_scz = get_attention_columns()[2]\n",
    "column_data = get_attention_columns()[4]\n",
    "synthetic_nodes_of_interest = ['OPC', 'Micro', 'Oligo']\n"
   ]
  },
  {
   "cell_type": "markdown",
   "metadata": {},
   "source": [
    "# Intra-Contrast Comparisons"
   ]
  },
  {
   "cell_type": "code",
   "execution_count": 9,
   "metadata": {},
   "outputs": [],
   "source": [
    "# Figure parameters\n",
    "param = {\n",
    "    'subjects': ['M31969', 'M20337'],\n",
    "    'columns': [column_data, column_ad, column_scz],\n",
    "    'column_names': ['Data-Driven', 'AD-Prior', 'SCZ-Prior'],\n",
    "    'column_groups': [get_attention_columns()[4:8], get_attention_columns()[:2], get_attention_columns()[2:4]],\n",
    "    'column_group_names': ['Data Prioritization', 'AD Prioritization', 'SCZ Prioritization'],\n",
    "    'ancestries': meta.groupby('Ethnicity').count()['SubID'].sort_values().index[::-1].to_list()[:3] + ['all'],\n",
    "    'contrast': 'c15x',\n",
    "}\n",
    "\n",
    "# Generate palette\n",
    "palette = plt.rcParams['axes.prop_cycle'].by_key()['color']\n",
    "param['palette'] = {sid: rgba_to_hex(palette[i]) for i, sid in enumerate(param['subjects'])}\n",
    "\n",
    "# Preview subjects\n",
    "for sid in param['subjects']:\n",
    "    row = meta.loc[meta['SubID']==sid].iloc[0]\n",
    "    # print(f'{row[\"SubID\"]} {row[\"Ethnicity\"]} {row[\"Sex\"]}, {row[\"Age\"]}, BRAAK {row[\"BRAAK_AD\"]}, CERAD {row[\"CERAD\"]}, CDR {row[\"CDRScore\"]}, {row[\"Dx\"]}')\n"
   ]
  },
  {
   "cell_type": "code",
   "execution_count": 10,
   "metadata": {},
   "outputs": [],
   "source": [
    "# Subplot layout (doesn't work well with constrained layout)\n",
    "# NOTE: This cannot be used, as constrained layout has glitches\n",
    "# (see https://github.com/matplotlib/matplotlib/issues/23290)\n",
    "# with uneven mosaics\n",
    "# fig, axs = get_mosaic(shape, figsize=(int((3/2) * shape_array.shape[1]), int((3/2) * shape_array.shape[0])), constrained_layout=False)\n",
    "\n",
    "# Subfigure layout (longer)\n",
    "# NOTE: Constrained layout will fail for all\n",
    "# subplots if a single one is not able to scale.\n",
    "# Also, sometimes leaving a subfigure blank will\n",
    "# cause it to fail, especially if on an edge.\n",
    "# It is VERY finnicky.\n",
    "# SOLUTION: Save again using `fig.savefig(...)`\n",
    "# and it will run without warning.  Then, you\n",
    "# can visually inspect for scaling issues.\n",
    "# fig, axs = create_subfigure_mosaic(shape_array)\n",
    "# fig.set_constrained_layout_pads(w_pad=0, h_pad=0, wspace=.4, hspace=.4)  # *_pad is pad for figs (including subfigs), *_space is pad between subplots\n"
   ]
  },
  {
   "cell_type": "markdown",
   "metadata": {},
   "source": [
    "## Edge Prioritization and Cross-Ancestry Enrichment - Figure 5cd"
   ]
  },
  {
   "cell_type": "code",
   "execution_count": 13,
   "metadata": {},
   "outputs": [
    {
     "name": "stdout",
     "output_type": "stream",
     "text": [
      "\n",
      "Edge Discovery Enrichment (None, None, None, N)\n",
      "Prioritization Ranges [[14.0, 22.0], [22.0, 49.0], [49.0, 680.0]]\n",
      "Filtered 165669 edges of 204507 total from histogram\n",
      "Prioritization Ranges [[9.0, 13.0], [13.0, 25.0], [25.0, 104.0]]\n",
      "Filtered 52826 edges of 61429 total from histogram\n",
      "Prioritization Ranges [[8.0, 11.0], [11.0, 21.0], [21.0, 88.0]]\n",
      "Filtered 46979 edges of 53899 total from histogram\n",
      "Prioritization Ranges [[15.0, 23.0], [23.0, 51.0], [51.0, 875.0]]\n",
      "Filtered 195859 edges of 242486 total from histogram\n",
      "\n",
      "Ancestry Enrichment Comparison (R)\n",
      "Index(['AFR_data_imp_1', 'AMR_data_imp_1', 'EUR_data_imp_1', 'all_data_imp_1'], dtype='object', name='Ancestry')\n",
      "Index(['EUR', 'AFR', 'AMR', 'all'], dtype='object')\n",
      "Index(['EUR', 'AFR', 'AMR'], dtype='object')\n",
      "\n",
      "Saving Figure...\n"
     ]
    }
   ],
   "source": [
    "shape = \"\"\"\n",
    "    NNNNNNNNNNN\n",
    "    NNNNNNNNNNN\n",
    "    NNNNNNNNNNN\n",
    "    NNNNNNNNNNN\n",
    "    RRRRRRRRRRR\n",
    "    RRRRRRRRRRR\n",
    "    RRRRRRRRRRR\n",
    "    RRRRRRRRRRR\n",
    "    RRRRRRRRRRR\n",
    "    RRRRRRRRRRR\n",
    "    RRRRRRRRRRR\n",
    "\"\"\"\n",
    "fig, axs = create_subfigure_mosaic(shape_array_from_shape(shape))\n",
    "\n",
    "axs_lab = (len(param['ancestries']) - 1) * ['None'] + ['N']\n",
    "# axs_lab = ['K', 'L', 'M', 'N']\n",
    "print(f'\\nEdge Discovery Enrichment ({\", \".join(axs_lab)})')\n",
    "for ancestry, ax in zip(param['ancestries'], [axs[lab] if lab in axs else None for lab in axs_lab]):\n",
    "    # Filter to ancestry\n",
    "    anc_data = all_data.copy()\n",
    "    if ancestry != 'all':\n",
    "        sub_ids = meta.loc[meta['Ethnicity'] == ancestry, 'SubID'].to_list()\n",
    "        mask = [sid in sub_ids for sid in anc_data['subject_ids']]\n",
    "        anc_data['data'] = anc_data['data'][:, :, mask]\n",
    "        anc_data['subject_ids'] = np.array(anc_data['subject_ids'])[mask]\n",
    "\n",
    "    # Run\n",
    "    temp = plot_edge_discovery_enrichment(\n",
    "        **anc_data,\n",
    "        column=param['columns'][0],\n",
    "        range_colors=[rgb_to_float(hex_to_rgb('#7aa457')), rgb_to_float(hex_to_rgb('#a46cb7')), rgb_to_float(hex_to_rgb('#cb6a49'))],\n",
    "        ax=ax,\n",
    "        postfix=f'{ancestry}_{param[\"columns\"][0]}',\n",
    "        gene_max_num=300,\n",
    "        threshold=95,\n",
    "        clamp_min=4,\n",
    "        skip_plot=(ax is None),\n",
    "        verbose=True)\n",
    "    if ax is not None:\n",
    "        ax.set_xlabel(f'High-Scoring Edges ({param[\"column_names\"][0]})')\n",
    "        ylabel = 'Frequency'\n",
    "        if ancestry != 'all': ylabel += f' ({ancestry})'\n",
    "        ax.set_ylabel(ylabel)\n",
    "    # MANUAL PROCESSING\n",
    "    # Run the output '../plots/genes_<column>.csv' from above on Metascape as multiple gene list and perform\n",
    "    # enrichment.  From the all-in-one ZIP file, save the file from Enrichment_GO/GO_membership.csv as '../plots/go_<column>.csv'\n",
    "    # and rerun.\n",
    "\n",
    "axs_lab = ['R']\n",
    "print(f'\\nAncestry Enrichment Comparison ({\", \".join(axs_lab)})')\n",
    "postfixes = [f'{ancestry}_{param[\"columns\"][0]}' for ancestry in param['ancestries']]\n",
    "enrichments = plot_cross_enrichment(postfixes, names=param['ancestries'], ax=axs[axs_lab[0]], excluded_subgroups=['all'])\n",
    "\n",
    "# Place labels\n",
    "offset = plot_labels(axs, shape=shape)\n",
    "\n",
    "# Save figure\n",
    "print('\\nSaving Figure...')\n",
    "fig.savefig(f'../plots/figure_5_main.pdf', bbox_inches='tight', pad_inches=1, format='pdf', transparent=True, backend='cairo')\n"
   ]
  },
  {
   "cell_type": "markdown",
   "metadata": {},
   "source": [
    "## Distributions Across Heads and Ancestries - Supplementary Figure 12"
   ]
  },
  {
   "cell_type": "code",
   "execution_count": 14,
   "metadata": {},
   "outputs": [
    {
     "name": "stdout",
     "output_type": "stream",
     "text": [
      "\n",
      "Edge Discovery Enrichment (K, L, M, N, O, P, Q, R, S, T, U, V)\n",
      "\n",
      "Saving Figure...\n"
     ]
    }
   ],
   "source": [
    "shape = \"\"\"\n",
    "    KKKKKKKKKKKLLLLLLLLLLLMMMMMMMMMMM\n",
    "    KKKKKKKKKKKLLLLLLLLLLLMMMMMMMMMMM\n",
    "    KKKKKKKKKKKLLLLLLLLLLLMMMMMMMMMMM\n",
    "    KKKKKKKKKKKLLLLLLLLLLLMMMMMMMMMMM\n",
    "    NNNNNNNNNNNOOOOOOOOOOOPPPPPPPPPPP\n",
    "    NNNNNNNNNNNOOOOOOOOOOOPPPPPPPPPPP\n",
    "    NNNNNNNNNNNOOOOOOOOOOOPPPPPPPPPPP\n",
    "    NNNNNNNNNNNOOOOOOOOOOOPPPPPPPPPPP\n",
    "    QQQQQQQQQQQRRRRRRRRRRRSSSSSSSSSSS\n",
    "    QQQQQQQQQQQRRRRRRRRRRRSSSSSSSSSSS\n",
    "    QQQQQQQQQQQRRRRRRRRRRRSSSSSSSSSSS\n",
    "    QQQQQQQQQQQRRRRRRRRRRRSSSSSSSSSSS\n",
    "    TTTTTTTTTTTUUUUUUUUUUUVVVVVVVVVVV\n",
    "    TTTTTTTTTTTUUUUUUUUUUUVVVVVVVVVVV\n",
    "    TTTTTTTTTTTUUUUUUUUUUUVVVVVVVVVVV\n",
    "    TTTTTTTTTTTUUUUUUUUUUUVVVVVVVVVVV\n",
    "\"\"\"\n",
    "fig, axs = create_subfigure_mosaic(shape_array_from_shape(shape))\n",
    "\n",
    "# Plot all panels\n",
    "axs_lab = ['K', 'L', 'M', 'N', 'O', 'P', 'Q', 'R', 'S', 'T', 'U', 'V']\n",
    "print(f'\\nEdge Discovery Enrichment ({\", \".join(axs_lab)})')\n",
    "for (ancestry, column_idx), ax in zip(product(param['ancestries'], range(len(param['columns']))), [axs[lab] if lab in axs else None for lab in axs_lab]):\n",
    "    # Filter to ancestry\n",
    "    anc_data = all_data.copy()\n",
    "    if ancestry != 'all':\n",
    "        sub_ids = meta.loc[meta['Ethnicity'] == ancestry, 'SubID'].to_list()\n",
    "        mask = [sid in sub_ids for sid in anc_data['subject_ids']]\n",
    "        anc_data['data'] = anc_data['data'][:, :, mask]\n",
    "        anc_data['subject_ids'] = np.array(anc_data['subject_ids'])[mask]\n",
    "\n",
    "    # Run\n",
    "    temp = plot_edge_discovery_enrichment(\n",
    "        **anc_data,\n",
    "        column=param['columns'][column_idx],\n",
    "        range_colors=[rgb_to_float(hex_to_rgb('#7aa457')), rgb_to_float(hex_to_rgb('#a46cb7')), rgb_to_float(hex_to_rgb('#cb6a49'))],\n",
    "        ax=ax,\n",
    "        postfix=f'{ancestry}_{param[\"columns\"][column_idx]}',\n",
    "        gene_max_num=300,\n",
    "        threshold=95,\n",
    "        skip_plot=(ax is None))\n",
    "    if ax is not None:\n",
    "        ax.set_xlabel(f'High-Scoring Edges ({param[\"column_names\"][column_idx]})')\n",
    "        ylabel = 'Frequency'\n",
    "        if ancestry != 'all': ylabel += f' ({ancestry})'\n",
    "        ax.set_ylabel(ylabel)\n",
    "    # MANUAL PROCESSING\n",
    "    # Run the output '../plots/genes_<column>.csv' from above on Metascape as multiple gene list and perform\n",
    "    # enrichment.  From the all-in-one ZIP file, save the file from Enrichment_GO/GO_membership.csv as '../plots/go_<column>.csv'\n",
    "    # and rerun.\n",
    "\n",
    "# Place labels\n",
    "offset = plot_labels(axs, shape=shape)\n",
    "\n",
    "# Save figure\n",
    "print('\\nSaving Figure...')\n",
    "fig.savefig(f'../plots/figure_5_supplement.pdf', bbox_inches='tight', pad_inches=1, format='pdf', transparent=True, backend='cairo')\n"
   ]
  },
  {
   "cell_type": "markdown",
   "metadata": {},
   "source": [
    "## PRS Analyses - Figure 6a"
   ]
  },
  {
   "cell_type": "code",
   "execution_count": 15,
   "metadata": {},
   "outputs": [
    {
     "name": "stdout",
     "output_type": "stream",
     "text": [
      "\n",
      "PRS Analysis (S, U)\n",
      "\n",
      "Saving Figure...\n"
     ]
    }
   ],
   "source": [
    "# SCZ\n",
    "# Data\n",
    "# AD\n",
    "# SCZ\n",
    "shape = \"\"\"\n",
    "    SSSSSSSSSSSSSSSUUUUUUUUUUUUUUU\n",
    "    SSSSSSSSSSSSSSSUUUUUUUUUUUUUUU\n",
    "    SSSSSSSSSSSSSSSUUUUUUUUUUUUUUU\n",
    "    SSSSSSSSSSSSSSSUUUUUUUUUUUUUUU\n",
    "\"\"\"\n",
    "fig, axs = create_subfigure_mosaic(shape_array_from_shape(shape))\n",
    "\n",
    "# Plot all panels\n",
    "axs_lab = ['S', 'U']\n",
    "print(f'\\nPRS Analysis ({\", \".join(axs_lab)})')\n",
    "# Takes around an hour for each loop with no subsampling (on first run)\n",
    "for fname, head_prefix, ylabel, prs_col, ax_idx in zip(\n",
    "    ('ad_prs_df.csv', 'scz_prs_df.csv'),\n",
    "    ('_'.join(column_ad.split('_')[:-1]), '_'.join(column_scz.split('_')[:-1])),\n",
    "    ('AD Importance Score', 'SCZ Importance Score'),\n",
    "    ('prs_scaled_AD_Bellenguez', 'prs_scaled_SCZ.3.5_MVP'),\n",
    "    axs_lab\n",
    "):\n",
    "    df = pd.read_csv(fname, index_col=0) if os.path.isfile(fname) else None\n",
    "    covariates = get_genotype_meta()[['SubID', 'imp_sex_score'] + [f'imp_anc_PC{i}' for i in range(1, 7)] + [f'imp_anc_{anc}' for anc in ('AFR', 'AMR', 'EAS', 'EUR')]]\n",
    "    df, prs_df, axs[ax_idx] = plot_prs_correlation(\n",
    "        meta, **all_data, ax=axs[ax_idx],\n",
    "        df=df, num_targets=5, ylabel=ylabel, max_scale=False,\n",
    "        head_prefix=head_prefix, prs_col=prs_col,\n",
    "        covariates=covariates, subsample=1)\n",
    "    if not os.path.isfile(fname): df.to_csv(fname)\n",
    "\n",
    "# Place labels\n",
    "offset = plot_labels(axs, shape=shape)\n",
    "\n",
    "# Save figure\n",
    "print('\\nSaving Figure...')\n",
    "fig.savefig(f'../plots/figure_6_prs.pdf', bbox_inches='tight', pad_inches=1, format='pdf', transparent=True, backend='cairo')"
   ]
  },
  {
   "cell_type": "markdown",
   "metadata": {},
   "source": [
    "# Revision Panels"
   ]
  },
  {
   "cell_type": "markdown",
   "metadata": {},
   "source": [
    "## Revision Gene Importance Enrichment"
   ]
  },
  {
   "cell_type": "code",
   "execution_count": 18,
   "metadata": {},
   "outputs": [
    {
     "name": "stderr",
     "output_type": "stream",
     "text": [
      "100%|███████████████████████████████████████████████████████████████████| 6534/6534 [22:15<00:00,  4.89it/s]\n"
     ]
    }
   ],
   "source": [
    "# Load data\n",
    "importance_scores = get_importance_scores()\n",
    "importance_scores = importance_scores.rename(columns={'ad_imp_score': 'AD', 'scz_imp_score': 'SCZ', 'data_imp_score': 'Data'})\n",
    "importance_scores['All'] = (importance_scores['AD'] * 2 + importance_scores['SCZ'] * 2 + importance_scores['Data'] * 4) / 8\n",
    "\n",
    "# Get meta\n",
    "importance_scores['BRAAK_AD'] = meta.set_index('SubID').loc[importance_scores['sample'], 'BRAAK_AD'].to_numpy()\n",
    "\n",
    "# Calculate correlations\n",
    "heads = ['All']  # ['AD', 'SCZ', 'Data']\n",
    "df = pd.DataFrame(columns=['Gene', 'Head', 'Correlation', 'Significance', 'Samples'])\n",
    "unique_genes = importance_scores['node'].unique()\n",
    "for i, g in tqdm(enumerate(unique_genes), total=unique_genes.shape[0]):\n",
    "    for j, h in enumerate(heads):\n",
    "        filtered_df = importance_scores.loc[(importance_scores['node'] == g)]\n",
    "        col = filtered_df[h].to_numpy()\n",
    "        geno = filtered_df['BRAAK_AD'].to_numpy()\n",
    "        mask = ~np.isnan(col) * ~np.isnan(geno)\n",
    "        if mask.sum() > 2 and col[mask].var() != 0 and geno[mask].var() != 0:\n",
    "            corr, sig = scipy.stats.spearmanr(col[mask], geno[mask])\n",
    "            num = mask.sum()\n",
    "            df.loc[df.shape[0]] = {'Gene': g, 'Head': h, 'Correlation': corr, 'Significance': sig, 'Samples': num}\n",
    "\n",
    "# FDR correction\n",
    "df['Adjusted Significance'] = scipy.stats.false_discovery_control(df['Significance'].clip(0, 1), method='bh')\n"
   ]
  },
  {
   "cell_type": "code",
   "execution_count": 71,
   "metadata": {},
   "outputs": [],
   "source": [
    "# Parameters\n",
    "min_samples = 5\n",
    "significance_threshold = 5e-2\n",
    "top_genes = int(1e3)\n",
    "\n",
    "# Histogram of adjusted significance\n",
    "axs = df.plot.hist(column=['Significance', 'Adjusted Significance'], by='Head', bins=int(2/significance_threshold), figsize=(12, 5*df['Head'].unique().shape[0]))\n",
    "for ax in axs:\n",
    "    ax.set_yscale('log')\n",
    "    ax.axvline(x=significance_threshold, ls='--', color='red')\n",
    "plt.savefig(f'../plots/rev_1_histogram.pdf', bbox_inches='tight', transparent=True)"
   ]
  },
  {
   "cell_type": "code",
   "execution_count": 72,
   "metadata": {},
   "outputs": [],
   "source": [
    "# ## Separate head analysis\n",
    "# # Gene lists\n",
    "# sig_genes = pd.DataFrame()\n",
    "# for h in heads:\n",
    "#     # Filter dataframe\n",
    "#     df_filtered = df\n",
    "#     df_filtered = df_filtered.loc[df_filtered['Head'] == h]  # Head\n",
    "#     df_filtered = df_filtered.loc[df_filtered['Samples'] > min_samples]  # Samples\n",
    "#     df_filtered = df_filtered.loc[df_filtered['Adjusted Significance'] < significance_threshold]  # Significance\n",
    "#     genes = np.unique([g.split(':')[1] for g in df_filtered[['Gene']].to_numpy().flatten() if g.split(':')[0] in ('TF', 'TG')])\n",
    "\n",
    "#     # Save genes\n",
    "#     print(f'Significant {h} genes: {genes.shape[0]}')\n",
    "#     sig_genes = pd.concat([sig_genes, pd.DataFrame({h: genes})], axis=1)\n",
    "\n",
    "# # Add background and save\n",
    "# genes = np.unique([g.split(':')[1] for g in importance_scores[['node']].to_numpy().flatten() if g.split(':')[0] in ('TF', 'TG')])\n",
    "# genes = np.array([g for g in genes if not string_is_synthetic(g)])\n",
    "# sig_genes = pd.concat([sig_genes, pd.DataFrame({'_BACKGROUND': genes})], axis=1)\n",
    "# pd.DataFrame(sig_genes).to_csv('../plots/rev_1_genes.csv', index=False)\n",
    "# # np.savetxt(f'../plots/rev_1_genes_{h.lower()}.txt', genes, fmt='%s')\n"
   ]
  },
  {
   "cell_type": "code",
   "execution_count": 73,
   "metadata": {},
   "outputs": [
    {
     "name": "stdout",
     "output_type": "stream",
     "text": [
      "Post-filter Positive genes: 607\n",
      "Post-filter Negative genes: 316\n"
     ]
    }
   ],
   "source": [
    "## Aggregate analysis\n",
    "# Gene lists\n",
    "sig_genes = pd.DataFrame()\n",
    "\n",
    "# Filter for positive and negative\n",
    "for name, factor in zip(('Positive', 'Negative'), (1, -1)):\n",
    "    df_filtered = df\n",
    "    df_filtered = df_filtered.loc[df_filtered['Samples'] >= min_samples]  # Samples\n",
    "    df_filtered = df_filtered.loc[df_filtered['Adjusted Significance'] <= significance_threshold]  # Significance\n",
    "    df_filtered = df_filtered.loc[factor * df_filtered['Correlation'] > 0]  # Correlation parity\n",
    "    df_filtered = df_filtered.sort_values(by='Correlation', ascending=factor<0)  # Sort genes\n",
    "    df_filtered['Gene'] = df_filtered['Gene'].apply(lambda g: g.split(':')[1] if g.split(':')[0] in ('TF', 'TG') else pd.NA)  # Remove celltypes\n",
    "    df_filtered = df_filtered.dropna()\n",
    "    df_filtered = df_filtered[~df_filtered['Gene'].duplicated(keep='first')]  # Remove TF + TG genes that got in twice, keep higher score\n",
    "    df_filtered = df_filtered.iloc[:top_genes]\n",
    "    genes = df_filtered['Gene'].to_numpy()\n",
    "\n",
    "    # Save genes\n",
    "    print(f'Post-filter {name} genes: {genes.shape[0]}')  # Post-filter\n",
    "    sig_genes = pd.concat([sig_genes, pd.DataFrame({name: genes})], axis=1)\n",
    "\n",
    "# Add background and save\n",
    "genes = np.unique([g.split(':')[1] for g in importance_scores[['node']].to_numpy().flatten() if g.split(':')[0] in ('TF', 'TG')])\n",
    "sig_genes = pd.concat([sig_genes, pd.DataFrame({'_BACKGROUND': genes})], axis=1)\n",
    "sig_genes.to_csv('../plots/rev_1_genes.csv', index=False)\n"
   ]
  },
  {
   "cell_type": "markdown",
   "metadata": {},
   "source": [
    "## Revision Ancestry Enrichment"
   ]
  },
  {
   "cell_type": "code",
   "execution_count": 11,
   "metadata": {},
   "outputs": [
    {
     "name": "stdout",
     "output_type": "stream",
     "text": [
      "Intersection counts\n",
      "AFR-AMR: 166\n",
      "AMR: 62\n",
      "EUR: 203\n",
      "AFR: 59\n",
      "AFR-EUR: 25\n",
      "AFR-AMR-EUR: 50\n",
      "AMR-EUR: 22\n"
     ]
    }
   ],
   "source": [
    "# Get data-driven column and ancestries\n",
    "dd_col = param['columns'][0]\n",
    "ancs = param['ancestries'][:-1]\n",
    "\n",
    "# Load high-percentile gene sets\n",
    "fnames = [f'../plots/genes_{anc}_{dd_col}.csv' for anc in ancs]\n",
    "dfs = [pd.read_csv(fname) for fname in fnames]\n",
    "data = [df.iloc[:, -2].dropna().sort_values().to_list() for df in dfs]\n",
    "anc_sizes = [len(d) for d in data]\n",
    "\n",
    "# Find intersections\n",
    "from collections import defaultdict\n",
    "def find_intersections(data, names):\n",
    "    groups = defaultdict(lambda: [])\n",
    "    while sum([len(d) for d in data]) > 0:\n",
    "        # Query current values\n",
    "        low_idx = np.nanargmin([d[0] if len(d) > 0 else np.nan for d in data])\n",
    "\n",
    "        # Pop\n",
    "        low_val = data[low_idx].pop(0)\n",
    "\n",
    "        # Find and pop other equal heads\n",
    "        other_equal = [i for i, d in enumerate(data) if i != low_idx and len(d) > 0 and d[0] == low_val]\n",
    "        for i in other_equal: data[i].pop(0)\n",
    "\n",
    "        # Aggregate intersection and record\n",
    "        all_equal = np.sort(other_equal + [low_idx])\n",
    "        groups['-'.join(np.sort([names[i] for i in all_equal]))].append(low_val)\n",
    "    \n",
    "    return groups\n",
    "groups = find_intersections(data, ancs)\n",
    "\n",
    "# Print group sizes\n",
    "# groups = dict(groups)\n",
    "print('Intersection counts')\n",
    "for k, v in groups.items():\n",
    "    print(f'{k}: {len(v)}')\n",
    "\n",
    "# Save unique genes\n",
    "new_fnames = [f'../plots/genes_{k}_{dd_col}_uniq.csv' for k in groups]\n",
    "for new_fname, k in zip(new_fnames, groups): pd.concat([\n",
    "        pd.DataFrame({dfs[0].columns[-2]: groups[k]}),\n",
    "        pd.DataFrame({'_BACKGROUND': dfs[0]['_BACKGROUND']})\n",
    "    ], axis=1).to_csv(new_fname, index=False)"
   ]
  },
  {
   "cell_type": "code",
   "execution_count": 12,
   "metadata": {},
   "outputs": [
    {
     "name": "stderr",
     "output_type": "stream",
     "text": [
      "All Background: 100%|████████████████████████████████████████████████| 10000/10000 [01:18<00:00, 128.00it/s]\n",
      "Highly Variant: 100%|████████████████████████████████████████████████| 10000/10000 [00:56<00:00, 177.05it/s]\n"
     ]
    }
   ],
   "source": [
    "# Simulate overlap\n",
    "np.random.seed(42)\n",
    "num_gene_sets = [\n",
    "    ('All Background', dfs[0]['_BACKGROUND'].shape[0]),  # Assumes bachground is the same between all\n",
    "    ('Highly Variant', np.unique([g for grp in groups.values() for g in grp])),  # Only variant genes from each ancestry\n",
    "]\n",
    "group_sizes = anc_sizes\n",
    "num_iterations = int(1e4)\n",
    "sim_group_counts = defaultdict(lambda: defaultdict(lambda: []))\n",
    "for background_name, num_genes in num_gene_sets:\n",
    "    for _ in tqdm(range(num_iterations), total=num_iterations, desc=f'{background_name}'):\n",
    "        # Sample gene lists\n",
    "        sim_data = []\n",
    "        for size in group_sizes:\n",
    "            sim_data.append( np.sort(np.random.choice(num_genes, size, replace=False)).tolist() )\n",
    "        \n",
    "        # Find intersections\n",
    "        sim_groups = find_intersections(sim_data, ancs)\n",
    "\n",
    "        # Record\n",
    "        for k, v in sim_groups.items():\n",
    "            sim_group_counts[background_name][k].append(len(v))"
   ]
  },
  {
   "cell_type": "code",
   "execution_count": 13,
   "metadata": {},
   "outputs": [],
   "source": [
    "# Plot each sim group with the corresponding reading\n",
    "group_order = ['AFR', 'AMR', 'EUR', 'AFR-AMR', 'AFR-EUR', 'AMR-EUR', 'AFR-AMR-EUR']\n",
    "fig, axs = plt.subplots(len(num_gene_sets), len(groups), figsize=(len(groups)*8, len(num_gene_sets)*4))\n",
    "for i, k1 in enumerate(sim_group_counts):\n",
    "    for j, k2 in enumerate(group_order):\n",
    "        sim_count = sim_group_counts[k1][k2]\n",
    "        obs_count = len(groups[k2])\n",
    "        quantile = (np.array(sim_count) < obs_count).mean()\n",
    "\n",
    "        # Plot\n",
    "        ax = axs[i][j]\n",
    "        data = pd.DataFrame({k: sim_group_counts[k1][k2]})\n",
    "        sns.histplot(data=data, x=k, kde=True, color='gray', ax=ax)\n",
    "\n",
    "        # Significance\n",
    "        ax.axvline(x=obs_count, ls='-', color='red')\n",
    "        pval = min(quantile, 1-quantile)  # One-tailed p test\n",
    "        if pval < 1/num_iterations: pval = 1/num_iterations\n",
    "        sig_thresholds = np.array([5e-2, 1e-2, 1e-3])\n",
    "        sig_tail = '*' * (pval < sig_thresholds).sum()\n",
    "        pval_string = f'p<{pval:.2e}{sig_tail}'\n",
    "        ax.text(.5, .95, pval_string, ha='center', va='top', transform=ax.transAxes)\n",
    "\n",
    "        # Labels\n",
    "        ax.set(xlabel=None, ylabel=None)\n",
    "        if i == 0: ax.set_title(k2)\n",
    "        if j == 0: ax.set_ylabel(k1)\n",
    "fig.savefig(f'../plots/rev_1_ancestry_significance.pdf', bbox_inches='tight', transparent=True)\n",
    "plt.close(fig)"
   ]
  },
  {
   "cell_type": "code",
   "execution_count": 14,
   "metadata": {},
   "outputs": [],
   "source": [
    "# Plot after MANUAL PROCESSING\n",
    "# TODO: Maybe also plot intersecting genes?\n",
    "fig, ax = plt.subplots(1, 1, figsize=(int((3/2)*11), int((3/2)*7)))\n",
    "file_prefixes = ['_'.join(fname.split('/')[-1].split('_')[1:])[:-4] for fname, k in zip(new_fnames, groups) if len(groups[k]) > 100]\n",
    "group_names = [fname.split('_')[0] for fname in file_prefixes]\n",
    "enrichments = plot_cross_enrichment(file_prefixes, names=group_names, num_terms=30, ax=ax)\n",
    "fig.savefig(f'../plots/rev_1_ancestry.pdf', bbox_inches='tight', transparent=True)\n",
    "plt.close(fig)"
   ]
  }
 ],
 "metadata": {
  "kernelspec": {
   "display_name": "Python 3 (ipykernel)",
   "language": "python",
   "name": "python3"
  },
  "language_info": {
   "codemirror_mode": {
    "name": "ipython",
    "version": 3
   },
   "file_extension": ".py",
   "mimetype": "text/x-python",
   "name": "python",
   "nbconvert_exporter": "python",
   "pygments_lexer": "ipython3",
   "version": "3.10.14"
  }
 },
 "nbformat": 4,
 "nbformat_minor": 2
}
